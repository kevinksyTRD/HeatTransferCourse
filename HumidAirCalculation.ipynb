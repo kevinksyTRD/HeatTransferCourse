{
 "cells": [
  {
   "cell_type": "markdown",
   "metadata": {
    "slideshow": {
     "slide_type": "slide"
    }
   },
   "source": [
    "# Humid air calculation using CoolProp"
   ]
  },
  {
   "cell_type": "code",
   "execution_count": 1,
   "metadata": {
    "slideshow": {
     "slide_type": "slide"
    }
   },
   "outputs": [],
   "source": [
    "from CoolProp.HumidAirProp import HAPropsSI\n",
    "import iapws as steam # This is the library to call in for steam calculation\n",
    "import numpy as np"
   ]
  },
  {
   "cell_type": "markdown",
   "metadata": {
    "slideshow": {
     "slide_type": "slide"
    }
   },
   "source": [
    "Calculate the mass of water contained and the enthalpy in the air in an empty room of 1m3. Pressure is 1 atm, and temperature is 25$^\\text{o}$C. The air has relative humidity of 50%. Calculate the mass of water vapor at 100% humidity.\n"
   ]
  },
  {
   "cell_type": "code",
   "execution_count": 2,
   "metadata": {
    "slideshow": {
     "slide_type": "subslide"
    }
   },
   "outputs": [
    {
     "name": "stdout",
     "output_type": "stream",
     "text": [
      "The specific enthalpy of humid air: 4.9928e+04J/kg Dry Air\n",
      "The specific humidity: 9.9257e-03kg Water/kg Dry Air\n",
      "The enthalpy of the humud air in the room: 58783.0980J\n",
      "The mass of the air in the room (ideal gas): 1.1774e+00kg\n",
      "The mass of the air in the room (real gas): 1.1775e+00kg\n",
      "The mass of the water vapor: 1.1571e-02kg\n",
      "Compressibility factor: 0.9996\n"
     ]
    }
   ],
   "source": [
    "p = 101325;\n",
    "T = 25;\n",
    "Humid = 0.5;\n",
    "V = 1;\n",
    "R_dryair = 286.9;\n",
    "R_water = 461.4;\n",
    "\n",
    "Tabs = T + 273.15\n",
    "\n",
    "hha = HAPropsSI('Hha', 'T', Tabs, 'P', p, 'R', Humid); # Specific enthalpy\n",
    "W = HAPropsSI('W', 'T', Tabs, 'P', p, 'R', Humid);     # specific humidity\n",
    "Vha = HAPropsSI('Vha', 'T', Tabs, 'P', p, 'R', Humid); # specific volumer per humid air\n",
    "Z = HAPropsSI('Z', 'T', Tabs, 'P', p, 'R', Humid)      # compressibility factor\n",
    "\n",
    "m = V / Vha                                             \n",
    "R = (R_dryair + R_water * W) / (1 + W)\n",
    "m1 = p * V / (R * Tabs)                   # We assume ideal gas\n",
    "m_v = m * W / (1 + W)\n",
    "H = hha * m\n",
    "\n",
    "print('The specific enthalpy of humid air: {:3.4e}J/kg Dry Air'.format(hha))\n",
    "print('The specific humidity: {:3.4e}kg Water/kg Dry Air'.format(W))\n",
    "print('The enthalpy of the humud air in the room: {:3.4f}J'.format(H))\n",
    "print('The mass of the air in the room (ideal gas): {:3.4e}kg'.format(m))\n",
    "print('The mass of the air in the room (real gas): {:3.4e}kg'.format(m1))\n",
    "print('The mass of the water vapor: {:3.4e}kg'.format(m_v))\n",
    "print('Compressibility factor: {:3.4f}'.format(Z))"
   ]
  },
  {
   "cell_type": "markdown",
   "metadata": {
    "slideshow": {
     "slide_type": "slide"
    }
   },
   "source": [
    "Now we inject the saturated steam at 8 bar until we reach 80% humidity. Calculate the amount of steam to be injected assuming\n",
    "  * The room temperature is isothermal.\n",
    "  * The room is adiabatic"
   ]
  },
  {
   "cell_type": "markdown",
   "metadata": {
    "slideshow": {
     "slide_type": "subslide"
    }
   },
   "source": [
    "For the isothermal case, the pressure increase is proportional to the mass of the steam. Assuming that partial vapor pressure at the saturated condition is not changed,"
   ]
  },
  {
   "cell_type": "code",
   "execution_count": 3,
   "metadata": {
    "slideshow": {
     "slide_type": "subslide"
    }
   },
   "outputs": [
    {
     "name": "stdout",
     "output_type": "stream",
     "text": [
      "Compressibility factor: 0.999561179848814\n",
      "error 0.0001654472196314094\n",
      "Compressibility factor: 0.9995611664688188\n",
      "error 8.274434846400336e-05\n",
      "Mass of injected steam is ection is 1.1573e-02kg\n"
     ]
    }
   ],
   "source": [
    "err = 1\n",
    "m_a = m - m_v\n",
    "m_v0 = m_v\n",
    "m_s = 0.5 * m_v\n",
    "while err > 0.0001:\n",
    "    m_s *= (1 + err)\n",
    "    m_v = m_v0 + m_s\n",
    "    m = m_a + m_v\n",
    "    W = m_v / m_a\n",
    "    R = (R_dryair + R_water * W) / (1 + W)\n",
    "    err_Humid_new = 1\n",
    "    p_new = m * R * Tabs / V\n",
    "    Humid_new = HAPropsSI('R', 'P', p_new, 'T', Tabs, 'W', W)\n",
    "    Z = HAPropsSI('Z', 'P', p_new, 'T', Tabs, 'W', W)\n",
    "    print('Compressibility factor: {}'.format(Z))\n",
    "    err = abs(1 - Humid_new)\n",
    "    print('error {}'.format(err))\n",
    "    \n",
    "print('Mass of injected steam is ection is {:3.4e}kg'.format(m_s))"
   ]
  },
  {
   "cell_type": "markdown",
   "metadata": {
    "slideshow": {
     "slide_type": "subslide"
    }
   },
   "source": [
    "Now check if we satisfy the saturated condition."
   ]
  },
  {
   "cell_type": "code",
   "execution_count": 4,
   "metadata": {
    "slideshow": {
     "slide_type": "subslide"
    }
   },
   "outputs": [
    {
     "name": "stdout",
     "output_type": "stream",
     "text": [
      "Humidity after steam injection is 99.99%\n"
     ]
    }
   ],
   "source": [
    "Humid_new = HAPropsSI('R', 'P', p_new, 'T', Tabs, 'W', W)\n",
    "print('Humidity after steam injection is {:3.2f}%'.format(Humid_new*100))"
   ]
  },
  {
   "cell_type": "markdown",
   "metadata": {
    "slideshow": {
     "slide_type": "subslide"
    }
   },
   "source": [
    "For adiabatic case, we need to consider the energy balance and calculate the new temperature as well. Tje dew temperature will increase as the overall temperature increases. The amount of the steam to achieve 100% relative humidity should therefore be calculated iteratively."
   ]
  },
  {
   "cell_type": "code",
   "execution_count": 5,
   "metadata": {
    "slideshow": {
     "slide_type": "subslide"
    }
   },
   "outputs": [
    {
     "name": "stdout",
     "output_type": "stream",
     "text": [
      "Iteration number: 1\n",
      "injected steam 0.011571316548412607kg\n",
      "Initial temperature 308.40841411384554K\n",
      "Initial pressure 106444.9565626865Pa\n",
      "Updated temperature 300.28532597767065K\n",
      "Updated pressure 103641.33083705753Pa\n",
      "Updated temperature 300.27809456961484K\n",
      "Updated pressure 103638.83496832904Pa\n",
      "Humidity 88.78323478794792R%\n",
      "Iteration number: 2\n",
      "injected steam 0.014167171366770148kg\n",
      "Initial temperature 310.68550782233325K\n",
      "Initial pressure 107602.99570647221Pa\n",
      "Updated temperature 300.75572803452474K\n",
      "Updated pressure 104163.91012001227Pa\n",
      "Updated temperature 300.74667028068376K\n",
      "Updated pressure 104160.77305238883Pa\n",
      "Humidity 96.21676511011272R%\n",
      "Iteration number: 3\n",
      "injected steam 0.015239126106885688kg\n",
      "Initial temperature 311.6232498192022K\n",
      "Initial pressure 108081.90263721105Pa\n",
      "Updated temperature 300.949075782473K\n",
      "Updated pressure 104379.72367707327Pa\n",
      "Updated temperature 300.93923735125514K\n",
      "Updated pressure 104376.31136311528Pa\n",
      "Humidity 99.16537312999289R%\n",
      "Iteration number: 4\n",
      "injected steam 0.015493505789370362kg\n",
      "Initial temperature 311.84555899191537K\n",
      "Initial pressure 108195.60883499928Pa\n",
      "Updated temperature 300.99488091050983K\n",
      "Updated pressure 104430.93851201837Pa\n",
      "Updated temperature 300.98488100898277K\n",
      "Updated pressure 104427.46902078204Pa\n",
      "Humidity 99.85485123340867R%\n",
      "Iteration number: 5\n",
      "injected steam 0.015538483054480417kg\n",
      "Initial temperature 311.88485699573664K\n",
      "Initial pressure 108215.71577090057Pa\n",
      "Updated temperature 301.0029767124911K\n",
      "Updated pressure 104439.99393840144Pa\n",
      "Updated temperature 300.99289833487205K\n",
      "Updated pressure 104436.49701053403Pa\n",
      "Humidity 99.97663410866757R%\n",
      "Iteration number: 6\n",
      "injected steam 0.015545744464610852kg\n",
      "Initial temperature 311.8912012620276K\n",
      "Initial pressure 108218.9620267102Pa\n",
      "Updated temperature 301.0042836626888K\n",
      "Updated pressure 104441.45590437185Pa\n",
      "Updated temperature 300.9942889236402K\n",
      "Updated pressure 104437.98796336811Pa\n",
      "Humidity 99.9957540872598R%\n"
     ]
    }
   ],
   "source": [
    "# First get the saturated steam object @ 8 bar\n",
    "sat_steam = steam.IAPWS97(P = 0.8, x = 1)\n",
    "\n",
    "# Start with injecting the same amount of steam caculated in the isothermal case\n",
    "err = 0.5\n",
    "m_s = m_v0*0.5\n",
    "H_ha = H\n",
    "n = 1\n",
    "while err > 0.0001 or err_p_new < 0:\n",
    "    print('Iteration number: {:d}'.format(n))\n",
    "    n += 1\n",
    "    m_s *= 1 + err*2\n",
    "    print('injected steam {}kg'.format(m_s))\n",
    "    m_v = m_s + m_v0\n",
    "    m = m_a + m_v\n",
    "    W = m_v / m_a\n",
    "    cp_temp = HAPropsSI('cp', 'P', p, 'T', Tabs, 'W', W)\n",
    "    R = (R_dryair + R_water * W) / (1 + W)\n",
    "    H_steam = m_s * sat_steam.h * 1000\n",
    "    h_new = (H_ha + H_steam) / m\n",
    "    deltaT = H_steam * (sat_steam.T - Tabs) / sat_steam.T / cp_temp\n",
    "    T_new = Tabs + deltaT\n",
    "    p_new = m * R * T_new / V\n",
    "    print('Initial temperature {}K'.format(T_new))\n",
    "    print('Initial pressure {}Pa'.format(p_new))\n",
    "    err_p_new = 1\n",
    "    while err_p_new > 0.0001:\n",
    "        T_new = HAPropsSI('T', 'P', p_new, 'Hha', h_new, 'W', W)\n",
    "        p_new_temp = m * R * T_new / V\n",
    "        err_p_new = abs(p_new - p_new_temp) / p_new\n",
    "        p_new = p_new_temp\n",
    "        print('Updated temperature {}K'.format(T_new))\n",
    "        print('Updated pressure {}Pa'.format(p_new))\n",
    "    Humid_new = HAPropsSI('R', 'P', p_new, 'T', T_new, 'W', W)\n",
    "    print('Humidity {}R%'.format(Humid_new*100))\n",
    "    err = (1 - Humid_new)"
   ]
  },
  {
   "cell_type": "markdown",
   "metadata": {
    "slideshow": {
     "slide_type": "slide"
    }
   },
   "source": [
    "How much heat $\\dot{Q}$ is needed to warm up a humid air flow, i.e. the mixture, of $\\dot{m}$= 0.5 kg/s to 30$^\\text{o}$C, having heater inlet conditions: temperature $T_1 = 20^\\text{o}\\text{C}$ and humid ratio (moisture content) $x_1 = 0.0088$. Also state: what will the relative humidity $\\varphi$ then become? (Exam 2017)"
   ]
  },
  {
   "cell_type": "markdown",
   "metadata": {
    "slideshow": {
     "slide_type": "subslide"
    }
   },
   "source": [
    "$\\dot{Q}$ can be calculated from the heat balance\n",
    "$$\\dot{Q} = \\dot{m} \\left(h_2 - h_1\\right)$$"
   ]
  },
  {
   "cell_type": "code",
   "execution_count": 6,
   "metadata": {
    "slideshow": {
     "slide_type": "subslide"
    }
   },
   "outputs": [
    {
     "name": "stdout",
     "output_type": "stream",
     "text": [
      "The required heat input is 2535.07 W\n"
     ]
    }
   ],
   "source": [
    "P = 101325\n",
    "T1 = 25 + 273.15\n",
    "T2 = 30 + 273.15\n",
    "W = 0.0088\n",
    "mdot = 0.5\n",
    "\n",
    "# Specific enthalpy\n",
    "h1 = HAPropsSI('Hha', 'P', P, 'T', T1, 'W', W)   \n",
    "h2 = HAPropsSI('Hha', 'P', P, 'T', T2, 'W', W)   \n",
    "\n",
    "Qdot = mdot * (h2 - h1)\n",
    "print('The required heat input is {:3.2f} W'.format(Qdot))"
   ]
  },
  {
   "cell_type": "markdown",
   "metadata": {
    "slideshow": {
     "slide_type": "slide"
    }
   },
   "source": [
    "For a humidifier, an apparatus used to increase the humidity of air, we find the inlet air quality to be 30 °C and , having a humid air flow of 0.5 kg/s and x = 0.0088. The humidifier adds 3 g/s water with a temperature of 20 °C to this stream. \n",
    "  - What is the temperature of the air out of the humidifier and what is the relative humidity?\n",
    "  - How much water, if any, is condensed per second and what is the temperature of this water?"
   ]
  },
  {
   "cell_type": "markdown",
   "metadata": {
    "slideshow": {
     "slide_type": "subslide"
    }
   },
   "source": [
    "We assume that the water added is in liquid form. First we can calculate the maximum water that the air can hold at the water temperature. We assume that the air will be cooled down to the water temperature due to vaporization."
   ]
  },
  {
   "cell_type": "code",
   "execution_count": 7,
   "metadata": {
    "slideshow": {
     "slide_type": "subslide"
    }
   },
   "outputs": [
    {
     "name": "stdout",
     "output_type": "stream",
     "text": [
      "The air may be saturated before all the added water become vaporized\n"
     ]
    }
   ],
   "source": [
    "P = 101325\n",
    "T1 = 30 + 273.15\n",
    "T2 = 20 + 273.14\n",
    "dm_1 = 0.5\n",
    "dm_w = 0.003\n",
    "W0 = 0.0088\n",
    "\n",
    "W1 = (dm_1 * W0 / (1 + W0) + dm_w) / (dm_1 / (1 + W0))\n",
    "W_max = HAPropsSI('W', 'P', P, 'T', T2, 'R', 1)\n",
    "if W1 > W_max:\n",
    "    print('The air may be saturated before all the added water become vaporized')\n",
    "else:\n",
    "    print('The water may be vaporized depending on the temperature difference')"
   ]
  },
  {
   "cell_type": "markdown",
   "metadata": {
    "slideshow": {
     "slide_type": "subslide"
    }
   },
   "source": [
    "Therefore, use the energy balance to calculate the maximum heat transfered to water for vaporization and to calculate the maximum mass flow of water to be vaporized. \n",
    "$$\\dot{m}_\\text{water} = \\frac { \\dot{m}_\\text{ha} \\left(h_1(T_1) - h_2(T_2)\\right)}{h_{fg}}$$"
   ]
  },
  {
   "cell_type": "code",
   "execution_count": 8,
   "metadata": {
    "slideshow": {
     "slide_type": "subslide"
    }
   },
   "outputs": [
    {
     "name": "stdout",
     "output_type": "stream",
     "text": [
      "0.00210626495038435 kg/s of water will be vaporized\n"
     ]
    }
   ],
   "source": [
    "h_fg = 2453.6e3 #J/kg\n",
    "h1 = HAPropsSI('Hha', 'P', P, 'T', T1, 'R', W0)\n",
    "h2 = HAPropsSI('Hha', 'P', P, 'T', T2, 'R', W0)\n",
    "dm_w_vap = dm_1 * (h1 - h2) / h_fg\n",
    "print('{} kg/s of water will be vaporized'.format(dm_w_vap))"
   ]
  },
  {
   "cell_type": "code",
   "execution_count": 9,
   "metadata": {
    "slideshow": {
     "slide_type": "subslide"
    }
   },
   "outputs": [
    {
     "name": "stdout",
     "output_type": "stream",
     "text": [
      "The relative humidity of the air will be 60.22%R\n"
     ]
    }
   ],
   "source": [
    "# Calculation of relative humidity\n",
    "W1 = (dm_1 * W0 / (1 + W0) + dm_w_vap) / (dm_1 / (1 + W0))\n",
    "humid = HAPropsSI('R', 'P', P, 'T', T2, 'W', W)\n",
    "print('The relative humidity of the air will be {:3.2f}%R'.format(humid * 100))"
   ]
  }
 ],
 "metadata": {
  "celltoolbar": "Slideshow",
  "kernelspec": {
   "display_name": "Python 3",
   "language": "python",
   "name": "python3"
  },
  "language_info": {
   "codemirror_mode": {
    "name": "ipython",
    "version": 3
   },
   "file_extension": ".py",
   "mimetype": "text/x-python",
   "name": "python",
   "nbconvert_exporter": "python",
   "pygments_lexer": "ipython3",
   "version": "3.6.4"
  }
 },
 "nbformat": 4,
 "nbformat_minor": 2
}
