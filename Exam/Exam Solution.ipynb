{
 "cells": [
  {
   "cell_type": "markdown",
   "metadata": {},
   "source": [
    "# Exhaust Gas Receiver Heat Transfer"
   ]
  },
  {
   "cell_type": "markdown",
   "metadata": {},
   "source": [
    "a) Applying the First Law of Thermodynamics, \n",
    "\n",
    "$$\\dot U = \\dot m_\\mathrm{in} h_\\mathrm{in} - \\dot m_\\mathrm{out} h_\\mathrm{out} - Q + \\dot W$$\n",
    "\n",
    "Here, the $\\dot W = 0$ since the volume is constant.\n",
    "\n",
    "From $U = m c_v T$ and $\\dot m_\\mathrm{in} = \\dot m_\\mathrm{out}$,\n",
    "\n",
    "$$m c_v \\dot T = \\dot m_\\mathrm{in} \\left(h_\\mathrm{in} - h_\\mathrm{out}\\right) - Q$$\n",
    "$$\\dot T = \\frac{1}{m c_v} \\left[\\dot m_\\mathrm{in} \\left(h_\\mathrm{in} - h_\\mathrm{out}\\right) - Q \\right]$$"
   ]
  },
  {
   "cell_type": "markdown",
   "metadata": {},
   "source": [
    "b) The following conditions are given:"
   ]
  },
  {
   "cell_type": "code",
   "execution_count": 12,
   "metadata": {},
   "outputs": [
    {
     "name": "stdout",
     "output_type": "stream",
     "text": [
      "Heat transfer to the environment is 172.83kW\n"
     ]
    }
   ],
   "source": [
    "T_amb = 30     #degC Ambient temperature \n",
    "T_in = 255     #degC Exhaust gas temperature at the inlet\n",
    "T_out = 253    #degC Exhaust gas temperature at the outlet\n",
    "h_in = 5.487e5 #J/kg Specific enthalpy of the gas at 255 degC \n",
    "h_out = 5.466e5 #J/kg Specific enthalpy of the gas at 253 degC\n",
    "dm = 82.3 #kg/s       Exhaust gas flow\n",
    "A = 85 #m2            Surface area of the cylinder wall\n",
    "k_cyl = 54  #W/m/K   thermal conductivity of the cylinder wall\n",
    "t_cyl = 0.02   #m     Cylinder wall thickness\n",
    "h_air = 10     #W/m2/K  Heat transfer coefficent of the air \n",
    "\n",
    "Q = dm * (h_in - h_out)\n",
    "print('Heat transfer to the environment is {:3.2f}kW'.format(Q/1000))"
   ]
  },
  {
   "cell_type": "markdown",
   "metadata": {},
   "source": [
    "We use the Newton's cooling to calculate the overall heat transfer coefficient.\n",
    "\n",
    "$$Q = U A \\Delta T$$"
   ]
  },
  {
   "cell_type": "code",
   "execution_count": 13,
   "metadata": {},
   "outputs": [
    {
     "name": "stdout",
     "output_type": "stream",
     "text": [
      "Overall heat transfer coefficient of the reciever is 9.08W/m2/K\n"
     ]
    }
   ],
   "source": [
    "U = Q / A / ( 0.5*(T_in + T_out) - T_amb)\n",
    "print('Overall heat transfer coefficient of the reciever is {:3.2f}W/m2/K'.format(U))"
   ]
  },
  {
   "cell_type": "markdown",
   "metadata": {},
   "source": [
    "We use following law of adding thermal resistance to find the heat transfer coefficient of the exhaust gas to the cylinder.\n",
    "\n",
    "$$R_\\mathrm{Total} = R_\\mathrm{exh} + R_\\mathrm{wall} + R_\\mathrm{air}$$\n",
    "$$\\frac{1}{U} = \\frac{1}{h_\\mathrm{exh}} + \\frac{t_\\mathrm{cyl}}{k} + \\frac{1}{h_\\mathrm{air}}$$\n",
    "$$h_\\mathrm{exh} = \\frac{1}{\\frac{1}{U} - \\frac{t_\\mathrm{cyl}}{k} - \\frac{1}{h_\\mathrm{air}}}$$"
   ]
  },
  {
   "cell_type": "code",
   "execution_count": 14,
   "metadata": {},
   "outputs": [
    {
     "name": "stdout",
     "output_type": "stream",
     "text": [
      "The heat transfer coefficient for the exhaust gas is 102.09W/m2/K\n"
     ]
    }
   ],
   "source": [
    "h_exh = 1 / (1 / U - t_cyl / k_cyl - 1 / h_air)\n",
    "print('The heat transfer coefficient for the exhaust gas is {:3.2f}W/m2/K'.format(h_exh))"
   ]
  },
  {
   "cell_type": "markdown",
   "metadata": {},
   "source": [
    "c) With the insulation, the thermal conductivity will change greatly. Here, the thermal resistance of the cylinder wall is ignored. We assume that the heat transfer coefficients for air and exhaust gas don't change since their flow has not changed. Also, we use the outlet temperature unchanged from the case without insulation for the first calculation."
   ]
  },
  {
   "cell_type": "code",
   "execution_count": 18,
   "metadata": {},
   "outputs": [
    {
     "name": "stdout",
     "output_type": "stream",
     "text": [
      "The overall heat transfer coefficient is 0.43W/m2/K.\n",
      "Initial calculation shows that the heat transfer rate is 8.16kW.\n"
     ]
    }
   ],
   "source": [
    "t = 0.1       #m       Thickness of the rock wool insulation\n",
    "k_rw = 0.045  #W/m2/K  Heat transfer coefficient of rook wool insulation\n",
    "U = 1 / ( 1 / h_exh + t / k_rw + 1 / h_air)\n",
    "\n",
    "Q = U * A * (0.5 * (T_in + T_out) - T_amb)\n",
    "\n",
    "print('The overall heat transfer coefficient is {:3.2f}W/m2/K.'.format(U))\n",
    "print('Initial calculation shows that the heat transfer rate is {:3.2f}kW.'.format(Q/1000))"
   ]
  },
  {
   "cell_type": "markdown",
   "metadata": {},
   "source": [
    "# Exhaust Gas Recirculation Cooler Design"
   ]
  },
  {
   "cell_type": "markdown",
   "metadata": {},
   "source": [
    "1) The following is given for the operational conditions and requirement at 100% load"
   ]
  },
  {
   "cell_type": "code",
   "execution_count": 190,
   "metadata": {},
   "outputs": [
    {
     "name": "stdout",
     "output_type": "stream",
     "text": [
      "Exhaust gas flow for EGR is 32.92kg/s\n",
      "Water properties\n",
      "  - heat capacity (Cp): 4178.53kJ/kg/K\n"
     ]
    }
   ],
   "source": [
    "from iapws import IAPWS97\n",
    "from iapws import HumidAir\n",
    "import numpy as np\n",
    "\n",
    "# Operating conditions and enthalpy of the exhaust gas\n",
    "T_egr_in = 440       #K\n",
    "T_egr_out = 350     #K   \n",
    "h_egr_in = 4.55e+05 #J/kg\n",
    "h_egr_out = 3.58e+05 #J/kg\n",
    "dm_exh = 82.3        #kg/s\n",
    "r_egr = 0.4          # EGR ratio\n",
    "dm_egr = r_egr * dm_exh       \n",
    "print('Exhaust gas flow for EGR is {:3.2f}kg/s'.format(dm_egr))\n",
    "\n",
    "# Operating conditions and properties of water at average temperature\n",
    "T_w_in = 310\n",
    "T_w_max = 330\n",
    "waterP = IAPWS97(P = 0.3, T = 0.5 * (T_w_in + T_w_max), x = 0) \n",
    "    # assuming 3 barA as operating pressure \n",
    "print('Water properties')\n",
    "print('  - heat capacity (Cp): {:3.2f}kJ/kg/K'.format(waterP.cp * 1000))"
   ]
  },
  {
   "cell_type": "markdown",
   "metadata": {},
   "source": [
    "Now we can calculate the required heat transfer rate and the flow of water"
   ]
  },
  {
   "cell_type": "code",
   "execution_count": 191,
   "metadata": {},
   "outputs": [
    {
     "name": "stdout",
     "output_type": "stream",
     "text": [
      "3193.2kW of heat transfer is required\n",
      "38.21kg/s of water flow is required.\n"
     ]
    }
   ],
   "source": [
    "# Required heat transfer from exhaust gas to water\n",
    "Q = dm_egr * (h_egr_in - h_egr_out)\n",
    "print('{:3.1f}kW of heat transfer is required'.format(Q/1000))\n",
    "\n",
    "# Required water flow \n",
    "dm_w = Q / (waterP.cp * 1000 * (T_w_max - T_w_in))\n",
    "print('{:.2f}kg/s of water flow is required.'.format(dm_w))"
   ]
  },
  {
   "cell_type": "markdown",
   "metadata": {},
   "source": [
    "2) The following dimensions and thermal properties are given for the design"
   ]
  },
  {
   "cell_type": "code",
   "execution_count": 201,
   "metadata": {},
   "outputs": [
    {
     "name": "stdout",
     "output_type": "stream",
     "text": [
      "Water properties\n",
      "  - Dynamic visicosity: 5.77e-04m2/s\n",
      "  - Thermal conductivity: 0.637W/m/K\n",
      "  - Density of water: 989.5kg/m3\n",
      "  - Specific heat capacity: 4179J/kg/K\n"
     ]
    }
   ],
   "source": [
    "t = 0.005 #the gap of the channel in meter\n",
    "w = 0.5  #width of the channel in meter\n",
    "N = 100   #Number of channels for each side\n",
    "\n",
    "nu_exh = 5.20e-6 #kinematic viscosity of air\n",
    "nu_water = waterP.nu\n",
    "\n",
    "k_exh = 0.033 # Thermal conductivity in W/m/K\n",
    "k_water = waterP.k \n",
    "\n",
    "rho_exh = 4.40 # Air density in kg/m3\n",
    "rho_water = waterP.rho # Water density in kg/m3\n",
    "\n",
    "mu_exh = nu_exh * rho_exh\n",
    "mu_water = nu_water * rho_water\n",
    "\n",
    "cp_exh = 1073.7 #specific heat capacity at constant pressure in  J/kg/K\n",
    "cp_water = waterP.cp * 1000\n",
    "\n",
    "print('Water properties')\n",
    "print('  - Dynamic visicosity: {:.2e}m2/s'.format(mu_water))\n",
    "print('  - Thermal conductivity: {:.3f}W/m/K'.format(k_water))\n",
    "print('  - Density of water: {:3.1f}kg/m3'.format(rho_water))\n",
    "print('  - Specific heat capacity: {:4.0f}J/kg/K'.format(cp_water))"
   ]
  },
  {
   "cell_type": "markdown",
   "metadata": {},
   "source": [
    "Reynold's number for each channel is calculated first.\n",
    "$$Re_D = \\frac{V D_h}{\\nu}$$"
   ]
  },
  {
   "cell_type": "code",
   "execution_count": 193,
   "metadata": {},
   "outputs": [
    {
     "name": "stdout",
     "output_type": "stream",
     "text": [
      "Velocity of exhaust gas and water are 29.93m/s and 0.15m/s\n",
      "Reynolds number for exhaust gas and water: 57552.45, 2649.95\n"
     ]
    }
   ],
   "source": [
    "#Hydraulic diameter of a channel\n",
    "Ac = t * w\n",
    "P = 2 * w\n",
    "Dh = 4 * Ac / P\n",
    "\n",
    "# Velocity of the flow\n",
    "V_water = dm_w / rho_water / (N * Ac)\n",
    "V_exh = dm_egr / rho_exh / (N * Ac)\n",
    "print('Velocity of exhaust gas and water are {:.2f}m/s and {:.2f}m/s'.format(V_exh, V_water))\n",
    "\n",
    "#Reynold's number\n",
    "Re_water = V_water * Dh / nu_water\n",
    "Re_exh = V_exh * Dh / nu_exh\n",
    "print('Reynold''s number for exhaust gas and water: {:.2f}, {:.2f}'.format(Re_exh, Re_water) )"
   ]
  },
  {
   "cell_type": "markdown",
   "metadata": {},
   "source": [
    "The flows both in cooling and heating sides are turbulent. Therefore, we may use the correlation for a circular tube that is given as:\n",
    "\n",
    "$$Nu_D = 0.023Re_D^{4/5}Pr^n$$\n",
    "\n",
    "where, $n = 0.4$ for heating and $n = 0.3$ for cooling. \n",
    "\n",
    "Then, the heat transfer coefficients for water and exhaust gas are calculated as follows:"
   ]
  },
  {
   "cell_type": "code",
   "execution_count": 194,
   "metadata": {},
   "outputs": [
    {
     "name": "stdout",
     "output_type": "stream",
     "text": [
      "Prandtl number for:\n",
      "  - Water: 3.78\n",
      "  - Exhaust gas: 0.74\n",
      "\n",
      "Nusselt number for:\n",
      "  - Water: 18.78\n",
      "  - Exhaust gas: 131.37\n",
      "\n",
      "Heat transfer coefficient in J/m2/K for:\n",
      "  - Water side: 1196.40\n",
      "  - Exhaust gas side: 433.53\n",
      "\n",
      "Overall heat transfer coefficient is 318.22W/m2/K\n"
     ]
    }
   ],
   "source": [
    "# Prandtl number\n",
    "Pr_water = cp_water * mu_water / k_water\n",
    "Pr_exh = cp_exh * mu_exh / k_exh\n",
    "print('Prandtl number for:')\n",
    "print('  - Water: {:3.2f}'.format(Pr_water))\n",
    "print('  - Exhaust gas: {:3.2f}'.format(Pr_exh))\n",
    "print('')\n",
    "\n",
    "# Nusselt number\n",
    "Nu_water = 0.023 * Re_water**0.8 * Pr_water**0.3\n",
    "Nu_exh = 0.023 * Re_exh**0.8 * Pr_exh**0.4\n",
    "print('Nusselt number for:')\n",
    "print('  - Water: {:3.2f}'.format(Nu_water))\n",
    "print('  - Exhaust gas: {:3.2f}'.format(Nu_exh))\n",
    "print('')\n",
    "\n",
    "# Heat transfer coeffient\n",
    "h_water = Nu_water * k_water / Dh\n",
    "h_exh = Nu_exh * k_exh / Dh\n",
    "print('Heat transfer coefficient in J/m2/K for:')\n",
    "print('  - Water side: {:3.2f}'.format(h_water))\n",
    "print('  - Exhaust gas side: {:3.2f}'.format(h_exh))\n",
    "print('')\n",
    "\n",
    "# Overall heat transfer coefficient\n",
    "U = 1 / (1/h_water + 1/h_exh)\n",
    "print('Overall heat transfer coefficient is {:3.2f}W/m2/K'.format(U))"
   ]
  },
  {
   "cell_type": "markdown",
   "metadata": {},
   "source": [
    "3) We will first find the logarithmic mean temperature difference. Then we use heat transfer equation to find the required heat exchange area.\n",
    "\n",
    "$$\\Delta T_\\rm{lm} = \\frac{\\left(T_\\rm{EGR,in} - T_\\rm{w,max}\\right) - \\left(T_\\rm{EGR,out} - T_\\rm{w,in}\\right)}{\\ln\\left(\\frac{T_\\rm{EGR,in} - T_\\rm{w,max}}{T_\\rm{EGR,out} - T_\\rm{w,in}}\\right)}$$\n",
    "\n",
    "$$A = \\frac{Q}{U\\Delta T_\\rm{lm}}$$\n",
    "\n",
    "The length of the each channel is then determined as follows:\n",
    "\n",
    "$$L = \\frac{A}{N w}$$"
   ]
  },
  {
   "cell_type": "code",
   "execution_count": 195,
   "metadata": {},
   "outputs": [
    {
     "name": "stdout",
     "output_type": "stream",
     "text": [
      "Logarighmic mean temperature difference is  69K\n",
      "Required area of heat exchange is 145.02m2\n",
      "The length of the channel is 2.90m\n"
     ]
    }
   ],
   "source": [
    "# Logarithmic mean temperature difference\n",
    "delta_T_A = T_egr_in - T_w_max\n",
    "delta_T_B = T_egr_out - T_w_in\n",
    "delta_T_lm = (delta_T_A - delta_T_B) / np.log(delta_T_A / delta_T_B) \n",
    "print('Logarighmic mean temperature difference is {:3.0f}K'.format(delta_T_lm))\n",
    "\n",
    "# Required area of heat exchage\n",
    "A = Q / (U * delta_T_lm)\n",
    "print('Required area of heat exchange is {:.2f}m2'.format(A))\n",
    "\n",
    "# Length of the channel\n",
    "L = A / 2 * (N - 1) / w\n",
    "print('The length of the channel is {:.2f}m'.format(L))"
   ]
  },
  {
   "cell_type": "markdown",
   "metadata": {},
   "source": [
    "3) Use effectivity-NTU method to calculate the new conditions. This is a counter current heat exchanger. Therefore, following equations should be used.\n",
    "\n",
    "$$\\epsilon = \\frac{1 - \\exp\\left[-\\rm{NTU}\\left(1 - C_\\rm{min} / C_\\rm{max}\\right)\\right]}{1 - C_\\rm{min} / C_\\rm{max} \\exp\\left[-NTU\\left(1 \n",
    "- C_\\rm{min} / C_\\rm{max}\\right)\\right]}$$\n",
    "\n",
    "Following conditions and properties are given.\n"
   ]
  },
  {
   "cell_type": "code",
   "execution_count": 196,
   "metadata": {},
   "outputs": [
    {
     "name": "stdout",
     "output_type": "stream",
     "text": [
      "Exhaust gas flow for EGR is 17.08kg/s\n"
     ]
    }
   ],
   "source": [
    "T_egr_in = 420       #K\n",
    "cp_egr_in = 1079    #J/kg/K\n",
    "dm_exh = 42.7        #kg/s\n",
    "r_egr = 0.4          # EGR ratio\n",
    "dm_egr = r_egr * dm_exh       \n",
    "rho_exh = 2.48       # kg/m3\\\n",
    "nu_exh = 9.64e-6     # m2/s\n",
    "k_exh = 0.0346       # W/m/K\n",
    "print('Exhaust gas flow for EGR is {:3.2f}kg/s'.format(dm_egr))\n"
   ]
  },
  {
   "cell_type": "markdown",
   "metadata": {},
   "source": [
    "We will assume that the heat transfer coefficient at the water side will be constant. For the exhaust gas side, it should re-calculated."
   ]
  },
  {
   "cell_type": "code",
   "execution_count": 197,
   "metadata": {},
   "outputs": [
    {
     "name": "stdout",
     "output_type": "stream",
     "text": [
      "Velocity of exhaust gas is 27.55m/s\n",
      "Reynolds number for exhaust gas: 28577.17\n",
      "Prandtl number for:\n",
      "  - Exhaust gas: 0.71\n",
      "\n",
      "Nusselt number for:\n",
      "  - Exhaust gas: 73.63\n",
      "\n",
      "Heat transfer coefficient in J/m2/K for:\n",
      "  - Exhaust gas side: 254.76\n",
      "\n",
      "Overall heat transfer coefficient is 210.03W/m2/K\n"
     ]
    }
   ],
   "source": [
    "# Velocity of the flow\n",
    "V_exh = dm_egr / rho_exh / (N * Ac)\n",
    "print('Velocity of exhaust gas is {:.2f}m/s'.format(V_exh))\n",
    "\n",
    "#Reynold's number\n",
    "Re_exh = V_exh * Dh / nu_exh\n",
    "print('Reynold''s number for exhaust gas: {:.2f}'.format(Re_exh) )\n",
    "\n",
    "# Prandtl number\n",
    "Pr_exh = cp_exh * mu_exh / k_exh\n",
    "print('Prandtl number for:')\n",
    "print('  - Exhaust gas: {:3.2f}'.format(Pr_exh))\n",
    "print('')\n",
    "\n",
    "# Nusselt number\n",
    "Nu_exh = 0.023 * Re_exh**0.8 * Pr_exh**0.4\n",
    "print('Nusselt number for:')\n",
    "print('  - Exhaust gas: {:3.2f}'.format(Nu_exh))\n",
    "print('')\n",
    "\n",
    "# Heat transfer coeffient\n",
    "h_exh = Nu_exh * k_exh / Dh\n",
    "print('Heat transfer coefficient in J/m2/K for:')\n",
    "print('  - Exhaust gas side: {:3.2f}'.format(h_exh))\n",
    "print('')\n",
    "\n",
    "# Overall heat transfer coefficient\n",
    "U = 1 / (1/h_water + 1/h_exh)\n",
    "print('Overall heat transfer coefficient is {:3.2f}W/m2/K'.format(U))"
   ]
  },
  {
   "cell_type": "markdown",
   "metadata": {},
   "source": [
    "Calculate heat capacity of each side first.\n",
    "\n",
    "$$C = \\dot m c_p $$"
   ]
  },
  {
   "cell_type": "code",
   "execution_count": 198,
   "metadata": {},
   "outputs": [
    {
     "name": "stdout",
     "output_type": "stream",
     "text": [
      "The heat capacity in J/K/s for:\n",
      "  - Water: 159662.00\n",
      "  - Exhaust gas: 18429.32\n"
     ]
    }
   ],
   "source": [
    "C_exh = dm_egr * cp_egr_in\n",
    "C_w = dm_w * cp_water\n",
    "print('The heat capacity in J/K/s for:')\n",
    "print('  - Water: {:3.2f}'.format(C_w))\n",
    "print('  - Exhaust gas: {:3.2f}'.format(C_exh))"
   ]
  },
  {
   "cell_type": "markdown",
   "metadata": {},
   "source": [
    "Therefore, $C_\\rm{min} = C_\\rm{exh} = 18430$ J/K/s. Then NTU can be calculated as \n",
    "\n",
    "$$NTU = \\frac{UA}{C}$$"
   ]
  },
  {
   "cell_type": "code",
   "execution_count": 199,
   "metadata": {},
   "outputs": [
    {
     "name": "stdout",
     "output_type": "stream",
     "text": [
      "NTU is 1.65\n"
     ]
    }
   ],
   "source": [
    "NTU = U * A / C_exh\n",
    "print('NTU is {:3.2f}'.format(NTU))"
   ]
  },
  {
   "cell_type": "markdown",
   "metadata": {},
   "source": [
    "Now calculate $\\epsilon$ using $\\epsilon$-NTU method.\n",
    "\n",
    "$$epsilon = \\frac{C_c\\left(T_{c,o} - T_{c,i}\\right)}{C_\\rm{min}\\left(T_{h,i} - T_{c,i}\\right)} = \\frac{C_h\\left(T_{h,i} - T_{h,o}\\right)}{C_\\rm{min}\\left(T_{h,i} - T_{c,i}\\right)}$$"
   ]
  },
  {
   "cell_type": "code",
   "execution_count": 200,
   "metadata": {},
   "outputs": [
    {
     "name": "stdout",
     "output_type": "stream",
     "text": [
      "Effectivity is 0.79\n",
      "Outlet temperature:\n",
      "  - water: 320.02K\n",
      "  - exhaust gas: 333.17K\n"
     ]
    }
   ],
   "source": [
    "Cr = C_exh / C_w\n",
    "epsilon = (1 - np.exp(-NTU*(1 - Cr )))/(1 - Cr * np.exp(-NTU*(1 - Cr)))\n",
    "print('Effectivity is {:3.2}'.format(epsilon))\n",
    "T_w_out = epsilon * Cr * (T_egr_in - T_w_in) + T_w_in\n",
    "T_egr_out = T_egr_in - epsilon * (T_egr_in - T_w_in) \n",
    "print('Outlet temperature:')\n",
    "print('  - water: {:3.2f}K'.format(T_w_out))\n",
    "print('  - exhaust gas: {:3.2f}K'.format(T_egr_out))\n"
   ]
  },
  {
   "cell_type": "code",
   "execution_count": null,
   "metadata": {},
   "outputs": [],
   "source": []
  }
 ],
 "metadata": {
  "kernelspec": {
   "display_name": "Python 3",
   "language": "python",
   "name": "python3"
  },
  "language_info": {
   "codemirror_mode": {
    "name": "ipython",
    "version": 3
   },
   "file_extension": ".py",
   "mimetype": "text/x-python",
   "name": "python",
   "nbconvert_exporter": "python",
   "pygments_lexer": "ipython3",
   "version": "3.8.2"
  }
 },
 "nbformat": 4,
 "nbformat_minor": 4
}
