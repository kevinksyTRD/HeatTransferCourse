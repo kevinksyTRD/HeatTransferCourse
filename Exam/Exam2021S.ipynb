{
 "cells": [
  {
   "cell_type": "markdown",
   "metadata": {
    "collapsed": true,
    "pycharm": {
     "name": "#%% md\n"
    }
   },
   "source": [
    "# Exam 2021\n",
    "\n",
    "## Part 1 Theory (40 points)\n",
    "\n",
    "1. List the important dimensionless numbers for a forced convection and explain the physical\n",
    "meaning of the numbers and how they are used in finding the heat transfer coefficient for the\n",
    "cross flow conditions for a cylinder. You should explain why these dimensionless numbers are\n",
    "important and usefule for the real-world problems. (8 point)\n",
    "\n",
    "  Nusselt number: Ratio of convection to pure conduction heat transfer\n",
    "\n",
    "  $$ Nu = \\frac{hL}{k_f} $$\n",
    "\n",
    "  Reynolds number: Ratio of the inertia and viscous forces\n",
    "\n",
    "  $$Re = \\frac{VL}{\\mu/\\rho}$$\n",
    "\n",
    "  Prandtl number: Ratio of the momentum and thermal diffusivities\n",
    "\n",
    "  $$Pr = \\frac{c_p \\mu}{k}$$\n",
    "\n",
    "  The emperical relationship between the dimensionless numbers can be found in the experiments\n",
    "  for the given conditions and dimensions. These empirical relationships are valid and can be\n",
    "  used to solve real world problems using the dimensionless numbers for the problems.\n",
    "\n",
    "\n",
    "2. Explain how steady-state 2D conduction problem can be solved numerically.\n",
    "State the main equations, assumptions and methodology. You can provide a minimal example\n",
    "to explain the methodology.\n",
    "\n",
    "  The 2D conduction problem can be generally solved by solving the heat diffusion equations by\n",
    "finite difference method. The heat diffusion equation for each element to solve is\n",
    "\n",
    "  $$\\frac{\\partial}{\\partial x}\\left(k \\frac{\\partial T}{\\partial x}\\right) + \\frac{\\partial}{\\partial y}\\left(k \\frac{\\partial T}{\\partial y}\\right) + \\dot{q} = \\rho c_p \\frac{\\partial T}{\\partial t}$$\n",
    "\n",
    "  By assuming a steady state condition, k being constant and no internal heat source, the equation\n",
    "  is simplified to\n",
    "\n",
    "  $$\\frac{\\partial^2 T}{\\partial x^2} + \\frac{\\partial^2 T}{\\partial y^2} = 0$$\n",
    "\n",
    "  By applying a finite difference method and proper boundary equations, a partial differential\n",
    "  equation for each node can be approximated by a linear equation of temperature of the node and\n",
    "  its surrounding.\n",
    "\n",
    "  ![Node](2D_conduction_node.png)\n",
    "\n",
    "  $$\\begin{equation}a T_{m-1, n} + b T_{m+1, n} + c T_{m, n-1} + d T_{m, n+1} - \\\\ \\quad \\left(a + b + c + d + e \\frac{h \\delta x}{k}\\right)T_{m, n} + e\\frac{h \\Delta x}{k}T_\\infty = 0\\end{equation}$$\n",
    "\n",
    "  When all the equations for nodes are set, we have N finite difference-equations with N unknowns.\n",
    "\n",
    "  $$\\begin{equation}a_{11} T_1 + a_{12}T_2 + \\cdots + a_{1N}T_N = C_1 \\\\ a_{21} T_1 + a_{22}T_2 + \\cdots + a_{2N}T_N = C_2 \\\\ \\vdots \\\\ a_{N1} T_1 + a_{N2}T_2 + \\cdots + a_{NN}T_N = C_N\\end{equation}$$\n",
    "\n",
    "  $$ \\mathbf{A} \\mathbf{T} = \\mathbf{C} $$\n",
    "\n",
    "  This can be solved by any root finding algorithm or by finding the inverse matrix of the\n",
    "  coefficient matrix $\\mathbf{A}$.\n",
    "  \n",
    "\n",
    "3. State the three most important laws for solving th heat transfer problem in general. Give a\n",
    "example of a heat exchanger to explain how these laws are applied to solve the problems. (8 pt)\n",
    "\n",
    "  The three most important laws are mass conservation, energy conservation and Newton's cooling law.\n",
    "  For the heat exchanger problem, the mass conservation law let us use the relationship between the\n",
    "  mass flow in and out for a steady state problem which is:\n",
    "  $$\\dot{m}_in = \\dot{m}_out$$\n",
    "  By applying the energy conservation,\n",
    "  $$h \\dot{m}_in + \\dot{Q} = \\dot{m}_out $$,\n",
    "  we can get $\\dot{Q}$ from given temperature at the inlet and outlet. We also can calculate the\n",
    "  unknown temperature on the other side of stream. Finally, a desired area of heat exchanger can be\n",
    "  found by the Newton's cooling law.\n",
    "  \n",
    "\n",
    "4. Explain the conditions under which the thermodynamic state of a fluid is determined. Provide\n",
    "an example using CoolProp / IAPWS library for each of R134a, steam (saturated / superheated) and\n",
    "humid air. (8 pt)\n",
    "\n",
    "  You need at least three independent properties of a fluid to determine its thermodynamic state.\n",
    "Usually they are pressure, temperature and its composition. For steam, it is generally the steam\n",
    "quality, pressure and temperature, and for humid air, it is pressure, dry bulb temperature and\n",
    "relative or specific humidity. Often it is possible to calculate pressure or temperature from\n",
    "other properties such as enthalpy(energy content), mass and/or volume together with the\n",
    "information of composition. For saturated steam, you only need one parameter: since the quality\n",
    "is 1 and the temperature is dependent on pressure or vice versa."
   ]
  },
  {
   "cell_type": "code",
   "execution_count": 1,
   "metadata": {
    "pycharm": {
     "name": "#%% Calculation of thermodynamic properties\n"
    }
   },
   "outputs": [],
   "source": [
    "# For R134a\n",
    "from thermal_system_calculation import FluidState, Fluid\n",
    "\n",
    "state_for_R134a = FluidState(\n",
    "    fluid=Fluid.R134A,\n",
    "    pressure_pa=20e5,\n",
    "    temp_k=300,\n",
    ")\n",
    "# In this case, we provide pressure, temperature and the type of fluid which gives information of\n",
    "# the composition to get the state.\n",
    "\n",
    "# For saturated steam\n",
    "from iapws import IAPWS97\n",
    "\n",
    "steam = IAPWS97(P=1, x=1)\n",
    "\n",
    "# In this case, we provide pressure and the steam quality. Since it is saturated steam, we don't\n",
    "# need to provide information for temperature.\n",
    "\n",
    "# For humid air\n",
    "from thermal_system_calculation import get_humid_air_state\n",
    "\n",
    "humid_air_state = get_humid_air_state(\n",
    "    pressure_pa=1e5,\n",
    "    temperature_k=300,\n",
    "    relative_humidity=0.5\n",
    ")\n",
    "# In this case, we provide pressure, temperature and relative humidity that provides information\n",
    "# of water content, hence composition of the air."
   ]
  },
  {
   "cell_type": "markdown",
   "metadata": {
    "pycharm": {
     "name": "#%% md\n"
    }
   },
   "source": [
    "5. Compare analysis of a heat exchanger using logarithmic mean temperature difference and the\n",
    "effectiveness-NTU method? State the following in your comparison: procedure for the analysis,\n",
    "conditions for each analysis is effective, how empirical the method is, main equations and\n",
    "accuracy of the analysis. (8 pt)\n",
    "\n",
    "  Logarithmic mean temperature method is effective used when temperature of inlet and outlet\n",
    "  for one stream is known and only one temperature condition is known for the other stream. We can\n",
    "  use the energy conservation law to calculate the unknown temperature, which also provides\n",
    "  information of the rate of heat exchange. From the logarithmic mean temperature calculated\n",
    "  as belows,\n",
    "\n",
    "  $$\\Delta T_{lm} = \\frac{\\Delta T_2 - \\Delta T_1}{\\log \\left(\\Delta T_2 / \\Delta T_1\\right)}$$,\n",
    "\n",
    "  we can calculate required area of heat exchange area using the Newton's cooling law. The method\n",
    "  is analytic for a simple geometry and arrangement (parallel or counter flow). One needs to use\n",
    "  empirical correction factor for a complex arrangement.\n",
    "\n",
    "  The effectiveness-NTU method is more effectively  used when the outlet temperature are not known\n",
    "  for both streams. We can find an empirical function of effectiveness with input of the number of\n",
    "  transfer unit (NTU) and the ratio of minimum and maximum heat capacity flow rate for different\n",
    "  flow arrangement and type of heat exchangers.\n",
    "\n",
    "  $$\\varepsilon = f\\left(NTU, \\frac{C_{\\min}}{C_{\\max}}\\right)$$\n",
    "\n",
    "  $$NTU = \\frac{UA}{C_{\\min}}$$\n",
    "\n",
    "  $$C = \\dot{m} c_p$$\n",
    "\n",
    "  When $\\varepsilon$ is found from the empirical function, temperature of the unknowns are found\n",
    "  using the definition of the effectiveness. The definition is given for the counter flow as belows.\n",
    "\n",
    "  $$\\varepsilon = \\frac{T_3 - T_4}{T_3 - T_1}$$\n",
    "\n",
    "  where $T_4$ is inlet temperature on the hot side, $T_4$ is outlet temperature on the hot side and\n",
    "  $T_1$ is inlet temperature on the cold side.\n",
    "\n",
    "  With all the temperature found, we can calculate the heat transfer rate. The method is effective\n",
    "  when exploring different temperature conditions at the inlets."
   ]
  },
  {
   "cell_type": "markdown",
   "metadata": {
    "pycharm": {
     "name": "#%% md\n"
    }
   },
   "source": [
    "## Part 2 Simple Analysis (20 points)\n",
    "1. How much thermal power should be added to make superheated steam at 600K, 16 bar having mass\n",
    " flow of 1.5 kg/s from saturated steam at 16 bar. (5 pt)"
   ]
  },
  {
   "cell_type": "code",
   "execution_count": 10,
   "metadata": {
    "pycharm": {
     "name": "#%%\n"
    }
   },
   "outputs": [
    {
     "name": "stdout",
     "output_type": "stream",
     "text": [
      "Thermal power added: 453.45 kW\n"
     ]
    }
   ],
   "source": [
    "from iapws import IAPWS97\n",
    "\n",
    "pressure = 16 / 10 # MPa\n",
    "mass_flow = 1.5 # kg/s\n",
    "\n",
    "state_superheated_steam = IAPWS97(P=pressure, x=1, T=600)\n",
    "state_saturated_steam = IAPWS97(P=pressure, x=1)\n",
    "change_in_enthalpy_kj_per_kg = state_superheated_steam.h - state_saturated_steam.h\n",
    "heating_power = mass_flow * change_in_enthalpy_kj_per_kg\n",
    "\n",
    "print(f'Thermal power added: {heating_power:.2f} kW')"
   ]
  },
  {
   "cell_type": "markdown",
   "metadata": {
    "pycharm": {
     "name": "#%% md\n"
    }
   },
   "source": [
    "2. A room is being ventilated with a fresh air with a rate of 1 kg/s. In the room, there is a\n",
    " humidifier that sprays water at 20<sup>o</sup>C at a rate of 0.002kg/s. There is\n",
    "also an electric heater heating up the room with 1kW power. What should be the temperature and\n",
    "the humidity of the fresh air entering the room if the room is maintained at 20 <sup>o</sup>C\n",
    "with relative humidity of 40%."
   ]
  },
  {
   "cell_type": "code",
   "execution_count": 11,
   "metadata": {
    "pycharm": {
     "name": "#%%\n"
    }
   },
   "outputs": [
    {
     "name": "stdout",
     "output_type": "stream",
     "text": [
      "Specific humidity of inlet air is 0.003814 kg/kgDryAir\n",
      "Specific enthalpy flow of inlet air is 33587.201 J/kg/s\n",
      "Inlet humid air has\n",
      "\tTemperature: 23.9 degC\n",
      "\tRelative humidity: 0.208\n"
     ]
    }
   ],
   "source": [
    "from thermal_system_calculation import get_humid_air_state, FluidState, Fluid\n",
    "\n",
    "# First get the state of the humidity air\n",
    "temp_out = 20 + 273.15 # K\n",
    "rel_humidity_out = 0.4\n",
    "humid_air_out = get_humid_air_state(\n",
    "    pressure_pa=101325,\n",
    "    temperature_k=temp_out,\n",
    "    relative_humidity=rel_humidity_out\n",
    ")\n",
    "specific_humidity_out = humid_air_out.specific_humidity_kg_per_kg_dry_air\n",
    "\n",
    "# From the mass balance, we can calculate the specific humidity of the air in\n",
    "mass_flow_humid_air_in = 1\n",
    "mass_flow_added_water = 0.002\n",
    "mass_flow_humid_air_out = mass_flow_humid_air_in + mass_flow_added_water\n",
    "mass_flow_vapor_out = mass_flow_humid_air_out * (specific_humidity_out /\n",
    "                                                 (1 + specific_humidity_out))\n",
    "mass_flow_vapor_in = mass_flow_vapor_out - mass_flow_added_water\n",
    "specific_humidity_in = mass_flow_vapor_in / (mass_flow_humid_air_in - mass_flow_vapor_in)\n",
    "print(f\"Specific humidity of inlet air is {specific_humidity_in:.6f} kg/kgDryAir\")\n",
    "\n",
    "# From the energy balance, we can calculate the specific enthalpy of the humid air in\n",
    "enthalpy_flow_humid_air_out = mass_flow_humid_air_out * \\\n",
    "                              humid_air_out.specific_enthalpy_j_per_kg_humid_air\n",
    "water_state = FluidState(Fluid.WATER, pressure_pa=101325, temp_k=20+273.15)\n",
    "enthalpy_added_by_water = mass_flow_added_water * water_state.specific_enthalpy\n",
    "heating_power = 1000 # W\n",
    "enthalpy_flow_humid_air_in = enthalpy_flow_humid_air_out - enthalpy_added_by_water - heating_power\n",
    "specific_enthalpy_humid_air_in = enthalpy_flow_humid_air_in / \\\n",
    "                                 (mass_flow_humid_air_in - mass_flow_vapor_in)\n",
    "print(f\"Specific enthalpy flow of inlet air is {enthalpy_flow_humid_air_in:.3f} J/kg/s\")\n",
    "\n",
    "# Now we can find the state of the humid air in\n",
    "humid_air_state_in = get_humid_air_state(\n",
    "    specific_humidity_kg_per_kg_dry_air=specific_humidity_in,\n",
    "    pressure_pa=101325,\n",
    "    specific_enthalpy_j_per_kg_dry_air=specific_enthalpy_humid_air_in\n",
    ")\n",
    "\n",
    "print(f\"Inlet humid air has\\n\"\n",
    "      f\"\\tTemperature: {humid_air_state_in.temperature_k - 273.15:.1f} degC\\n\"\n",
    "      f\"\\tRelative humidity: {humid_air_state_in.relative_humidity:.3}\")"
   ]
  },
  {
   "cell_type": "markdown",
   "metadata": {
    "pycharm": {
     "name": "#%% md\n"
    }
   },
   "source": [
    "3. Liquefied hydrogen at 20K under atmospheric pressure is stored in the vacuum insulated tank.\n",
    "The tank is made of stainless steel which has thickness of 12mm and thermal conductivity of 14\n",
    "W/Km. Heat resistance from the convection is negligible. The vacuum insulation has thermal\n",
    "conductivity of 0.004 W/Km. How thick should the insulation be to achieve the boil-off rate of 0.15% volume per day at 100% filling of the tank. The tanks has a rectangular shape with a\n",
    "dimension of 10m x 20m x 20m. The density of hydrogen for the given condition is 71kg/m<sup>3</sup>\n",
    "and the heat of vaporization is 222.9 kJ/kg. The surrounding temperature is 25oC. You can ignore the heat transfer through the corners and edges. (5 pt)"
   ]
  },
  {
   "cell_type": "code",
   "execution_count": 2,
   "metadata": {
    "pycharm": {
     "name": "#%%\n"
    }
   },
   "outputs": [
    {
     "name": "stdout",
     "output_type": "stream",
     "text": [
      "The thickness of the insulation should be 1619.8 mm\n"
     ]
    }
   ],
   "source": [
    "# First we will calculate the rate of heat transfer from the information of the boil-off gas rate\n",
    "specific_heat_vap = 222.9 * 1000 # J/kg\n",
    "volumne_loss = 0.0015\n",
    "total_volume = 10 * 20 * 20 # m3\n",
    "density = 71 # kg/m3\n",
    "volume_vaporizing_rate = total_volume * volumne_loss / 24 / 3600\n",
    "mass_vaporizing_rate = volume_vaporizing_rate * density\n",
    "heat_transfer_rate = mass_vaporizing_rate * specific_heat_vap # W\n",
    "\n",
    "# We assume followings:\n",
    "#  Steady state\n",
    "#  Constant physical properties within hydrogen liquid and insulation\n",
    "#  Heat resistance for the steel is negligible\n",
    "#  The heat transfer through the corners is negligible\n",
    "area = 10 * 20 * 4 + 20 * 20 * 2 #m2\n",
    "heat_conductivity = 0.004 # W/Km\n",
    "temp_surrounding = 25 + 273.15 # K\n",
    "temp_hydrogen = 20 # K\n",
    "thickness = (heat_conductivity * area * (temp_surrounding - temp_hydrogen)) / heat_transfer_rate #m\n",
    "\n",
    "print(f\"The thickness of the insulation should be {thickness * 1000:.1f} mm\")"
   ]
  },
  {
   "cell_type": "markdown",
   "metadata": {
    "pycharm": {
     "name": "#%% md\n"
    }
   },
   "source": [
    "4.  We are designing the shell-and-tube type heat exchanger which has two-passes on tube side.\n",
    "On the tube side, hot water flows in at 95<sup>o</sup>C with a mass flow of 1.5 kg/s and flows\n",
    "out at 60<sup>o</sup>C. On the shell side, cold water flows in at 36<sup>o</sup>C with a mass\n",
    "flow of 4 kg/s. What is the heat transfer rate assuming there is no heat loss to the surrounding?\n",
    "What is the temperature of the cold water at outlet?\n",
    "What will be the required area of heat exchange given the overall heat transfer coefficient is\n",
    "150 W/m2K. (5pt)"
   ]
  },
  {
   "cell_type": "code",
   "execution_count": 13,
   "metadata": {
    "pycharm": {
     "name": "#%%\n"
    }
   },
   "outputs": [
    {
     "name": "stdout",
     "output_type": "stream",
     "text": [
      "Outlet temperature for the cold side is 49.2degC\n",
      "Required area of heat exchange is 47.2 m2\n"
     ]
    }
   ],
   "source": [
    "# Since we know the temperature in and out on the hot side and inlet temperature of the cold side,\n",
    "# we can use analysis using logarithmic mean temperature difference. We can use the package from\n",
    "# the semester.\n",
    "\n",
    "from thermal_system_calculation import HeatExchangerLMTD, FlowHeatExchanger, Fluid, FlowType\n",
    "\n",
    "flow_hot = FlowHeatExchanger(\n",
    "    fluid=Fluid.WATER,\n",
    "    temp_in_k=95 + 273.15,\n",
    "    mass_flow_kg_s=1.5,\n",
    "    temp_out_k=60 + 273.15,\n",
    "    is_in_tube=True\n",
    ")\n",
    "flow_cold = FlowHeatExchanger(\n",
    "    fluid=Fluid.WATER,\n",
    "    temp_in_k=36 + 273.15,\n",
    "    mass_flow_kg_s=4,\n",
    "    is_in_tube=False\n",
    ")\n",
    "heat_exchanger = HeatExchangerLMTD(\n",
    "    flow_type=FlowType.ShellAndTube,\n",
    "    flow1=flow_hot,\n",
    "    flow2=flow_cold,\n",
    "    u_h=150,\n",
    "    number_tube_passes=2,\n",
    "    is_parallel_flow=False\n",
    ")\n",
    "\n",
    "heat_exchanger.solve_temperature()\n",
    "print(f'Outlet temperature for the cold side is {flow_cold.temp_out - 273.15:.1f}degC')\n",
    "print(f'Required area of heat exchange is {heat_exchanger.get_heat_exchange_area():.1f} m2')\n"
   ]
  },
  {
   "cell_type": "markdown",
   "metadata": {
    "pycharm": {
     "name": "#%% md\n"
    }
   },
   "source": [
    "## Part 3 Real-world problem (40 points)\n",
    "\n",
    "We are designing a HVAC system for a accommodation block with volume of 30m<sup>3</sup>. The HVAC\n",
    "system should be designed to meet the following design requirements.\n",
    "\n",
    "- The HVAC system should provide the conditioned air to the accommodation so that the entire\n",
    "volume of the accommodation block has 20 air changes per hour.\n",
    "- The conditioned air supplied by the HVAC system shall have temperature of 25oC and relative\n",
    "humidity, 50%.\n",
    "- For cooling the air, a heat exchanger of shell-and-tube type is used. The air is passing in the\n",
    "shell as being cooled down by refrigerant R134A. Inlet and outlet temperature of the refrigerant\n",
    "is constant at -10oC.\n",
    "- Water is sprayed to the air, if necessary, to keep the humidity at the desired level.\n",
    "- For heating the air, a heat exchanger of shell-and-tube type is used. The air is passing in the\n",
    "shell as being heated by saturated steam at 8 barg.\n",
    "- The HVAC system should be able to meet above requirements for both summer and winter conditions.\n",
    " The condition of the inlet air to the HVAC system for each season is given as follows:\n",
    "\n",
    "| season | Temperature (<sup>o</sup>C) | Relative humidity (%) |\n",
    "| ------- | --------- | -------- |\n",
    "| Summer | 36 | 80 |\n",
    "| Winter | 5 | 10 |\n",
    "\n",
    "Assumptions:\n",
    "\n",
    "- Steady state conditions\n",
    "- The pressure of the air is assumed to be constant across the system. (p=101325Pa)\n",
    "- The energy added by the fan is negligible."
   ]
  },
  {
   "cell_type": "markdown",
   "metadata": {
    "pycharm": {
     "name": "#%% md\n"
    }
   },
   "source": [
    "### Overall system calculation"
   ]
  },
  {
   "cell_type": "code",
   "execution_count": 14,
   "metadata": {
    "pycharm": {
     "name": "#%%\n"
    }
   },
   "outputs": [
    {
     "name": "stdout",
     "output_type": "stream",
     "text": [
      "Mass flow:\n",
      "\tHumid air: 5.887e-01 kg/s\n",
      "\tDry air: 5.887e-01 kg/s\n",
      "\twater vapor: 5.786e-03 kg/s\n"
     ]
    }
   ],
   "source": [
    "from thermal_system_calculation import Fluid, FluidState, get_humid_air_state, \\\n",
    "    ForcedConvectionTubeBanksCrossFlow, TubeBankConfiguration, TubeBankArrangement, \\\n",
    "    FlowHeatExchanger, HeatExchangerLMTD, FlowType, HeatExchangerEffectivenessNTU\n",
    "import iapws as steam\n",
    "import numpy as np\n",
    "# Calculate the mass flow of the dry air, water vapor and humid air at the outlet of the HVAC\n",
    "# system.\n",
    "\n",
    "volume_accommodation = 30 #m3\n",
    "rate_air_change = 60 # /hour\n",
    "volume_flow_m3_per_s = volume_accommodation * rate_air_change / 3600\n",
    "temp_air_out = 25 + 273.15 # K\n",
    "rel_humid_air_out = 0.5 # 50%\n",
    "humid_air_state_out = get_humid_air_state(\n",
    "    pressure_pa=101325,\n",
    "    temperature_k=temp_air_out,\n",
    "    relative_humidity=rel_humid_air_out\n",
    ")\n",
    "mass_flow_air_out_kg_s = volume_flow_m3_per_s / \\\n",
    "                         humid_air_state_out.specific_volume_m3_per_kg_humid_air\n",
    "mass_flow_dry_air_out_kg_s = mass_flow_air_out_kg_s / \\\n",
    "                         (1 + humid_air_state_out.specific_humidity_kg_per_kg_dry_air)\n",
    "mass_flow_water_vapor_air_out_kg_s = mass_flow_air_out_kg_s - mass_flow_dry_air_out_kg_s\n",
    "\n",
    "print(\"Mass flow:\")\n",
    "print(f\"\\tHumid air: {mass_flow_air_out_kg_s:.3e} kg/s\")\n",
    "print(f\"\\tDry air: {mass_flow_air_out_kg_s:.3e} kg/s\")\n",
    "print(f\"\\twater vapor: {mass_flow_water_vapor_air_out_kg_s:.3e} kg/s\")"
   ]
  },
  {
   "cell_type": "markdown",
   "metadata": {
    "pycharm": {
     "name": "#%% md\n"
    }
   },
   "source": [
    "1. In summer, how much vapor from the inlet air should be removed at the cooling unit to have the\n",
    "same vapor mass flow as the air leaving the HVAC? What is the temperature of the air leaving\n",
    "the cooling unit?"
   ]
  },
  {
   "cell_type": "code",
   "execution_count": 15,
   "metadata": {
    "pycharm": {
     "name": "#%%\n"
    }
   },
   "outputs": [
    {
     "name": "stdout",
     "output_type": "stream",
     "text": [
      "Mass flow:\n",
      "\tWater vapor in summer: 1.795e-02kg/s\n",
      "\tWater vapor removed in summer: 1.22e-02kg/s\n",
      "Temperature at the outlet of the vapor is the same as the dew point temperature of the outlet air of the HVAC system: 13.87degC\n"
     ]
    }
   ],
   "source": [
    "temp_air_in_summer = 36 + 273.15\n",
    "\n",
    "# By the mass balance, the dry air of inlet and outlet should be the same.\n",
    "mass_flow_dry_air_in_kg_s = mass_flow_dry_air_out_kg_s\n",
    "humid_air_state_in_summer = get_humid_air_state(\n",
    "    pressure_pa=101325,\n",
    "    temperature_k=temp_air_in_summer,\n",
    "    relative_humidity=0.8\n",
    ")\n",
    "mass_flow_water_vapor_air_in_summer_kg_s = mass_flow_dry_air_in_kg_s * \\\n",
    "                                    humid_air_state_in_summer.specific_humidity_kg_per_kg_dry_air\n",
    "mass_flow_water_vapor_removed_kg_s = mass_flow_water_vapor_air_in_summer_kg_s - \\\n",
    "                                     mass_flow_water_vapor_air_out_kg_s\n",
    "\n",
    "print(\"Mass flow:\")\n",
    "print(f\"\\tWater vapor in summer: {mass_flow_water_vapor_air_in_summer_kg_s:.3e}kg/s\")\n",
    "print(f\"\\tWater vapor removed in summer: {mass_flow_water_vapor_removed_kg_s:.2e}kg/s\")\n",
    "\n",
    "temp_air_out_cooler_unit = humid_air_state_out.dew_point_temperature_k\n",
    "print(f\"Temperature at the outlet of the vapor is the same as the dew point temperature of the \"\n",
    "      f\"outlet air of the HVAC system: {temp_air_out_cooler_unit - 273.15:.2f}degC\")"
   ]
  },
  {
   "cell_type": "markdown",
   "metadata": {
    "pycharm": {
     "name": "#%% md\n"
    }
   },
   "source": [
    "2. How much heat power is provided at the heating section to achieve the outlet temperature of the\n",
    "HVAC system? What is the steam consumption?"
   ]
  },
  {
   "cell_type": "code",
   "execution_count": 16,
   "metadata": {
    "pycharm": {
     "name": "#%%\n"
    }
   },
   "outputs": [
    {
     "name": "stdout",
     "output_type": "stream",
     "text": [
      "Heating power is 6650.64W\n"
     ]
    }
   ],
   "source": [
    "# We need the humid air state of the air leaving the cooler for its specific enthalpy.\n",
    "humid_air_state_cooler_out = get_humid_air_state(\n",
    "    pressure_pa=101325,\n",
    "    temperature_k=temp_air_out_cooler_unit,\n",
    "    relative_humidity=1,\n",
    ")\n",
    "change_in_specific_enthalpy_j_per_kg_dry_air = \\\n",
    "    humid_air_state_out.specific_enthalpy_j_per_kg_dry_air- \\\n",
    "    humid_air_state_cooler_out.specific_enthalpy_j_per_kg_dry_air\n",
    "heat_power = change_in_specific_enthalpy_j_per_kg_dry_air * mass_flow_dry_air_out_kg_s\n",
    "print(f\"Heating power is {heat_power:.2f}W\")"
   ]
  },
  {
   "cell_type": "markdown",
   "metadata": {
    "pycharm": {
     "name": "#%% md\n"
    }
   },
   "source": [
    "4. In winter, what is the maximum water vapor flow that the inlet air can have without\n",
    "condensation. What should be done to the air to inhold more water to meet the design requirement?"
   ]
  },
  {
   "cell_type": "code",
   "execution_count": 17,
   "metadata": {
    "pycharm": {
     "name": "#%%\n"
    }
   },
   "outputs": [
    {
     "name": "stdout",
     "output_type": "stream",
     "text": [
      "Mass flow (kg/s):\n",
      "\twater vapor out: 5.786e-03\n",
      "\twater vapor winter: 9.341e-05\n",
      "\twater vapor winter (Saturated): 9.362e-04\n",
      "Required water vapor flow is much higher than what the winter air can contain at the given temperature. The air must be heated first.\n"
     ]
    }
   ],
   "source": [
    "# We need the humid air state of the inlet air in winter.\n",
    "temp_air_in_winter = -10 + 273.15\n",
    "rel_humid_air_in_winter = 0.1\n",
    "\n",
    "humid_air_state_in_winter = get_humid_air_state(\n",
    "    pressure_pa=101325,\n",
    "    temperature_k=temp_air_in_winter,\n",
    "    relative_humidity=rel_humid_air_in_winter\n",
    ")\n",
    "mass_flow_water_vapor_air_in_winter_kg_s = mass_flow_dry_air_out_kg_s * \\\n",
    "    humid_air_state_in_winter.specific_humidity_kg_per_kg_dry_air\n",
    "\n",
    "humid_air_state_in_winter_saturated = get_humid_air_state(\n",
    "    pressure_pa=101325,\n",
    "    temperature_k=temp_air_in_winter,\n",
    "    relative_humidity=1\n",
    ")\n",
    "mass_flow_water_vapor_saturated_air_in_winter_kg_s = mass_flow_dry_air_out_kg_s * \\\n",
    "    humid_air_state_in_winter_saturated.specific_humidity_kg_per_kg_dry_air\n",
    "print(f\"Mass flow (kg/s):\\n\"\n",
    "      f\"\\twater vapor out: {mass_flow_water_vapor_air_out_kg_s:.3e}\\n\"\n",
    "      f\"\\twater vapor winter: {mass_flow_water_vapor_air_in_winter_kg_s:.3e}\\n\"\n",
    "      f\"\\twater vapor winter (Saturated): {mass_flow_water_vapor_saturated_air_in_winter_kg_s:.3e}\"\n",
    ")\n",
    "print(\"Required water vapor flow is much higher than what the winter air can contain at the given\"\n",
    "      \" temperature. The air must be heated first.\")"
   ]
  },
  {
   "cell_type": "markdown",
   "metadata": {
    "pycharm": {
     "name": "#%% md\n"
    }
   },
   "source": [
    "5. How much heat power is required for the steam heater to meet the air condition in the winter?\n",
    "irst, calculate the power with an assumption that the enthalpy change due to adding water and\n",
    "heat of vaporization is negligible. Then, calculate the power without the assumption. Compare the\n",
    "result and evaluate the assumption.\n"
   ]
  },
  {
   "cell_type": "markdown",
   "metadata": {
    "pycharm": {
     "name": "#%% md\n"
    }
   },
   "source": [
    "If we assume that the enthalpy added by the water and heat of vaporization are negligible\n",
    "\n",
    "$$h_\\mathrm{air, out} = h_\\mathrm{air, in} + q_\\mathrm{heating}$$"
   ]
  },
  {
   "cell_type": "code",
   "execution_count": 18,
   "metadata": {
    "pycharm": {
     "name": "#%%\n"
    }
   },
   "outputs": [
    {
     "name": "stdout",
     "output_type": "stream",
     "text": [
      "Heating power with the assumption is 35021.34W\n"
     ]
    }
   ],
   "source": [
    "heating_power = (humid_air_state_out.specific_enthalpy_j_per_kg_dry_air -\n",
    "                 humid_air_state_in_winter.specific_enthalpy_j_per_kg_dry_air) * \\\n",
    "                mass_flow_dry_air_out_kg_s\n",
    "print(f\"Heating power with the assumption is {heating_power:.2f}W\")"
   ]
  },
  {
   "cell_type": "markdown",
   "metadata": {},
   "source": [
    "Without the assumption,\n",
    "\n",
    "$$h_\\mathrm{air, out} = h_\\mathrm{air, in} + \\left( h_\\mathrm{water,added} - h_\\mathrm{water, fg} \\right)  \\frac{m_\\mathrm{water, added}}{m_\\mathrm{dry air}} + q_\\mathrm{heating}$$"
   ]
  },
  {
   "cell_type": "code",
   "execution_count": 19,
   "metadata": {
    "pycharm": {
     "name": "#%%\n"
    }
   },
   "outputs": [
    {
     "name": "stdout",
     "output_type": "stream",
     "text": [
      "84011.81116713626\n",
      "246328.90515683347\n",
      "Heating power without the assumption is 35945.29W\n",
      "There is about 2.6% error due to the assumption.\n"
     ]
    }
   ],
   "source": [
    "temp_water = 20 + 273.15\n",
    "water_state = steam.IAPWS97(P=0.1, T=temp_water)\n",
    "vapor_state = steam.IAPWS97(\n",
    "    P=humid_air_state_out.partial_pressure_water_vapor_pa / 1e6,\n",
    "    T=temp_air_out,\n",
    ")\n",
    "h_water = water_state.h * 1000\n",
    "h_vap = (vapor_state.h - water_state.h) * 100\n",
    "print(h_water)\n",
    "print(h_vap)\n",
    "mass_flow_water_added = mass_flow_water_vapor_air_out_kg_s - \\\n",
    "                        mass_flow_water_vapor_air_in_winter_kg_s\n",
    "heating_power_no_assumption = (\n",
    "    humid_air_state_out.specific_enthalpy_j_per_kg_dry_air -\n",
    "    humid_air_state_in_winter.specific_enthalpy_j_per_kg_dry_air -\n",
    "    (h_water - h_vap) * mass_flow_water_added / mass_flow_dry_air_out_kg_s\n",
    ") * mass_flow_dry_air_out_kg_s\n",
    "print(f\"Heating power without the assumption is {heating_power_no_assumption:.2f}W\")\n",
    "error_perc = abs(heating_power_no_assumption - heating_power) / heating_power_no_assumption * 100\n",
    "print(f\"There is about {error_perc:.1f}% error due to the assumption.\")\n"
   ]
  },
  {
   "cell_type": "markdown",
   "metadata": {
    "pycharm": {
     "name": "#%% md\n"
    }
   },
   "source": [
    "### Heat exchanger for a cooling unit"
   ]
  },
  {
   "cell_type": "markdown",
   "metadata": {
    "pycharm": {
     "name": "#%% md\n"
    }
   },
   "source": [
    "1. In summer, calculate the rate heat exchange (kW) required to cool down the air to condense the\n",
    "vapor at the dew point of 13.87degC."
   ]
  },
  {
   "cell_type": "code",
   "execution_count": 20,
   "metadata": {
    "pycharm": {
     "name": "#%%\n"
    }
   },
   "outputs": [
    {
     "name": "stdout",
     "output_type": "stream",
     "text": [
      "Rate of heat exchange: 44430.97W\n"
     ]
    }
   ],
   "source": [
    "q_cooling = (humid_air_state_in_summer.specific_enthalpy_j_per_kg_dry_air -\n",
    "             humid_air_state_cooler_out.specific_enthalpy_j_per_kg_dry_air) * \\\n",
    "            mass_flow_dry_air_out_kg_s\n",
    "\n",
    "print(f\"Rate of heat exchange: {q_cooling:.2f}W\")"
   ]
  },
  {
   "cell_type": "markdown",
   "metadata": {
    "pycharm": {
     "name": "#%% md\n"
    }
   },
   "source": [
    "2. The heat exchanger can be modeled as a series of cross-flow of air across of a bank of tubes.\n",
    "For a initial design, we will assume the outer diameter of the tube is 10mm, horizontal spacing\n",
    "is 10mm and vertical spacing is 10mm. There are 30 rows of tubes and 30 tubes per row. A length\n",
    "of each bank is 1m and the width of the air channel is 0.4m. Calculate the convection heat\n",
    "transfer coefficient for this single bank. You can assume that the temperature at the surface\n",
    "of the tube is the same as the cooling water, 10degC."
   ]
  },
  {
   "cell_type": "code",
   "execution_count": 21,
   "metadata": {
    "pycharm": {
     "name": "#%%\n"
    }
   },
   "outputs": [
    {
     "name": "stdout",
     "output_type": "stream",
     "text": [
      "Flow and velocities: \n",
      "\tmass flow: 0.60 kg/s\n",
      "\tvolume flow: 0.54 m3/s\n",
      "\tvelocity: 2.23 m/s\n",
      "\n",
      "Heat transfer coefficient is 96.32229620430356 W/m2K\n"
     ]
    }
   ],
   "source": [
    "# Assumption\n",
    "# - Steady state\n",
    "# - Constant properties\n",
    "\n",
    "\n",
    "# First we need to calculate the inlet velocity of the air.\n",
    "width_channel = 0.6 # m\n",
    "length_tube = 0.4 # m\n",
    "sectional_area = width_channel * length_tube\n",
    "mass_flow_air_in_summer = mass_flow_dry_air_out_kg_s + mass_flow_water_vapor_air_in_summer_kg_s\n",
    "volume_flow_air_in_summer = \\\n",
    "    humid_air_state_in_summer.specific_volume_m3_per_kg_humid_air * mass_flow_air_in_summer\n",
    "velocity_air_summer = volume_flow_air_in_summer / sectional_area\n",
    "print(\"Flow and velocities: \\n\"\n",
    "      f\"\\tmass flow: {mass_flow_air_in_summer:.2f} kg/s\\n\"\n",
    "      f\"\\tvolume flow: {volume_flow_air_in_summer:.2f} m3/s\\n\"\n",
    "      f\"\\tvelocity: {velocity_air_summer:.2f} m/s\\n\")\n",
    "\n",
    "# Boundary conditions\n",
    "temp_surface = 10 + 273.15 # K\n",
    "temp_air = 36 + 273.15 # K\n",
    "pressure = 101325 # K\n",
    "tube_diameter = 0.01 # m\n",
    "\n",
    "# Configuration\n",
    "configuration = TubeBankConfiguration(\n",
    "    arrangement=TubeBankArrangement.Staggered,\n",
    "    vertical_spacing=0.020,\n",
    "    horizontal_spacing=0.020,\n",
    "    number_rows=30,\n",
    "    number_tubes_each_row=30\n",
    ")\n",
    "\n",
    "# Define the convection instance\n",
    "convection = ForcedConvectionTubeBanksCrossFlow(\n",
    "    temp_surface=temp_surface,\n",
    "    temp_infinity=temp_air,\n",
    "    fluid=Fluid.AIR,\n",
    "    characteristic_length=tube_diameter,\n",
    "    pressure_pa=pressure,\n",
    "    velocity=velocity_air_summer,\n",
    "    configuration=configuration\n",
    ")\n",
    "\n",
    "# Calculate the heat transfer coefficient\n",
    "print(f\"Heat transfer coefficient is {convection.h} W/m2K\")\n",
    "\n"
   ]
  },
  {
   "cell_type": "markdown",
   "metadata": {
    "pycharm": {
     "name": "#%% md\n"
    }
   },
   "source": [
    "3. What is the rate of heat exchange and the outlet temperature of the air and cooling water for the\n",
    "heat exchanger that has two banks in a series assuming that the overall heat transfer\n",
    "coefficient is the same as the convection heat transfer coefficient of a single bank? Use a\n",
    "suitable heat exchanger analysis to calculate them.\n",
    "(Hint 1: You can use HeatExchangerLMTD or HeatExchangerNTUEffectiveness classes depending on the\n",
    "conditions)"
   ]
  },
  {
   "cell_type": "code",
   "execution_count": 22,
   "metadata": {
    "pycharm": {
     "name": "#%%\n"
    }
   },
   "outputs": [
    {
     "name": "stdout",
     "output_type": "stream",
     "text": [
      "Temperature:\n",
      "\tAir in: 36.0 degC\n",
      "\tAir out: 11.591106956429883 degC\n",
      "\tWater in: 10.0 degC\n",
      "\tWater out: 11.759740075874845 degC\n",
      "\n",
      "Rate of heat exchange is 14764.78W\n"
     ]
    }
   ],
   "source": [
    "number_banks = 2\n",
    "heat_exchanger_area_per_bank = tube_diameter * np.pi * length_tube * \\\n",
    "                               configuration.number_tubes_total\n",
    "temp_water_in = 10 + 273.15\n",
    "mass_flow_water = 2 # kg/s\n",
    "air_flow = FlowHeatExchanger(\n",
    "    fluid=Fluid.AIR,\n",
    "    temp_in_k=temp_air_in_summer,\n",
    "    mass_flow_kg_s=mass_flow_air_in_summer,\n",
    "    is_in_tube=False\n",
    ")\n",
    "water_flow = FlowHeatExchanger(\n",
    "    fluid=Fluid.WATER,\n",
    "    temp_in_k=temp_water_in,\n",
    "    mass_flow_kg_s=mass_flow_water,\n",
    "    is_in_tube=True\n",
    ")\n",
    "\n",
    "heat_exchanger = HeatExchangerEffectivenessNTU(\n",
    "    flow_type=FlowType.ShellAndTube,\n",
    "    flow1=air_flow,\n",
    "    flow2=water_flow,\n",
    "    u_h=convection.h,\n",
    "    area=heat_exchanger_area_per_bank * number_banks,\n",
    "    number_shell_passes=1\n",
    ")\n",
    "heat_exchanger.solve_temperature()\n",
    "print(f\"Temperature:\\n\"\n",
    "      f\"\\tAir in: {temp_air_in_summer - 273.15} degC\\n\"\n",
    "      f\"\\tAir out: {air_flow.temp_out - 273.15} degC\\n\"\n",
    "      f\"\\tWater in: {temp_water_in - 273.15} degC\\n\"\n",
    "      f\"\\tWater out: {water_flow.temp_out - 273.15} degC\\n\")\n",
    "print(f\"Rate of heat exchange is {heat_exchanger.heat_transfer_rate:.2f}W\")"
   ]
  },
  {
   "cell_type": "markdown",
   "metadata": {
    "pycharm": {
     "name": "#%% md\n"
    }
   },
   "source": [
    "4. Why are there discrepancies from the rate of heat exchange required between the two analysis\n",
    "2-a and 2-c? What can you say about using the heat exchange analysis for the medium that condenses\n",
    "or vaporizes during the heat exchange?\n",
    "\n",
    "The discrepancy comes from that the heat transfer from condensation of the water vapor is not\n",
    "considered in the heat exchanger analysis.\n"
   ]
  }
 ],
 "metadata": {
  "kernelspec": {
   "display_name": "Python 3",
   "language": "python",
   "name": "python3"
  },
  "language_info": {
   "codemirror_mode": {
    "name": "ipython",
    "version": 3
   },
   "file_extension": ".py",
   "mimetype": "text/x-python",
   "name": "python",
   "nbconvert_exporter": "python",
   "pygments_lexer": "ipython3",
   "version": "3.8.2"
  }
 },
 "nbformat": 4,
 "nbformat_minor": 1
}