{
 "cells": [
  {
   "cell_type": "markdown",
   "id": "4cd3d8ab-14e6-4ee5-9c66-a9aed92fa045",
   "metadata": {},
   "source": [
    "Name: Muhammad Omer Siddiqui\n",
    "\n",
    "StudentID = 553354"
   ]
  },
  {
   "cell_type": "markdown",
   "id": "d9d8f222-40a4-44d9-b3bc-7456a39c67eb",
   "metadata": {},
   "source": [
    "Simple Analysis Part 1"
   ]
  },
  {
   "cell_type": "code",
   "execution_count": 1,
   "id": "926c9c34-7a24-4bb6-ad21-f6ae3d52f70a",
   "metadata": {},
   "outputs": [
    {
     "name": "stdout",
     "output_type": "stream",
     "text": [
      "Temperature of saturated steam :  474.5283080151528\n",
      "Specific heat capacity of saturated steam :  3.0110180208232067\n",
      "Amount of heat added to raise the steam temperature is :  566.6962885043305\n"
     ]
    }
   ],
   "source": [
    "import iapws as steam\n",
    "temp_sup_steam = 600 #K\n",
    "steam_p = 1.6 #MPa\n",
    "m_steam = 1.5 #kg/s\n",
    "\n",
    "sat_steam = (steam.IAPWS97(P=steam_p, x=1))\n",
    "\n",
    "print('Temperature of saturated steam : ',sat_steam.T)\n",
    "print('Specific heat capacity of saturated steam : ',sat_steam.cp)\n",
    "temp_sat_steam =sat_steam.T\n",
    "cp_steam = sat_steam.cp\n",
    "\n",
    "#using the heat equation, we can find the heat required to raise the steam temperature from 474.5K to 600K\n",
    "Q_add = m_steam*cp_steam*(temp_sup_steam - temp_sat_steam)\n",
    "print('Amount of heat added to raise the steam temperature is : ',Q_add)"
   ]
  },
  {
   "cell_type": "markdown",
   "id": "7fbb5854-d0b4-43dc-b40e-c20f0fb0b68f",
   "metadata": {},
   "source": [
    "Simple Analysis Part 2"
   ]
  },
  {
   "cell_type": "code",
   "execution_count": null,
   "id": "fe60d8a6-1483-41db-8cb2-5820ecf51602",
   "metadata": {},
   "outputs": [],
   "source": [
    "from thermal_system_calculation import get_humid_air_state\n",
    "m_fresh_air =  0.01 #kg/s\n",
    "m_vap = 0.002 #kg/s\n",
    "temp_vap = 20 #C\n",
    "q_heater = 1 #kW\n",
    "\n",
    "fresh_air_state = get_humid_air_state(\n",
    "    pressure_pa=, temperature_k=, relative_humidity=)\n",
    "\n",
    "fresh_vap_state = get_humid_air_state(\n",
    "    pressure_pa=, temperature_k=, relative_humidity=)"
   ]
  },
  {
   "cell_type": "markdown",
   "id": "7a19c88c-4c4f-43a7-a1db-209a20e06195",
   "metadata": {},
   "source": [
    "Simple Analysis Part 4"
   ]
  },
  {
   "cell_type": "code",
   "execution_count": 2,
   "id": "742153e1-6a11-43cd-831e-f3a3ae5387ee",
   "metadata": {},
   "outputs": [
    {
     "name": "stdout",
     "output_type": "stream",
     "text": [
      "Heat transfer rate is 315762.83 W\n",
      "Outlet temperature of the cold side is is 54.89 degC\n"
     ]
    }
   ],
   "source": [
    "from thermal_system_calculation import FlowType, FlowHeatExchanger, Fluid, HeatExchangerLMTD\n",
    "\n",
    "U_overall = 150 #W/m2K\n",
    "\n",
    "# Flow in the tube\n",
    "flow_hot = FlowHeatExchanger(\n",
    " fluid=Fluid.WATER,\n",
    " temp_in_k=95 + 273.15,\n",
    " mass_flow_kg_s=1.5,\n",
    " temp_out_k=45 + 273.15,\n",
    " is_in_tube=True\n",
    ")\n",
    "# Flow in the shell\n",
    "flow_cold = FlowHeatExchanger(\n",
    " fluid=Fluid.WATER,\n",
    " temp_in_k=36 + 273.15,\n",
    " mass_flow_kg_s=4,\n",
    " is_in_tube=False\n",
    ")\n",
    "\n",
    "heat_exchanger = HeatExchangerLMTD(\n",
    " flow_type=FlowType.ShellAndTube,\n",
    " flow1=flow_hot,\n",
    " flow2=flow_cold,\n",
    " number_shells=1,\n",
    " number_tube_passes=2\n",
    ")\n",
    "\n",
    "heat_exchanger.solve_temperature()\n",
    "print(f\"Heat transfer rate is {heat_exchanger.heat_transfer_rate:.2f} W\")\n",
    "print(f\"Outlet temperature of the cold side is is {heat_exchanger.flow2.temp_out - 273.15:.2f} degC\")"
   ]
  },
  {
   "cell_type": "code",
   "execution_count": 3,
   "id": "0eacd0b4-a2c1-44bd-a8a7-aaa468662bf7",
   "metadata": {},
   "outputs": [],
   "source": [
    "#Since outlet temperature of cold side is  higher than outlet temperature of hot side, it is counter flow heat exchanger.\n",
    "heat_exchanger.is_parallel_flow = False\n"
   ]
  },
  {
   "cell_type": "code",
   "execution_count": 4,
   "id": "7543a956-f3ec-4f2d-ae16-10652c0d600f",
   "metadata": {},
   "outputs": [],
   "source": [
    "LMTD = heat_exchanger.logarithmic_mean_temperature_difference\n",
    "q = heat_exchanger.heat_transfer_rate"
   ]
  },
  {
   "cell_type": "code",
   "execution_count": 5,
   "id": "9bdc0304-4da7-4c71-bb03-a98abbf65dd9",
   "metadata": {},
   "outputs": [
    {
     "name": "stdout",
     "output_type": "stream",
     "text": [
      "The required area of heat exchange is 315762.83 m2\n"
     ]
    }
   ],
   "source": [
    "Area = q/(U_overall*LMTD)\n",
    "print(f\"The required area of heat exchange is {Area:.2f} m2\")"
   ]
  },
  {
   "cell_type": "code",
   "execution_count": null,
   "id": "dc6308d6-57d4-4afb-8ea8-2cf1b722a030",
   "metadata": {},
   "outputs": [],
   "source": []
  },
  {
   "cell_type": "code",
   "execution_count": null,
   "id": "d46e5c95-7e35-47af-a5ec-40eb6ffdaeee",
   "metadata": {},
   "outputs": [],
   "source": []
  }
 ],
 "metadata": {
  "kernelspec": {
   "display_name": "Python 3",
   "language": "python",
   "name": "python3"
  },
  "language_info": {
   "codemirror_mode": {
    "name": "ipython",
    "version": 3
   },
   "file_extension": ".py",
   "mimetype": "text/x-python",
   "name": "python",
   "nbconvert_exporter": "python",
   "pygments_lexer": "ipython3",
   "version": "3.8.2"
  }
 },
 "nbformat": 4,
 "nbformat_minor": 5
}