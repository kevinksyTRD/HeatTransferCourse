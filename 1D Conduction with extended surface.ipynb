{
 "cells": [
  {
   "cell_type": "code",
   "execution_count": 1,
   "metadata": {
    "slideshow": {
     "slide_type": "skip"
    }
   },
   "outputs": [],
   "source": [
    "import numpy as np\n",
    "import matplotlib.pyplot as plt"
   ]
  },
  {
   "cell_type": "markdown",
   "metadata": {
    "slideshow": {
     "slide_type": "slide"
    }
   },
   "source": [
    "## 1D Heat conduction for extruded surface example"
   ]
  },
  {
   "cell_type": "markdown",
   "metadata": {
    "slideshow": {
     "slide_type": "slide"
    }
   },
   "source": [
    "A very long rod 5mm in diameter has one end maintained at 100$^o$C. The surface of the rod is exposed to ambient air at 25<sup>o</sup>C with a convection heat transfer coefficient of 100 W/m$^2$K.\n",
    "\n",
    "* Determine the temperature distributions along rods constructed from pure copper, 2024 aluminum alloy, and type AISI 316 stainless steel. What are the corresponding heat losses from the rods?\n",
    "\n",
    "* Estimate how long the rods must be for the assumption of infinite length to yield an accurate estimate of the heat loss."
   ]
  },
  {
   "cell_type": "markdown",
   "metadata": {
    "slideshow": {
     "slide_type": "subslide"
    }
   },
   "source": [
    "# Main assumptions\n",
    "1. Steady state\n",
    "2. One dimensional conduction along the rod\n",
    "3. Constant properties ($k, h, \\rho$)\n",
    "4. Negligible radiation\n",
    "5. infinitely long rod"
   ]
  },
  {
   "cell_type": "code",
   "execution_count": 2,
   "metadata": {
    "slideshow": {
     "slide_type": "slide"
    }
   },
   "outputs": [],
   "source": [
    "## Given information\n",
    "# Main properties\n",
    "k_cu = 398 # in W/mK\n",
    "k_al = 180\n",
    "k_316 = 14\n",
    "h = 100\n",
    "\n",
    "# Temperature\n",
    "T_b = 100\n",
    "T_amb = 25\n",
    "\n",
    "# Geometry\n",
    "D = 0.005\n",
    "P = D * np.pi\n",
    "A_c = D**2 * np.pi / 4"
   ]
  },
  {
   "cell_type": "markdown",
   "metadata": {
    "slideshow": {
     "slide_type": "slide"
    }
   },
   "source": [
    "As $L\\rightarrow \\infty$, $T_L = T_\\infty$. Therefore, $q_L = 0$ and $\\frac{\\partial T}{\\partial x} |_{x=L} = 0$. Using these boundary conditions for the heat equation, the temperature profile can be found.\n",
    "\n",
    "$$ \\frac{\\theta}{\\theta_b} = e^{-mx}$$\n",
    "\n",
    "Where, $\\theta = T - T_\\infty$ and $m = \\sqrt{\\frac{h P} {k A_c}}$. In addition, the heat transfer at the fin is given as follows.\n",
    "\n",
    "$$ q = \\sqrt{h P k A_c} \\theta_b$$"
   ]
  },
  {
   "cell_type": "code",
   "execution_count": 3,
   "metadata": {
    "slideshow": {
     "slide_type": "subslide"
    }
   },
   "outputs": [],
   "source": [
    "def tempProfile(x, m, T_amb, T_b):\n",
    "    T = (T_b - T_amb) * np.exp(-m*x) + T_amb\n",
    "    return T"
   ]
  },
  {
   "cell_type": "code",
   "execution_count": 4,
   "metadata": {
    "slideshow": {
     "slide_type": "slide"
    }
   },
   "outputs": [
    {
     "name": "stdout",
     "output_type": "stream",
     "text": [
      "m_cu = 14.17762410016672\n",
      "m_al = 21.0818510677892\n",
      "m_316 = 75.59289460184544\n"
     ]
    }
   ],
   "source": [
    "# Calculate m for each material\n",
    "m_cu = np.sqrt(h*P / (k_cu*A_c))\n",
    "print('m_cu = {}'.format(m_cu))\n",
    "m_al = np.sqrt(h*P / (k_al*A_c))\n",
    "print('m_al = {}'.format(m_al))\n",
    "m_316 = np.sqrt(h*P / (k_316*A_c))\n",
    "print('m_316 = {}'.format(m_316))"
   ]
  },
  {
   "cell_type": "code",
   "execution_count": 5,
   "metadata": {
    "slideshow": {
     "slide_type": "slide"
    }
   },
   "outputs": [
    {
     "data": {
      "image/png": "[encoded data removed]",
      "text/plain": [
       "<matplotlib.figure.Figure at 0x86d1c6a550>"
      ]
     },
     "metadata": {},
     "output_type": "display_data"
    }
   ],
   "source": [
    "# Plot the temperature profile\n",
    "L = 0.3\n",
    "x = np.linspace(0,L,100)\n",
    "T_cu = tempProfile(x, m_cu, T_amb, T_b)\n",
    "T_al = tempProfile(x, m_al, T_amb, T_b)\n",
    "T_316 = tempProfile(x, m_316, T_amb, T_b)\n",
    "plt.plot(x, T_cu, 'r', x, T_al, 'b', x, T_316, 'g')\n",
    "plt.legend(['Cupper','Alum','316'])\n",
    "plt.xlabel('length (m)')\n",
    "plt.ylabel('Temperature')\n",
    "plt.show()\n"
   ]
  },
  {
   "cell_type": "code",
   "execution_count": 6,
   "metadata": {
    "slideshow": {
     "slide_type": "slide"
    }
   },
   "outputs": [
    {
     "name": "stdout",
     "output_type": "stream",
     "text": [
      "q_cu = 8.309553397471717 W\n",
      "q_al = 5.588205899510307 W\n",
      "q_316 = 1.5584761653873904 W\n"
     ]
    }
   ],
   "source": [
    "# Calculate the heat transfer\n",
    "def qFin(h, P, k, Ac, Tb, Tamb):\n",
    "    return np.sqrt(h * P * k * Ac)*(Tb - Tamb)\n",
    "q_cu = qFin(h, P, k_cu, A_c, T_b, T_amb)\n",
    "q_al = qFin(h, P, k_al, A_c, T_b, T_amb)\n",
    "q_316 = qFin(h, P, k_316, A_c, T_b, T_amb)\n",
    "print('q_cu = {} W'.format(q_cu))\n",
    "print('q_al = {} W'.format(q_al))\n",
    "print('q_316 = {} W'.format(q_316))"
   ]
  },
  {
   "cell_type": "markdown",
   "metadata": {
    "collapsed": true,
    "slideshow": {
     "slide_type": "slide"
    }
   },
   "source": [
    "Infinite long fin assumption is equivalent to Case 2 regardless of the sectional area or shape. Compare the heat loss in two cases,\n",
    "\n",
    "$$ q = \\sqrt{h P k A_c} \\theta_b \\tanh{mL}$$\n",
    "$$ q = \\sqrt{h P k A_c} \\theta_b $$\n",
    "\n",
    "The condition for the two value is equivalent is $\\tanh{mL} \\approx 1$. Say $\\tanh{mL} \\approx 0.99$. Then $mL=2.65$"
   ]
  },
  {
   "cell_type": "code",
   "execution_count": 7,
   "metadata": {
    "slideshow": {
     "slide_type": "slide"
    }
   },
   "outputs": [
    {
     "name": "stdout",
     "output_type": "stream",
     "text": [
      "L_cu_inf = 0.18691425173057294\n",
      "L_al_inf = 0.12570053699169306\n",
      "L_316_inf = 0.03505620487160582\n"
     ]
    }
   ],
   "source": [
    "L_cu_inf = 2.65 / m_cu\n",
    "L_al_inf = 2.65 / m_al\n",
    "L_316_inf = 2.65 / m_316\n",
    "\n",
    "print(\"L_cu_inf = {}\".format(L_cu_inf))\n",
    "print(\"L_al_inf = {}\".format(L_al_inf))\n",
    "print(\"L_316_inf = {}\".format(L_316_inf))"
   ]
  },
  {
   "cell_type": "code",
   "execution_count": null,
   "metadata": {},
   "outputs": [],
   "source": []
  }
 ],
 "metadata": {
  "celltoolbar": "Slideshow",
  "kernelspec": {
   "display_name": "Python [conda root]",
   "language": "python",
   "name": "conda-root-py"
  },
  "language_info": {
   "codemirror_mode": {
    "name": "ipython",
    "version": 3
   },
   "file_extension": ".py",
   "mimetype": "text/x-python",
   "name": "python",
   "nbconvert_exporter": "python",
   "pygments_lexer": "ipython3",
   "version": "3.5.4"
  }
 },
 "nbformat": 4,
 "nbformat_minor": 2
}
