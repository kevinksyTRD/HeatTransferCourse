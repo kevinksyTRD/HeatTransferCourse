{
 "cells": [
  {
   "cell_type": "markdown",
   "metadata": {
    "pycharm": {
     "name": "#%% md\n"
    }
   },
   "source": [
    "# TMR4222 Thermal System Exercise 2"
   ]
  },
  {
   "cell_type": "markdown",
   "metadata": {
    "pycharm": {
     "name": "#%% md\n"
    }
   },
   "source": [
    "## Problem 1\n",
    "A pipe made of steel with an inner diameter of 50 mm and with a wall thickness of 5 mm is\n",
    "transferring water of 83 <sup>o</sup>C. The pipe is insulated with a 2 cm pipe insulation material\n",
    "with a  thermal conductivity of 0.082 W/mK.  The average water flow speed is 2.5 m/s.\n",
    "Outer room temperature is assumed to be 20 ºC. The thermal contact resistance between the steel\n",
    "and the insulation can be assumed to be approximately 0.0001 m<sup>2</sup>K/W.\n",
    "\n",
    "Assuming that the wall temperature both inside and outside of the pipe are equal to the water and\n",
    " room temperature, i.e. no convection effects."
   ]
  },
  {
   "cell_type": "markdown",
   "metadata": {
    "pycharm": {
     "name": "#%% md\n"
    }
   },
   "source": [
    "### Create a function that returns thermal resistance of a cylinder for the following inputs:\n",
    "    - radius\n",
    "    - wall_thickness\n",
    "    - thermal_conductivity\n",
    "    - length\n",
    "\n",
    "The function name should be `get_thermal_resistance_cylinder`. Please see the `thermal_system_calculation.py` file for the detailed guidance.\n",
    "\n",
    "Use the following code to test your function."
   ]
  },
  {
   "cell_type": "code",
   "execution_count": 1,
   "metadata": {},
   "outputs": [],
   "source": [
    "import numpy as np\n",
    "\n",
    "from thermal_system_calculation import get_thermal_resistance_cylinder, FinConfiguration\n",
    "\n",
    "radius = 0.07\n",
    "wall_thickness = 0.01\n",
    "thermal_conductivity = 130\n",
    "length = 1\n",
    "\n",
    "answer = 0.000163478\n",
    "value_to_test = get_thermal_resistance_cylinder(\n",
    "    radius=radius,\n",
    "    wall_thickness=wall_thickness,\n",
    "    thermal_conductivity=thermal_conductivity,\n",
    "    length=length\n",
    ")\n",
    "assert np.isclose(answer, value_to_test), f\"Your value {value_to_test:.5e} is not close to the answer, {answer:.5e}\""
   ]
  },
  {
   "cell_type": "markdown",
   "metadata": {},
   "source": [
    "### What is the heat loss pr meter for the pipe without insulation?"
   ]
  },
  {
   "cell_type": "markdown",
   "metadata": {},
   "source": [
    "#### Known"
   ]
  },
  {
   "cell_type": "code",
   "execution_count": 2,
   "metadata": {
    "collapsed": false,
    "jupyter": {
     "outputs_hidden": false
    },
    "pycharm": {
     "name": "#%%\n"
    }
   },
   "outputs": [],
   "source": [
    "# Known\n",
    "inner_diameter = 0.05 # m\n",
    "wall_thickness = 0.005 # m\n",
    "temperature_water = 83 # degC\n",
    "temperature_room = 20 # degC"
   ]
  },
  {
   "cell_type": "markdown",
   "metadata": {},
   "source": [
    "#### Find"
   ]
  },
  {
   "cell_type": "code",
   "execution_count": 3,
   "metadata": {
    "collapsed": false,
    "jupyter": {
     "outputs_hidden": false
    },
    "pycharm": {
     "name": "#%%\n"
    }
   },
   "outputs": [],
   "source": [
    "heat_loss_per_meter_bare = None"
   ]
  },
  {
   "cell_type": "markdown",
   "metadata": {
    "pycharm": {
     "name": "#%% md\n"
    }
   },
   "source": [
    "#### Schematic\n",
    "![Pipe Wall Heat Transfer](pipe_wall_heat_transfer.svg)"
   ]
  },
  {
   "cell_type": "markdown",
   "metadata": {
    "pycharm": {
     "name": "#%% md\n"
    }
   },
   "source": [
    "### Assumptions\n",
    "1. No convection is considered. The temperature of the inner wall is equal to the temperature of\n",
    "water and the temperature of the outer wall is equal to the room temperature.\n",
    "2. Steady state\n",
    "3. Material property of the steel is homogeneous and constant"
   ]
  },
  {
   "cell_type": "markdown",
   "metadata": {},
   "source": [
    "#### Properties"
   ]
  },
  {
   "cell_type": "code",
   "execution_count": 4,
   "metadata": {
    "collapsed": false,
    "jupyter": {
     "outputs_hidden": false
    },
    "pycharm": {
     "name": "#%%\n"
    }
   },
   "outputs": [],
   "source": [
    "thermal_conductivity_steel = 15 # W/mK"
   ]
  },
  {
   "cell_type": "markdown",
   "metadata": {},
   "source": [
    "#### Analysis\n",
    "We can use the equation for the thermal resistance for a cylinder to calculate the heat loss. \n",
    "\n",
    "$$R_\\mathrm{cond} = \\frac{\\ln(r_3/r_2)}{2 \\pi L k}$$"
   ]
  },
  {
   "cell_type": "code",
   "execution_count": 5,
   "metadata": {
    "collapsed": false,
    "jupyter": {
     "outputs_hidden": false
    },
    "pycharm": {
     "name": "#%%\n"
    }
   },
   "outputs": [
    {
     "name": "stdout",
     "output_type": "stream",
     "text": [
      "Pipe loses 32566.69W/m to the room.\n"
     ]
    }
   ],
   "source": [
    "inner_radius_pipe = inner_diameter / 2\n",
    "\n",
    "thermal_resistance_pipe_per_meter = get_thermal_resistance_cylinder(\n",
    "    radius=inner_radius_pipe,\n",
    "    wall_thickness=wall_thickness,\n",
    "    thermal_conductivity=thermal_conductivity_steel,\n",
    "    length=1\n",
    ")\n",
    "temperature_diff = temperature_water - temperature_room\n",
    "heat_loss_per_meter_bare = 1 / thermal_resistance_pipe_per_meter * temperature_diff\n",
    "\n",
    "print(f\"Pipe loses {heat_loss_per_meter_bare:.2f}W/m to the room.\")"
   ]
  },
  {
   "cell_type": "markdown",
   "metadata": {
    "pycharm": {
     "name": "#%% md\n"
    }
   },
   "source": [
    "### What is the heat loss pr meter for the pipe with insulation not considering the contact\n",
    "resistance?"
   ]
  },
  {
   "cell_type": "code",
   "execution_count": 6,
   "metadata": {},
   "outputs": [],
   "source": [
    "#### Known"
   ]
  },
  {
   "cell_type": "code",
   "execution_count": 7,
   "metadata": {
    "collapsed": false,
    "jupyter": {
     "outputs_hidden": false
    },
    "pycharm": {
     "name": "#%%\n"
    }
   },
   "outputs": [],
   "source": [
    "insulation_thickness = 0.02 # m"
   ]
  },
  {
   "cell_type": "code",
   "execution_count": 8,
   "metadata": {},
   "outputs": [],
   "source": [
    "#### Find"
   ]
  },
  {
   "cell_type": "code",
   "execution_count": 9,
   "metadata": {
    "collapsed": false,
    "jupyter": {
     "outputs_hidden": false
    },
    "pycharm": {
     "name": "#%%\n"
    }
   },
   "outputs": [],
   "source": [
    "heat_loss_per_meter_insulated = None"
   ]
  },
  {
   "cell_type": "markdown",
   "metadata": {},
   "source": [
    "#### Schematic\n",
    "![pipe insulation heat transfer](pipe_insulation_heat_transfer.svg)"
   ]
  },
  {
   "cell_type": "markdown",
   "metadata": {},
   "source": [
    "#### Assumptions\n",
    "1. No convection is considered. The temperature of the inner wall is equal to the temperature of\n",
    "water and the temperature of the outer wall is equal to the room temperature.\n",
    "2. Steady state\n",
    "3. Material property of steel is homogeneous and constant\n",
    "4. No thermal resistance between the pipe wall and the insulation"
   ]
  },
  {
   "cell_type": "markdown",
   "metadata": {},
   "source": [
    "#### Properties"
   ]
  },
  {
   "cell_type": "code",
   "execution_count": 10,
   "metadata": {},
   "outputs": [],
   "source": [
    "thermal_conductivity_insulation = 0.082 # W/mK"
   ]
  },
  {
   "cell_type": "markdown",
   "metadata": {},
   "source": [
    "#### Analysis"
   ]
  },
  {
   "cell_type": "code",
   "execution_count": 11,
   "metadata": {},
   "outputs": [
    {
     "name": "stdout",
     "output_type": "stream",
     "text": [
      "Heat loss with insulation without contact resistance is 136.735 W/m.\n"
     ]
    }
   ],
   "source": [
    "# First calculate the thermal resistance of the insulation\n",
    "outer_radius_pipe = radius + wall_thickness\n",
    "outer_radius_insulation = outer_radius_pipe + insulation_thickness\n",
    "thermal_resistance_insulation_per_meter = get_thermal_resistance_cylinder(\n",
    "    radius=outer_radius_pipe,\n",
    "    wall_thickness=insulation_thickness,\n",
    "    thermal_conductivity=thermal_conductivity_insulation,\n",
    "    length=1\n",
    ")\n",
    "\n",
    "# Then, calculate the heat loss considering total heat resistance\n",
    "total_resistance_per_meter = thermal_resistance_pipe_per_meter + thermal_resistance_insulation_per_meter\n",
    "heat_loss_insulation_no_contact_resistance = 1 / (total_resistance_per_meter) * temperature_diff\n",
    "\n",
    "print(f\"Heat loss with insulation without contact resistance is {heat_loss_insulation_no_contact_resistance:.3f} W/m.\")"
   ]
  },
  {
   "cell_type": "markdown",
   "metadata": {
    "pycharm": {
     "name": "#%% md\n"
    }
   },
   "source": [
    "### Calculate the the heat loss when the contact resistance considered."
   ]
  },
  {
   "cell_type": "markdown",
   "metadata": {},
   "source": [
    "#### Find"
   ]
  },
  {
   "cell_type": "code",
   "execution_count": 12,
   "metadata": {
    "collapsed": false,
    "jupyter": {
     "outputs_hidden": false
    },
    "pycharm": {
     "name": "#%%\n"
    }
   },
   "outputs": [],
   "source": [
    "heat_loss_insulation_contact_resistance_per_meter = None"
   ]
  },
  {
   "cell_type": "markdown",
   "metadata": {
    "pycharm": {
     "name": "#%% md\n"
    }
   },
   "source": [
    "#### Schematic\n",
    "![pipe insulation heat transfer](pipe_insulation_contact_resistance_heat_transfer.svg)"
   ]
  },
  {
   "cell_type": "markdown",
   "metadata": {
    "pycharm": {
     "name": "#%% md\n"
    }
   },
   "source": [
    "#### Assumpation\n",
    "Same as above"
   ]
  },
  {
   "cell_type": "markdown",
   "metadata": {},
   "source": [
    "#### Properties"
   ]
  },
  {
   "cell_type": "code",
   "execution_count": 13,
   "metadata": {
    "collapsed": false,
    "jupyter": {
     "outputs_hidden": false
    },
    "pycharm": {
     "name": "#%% Properties\n"
    }
   },
   "outputs": [],
   "source": [
    "thermal_resistance_contact_per_area = 10**-4 # m2K/K"
   ]
  },
  {
   "cell_type": "markdown",
   "metadata": {},
   "source": [
    "#### Analysis"
   ]
  },
  {
   "cell_type": "code",
   "execution_count": 14,
   "metadata": {
    "collapsed": false,
    "jupyter": {
     "outputs_hidden": false
    },
    "pycharm": {
     "name": "#%% Analysis\n"
    }
   },
   "outputs": [
    {
     "name": "stdout",
     "output_type": "stream",
     "text": [
      "Heat loss with insulation and contact thermal resistance is 136.721\n"
     ]
    }
   ],
   "source": [
    "# First calculate the total thermal resistance\n",
    "import numpy as np\n",
    "thermal_resistance_contact_per_meter = thermal_resistance_contact_per_area * 2 * np.pi * outer_radius_pipe\n",
    "total_resistance_per_meter = thermal_resistance_pipe_per_meter + \\\n",
    "                             thermal_resistance_contact_per_meter + \\\n",
    "                             thermal_resistance_insulation_per_meter\n",
    "\n",
    "# Calculate heat loss\n",
    "heat_loss_insulation_contact_resistance_per_meter = 1 / total_resistance_per_meter * temperature_diff\n",
    "\n",
    "print(f\"Heat loss with insulation and contact thermal resistance is \"\n",
    "      f\"{heat_loss_insulation_contact_resistance_per_meter:.3f}\")"
   ]
  },
  {
   "cell_type": "markdown",
   "metadata": {
    "pycharm": {
     "name": "#%% md\n"
    }
   },
   "source": [
    "We see that the thermal resistance for the contact does not change the heat loss. We can often neglect the part of the heat circuit which has very low thermal resistance. "
   ]
  },
  {
   "cell_type": "markdown",
   "metadata": {
    "pycharm": {
     "name": "#%% md\n"
    }
   },
   "source": [
    "## Problem 2 Heat transfer from extended surface"
   ]
  },
  {
   "cell_type": "markdown",
   "metadata": {
    "pycharm": {
     "name": "#%% md\n"
    }
   },
   "source": [
    "### Implement a function for the extended surface.\n",
    "Create a function called `get_heat_transfer_1D_fin_with_uniform_cross_section` , in `thermal_system_calculation.py` that returns a tuple of `(heat_transfer_rate, temperature)` for given x and given boundary conditions as follows.\n",
    "\n",
    "|Case|Tip Condition (x=L)|Temperature Distribution $\\theta/\\theta_b$|Fin Heat Transfer Rate $q_f$|\n",
    "|----|-------------------|------------------------------------------|--------------------------|\n",
    "|A   |Convection heat transfer| $\\frac{\\cosh m(L-x) + (h/mk)\\sinh m(L-x)}{\\cosh mL + (h/mk)\\sinh\n",
    " mL}$ | $M \\frac{\\sinh mL + (h/mk)\\cosh mL}{\\cosh mL + (h/mk)\\sinh mL}$|\n",
    "|B   |Adiabatic          |$\\frac{\\cosh m(L-x)}{\\cosh mL}$|$M \\tanh mL$|\n",
    "|C   |Prescrubed temperature|$\\frac{(\\theta_L / \\theta_b)\\sinh mx + \\sinh m(L-x)}{\\sinh mL}$| $M\\frac{\\cosh mL - \\theta_L / \\theta_b}{\\sinh mL}$|\n",
    "|D   |Infinite fin ($L \\rightarrow \\infty$)|$e^{-mx}$|$M$|\n",
    "\n",
    "The arguments should be\n",
    "- `x`: length along the axis [m],\n",
    "- `temp_base`: temperature at the base of the fin [K],\n",
    "- `temp_surr`: surrounding temperature [K],\n",
    "- `fin_configuration`: an instance of FinConfiguration containing members of `perimeter`,\n",
    "`area_cross_section` and `length`\n",
    "- `h`: convection heat transfer coefficient [W/m<sup>2</sup>K],\n",
    "- `k`: thermal conductivity of the materials [W/mK],\n",
    "- `boundary_condition`: kind of boundary condition to apply. See `TipBoundaryConditionForFin`\n",
    "  class in `thermal_system_calculation.py` given.\n",
    "- `temp_tip`: (Optional) tempeature at tip [K]. Only required when the boundary condition is\n",
    "  `boundary_condition == TipBoundaryConditionForFin.Temperature`\n",
    "\n",
    "For more details, please see the given `thermal_system_calculation.py` for the guidance.\n",
    "\n",
    "Use the following code to test your function."
   ]
  },
  {
   "cell_type": "code",
   "execution_count": 15,
   "metadata": {},
   "outputs": [
    {
     "name": "stdout",
     "output_type": "stream",
     "text": [
      "(30.209468920245385, 477.70643342160207)\n",
      "(28.558369239653548, 479.25037344351244)\n",
      "(66.32908240563623, 443.9310548108814)\n",
      "(52.58136552049595, 456.78651748122303)\n"
     ]
    }
   ],
   "source": [
    "from thermal_system_calculation import TipBoundaryConditionForFin, get_heat_transfer_1D_fin_with_uniform_cross_section\n",
    "\n",
    "parameters = {\n",
    "    'x': 0.02,\n",
    "    'temp_base': 500,\n",
    "    'temp_surr': 300,\n",
    "    'fin_configuration': FinConfiguration(perimeter=0.032, area_cross_section=0.00012,\n",
    "                                          length=0.05),\n",
    "    'h': 100,\n",
    "    'k': 180,\n",
    "}\n",
    "temp_tip = 375\n",
    "\n",
    "answers = [(30.2095, 477.706), (28.5584, 479.250), (66.3291, 443.931), (52.5814, 456.787)]\n",
    "\n",
    "for boundary_condition, answer_pair in zip(TipBoundaryConditionForFin, answers):\n",
    "    parameters['boundary_condition'] = boundary_condition\n",
    "    if boundary_condition == TipBoundaryConditionForFin.Temperature:\n",
    "        parameters['temp_tip'] = temp_tip\n",
    "    value_pair_to_test = get_heat_transfer_1D_fin_with_uniform_cross_section(**parameters)\n",
    "    print(value_pair_to_test)\n",
    "    for value, answer in zip(value_pair_to_test, answer_pair):\n",
    "        assert np.isclose(value, answer), \\\n",
    "        f\"Your value {value:.5e} for {boundary_condition} is not close to the answer, {answer:.5e}\""
   ]
  },
  {
   "cell_type": "markdown",
   "metadata": {},
   "source": [
    "### Get the temperature distribution\n",
    "Create a plot of temperature distribution for the each boundary condition as follows:"
   ]
  },
  {
   "cell_type": "code",
   "execution_count": 16,
   "metadata": {},
   "outputs": [
    {
     "data": {
      "text/plain": [
       "<matplotlib.legend.Legend at 0x7fbe6911c460>"
      ]
     },
     "execution_count": 16,
     "metadata": {},
     "output_type": "execute_result"
    },
    {
     "data": {
      "image/png": "[encoded data removed]",
      "text/plain": [
       "<Figure size 576x432 with 1 Axes>"
      ]
     },
     "metadata": {
      "needs_background": "light"
     },
     "output_type": "display_data"
    }
   ],
   "source": [
    "import matplotlib.pyplot as plt\n",
    "\n",
    "# We will plot for 0 <= x <= legnth\n",
    "x = np.linspace(0, parameters['fin_configuration'].length, 101)\n",
    "parameters['x'] = x\n",
    "\n",
    "fig, ax = plt.subplots(figsize=(8, 6))\n",
    "for boundary_condition in TipBoundaryConditionForFin:\n",
    "    parameters['boundary_condition'] = boundary_condition\n",
    "    if boundary_condition == TipBoundaryConditionForFin.Temperature:\n",
    "        parameters['temp_tip'] = temp_tip\n",
    "    heat_transfer_rate, temperature_vector = get_heat_transfer_1D_fin_with_uniform_cross_section(**parameters)\n",
    "    ax.plot(x, temperature_vector, label=boundary_condition.name)\n",
    "ax.set_xlabel('x [mm]')\n",
    "ax.set_ylabel('Temeprature[K]')\n",
    "ax.legend()\n",
    "    "
   ]
  },
  {
   "cell_type": "markdown",
   "metadata": {},
   "source": [
    "### Boundary condition\n",
    "Which boundary condition is most sensible to use? Evaluate each boundary condition and discuss\n",
    " when it is proper to use it.\n",
    "\n",
    "It is always safe to use the boundary condition with heat convection at the tip. Adiabatic\n",
    "assumption is quite close to the case B, so it is OK to use it if the accuracy is not of major\n",
    "concern. Case C should be only used if the temperature at the tip is specifically given. Case D\n",
    "should be only used when the length is really long. This has be verified with the value of $\\tanh mL$"
   ]
  },
  {
   "cell_type": "markdown",
   "metadata": {},
   "source": [
    "## Problem 4\n",
    "In this exercise, we will create a python class to get the thermodynamic property of fluid. We will use an open-source library for the thermodynamic properties, called [CoolProp](http://www.coolprop.org), and create a class for the high-level interface. \n",
    "\n",
    "First make sure that you have installed coolprop package for python. You can do that by\n",
    "```commandline\n",
    "pip install coolprop\n",
    "```\n",
    "\n",
    "Your mission is to implement `FluidState` class in `thermal_system_calculation.py`. The basic template is given in the module. The `FluidState` class will have attributes of\n",
    "- fluid: the name of the fluid given by the Fluid enum class\n",
    "- pressure_pa: the pressure of the fluid in Pa\n",
    "- temp_k: the temperature of the fluid in K\n",
    "- characteristic_length: Characteristic length of the flow condition\n",
    "\n",
    "From the class instance, you will be able to access\n",
    "- k: the thermal conductivity of the fluid\n",
    "- dynamic_viscosity\n",
    "- density\n",
    "- cp: the specific heat capacity at constant pressure\n",
    "\n",
    "You will need to implement\n",
    "- property for Prantdl number. See `prantdl_number` getter function\n",
    "- method for getting Nusselt number with an input of convection thermal conductivity, h. See `get_nusselt_number` method.\n",
    "- method for getting h from Nusselts number. See `get_h_from_nusselt_numberz` method\n",
    "- method for getting Reynolds number with an input of fluid velocity. See `get_reynolds_number` method\n",
    "\n",
    "At the end of the exercise, you will have created your own high-level interface for the fluid thermodynamic property library with additional"
   ]
  },
  {
   "cell_type": "markdown",
   "metadata": {},
   "source": [
    "## Probelm 5\n",
    "In this exercise, will will build a calculation libraries for forced convection for "
   ]
  },
  {
   "cell_type": "markdown",
   "metadata": {},
   "source": [
    "### Forced Convection over flat plate at isothermal conditions\n",
    "First we will implement a class for the forced convection over flat plate at isothermal condition. The template for the class is found with the class name, `ForcedConvectionFlatPlateIsothermSurface`. Note that this class inherits the abstract class `ForcedConvection` and `Convection` which are inherited by other forced convection classes. You should study these abstract class especially the constructor method, `__init__` to see how an instance is initialized. \n",
    "\n",
    "For `Convection` class, you should implement `h` property method which calculates the convection coefficient from the Nusselt number. Note that Nusselt number is not implemented in this class but those classes that inherits this class. You need to also implement `get_heat_transfer_rate` method. \n",
    "\n",
    "For `ForcedConvectionFlatPlateIsothermSurface`, you should implement the properties, `critical_length`, `critical_lenth_ratio` and `nusselt_number`. For `nusselt_number`, you should calculate the value depending on its flow boundary layer conditions. "
   ]
  },
  {
   "cell_type": "markdown",
   "metadata": {},
   "source": [
    "### Convection for cross-flow for cylinder / non-cylindrical object\n",
    "Template for `ForcedConvectionCylinderCrossFlow` is given. You should implement the property, `nusselt_number` for the class.\n",
    "\n",
    "For circular cylinder in a cross-flow, we can use Churchill and Bernstein's equation. \n",
    "$$Nu_L = 0.3 + \\frac{0.62Re_D^0.5 Pr^{1/3}}{\\left[1 + 0.4 / Pr)^{2/3}\\right]^0.25}\n",
    "        \\left[1 + \\left(\\frac{Re_D}{282000}\\right)^{5/8}\\right]^{4/5}\n",
    "$$\n",
    "Make sure that the code gives a warning for the invalid conditions. \n",
    "\n",
    "For the non-circular cylinder, we will implement the empirical formula for\n",
    "`ForcedConvectionNonCircularCylinderCrossFlow`,\n",
    "$$\\overline{Nu}_D = C Re_D^m Pr^{1/3}$$\n",
    "where $C$ and $m$ are given as follows:\n",
    "![Constants for equation](constants_for_non_circular_cylinder.png)\n",
    "\n",
    "Note that the constructor for this class requires an argument `geometry` which is of\n",
    "`NonCircularCylinderGeometry` enum class type. You should use this attribute to distinguish\n",
    "between the shapes."
   ]
  },
  {
   "cell_type": "markdown",
   "metadata": {},
   "source": [
    "### Convection for banks of tubes\n",
    "Template for `ForcedConvectionTubeBanksCrossFlow` is given in the `thermal_system_calculation.py`\n",
    ". You should implement `nusselt_number` property. For this class, an additional required argument\n",
    " for the constructor is passed, `configuration` which is of class type, `TubeBankConfiguration`\n",
    " which has been implemented in the code. Note that you should implement the method\n",
    " `get_maximum_velocity`. You should inspect this class to understand which arguments are passed.\n",
    "\n",
    "For the calculation of `nusselt_number`, we will use the correlation by Zukauskas.\n",
    "$$\n",
    "\\overline{Nu}_D = C_1 C_2 Re_{D, mathrm{max}}^m Pr^0.36 \\frac{Pr}{Pr_s}^{1/4}\n",
    "$$\n",
    "\n",
    "$C_1$ and $m$ are given as follows:\n",
    "![constants for flow accorss banks of tubes](constants_tube_bank.png)\n",
    "\n",
    "In addition, we need the following additional properties implemented.\n",
    "- `C_2`: `correction_factor`, See the table below.\n",
    "- `Re_{D,\\mathrm{max}}`: `reynolds_number`, We need to calculate the maximum velocity first. The\n",
    "maximum velocity should be implemented in the `TubeBankConfiguration` class.\n",
    "- `Pr_s`: `prantdl_number_surface`, Prandtl number at the surface temperature.\n",
    "![correction factor for flow accorss banks of tubes](correction_factor_tube_bank.png)\n",
    "\n",
    "Finally, you should override `get_heat_transfer_rate` method because you have to use the logarithmic\n",
    "mean temperature for the temperature difference. You will have to implement the properties\n",
    "`log_mean_temperature_difference` and `temp_out` also."
   ]
  },
  {
   "cell_type": "code",
   "execution_count": null,
   "metadata": {},
   "outputs": [],
   "source": []
  }
 ],
 "metadata": {
  "kernelspec": {
   "display_name": "Python 3",
   "language": "python",
   "name": "python3"
  },
  "language_info": {
   "codemirror_mode": {
    "name": "ipython",
    "version": 3
   },
   "file_extension": ".py",
   "mimetype": "text/x-python",
   "name": "python",
   "nbconvert_exporter": "python",
   "pygments_lexer": "ipython3",
   "version": "3.8.10"
  }
 },
 "nbformat": 4,
 "nbformat_minor": 4
}
