{
 "cells": [
  {
   "cell_type": "markdown",
   "metadata": {
    "pycharm": {
     "name": "#%% md\n"
    }
   },
   "source": [
    "# TMR4222 Thermal System Exercise 2"
   ]
  },
  {
   "cell_type": "markdown",
   "metadata": {
    "pycharm": {
     "name": "#%% md\n"
    }
   },
   "source": [
    "## Problem 1\n",
    "A pipe made of steel with an inner diameter of 50 mm and with a wall thickness of 5 mm is\n",
    "transferring water of 83 <sup>o</sup>C. The pipe is insulated with a 2 cm pipe insulation material\n",
    "with a  thermal conductivity of 0.082 W/mK.  The average water flow speed is 2.5 m/s.\n",
    "Outer room temperature is assumed to be 20 ºC. The thermal contact resistance between the steel\n",
    "and the insulation can be assumed to be approximately 0.0001 m<sup>2</sup>K/W.\n",
    "\n",
    "Assuming that the wall temperature both inside and outside of the pipe are equal to the water and\n",
    " room temperature, i.e. no convection effects.\n",
    "\n",
    "Find:\n",
    "\n",
    "1. What is the heat loss pr meter for the pipe without insulation?"
   ]
  },
  {
   "cell_type": "code",
   "execution_count": null,
   "metadata": {
    "collapsed": false,
    "jupyter": {
     "outputs_hidden": false
    },
    "pycharm": {
     "name": "#%%\n"
    }
   },
   "outputs": [],
   "source": [
    "# Known\n",
    "inner_diameter = 0.05 # m\n",
    "wall_thickness = 0.005 # m\n",
    "temperature_water = 83 # degC\n",
    "temperature_room = 20 # degC"
   ]
  },
  {
   "cell_type": "code",
   "execution_count": null,
   "metadata": {
    "collapsed": false,
    "jupyter": {
     "outputs_hidden": false
    },
    "pycharm": {
     "name": "#%%\n"
    }
   },
   "outputs": [],
   "source": [
    "# Find\n",
    "heat_loss_per_meter_bare = None"
   ]
  },
  {
   "cell_type": "markdown",
   "metadata": {
    "pycharm": {
     "name": "#%% md\n"
    }
   },
   "source": [
    "### Schematic\n",
    "![Pipe Wall Heat Transfer](pipe_wall_heat_transfer.svg)"
   ]
  },
  {
   "cell_type": "markdown",
   "metadata": {
    "pycharm": {
     "name": "#%% md\n"
    }
   },
   "source": [
    "### Assumptions\n",
    "1. No convection is considered. The temperature of the inner wall is equal to the temperature of\n",
    "water and the temperature of the outer wall is equal to the room temperature.\n",
    "2. Steady state\n",
    "3. Material property of the steel is homogeneous and constant"
   ]
  },
  {
   "cell_type": "code",
   "execution_count": null,
   "metadata": {
    "collapsed": false,
    "jupyter": {
     "outputs_hidden": false
    },
    "pycharm": {
     "name": "#%%\n"
    }
   },
   "outputs": [],
   "source": [
    "# Properties\n",
    "thermal_conductivity_steel = 15 # W/mK"
   ]
  },
  {
   "cell_type": "markdown",
   "metadata": {},
   "source": [
    "### Analysis\n",
    "We can use the equation for the thermal resistance for a cylinder to calculate the heat loss. \n",
    "$$R_\\mathrm{cond} = \\frac{\\ln(r_3/r_2)}{2 \\pi L k}$$"
   ]
  },
  {
   "cell_type": "code",
   "execution_count": null,
   "metadata": {
    "collapsed": false,
    "jupyter": {
     "outputs_hidden": false
    },
    "pycharm": {
     "name": "#%%\n"
    }
   },
   "outputs": [],
   "source": [
    "# Analysis\n",
    "from thermal_system_calculation import get_thermal_resistance_cylinder\n",
    "\n",
    "inner_radius = inner_diameter / 2\n",
    "outer_radius = inner_radius + wall_thickness\n",
    "\n",
    "thermal_resistance_pipe_per_meter = get_thermal_resistance_cylinder(\n",
    "    inner_radius=inner_radius,\n",
    "    outer_radius=outer_radius,\n",
    "    thermal_conductivity=thermal_conductivity_steel,\n",
    "    cylinder_height=1\n",
    ")\n",
    "\n",
    "heat_loss_per_meter_bare = 1 / thermal_resistance_pipe_per_meter * \\\n",
    "                                (temperature_room - temperature_water)\n",
    "\n",
    "print(f\"Pipe loses {heat_loss_per_meter_bare:.2f}W/m to the room.\")"
   ]
  },
  {
   "cell_type": "markdown",
   "metadata": {
    "pycharm": {
     "name": "#%% md\n"
    }
   },
   "source": [
    "2. What is the heat loss pr meter for the pipe with insulation not considering the contact\n",
    "resistance?"
   ]
  },
  {
   "cell_type": "code",
   "execution_count": 1,
   "metadata": {
    "collapsed": false,
    "jupyter": {
     "outputs_hidden": false
    },
    "pycharm": {
     "name": "#%%\n"
    }
   },
   "outputs": [],
   "source": [
    "#Known\n",
    "insulation_thickness = 0.02 # m\n",
    "\n",
    "#Find\n",
    "heat_loss_per_meter_insulated = None\n"
   ]
  },
  {
   "cell_type": "markdown",
   "metadata": {},
   "source": [
    "###Schematic\n",
    "![Pipe insulation heat transfer](pipe_insulation_heat_transfer.svg)"
   ]
  },
  {
   "cell_type": "code",
   "execution_count": null,
   "metadata": {},
   "outputs": [],
   "source": []
  }
 ],
 "metadata": {
  "kernelspec": {
   "display_name": "Python 3",
   "language": "python",
   "name": "python3"
  },
  "language_info": {
   "codemirror_mode": {
    "name": "ipython",
    "version": 3
   },
   "file_extension": ".py",
   "mimetype": "text/x-python",
   "name": "python",
   "nbconvert_exporter": "python",
   "pygments_lexer": "ipython3",
   "version": "3.8.2"
  }
 },
 "nbformat": 4,
 "nbformat_minor": 4
}
