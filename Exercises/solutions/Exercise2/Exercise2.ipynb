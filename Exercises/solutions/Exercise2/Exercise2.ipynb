{
 "cells": [
  {
   "cell_type": "markdown",
   "metadata": {
    "pycharm": {
     "name": "#%% md\n"
    }
   },
   "source": [
    "# TMR4222 Thermal System Exercise 2"
   ]
  },
  {
   "cell_type": "markdown",
   "metadata": {
    "pycharm": {
     "name": "#%% md\n"
    }
   },
   "source": [
    "## Problem 1\n",
    "A pipe made of steel with an inner diameter of 50 mm and with a wall thickness of 5 mm is\n",
    "transferring water of 83 <sup>o</sup>C. The pipe is insulated with a 2 cm pipe insulation material\n",
    "with a  thermal conductivity of 0.082 W/mK.  The average water flow speed is 2.5 m/s.\n",
    "Outer room temperature is assumed to be 20 ºC. The thermal contact resistance between the steel\n",
    "and the insulation can be assumed to be approximately 0.0001 m<sup>2</sup>K/W.\n",
    "\n",
    "Assuming that the wall temperature both inside and outside of the pipe are equal to the water and\n",
    " room temperature, i.e. no convection effects.\n",
    "\n",
    "Find:\n",
    "\n",
    "1. What is the heat loss pr meter for the pipe without insulation?"
   ]
  },
  {
   "cell_type": "code",
   "execution_count": 1,
   "metadata": {
    "collapsed": false,
    "jupyter": {
     "outputs_hidden": false
    },
    "pycharm": {
     "name": "#%%\n"
    }
   },
   "outputs": [],
   "source": [
    "# Known\n",
    "inner_diameter = 0.05 # m\n",
    "wall_thickness = 0.005 # m\n",
    "temperature_water = 83 # degC\n",
    "temperature_room = 20 # degC"
   ]
  },
  {
   "cell_type": "code",
   "execution_count": 2,
   "metadata": {
    "collapsed": false,
    "jupyter": {
     "outputs_hidden": false
    },
    "pycharm": {
     "name": "#%%\n"
    }
   },
   "outputs": [],
   "source": [
    "# Find\n",
    "heat_loss_per_meter_bare = None"
   ]
  },
  {
   "cell_type": "markdown",
   "metadata": {
    "pycharm": {
     "name": "#%% md\n"
    }
   },
   "source": [
    "### Schematic\n",
    "![Pipe Wall Heat Transfer](pipe_wall_heat_transfer.svg)"
   ]
  },
  {
   "cell_type": "markdown",
   "metadata": {
    "pycharm": {
     "name": "#%% md\n"
    }
   },
   "source": [
    "### Assumptions\n",
    "1. No convection is considered. The temperature of the inner wall is equal to the temperature of\n",
    "water and the temperature of the outer wall is equal to the room temperature.\n",
    "2. Steady state\n",
    "3. Material property of the steel is homogeneous and constant"
   ]
  },
  {
   "cell_type": "code",
   "execution_count": 3,
   "metadata": {
    "collapsed": false,
    "jupyter": {
     "outputs_hidden": false
    },
    "pycharm": {
     "name": "#%%\n"
    }
   },
   "outputs": [],
   "source": [
    "# Properties\n",
    "thermal_conductivity_steel = 15 # W/mK"
   ]
  },
  {
   "cell_type": "markdown",
   "metadata": {},
   "source": [
    "### Analysis\n",
    "We can use the equation for the thermal resistance for a cylinder to calculate the heat loss. \n",
    "$$R_\\mathrm{cond} = \\frac{\\ln(r_3/r_2)}{2 \\pi L k}$$"
   ]
  },
  {
   "cell_type": "code",
   "execution_count": 4,
   "metadata": {
    "collapsed": false,
    "jupyter": {
     "outputs_hidden": false
    },
    "pycharm": {
     "name": "#%%\n"
    }
   },
   "outputs": [
    {
     "name": "stdout",
     "output_type": "stream",
     "text": [
      "Pipe loses 32566.69W/m to the room.\n"
     ]
    }
   ],
   "source": [
    "# Analysis\n",
    "from thermal_system_calculation import get_thermal_resistance_cylinder\n",
    "\n",
    "inner_radius_pipe = inner_diameter / 2\n",
    "outer_radius_pipe = inner_radius_pipe + wall_thickness\n",
    "\n",
    "thermal_resistance_pipe_per_meter = get_thermal_resistance_cylinder(\n",
    "    inner_radius=inner_radius_pipe,\n",
    "    outer_radius=outer_radius_pipe,\n",
    "    thermal_conductivity=thermal_conductivity_steel,\n",
    "    cylinder_height=1\n",
    ")\n",
    "temperature_diff = temperature_water - temperature_room\n",
    "heat_loss_per_meter_bare = 1 / thermal_resistance_pipe_per_meter * temperature_diff\n",
    "\n",
    "print(f\"Pipe loses {heat_loss_per_meter_bare:.2f}W/m to the room.\")"
   ]
  },
  {
   "cell_type": "markdown",
   "metadata": {
    "pycharm": {
     "name": "#%% md\n"
    }
   },
   "source": [
    "2. What is the heat loss pr meter for the pipe with insulation not considering the contact\n",
    "resistance?"
   ]
  },
  {
   "cell_type": "code",
   "execution_count": 5,
   "metadata": {
    "collapsed": false,
    "jupyter": {
     "outputs_hidden": false
    },
    "pycharm": {
     "name": "#%%\n"
    }
   },
   "outputs": [],
   "source": [
    "#Known\n",
    "insulation_thickness = 0.02 # m\n",
    "\n",
    "#Find\n",
    "heat_loss_per_meter_insulated = None"
   ]
  },
  {
   "cell_type": "markdown",
   "metadata": {},
   "source": [
    "### Schematic\n",
    "![pipe insulation heat transfer](pipe_insulation_heat_transfer.svg)"
   ]
  },
  {
   "cell_type": "markdown",
   "metadata": {},
   "source": [
    "### Assumptions\n",
    "1. No convection is considered. The temperature of the inner wall is equal to the temperature of\n",
    "water and the temperature of the outer wall is equal to the room temperature.\n",
    "2. Steady state\n",
    "3. Material property of steel is homogeneous and constant\n",
    "4. No thermal resistance between the pipe wall and the insulation"
   ]
  },
  {
   "cell_type": "code",
   "execution_count": 6,
   "metadata": {},
   "outputs": [],
   "source": [
    "# Properties\n",
    "thermal_conductivity_insulation = 0.082 # W/mK"
   ]
  },
  {
   "cell_type": "code",
   "execution_count": 7,
   "metadata": {},
   "outputs": [
    {
     "name": "stdout",
     "output_type": "stream",
     "text": [
      "Heat loss with insulation without contact resistance is 63.418 W/m.\n"
     ]
    }
   ],
   "source": [
    "# Analysis\n",
    "# First calculate the thermal resistance of the insulation\n",
    "outer_radius_insulation = outer_radius_pipe + insulation_thickness\n",
    "thermal_resistance_insulation_per_meter = get_thermal_resistance_cylinder(\n",
    "    inner_radius=outer_radius_pipe,\n",
    "    outer_radius=outer_radius_insulation,\n",
    "    thermal_conductivity=thermal_conductivity_insulation,\n",
    "    cylinder_height=1\n",
    ")\n",
    "\n",
    "# Then, calculate the heat loss considering total heat resistance\n",
    "total_resistance_per_meter = thermal_resistance_pipe_per_meter + thermal_resistance_insulation_per_meter\n",
    "heat_loss_insulation_no_contact_resistance = 1 / (total_resistance_per_meter) * temperature_diff\n",
    "\n",
    "print(f\"Heat loss with insulation without contact resistance is {heat_loss_insulation_no_contact_resistance:.3f} W/m.\")"
   ]
  },
  {
   "cell_type": "markdown",
   "metadata": {
    "pycharm": {
     "name": "#%% md\n"
    }
   },
   "source": [
    "3.\tAs 2 but now with contact resistance considered.\n",
    "\n",
    "### Known\n",
    "No new information"
   ]
  },
  {
   "cell_type": "code",
   "execution_count": 8,
   "metadata": {
    "collapsed": false,
    "jupyter": {
     "outputs_hidden": false
    },
    "pycharm": {
     "name": "#%%\n"
    }
   },
   "outputs": [],
   "source": [
    "# Find\n",
    "heat_loss_insulation_contact_resistance_per_meter = None"
   ]
  },
  {
   "cell_type": "markdown",
   "metadata": {
    "pycharm": {
     "name": "#%% md\n"
    }
   },
   "source": [
    "### Schematic\n",
    "![pipe insulation heat transfer](pipe_insulation_contact_resistance_heat_transfer.svg)"
   ]
  },
  {
   "cell_type": "markdown",
   "metadata": {
    "pycharm": {
     "name": "#%% md\n"
    }
   },
   "source": [
    "### Assumpation\n",
    "Same as above"
   ]
  },
  {
   "cell_type": "code",
   "execution_count": 9,
   "metadata": {
    "collapsed": false,
    "jupyter": {
     "outputs_hidden": false
    },
    "pycharm": {
     "name": "#%% Properties\n"
    }
   },
   "outputs": [],
   "source": [
    "thermal_resistance_contact_per_area = 10**-4 # m2K/K"
   ]
  },
  {
   "cell_type": "code",
   "execution_count": 10,
   "metadata": {
    "collapsed": false,
    "jupyter": {
     "outputs_hidden": false
    },
    "pycharm": {
     "name": "#%% Analysis\n"
    }
   },
   "outputs": [
    {
     "name": "stdout",
     "output_type": "stream",
     "text": [
      "Heat loss with insulation and contact thermal resistance is 63.417\n"
     ]
    }
   ],
   "source": [
    "# First calculate the total thermal resistance\n",
    "import numpy as np\n",
    "thermal_resistance_contact_per_meter = thermal_resistance_contact_per_area * 2 * np.pi * outer_radius_pipe\n",
    "total_resistance_per_meter = thermal_resistance_pipe_per_meter + \\\n",
    "                             thermal_resistance_contact_per_meter + \\\n",
    "                             thermal_resistance_insulation_per_meter\n",
    "\n",
    "# Calculate heat loss\n",
    "heat_loss_insulation_contact_resistance_per_meter = 1 / total_resistance_per_meter * temperature_diff\n",
    "\n",
    "print(f\"Heat loss with insulation and contact thermal resistance is \"\n",
    "      f\"{heat_loss_insulation_contact_resistance_per_meter:.3f}\")"
   ]
  },
  {
   "cell_type": "markdown",
   "metadata": {},
   "source": [
    "We see that the thermal resistance for the contact does not change the heat loss. We can often neglect the part of the heat circuit which has very low thermal resistance. "
   ]
  },
  {
   "cell_type": "code",
   "execution_count": null,
   "metadata": {},
   "outputs": [],
   "source": []
  }
 ],
 "metadata": {
  "kernelspec": {
   "display_name": "Python 3",
   "language": "python",
   "name": "python3"
  },
  "language_info": {
   "codemirror_mode": {
    "name": "ipython",
    "version": 3
   },
   "file_extension": ".py",
   "mimetype": "text/x-python",
   "name": "python",
   "nbconvert_exporter": "python",
   "pygments_lexer": "ipython3",
   "version": "3.8.2"
  }
 },
 "nbformat": 4,
 "nbformat_minor": 4
}