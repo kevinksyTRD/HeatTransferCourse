{
 "cells": [
  {
   "cell_type": "markdown",
   "metadata": {
    "pycharm": {
     "name": "#%% md\n"
    }
   },
   "source": [
    "# Exercise 3 Heat Exchanger"
   ]
  },
  {
   "cell_type": "markdown",
   "metadata": {
    "pycharm": {
     "name": "#%% md\n"
    }
   },
   "source": [
    "## Problem 1\n",
    "A shell-and-tube heat exchanger with one shell and two tube passes having a heat exchange area of\n",
    "945 m<sup>2</sup>, connected as shown below, are designated to cool the high temperature\n",
    " circuit of a gas engine. The water temperatures and flows are given in the figure. The hot water is flowing in the tube and the cold side flows in the shell. The outer\n",
    " shell becomes hot and heat loss is estimated to 1%.\n",
    " \n",
    "![Schematic](HeatExchangerExercise.png)\n",
    "\n",
    "Please note that the arrow in the figure does not suggest actual direction of the flow. The\n",
    "diagram does not suggest if the flow arrangement is parallel-flow or counter-flow. You have to find\n",
    " it out in the second question.\n",
    "\n",
    "### Create the class for the heat exchanger analysis\n",
    "In this example, we will create a class in the \"thermal_system_calculation.py\" called\n",
    "\"HeatExchangerLMTD\". A template for the class is given. You will need to implement a part of the\n",
    "class for this exercise. You will need implement:\n",
    "\n",
    "- solve_temperature method\n",
    "- logarithmic_mean_temperature_difference getter method\n",
    "- get_heat_exchange_area method\n",
    "- get_overall_heat_transfer_coefficient method\n",
    "\n",
    "Please read the docstring of HeatExchangerLMTD, HeatExchanger, FlowHeatExchanger and FlowType\n",
    "classes before you start implementing the methods.\n",
    "\n",
    "### Create the class for the heat exchanger analysis\n",
    "In this example, we will create a class in the \"thermal_system_calculation.py\" called\n",
    "\"HeatExchangerLMTD\". A template for the class is given. You will need to implement a part of the\n",
    "class for this exercise. You will need implement:\n",
    "\n",
    "- `solve_temperature method`\n",
    "- `logarithmic_mean_temperature_difference getter method`\n",
    "- `get_heat_exchange_area method`\n",
    "- `get_overall_heat_transfer_coefficient method`\n",
    "- `correction_factor`\n",
    "- `heat_transfer_rate_from_lmtd`\n",
    "\n",
    "Please read the docstring of HeatExchangerLMTD, HeatExchanger, FlowHeatExchanger and FlowType\n",
    "classes before you start implementing the methods.\n",
    "\n",
    "Required formula for correction factors are found below.\n",
    "\n",
    "- For a shell-and-tube type heat exchanger with N shells and 2N tube passes\n",
    "\n",
    "    $R = \\frac{T_i - T_o}{t_o - t_i}$\n",
    "\n",
    "    $P = \\frac{t_o - t_i}{T_i - t_i}$\n",
    "\n",
    "    If $R \\ne 1$,\n",
    "\n",
    "    $S = \\frac{\\left(R^2 + 1\\right)^{0.5}}{R - 1}$\n",
    "\n",
    "    $W = \\left(\\frac{1 - P \\cdot R}{1 - P}\\right)^\\frac{1}{N}$\n",
    "\n",
    "    $F = \\frac{S \\ln{W}}{\\ln{\\frac{ 1 + W - S + S \\cdot W}{1 + W - S\\cdot W}}}$\n",
    "\n",
    "    else,\n",
    "\n",
    "    $W = \\frac{N (1 - P)}{N - N \\cdot P + P}$\n",
    "\n",
    "    $F = \\sqrt{2} \\frac{\\frac{1 - W}{W}}{\\ln{\\frac{\\frac{W}{1 - W} + \\sqrt{0.5}}{\\frac{W}{1 - W} - \\sqrt{0.5}}}}$\n",
    "\n",
    "- For a cross flow, both flow mixed\n",
    "\n",
    "    $R = \\frac{T_i - T_o}{t_o - t_i}$\n",
    "    \n",
    "    $k_1 = 1 - \\exp(-NTU)$\n",
    "    \n",
    "    $k_2 = 1 - \\exp(-R \\cdot NTU)$\n",
    "    \n",
    "    $P = \\frac{1}{1/k_1 + R/k_2 - 1/NTU}$\n",
    "\n",
    "    $F = \\frac{1}{NTU \\cdot (1 - R)} \\ln{\\frac{1 - R \\cdot P}{1 - P}}$\n",
    "\n",
    "- For a cross flow, one flow mixed,\n",
    "\n",
    "    $R = \\frac{T_{mix, i} - T_{mix, o}}{T_{unmixed, o} - T_{unmixed, i}}$\n",
    "\n",
    "    $k = 1 - \\exp(-NTU)$\n",
    "\n",
    "    $P = \\frac{1 - \\exp{\\left(-K \\cdot R\\right)}}{R}$\n",
    "\n",
    "    $F = \\frac{1}{NTU \\cdot (1 - R)} \\ln{\\frac{1 - R \\cdot P}{1 - P}}$\n",
    "\n",
    "- For a cross flow, if $R = 1$, use the below formula for $F$ instead.\n",
    "\n",
    "    $F = \\frac{P}{NTU \\cdot (1 - p)}$\n"
   ]
  },
  {
   "cell_type": "markdown",
   "metadata": {
    "pycharm": {
     "name": "#%% md\n"
    }
   },
   "source": [
    "### Calculate the outlet temperature $T_4$\n",
    "Calculate the outlet temperature $T_4$. Use the class implemented above. From the temperature\n",
    "found, determine if the flow arrangement is parallel flow or counter flow. Sketch the\n",
    "temperature-area diagram for this case."
   ]
  },
  {
   "cell_type": "code",
   "execution_count": 1,
   "metadata": {
    "collapsed": false,
    "jupyter": {
     "outputs_hidden": false
    },
    "pycharm": {
     "name": "#%%\n"
    }
   },
   "outputs": [
    {
     "name": "stdout",
     "output_type": "stream",
     "text": [
      "Heat transfer rate is 1076532.64 W\n",
      "Outlet temperature of the flow 2 is 60.73 degC\n"
     ]
    }
   ],
   "source": [
    "import matplotlib.pyplot as plt\n",
    "\n",
    "from thermal_system_calculation import FlowType, FlowHeatExchanger, Fluid, HeatExchangerLMTD, \\\n",
    "    HeatExchangerEffectivenessNTU\n",
    "\n",
    "# Your code here\n",
    "# Assign values to your variables of known information.\n",
    "\n",
    "# Define your flows using FlowHeatExchanger class\n",
    "# Flow in the shell\n",
    "flow1 = FlowHeatExchanger(\n",
    "    fluid=Fluid.WATER,\n",
    "    temp_in_k=90 + 273.15,\n",
    "    mass_flow_kg_s=8,\n",
    "    temp_out_k=58 + 273.15,\n",
    "    is_in_tube=True,\n",
    ")\n",
    "# Flow in the tube\n",
    "flow2 = FlowHeatExchanger(\n",
    "    fluid=Fluid.WATER,\n",
    "    temp_in_k=50 + 273.15,\n",
    "    mass_flow_kg_s=24,\n",
    "    is_in_tube=False, \n",
    "    heat_loss=0.01\n",
    ")\n",
    "\n",
    "# Define the heat exchanger instance using HeatExchangerLMTD class. Pass the flow instances\n",
    "# defined above and other necessary information.\n",
    "heat_exchanger = HeatExchangerLMTD(\n",
    "    flow_type=FlowType.ShellAndTube,\n",
    "    flow1=flow1,\n",
    "    flow2=flow2,\n",
    "    area=945,\n",
    "    number_shells=1,\n",
    "    number_tube_passes=2\n",
    ")\n",
    "\n",
    "heat_exchanger.solve_temperature()\n",
    "\n",
    "print(f\"Heat transfer rate is {heat_exchanger.heat_transfer_rate:.2f} W\")\n",
    "print(f\"Outlet temperature of the flow 2 is {heat_exchanger.flow2.temp_out - 273.15:.2f} degC\")"
   ]
  },
  {
   "cell_type": "markdown",
   "metadata": {
    "pycharm": {
     "name": "#%% md\n"
    }
   },
   "source": [
    "Your answer if the flow is parallel or counter.\n",
    "The heat exchanger has counter-flow arrangement because the outlet temperature of the cold side is higher thant the outlet temperature of the hot side. "
   ]
  },
  {
   "cell_type": "code",
   "execution_count": 2,
   "metadata": {
    "collapsed": false,
    "jupyter": {
     "outputs_hidden": false
    },
    "pycharm": {
     "name": "#%%\n"
    }
   },
   "outputs": [],
   "source": [
    "heat_exchanger.is_parallel_flow = False  # You have to set it True for False"
   ]
  },
  {
   "cell_type": "markdown",
   "metadata": {
    "pycharm": {
     "name": "#%% md\n"
    }
   },
   "source": [
    "Insert your temperature-area diagram here. You can either insert an image file or plot it. If\n",
    "you use an image file, the file name should be \"temperature_area_diagram.png\" and placed in the\n",
    "same folder as this notebook file.\n",
    "![Temperature-Area Diagram](temperature_area_diagram.png)"
   ]
  },
  {
   "cell_type": "code",
   "execution_count": 3,
   "metadata": {
    "collapsed": false,
    "jupyter": {
     "outputs_hidden": false
    },
    "pycharm": {
     "name": "#%%\n"
    }
   },
   "outputs": [
    {
     "data": {
      "text/plain": [
       "<matplotlib.patches.FancyArrow at 0x7fbba82c7820>"
      ]
     },
     "execution_count": 3,
     "metadata": {},
     "output_type": "execute_result"
    },
    {
     "data": {
      "image/png": "[encoded data removed]",
      "text/plain": [
       "<Figure size 432x288 with 1 Axes>"
      ]
     },
     "metadata": {
      "needs_background": "light"
     },
     "output_type": "display_data"
    }
   ],
   "source": [
    "# If you are plotting the temperature-area diagram\n",
    "fig, axe = plt.subplots()\n",
    "axe.arrow(0, heat_exchanger.flow1.temp_in,\n",
    "          1, heat_exchanger.flow1.temp_out - heat_exchanger.flow1.temp_in,\n",
    "          head_width=0.05, head_length=1, length_includes_head=True)\n",
    "axe.arrow(1, heat_exchanger.flow2.temp_in,\n",
    "          -1, heat_exchanger.flow2.temp_out - heat_exchanger.flow2.temp_in,\n",
    "          head_width=0.05, head_length=1, length_includes_head=True)"
   ]
  },
  {
   "cell_type": "markdown",
   "metadata": {
    "pycharm": {
     "name": "#%% md\n"
    }
   },
   "source": [
    "### Calculate the logarithmic mean temperature difference and calculate the overall heat transfer coefficient"
   ]
  },
  {
   "cell_type": "code",
   "execution_count": 4,
   "metadata": {
    "collapsed": false,
    "jupyter": {
     "outputs_hidden": false
    },
    "pycharm": {
     "name": "#%%\n"
    }
   },
   "outputs": [
    {
     "name": "stdout",
     "output_type": "stream",
     "text": [
      "The logarithmic mean temperature difference is 16.40 K\n",
      "Correction factor is 0.685\n",
      "The overall heat transfer coefficient is 101.39 W/m2K\n"
     ]
    }
   ],
   "source": [
    "print(f\"The logarithmic mean temperature difference is \"\n",
    "      f\"{heat_exchanger.logarithmic_mean_temperature_difference:.2f} K\")\n",
    "print(f\"Correction factor is {heat_exchanger.correction_factor:.3f}\")\n",
    "print(f\"The overall heat transfer coefficient is {heat_exchanger.get_overall_heat_transfer_coefficient():.2f} W/m2K\")"
   ]
  },
  {
   "cell_type": "markdown",
   "metadata": {
    "pycharm": {
     "name": "#%% md\n"
    }
   },
   "source": [
    "### Parallel Heat Exchangers\n",
    "Assume that two heat exchangers of the same type is coupled in parallel at the hot side and in\n",
    "series at the cold side. See the following schematic. The mass flows for both cold and hot side\n",
    "are identical for both heat exchangers. Ratio of heat loss to the environment is also identical for both heat exchangers.\n",
    "![Parallel Heat Exchangers](HeatExchangerExerciseDiagrams.png)\n",
    "\n",
    "Draw the TA-diagram for each heat exchanger without knowing all the temperature in / out at the\n",
    "second heat exchanger.\n",
    "\n",
    "Solve for each temperature at the second heat exchanger using LMTD analysis. Here, since\n",
    "temperature at both outlets is not known, you have to solve them iteratively. What is the heat\n",
    "transfer rate at the second heat exchanger?\n",
    "(Hint: The two heat exchangers have identical area and overall heat transfer coefficient.)"
   ]
  },
  {
   "cell_type": "markdown",
   "metadata": {
    "pycharm": {
     "name": "#%% md\n"
    }
   },
   "source": [
    "Solution\n",
    "\n",
    "#### Known\n",
    "We know that the first heat exchanger will operate identically to the single heat exchanger\n",
    "arrangement."
   ]
  },
  {
   "cell_type": "code",
   "execution_count": 5,
   "metadata": {
    "collapsed": false,
    "jupyter": {
     "outputs_hidden": false
    },
    "pycharm": {
     "name": "#%%\n"
    }
   },
   "outputs": [],
   "source": [
    "heat_exchanger1 = heat_exchanger\n",
    "flow1_heat_exchanger2 = FlowHeatExchanger(\n",
    "    fluid=Fluid.WATER,\n",
    "    temp_in_k=heat_exchanger1.flow1.temp_in,  # Parallel connection\n",
    "    mass_flow_kg_s=heat_exchanger1.flow1.mass_flow,\n",
    "    is_in_tube=True\n",
    ")\n",
    "flow2_heat_exchanger2 = FlowHeatExchanger(\n",
    "    fluid=Fluid.WATER,\n",
    "    temp_in_k=heat_exchanger1.flow2.temp_out, # Serial connection\n",
    "    mass_flow_kg_s=heat_exchanger1.flow2.mass_flow,\n",
    "    is_in_tube=False,\n",
    "    heat_loss = 0.01\n",
    ")\n",
    "heat_exchanger2 = HeatExchangerLMTD(\n",
    "    flow_type=FlowType.ShellAndTube,\n",
    "    flow1=flow1_heat_exchanger2,\n",
    "    flow2=flow2_heat_exchanger2,\n",
    "    u_h=heat_exchanger1.u_h,\n",
    "    area=heat_exchanger1.area,\n",
    "    is_parallel_flow=False\n",
    ")"
   ]
  },
  {
   "cell_type": "markdown",
   "metadata": {
    "pycharm": {
     "name": "#%% md\n"
    }
   },
   "source": [
    "#### Find\n",
    "Temperature outlet of the cold and hot side of the second heat exchanger\n",
    "Heat transfer rate in the second heat exchanger"
   ]
  },
  {
   "cell_type": "markdown",
   "metadata": {
    "pycharm": {
     "name": "#%% md\n"
    }
   },
   "source": [
    "#### Assumptions\n",
    "- Steady state\n",
    "- Uniform and constant properties in the fluid\n",
    "- Negligible change in the potential and kinetic energy in the fluid\n",
    "- The overall coefficients of both heat exchangers are identical."
   ]
  },
  {
   "cell_type": "markdown",
   "metadata": {
    "pycharm": {
     "name": "#%% md\n"
    }
   },
   "source": [
    "#### Schematic\n",
    "Put your TA diagram here.\n",
    "\n",
    "\n",
    "#### Analysis\n",
    "Implement the `solve_temperature` method for the case that temperature at both outlets are not known. Algorithm should be as follows:\n",
    "\n",
    "1. Assume a temperature at the hot side\n",
    "2. Solve the temperature using energy balance\n",
    "3. Calculate the heat transfer rate using $q = UAF\\Delta T_{lm}$\n",
    "4. Calculate the temperature at the hot side from the heat transfer rate from 3.\n",
    "5. Repeat 2-4 until your change in $q$ does is negligible, say 0.1%."
   ]
  },
  {
   "cell_type": "code",
   "execution_count": 6,
   "metadata": {},
   "outputs": [
    {
     "name": "stderr",
     "output_type": "stream",
     "text": [
      "2021-05-24 12:20:52,963 - thermal_system_calculation - INFO - Temperature: T1 = 363.15, T2 = 341.20, t1 = 333.88, t2 = 341.23\n",
      "2021-05-24 12:20:52,963 - thermal_system_calculation - INFO - LMTD: 13.31\n",
      "2021-05-24 12:20:52,964 - thermal_system_calculation - INFO - q_energy: 738580.22\n",
      "2021-05-24 12:20:52,964 - thermal_system_calculation - INFO - q_lmtd: 1030407.13\n",
      "2021-05-24 12:20:52,964 - thermal_system_calculation - INFO - Temperature: T1 = 363.15, T2 = 340.33, t1 = 333.88, t2 = 341.52\n",
      "2021-05-24 12:20:52,965 - thermal_system_calculation - INFO - LMTD: 12.55\n",
      "2021-05-24 12:20:52,965 - thermal_system_calculation - INFO - q_energy: 767762.91\n",
      "2021-05-24 12:20:52,966 - thermal_system_calculation - INFO - q_lmtd: 899117.47\n",
      "2021-05-24 12:20:52,966 - thermal_system_calculation - INFO - Temperature: T1 = 363.15, T2 = 339.94, t1 = 333.88, t2 = 341.65\n",
      "2021-05-24 12:20:52,966 - thermal_system_calculation - INFO - LMTD: 12.19\n",
      "2021-05-24 12:20:52,967 - thermal_system_calculation - INFO - q_energy: 780898.37\n",
      "2021-05-24 12:20:52,967 - thermal_system_calculation - INFO - q_lmtd: 829567.17\n",
      "2021-05-24 12:20:52,968 - thermal_system_calculation - INFO - Temperature: T1 = 363.15, T2 = 339.79, t1 = 333.88, t2 = 341.70\n",
      "2021-05-24 12:20:52,968 - thermal_system_calculation - INFO - LMTD: 12.06\n",
      "2021-05-24 12:20:52,969 - thermal_system_calculation - INFO - q_energy: 785765.25\n",
      "2021-05-24 12:20:52,969 - thermal_system_calculation - INFO - q_lmtd: 801209.73\n",
      "2021-05-24 12:20:52,970 - thermal_system_calculation - INFO - Temperature: T1 = 363.15, T2 = 339.75, t1 = 333.88, t2 = 341.72\n",
      "2021-05-24 12:20:52,970 - thermal_system_calculation - INFO - LMTD: 12.02\n",
      "2021-05-24 12:20:52,970 - thermal_system_calculation - INFO - q_energy: 787309.70\n",
      "2021-05-24 12:20:52,971 - thermal_system_calculation - INFO - q_lmtd: 791839.53\n",
      "2021-05-24 12:20:52,971 - thermal_system_calculation - INFO - Temperature: T1 = 363.15, T2 = 339.73, t1 = 333.88, t2 = 341.72\n",
      "2021-05-24 12:20:52,972 - thermal_system_calculation - INFO - LMTD: 12.00\n",
      "2021-05-24 12:20:52,972 - thermal_system_calculation - INFO - q_energy: 787762.68\n",
      "2021-05-24 12:20:52,973 - thermal_system_calculation - INFO - q_lmtd: 789053.93\n",
      "2021-05-24 12:20:52,973 - thermal_system_calculation - INFO - Temperature: T1 = 363.15, T2 = 339.73, t1 = 333.88, t2 = 341.72\n",
      "2021-05-24 12:20:52,973 - thermal_system_calculation - INFO - LMTD: 12.00\n",
      "2021-05-24 12:20:52,974 - thermal_system_calculation - INFO - q_energy: 787891.80\n",
      "2021-05-24 12:20:52,974 - thermal_system_calculation - INFO - q_lmtd: 788256.68\n"
     ]
    },
    {
     "name": "stdout",
     "output_type": "stream",
     "text": [
      "Heat transfer rate at the heat exchanger 2 is 787928.29\n",
      "Outlet temperature of the hot water is 339.73\n",
      "Outlet temperature of the cold water is 341.72\n"
     ]
    }
   ],
   "source": [
    "heat_exchanger2.solve_temperature()\n",
    "print(f\"Heat transfer rate at the heat exchanger 2 is {heat_exchanger2.heat_transfer_rate:.2f}\")\n",
    "print(f\"Outlet temperature of the hot water is {heat_exchanger2.flow_hot_side.temp_out:.2f}\")\n",
    "print(f\"Outlet temperature of the cold water is {heat_exchanger2.flow_cold_side.temp_out:.2f}\")"
   ]
  },
  {
   "cell_type": "markdown",
   "metadata": {},
   "source": [
    "## Problem 2\n",
    "Now solve the last part of the problem using effectiveness-NTU method.\n",
    "\n",
    "You need to implement the class `HeatExchangerEffectivenessNTU` to solve it.\n",
    "You will have to implement the methods\n",
    " - `heat_capacity_rate_min`\n",
    " - `heat_capacity_rate_max`\n",
    " - `heat_capacity_rate_ratio`\n",
    " - `heat_transfer_rate_max`\n",
    " - `ntu`\n",
    " - `get_effectiveness_from_ntu`\n",
    " - `solve_temperature`\n",
    "\n",
    "![Formula for effectiveness](formula_effectiveness.png)"
   ]
  },
  {
   "cell_type": "code",
   "execution_count": 7,
   "metadata": {},
   "outputs": [
    {
     "name": "stdout",
     "output_type": "stream",
     "text": [
      "Heat capacity rate max: 100446.59681181119\n",
      "95815.92966313308\n",
      "Heat capacity rate min: 37846.850455010295\n",
      "Heat capacity rate ratio: 0.3767857912191606\n",
      "NTU: 2.53\n",
      "Effectiveness: 0.77\n",
      "Heat transfer rate: 852697.74\n",
      "Outlet temperature of the hot water is 340.62\n",
      "Outlet temperature of the cold water is 342.37\n"
     ]
    }
   ],
   "source": [
    "flow_hot_side = FlowHeatExchanger(\n",
    "    fluid=Fluid.WATER,\n",
    "    temp_in_k=90 + 273.15,\n",
    "    mass_flow_kg_s=9,\n",
    "    is_in_tube=True\n",
    ")\n",
    "flow_cold_side = FlowHeatExchanger(\n",
    "    fluid=Fluid.WATER,\n",
    "    temp_in_k=heat_exchanger1.flow_cold_side.temp_out,\n",
    "    mass_flow_kg_s=heat_exchanger1.flow_cold_side.mass_flow,\n",
    "    is_in_tube=False,\n",
    "    heat_loss=0.01\n",
    ")\n",
    "\n",
    "heat_exchanger_e_ntu = HeatExchangerEffectivenessNTU(\n",
    "    flow_type=FlowType.ShellAndTube,\n",
    "    flow1=flow_hot_side,\n",
    "    flow2=flow_cold_side,\n",
    "    number_shell_passes=1,\n",
    "    u_h=heat_exchanger1.u_h,\n",
    "    area=heat_exchanger1.area\n",
    ")\n",
    "heat_exchanger_e_ntu.solve_temperature()\n",
    "\n",
    "effectiveness = heat_exchanger_e_ntu.get_effectiveness_from_ntu()\n",
    "heat_transfer_rate = effectiveness * heat_exchanger_e_ntu.heat_transfer_rate_max\n",
    "\n",
    "print(f\"Heat capacity rate max: {heat_exchanger_e_ntu.heat_capacity_rate_max}\")\n",
    "print(heat_exchanger_e_ntu.u_h * heat_exchanger_e_ntu.area)\n",
    "print(f\"Heat capacity rate min: {heat_exchanger_e_ntu.heat_capacity_rate_min}\")\n",
    "print(f\"Heat capacity rate ratio: {heat_exchanger_e_ntu.heat_capacity_rate_ratio}\")\n",
    "print(f\"NTU: {heat_exchanger_e_ntu.ntu:.2f}\")\n",
    "print(f\"Effectiveness: {effectiveness:.2f}\")\n",
    "print(f\"Heat transfer rate: {heat_transfer_rate:.2f}\")\n",
    "print(f\"Outlet temperature of the hot water is {heat_exchanger_e_ntu.flow_hot_side.temp_out:.2f}\")\n",
    "print(f\"Outlet temperature of the cold water is {heat_exchanger_e_ntu.flow_cold_side.temp_out:.2f}\")"
   ]
  },
  {
   "cell_type": "code",
   "execution_count": null,
   "metadata": {},
   "outputs": [],
   "source": []
  }
 ],
 "metadata": {
  "kernelspec": {
   "display_name": "Python 3",
   "language": "python",
   "name": "python3"
  },
  "language_info": {
   "codemirror_mode": {
    "name": "ipython",
    "version": 3
   },
   "file_extension": ".py",
   "mimetype": "text/x-python",
   "name": "python",
   "nbconvert_exporter": "python",
   "pygments_lexer": "ipython3",
   "version": "3.8.10"
  }
 },
 "nbformat": 4,
 "nbformat_minor": 4
}
