{
 "cells": [
  {
   "cell_type": "markdown",
   "metadata": {
    "pycharm": {
     "name": "#%% md\n"
    }
   },
   "source": [
    "# Exercise 3 Heat Exchanger"
   ]
  },
  {
   "cell_type": "markdown",
   "metadata": {
    "pycharm": {
     "name": "#%% md\n"
    }
   },
   "source": [
    "## Problem 1\n",
    "A shell-and-tube heat exchanger with one shell and two tube passes having a heat exchange area of\n",
    "945 m<sup>2</sup>, connected as shown below, are designated to cool the high temperature\n",
    " circuit of a gas engine. The water temperatures and flows are given in the figure. The hot water is flowing in the tube and the cold side flows in the shell. The outer\n",
    " shell becomes hot and heat loss is estimated to 1%.\n",
    " \n",
    "![Schematic](HeatExchangerExercise.png)\n",
    "\n",
    "Please note that the arrow in the figure does not suggest actual direction of the flow. The\n",
    "diagram does not suggest if the flow arrangement is parallel-flow or counter-flow. You have to find\n",
    " it out in the second question.\n",
    "\n",
    "### Create the class for the heat exchanger analysis\n",
    "In this example, we will create a class in the \"thermal_system_calculation.py\" called\n",
    "\"HeatExchangerLMTD\". A template for the class is given. You will need to implement a part of the\n",
    "class for this exercise. You will need implement:\n",
    "\n",
    "- `solve_temperature method`\n",
    "- `logarithmic_mean_temperature_difference getter method`\n",
    "- `get_heat_exchange_area method`\n",
    "- `get_overall_heat_transfer_coefficient method`\n",
    "- `correction_factor`\n",
    "- `heat_transfer_rate_from_lmtd`\n",
    "\n",
    "Please read the docstring of HeatExchangerLMTD, HeatExchanger, FlowHeatExchanger and FlowType\n",
    "classes before you start implementing the methods.\n",
    "\n",
    "Required formula for correction factors are found below.\n",
    "\n",
    "- For a shell-and-tube type heat exchanger with N shells and 2N tube passes\n",
    "\n",
    "    $R = \\frac{T_i - T_o}{t_o - t_i}$\n",
    "\n",
    "    $P = \\frac{t_o - t_i}{T_i - t_i}$\n",
    "\n",
    "    If $R \\ne 1$,\n",
    "\n",
    "    $S = \\frac{\\left(R^2 + 1\\right)^{0.5}}{R - 1}$\n",
    "\n",
    "    $W = \\left(\\frac{1 - P \\cdot R}{1 - P}\\right)^\\frac{1}{N}$\n",
    "\n",
    "    $F = \\frac{S \\ln{W}}{\\ln{\\frac{ 1 + W - S + S \\cdot W}{1 + W - S\\cdot W}}}$\n",
    "\n",
    "    else,\n",
    "\n",
    "    $W = \\frac{N (1 - P)}{N - N \\cdot P + P}$\n",
    "\n",
    "    $F = \\sqrt{2} \\frac{\\frac{1 - W}{W}}{\\ln{\\frac{\\frac{W}{1 - W} + \\sqrt{0.5}}{\\frac{W}{1 - W} - \\sqrt{0.5}}}}$\n",
    "\n",
    "- For a cross flow, both flow mixed\n",
    "\n",
    "    $R = \\frac{T_i - T_o}{t_o - t_i}$\n",
    "    \n",
    "    $k_1 = 1 - \\exp(-NTU)$\n",
    "    \n",
    "    $k_2 = 1 - \\exp(-R \\cdot NTU)$\n",
    "    \n",
    "    $P = \\frac{1}{1/k_1 + R/k_2 - 1/NTU}$\n",
    "\n",
    "    $F = \\frac{1}{NTU \\cdot (1 - R)} \\ln{\\frac{1 - R \\cdot P}{1 - P}}$\n",
    "\n",
    "- For a cross flow, one flow mixed,\n",
    "\n",
    "    $R = \\frac{T_{mix, i} - T_{mix, o}}{T_{unmixed, o} - T_{unmixed, i}}$\n",
    "\n",
    "    $k = 1 - \\exp(-NTU)$\n",
    "\n",
    "    $P = \\frac{1 - \\exp{\\left(-K \\cdot R\\right)}}{R}$\n",
    "\n",
    "    $F = \\frac{1}{NTU \\cdot (1 - R)} \\ln{\\frac{1 - R \\cdot P}{1 - P}}$\n",
    "\n",
    "- For a cross flow, if $R = 1$, use the below formula for $F$ instead.\n",
    "\n",
    "    $F = \\frac{P}{NTU \\cdot (1 - p)}$"
   ]
  },
  {
   "cell_type": "markdown",
   "metadata": {
    "pycharm": {
     "name": "#%% md\n"
    }
   },
   "source": [
    "### Calculate the outlet temperature $T_4$\n",
    "Calculate the outlet temperature $T_4$. Use the class implemented above. From the temperature\n",
    "found, determine if the flow arrangement is parallel flow or counter flow. Sketch the\n",
    "temperature-area diagram for this case."
   ]
  },
  {
   "cell_type": "code",
   "execution_count": null,
   "metadata": {
    "collapsed": false,
    "jupyter": {
     "outputs_hidden": false
    },
    "pycharm": {
     "name": "#%%\n"
    }
   },
   "outputs": [],
   "source": [
    "import matplotlib.pyplot as plt\n",
    "\n",
    "from thermal_system_calculation import FlowType, FlowHeatExchanger, Fluid, HeatExchangerLMTD, \\\n",
    "    HeatExchangerEffectivenessNTU\n",
    "\n",
    "# Your code here\n",
    "# Assign values to your variables of known information.\n",
    "\n",
    "# Define your flows using FlowHeatExchanger class\n",
    "# Flow in the shell\n",
    "flow1 = FlowHeatExchanger() # Set the parameters in the paranthesis\n",
    "# Flow in the tube\n",
    "flow2 = FlowHeatExchanger() # Set the parameters in the paranthesis\n",
    "\n",
    "# Define the heat exchanger instance using HeatExchangerLMTD class. Pass the flow instances\n",
    "# defined above and other necessary information.\n",
    "heat_exchanger = HeatExchangerLMTD(\n",
    "    flow_type=FlowType.ShellAndTube,\n",
    "    flow1=flow1,\n",
    "    flow2=flow2,\n",
    "    area=945,\n",
    "    number_shells=1,\n",
    "    number_tube_passes=2\n",
    ")\n",
    "heat_exchanger.solve_temperature()\n",
    "print(f\"Heat transfer rate is {heat_exchanger.heat_transfer_rate:.2f} W\")\n",
    "print(f\"Outlet temperature of the flow 2 is {heat_exchanger.flow2.temp_out - 273.15:.2f} degC\")"
   ]
  },
  {
   "cell_type": "markdown",
   "metadata": {
    "pycharm": {
     "name": "#%% md\n"
    }
   },
   "source": [
    "Your answer if the flow is parallel or counter.\n",
    "The heat exchanger has counter-flow arrangement because the outlet temperature of the cold side is higher thant the outlet temperature of the hot side. "
   ]
  },
  {
   "cell_type": "code",
   "execution_count": null,
   "metadata": {
    "collapsed": false,
    "jupyter": {
     "outputs_hidden": false
    },
    "pycharm": {
     "name": "#%%\n"
    }
   },
   "outputs": [],
   "source": [
    "heat_exchanger.is_parallel_flow = None  # You have to set it True for False"
   ]
  },
  {
   "cell_type": "markdown",
   "metadata": {
    "pycharm": {
     "name": "#%% md\n"
    }
   },
   "source": [
    "Insert your temperature-area diagram here. You can either insert an image file or plot it. If\n",
    "you use an image file, the file name should be \"temperature_area_diagram.png\" and placed in the\n",
    "same folder as this notebook file.\n",
    "![Temperature-Area Diagram](temperature_area_diagram.png)"
   ]
  },
  {
   "cell_type": "code",
   "execution_count": null,
   "metadata": {
    "collapsed": false,
    "jupyter": {
     "outputs_hidden": false
    },
    "pycharm": {
     "name": "#%%\n"
    }
   },
   "outputs": [],
   "source": [
    "# If you are plotting the temperature-area diagram\n",
    "fig, axe = plt.subplots()\n",
    "axe.arrow(0, heat_exchanger.flow1.temp_in,\n",
    "          1, heat_exchanger.flow1.temp_out - heat_exchanger.flow1.temp_in,\n",
    "          head_width=0.05, head_length=1, length_includes_head=True)\n",
    "if heat_exchanger.is_parallel_flow:\n",
    "    axe.arrow(0, heat_exchanger.flow2.temp_in,\n",
    "              1, heat_exchanger.flow2.temp_out - heat_exchanger.flow2.temp_in,\n",
    "              head_width=0.05, head_length=1, length_includes_head=True)\n",
    "else:\n",
    "    axe.arrow(1, heat_exchanger.flow2.temp_in,\n",
    "              -1, heat_exchanger.flow2.temp_out - heat_exchanger.flow2.temp_in,\n",
    "              head_width=0.05, head_length=1, length_includes_head=True)"
   ]
  },
  {
   "cell_type": "markdown",
   "metadata": {
    "pycharm": {
     "name": "#%% md\n"
    }
   },
   "source": [
    "### Calculate the logarithmic mean temperature difference and calculate the overall heat transfer coefficient"
   ]
  },
  {
   "cell_type": "code",
   "execution_count": null,
   "metadata": {
    "collapsed": false,
    "jupyter": {
     "outputs_hidden": false
    },
    "pycharm": {
     "name": "#%%\n"
    }
   },
   "outputs": [],
   "source": [
    "print(f\"The logarithmic mean temperature difference is \"\n",
    "      f\"{heat_exchanger.logarithmic_mean_temperature_difference:.2f} K\")\n",
    "print(f\"Correction factor is {heat_exchanger.correction_factor:.3f}\")\n",
    "print(f\"The overall heat transfer coefficient is {heat_exchanger.get_overall_heat_transfer_coefficient():.2f} W/m2K\")"
   ]
  },
  {
   "cell_type": "markdown",
   "metadata": {
    "pycharm": {
     "name": "#%% md\n"
    }
   },
   "source": [
    "### Parallel Heat Exchangers\n",
    "Assume that two heat exchangers of the same type is coupled in parallel at the hot side and in\n",
    "series at the cold side. See the following schematic. The mass flows for both cold and hot side\n",
    "are identical for both heat exchangers. Ratio of heat loss to the environment is also identical for both heat exchangers.\n",
    "\n",
    "![Parallel Heat Exchangers](HeatExchangerExerciseDiagrams.png)\n",
    "\n",
    "Draw the TA-diagram for each heat exchanger without knowing all the temperature in / out at the\n",
    "second heat exchanger.\n",
    "\n",
    "Solve for each temperature at the second heat exchanger using LMTD analysis. Here, since\n",
    "temperature at both outlets is not known, you have to solve them iteratively. What is the heat\n",
    "transfer rate at the second heat exchanger?\n",
    "(Hint: The two heat exchangers have identical area and overall heat transfer coefficient.)"
   ]
  },
  {
   "cell_type": "markdown",
   "metadata": {
    "pycharm": {
     "name": "#%% md\n"
    }
   },
   "source": [
    "Solution\n",
    "\n",
    "#### Known\n",
    "We know that the first heat exchanger will operate identically to the single heat exchanger\n",
    "arrangement."
   ]
  },
  {
   "cell_type": "code",
   "execution_count": null,
   "metadata": {
    "collapsed": false,
    "jupyter": {
     "outputs_hidden": false
    },
    "pycharm": {
     "name": "#%%\n"
    }
   },
   "outputs": [],
   "source": [
    "heat_exchanger1 = heat_exchanger\n",
    "flow1_heat_exchanger2 = FlowHeatExchanger()  # Use a proper boundary condition to define the hot side flow\n",
    "flow2_heat_exchanger2 = FlowHeatExchanger()  # Use a proper boundary condition to define the cold side flow\n",
    "\n",
    "heat_exchanger2 = HeatExchangerLMTD(\n",
    "    flow_type=FlowType.ShellAndTube,\n",
    "    flow1=flow1_heat_exchanger2,\n",
    "    flow2=flow2_heat_exchanger2,\n",
    "    u_h=heat_exchanger1.u_h,\n",
    "    area=heat_exchanger1.area,\n",
    "    is_parallel_flow=False\n",
    ")"
   ]
  },
  {
   "cell_type": "markdown",
   "metadata": {
    "pycharm": {
     "name": "#%% md\n"
    }
   },
   "source": [
    "#### Find\n",
    "Temperature outlet of the cold and hot side of the second heat exchanger\n",
    "Heat transfer rate in the second heat exchanger"
   ]
  },
  {
   "cell_type": "markdown",
   "metadata": {
    "pycharm": {
     "name": "#%% md\n"
    }
   },
   "source": [
    "#### Assumptions\n",
    "- Steady state\n",
    "- Uniform and constant properties in the fluid\n",
    "- Negligible change in the potential and kinetic energy in the fluid\n",
    "- The overall coefficients of both heat exchangers are identical."
   ]
  },
  {
   "cell_type": "markdown",
   "metadata": {
    "pycharm": {
     "name": "#%% md\n"
    }
   },
   "source": [
    "#### Schematic\n",
    "Put your TA diagram here.\n",
    "\n",
    "\n",
    "#### Analysis\n",
    "The `solve_temperature` method for the case that temperature at both outlets are not known is already implemented. Algorithm should be as follows:\n",
    "Study the method and write down the algorithm in your language."
   ]
  },
  {
   "cell_type": "code",
   "execution_count": null,
   "metadata": {},
   "outputs": [],
   "source": [
    "heat_exchanger2.solve_temperature()\n",
    "print(f\"Heat transfer rate at the heat exchanger 2 is {heat_exchanger2.heat_transfer_rate:.2f}\")\n",
    "print(f\"Outlet temperature of the hot water is {heat_exchanger2.flow_hot_side.temp_out:.2f}\")\n",
    "print(f\"Outlet temperature of the cold water is {heat_exchanger2.flow_cold_side.temp_out:.2f}\")"
   ]
  },
  {
   "cell_type": "markdown",
   "metadata": {},
   "source": [
    "## Problem 2\n",
    "Now solve the last part of the problem using effectiveness-NTU method.\n",
    "\n",
    "You need to implement the class `HeatExchangerEffectivenessNTU` to solve it.\n",
    "You will have to implement the methods\n",
    " - `heat_capacity_rate_min`\n",
    " - `heat_capacity_rate_max`\n",
    " - `heat_capacity_rate_ratio`\n",
    " - `heat_transfer_rate_max`\n",
    " - `ntu`\n",
    " - `get_effectiveness_from_ntu`\n",
    " - `solve_temperature`\n",
    " \n",
    " \n",
    " Formula for the effectiveness as a function of $NTU$ and $C_r = C_{min}/C_{max}$ are\n",
    " \n",
    " ![Formula for effectiveness](formula_effectiveness.png)\n"
   ]
  },
  {
   "cell_type": "code",
   "execution_count": null,
   "metadata": {},
   "outputs": [],
   "source": [
    "flow_hot_side = FlowHeatExchanger(\n",
    "    fluid=Fluid.WATER,\n",
    "    temp_in_k=90 + 273.15,\n",
    "    mass_flow_kg_s=9,\n",
    "    is_in_tube=True\n",
    ")\n",
    "flow_cold_side = FlowHeatExchanger(\n",
    "    fluid=Fluid.WATER,\n",
    "    temp_in_k=heat_exchanger1.flow_cold_side.temp_out,\n",
    "    mass_flow_kg_s=heat_exchanger1.flow_cold_side.mass_flow,\n",
    "    is_in_tube=False,\n",
    "    heat_loss=0.01\n",
    ")\n",
    "\n",
    "heat_exchanger_e_ntu = HeatExchangerEffectivenessNTU(\n",
    "    flow_type=FlowType.ShellAndTube,\n",
    "    flow1=flow_hot_side,\n",
    "    flow2=flow_cold_side,\n",
    "    number_shell_passes=1,\n",
    "    u_h=heat_exchanger1.u_h,\n",
    "    area=heat_exchanger1.area\n",
    ")\n",
    "heat_exchanger_e_ntu.solve_temperature()\n",
    "\n",
    "effectiveness = heat_exchanger_e_ntu.get_effectiveness_from_ntu()\n",
    "heat_transfer_rate = effectiveness * heat_exchanger_e_ntu.heat_transfer_rate_max\n",
    "\n",
    "print(f\"Heat capacity rate max: {heat_exchanger_e_ntu.heat_capacity_rate_max}\")\n",
    "print(heat_exchanger_e_ntu.u_h * heat_exchanger_e_ntu.area)\n",
    "print(f\"Heat capacity rate min: {heat_exchanger_e_ntu.heat_capacity_rate_min}\")\n",
    "print(f\"Heat capacity rate ratio: {heat_exchanger_e_ntu.heat_capacity_rate_ratio}\")\n",
    "print(f\"NTU: {heat_exchanger_e_ntu.ntu:.2f}\")\n",
    "print(f\"Effectiveness: {effectiveness:.2f}\")\n",
    "print(f\"Heat transfer rate: {heat_transfer_rate:.2f}\")\n",
    "print(f\"Outlet temperature of the hot water is {heat_exchanger.flow_hot_side.temp_out:.2f}\")\n",
    "print(f\"Outlet temperature of the cold water is {heat_exchanger2.flow_cold_side.temp_out:.2f}\")"
   ]
  },
  {
   "cell_type": "markdown",
   "metadata": {},
   "source": [
    "Compare the result from LMTD method."
   ]
  }
 ],
 "metadata": {
  "kernelspec": {
   "display_name": "Python 3",
   "language": "python",
   "name": "python3"
  },
  "language_info": {
   "codemirror_mode": {
    "name": "ipython",
    "version": 3
   },
   "file_extension": ".py",
   "mimetype": "text/x-python",
   "name": "python",
   "nbconvert_exporter": "python",
   "pygments_lexer": "ipython3",
   "version": "3.8.2"
  }
 },
 "nbformat": 4,
 "nbformat_minor": 4
}