{
 "cells": [
  {
   "cell_type": "markdown",
   "metadata": {
    "pycharm": {
     "name": "#%% md\n"
    }
   },
   "source": [
    "# TMR4222 Thermal System Exercise 1"
   ]
  },
  {
   "cell_type": "markdown",
   "metadata": {
    "pycharm": {
     "name": "#%% md\n"
    }
   },
   "source": [
    "## Assignment 1.1"
   ]
  },
  {
   "cell_type": "markdown",
   "metadata": {
    "pycharm": {
     "name": "#%% md\n"
    }
   },
   "source": [
    "The heat flux through a wood slab 60 mm thick, whose inner and outer surface temperatures are\n",
    "35 and 15°C, respectively, has been determined to be 35 W/m2.  What is the thermal conductivity\n",
    "of the wood?"
   ]
  },
  {
   "cell_type": "markdown",
   "metadata": {
    "pycharm": {
     "name": "#%% md\n"
    }
   },
   "source": [
    "1. Create a function (get_heat_flux_by_conduction) in \"thermal_system_calculation.py\" to calculate the heat flux by conduction for given temperature at which heat flows from, temperature at which heat flows to and thickness."
   ]
  },
  {
   "cell_type": "markdown",
   "metadata": {},
   "source": [
    "Your equation will be stated here. Implement your function with the name\n",
    "\"get_heat_flux_by_conduction\" in the file \"thermal_system_calculation.py\" in the same folder as\n",
    "this notebook file. Your functions should look like:\n",
    "\n",
    "```python\n",
    "def get_heat_flux_by_conduction(arg1, arg2, arg3, ...):\n",
    "    # heat_flux = Equations to calculate the heat flux\n",
    "    return heat_flux\n",
    "```"
   ]
  },
  {
   "cell_type": "markdown",
   "metadata": {},
   "source": [
    "2. Find the thermal conductivity given the function from 1. and conditions using scipy.optimize\n",
    ".root."
   ]
  },
  {
   "cell_type": "code",
   "execution_count": 1,
   "metadata": {
    "pycharm": {
     "name": "#%%\n"
    }
   },
   "outputs": [],
   "source": [
    "from scipy.optimize import root\n",
    "from thermal_system_calculation import get_heat_flux_by_conduction\n",
    "\n",
    "# Make variables for the given condition such as heat flux given, thickness, etc.\n",
    "\n",
    "# As our function calculates heat flux from the other arguments, we need to solve the equation in\n",
    "# the form of f(x) = 0 where x is the thermal conductivity and f(x) = get_heat_flux_by_condction\n",
    "# (x) - heat_flux_given.\n",
    "\n",
    "# def equation_to_solve(thermal_conductivity):\n",
    "#     Define your equation to solve\n",
    "\n",
    "# Now we use the scipy.optimize.root function to find the thermal conductivity\n",
    "# result = root(equation_to_solve, x0=0)\n",
    "# thermal_conductivity = result.x[0]\n",
    "# print(f'The thermal conductivity is {thermal_conductivity:.3f} W/mK')"
   ]
  },
  {
   "cell_type": "markdown",
   "metadata": {
    "pycharm": {
     "name": "#%% md\n"
    }
   },
   "source": [
    "## Assignment 1.2\n",
    "You’ve experienced convection cooling if you’ve ever extended your hand out the window of a\n",
    "moving vehicle or into a flowing water stream. With the surface of your hand at a temperature of\n",
    " 30°C, there are two cases we need to calculate the heat flux from hand to the environment. \n",
    "- a vehicle at speed of 40 km/h in air at -8°C with a convection coefficient of 40 W/(m2·K).\n",
    "- a vehicle at speed of 0,2 m/s in a water stream at 10°C with a convection coefficient of 900 W/(m2·K).\n",
    "\n",
    "1. Create a function (get_heat_flux_by_convection) in \"thermal_system_calculation.py\" that calculates the heat flux given the temperature of the surface, temperature of the fluid at contact, and the convection coefficient."
   ]
  },
  {
   "cell_type": "markdown",
   "metadata": {
    "pycharm": {
     "name": "#%% md\n"
    }
   },
   "source": [
    "Your equation should be stated here. Implement your function with the name\n",
    "\"get_heat_flux_by_convection\" in the file \"thermal_system_calculation.py\" in the same folder as\n",
    "this notebook file. Your functions should look like:\n",
    "\n",
    "```python\n",
    "def get_heat_flux_by_convection(arg1, arg2, arg3, ...):\n",
    "    heat_flux = equation for heat flux by convection\n",
    "    return heat_flux\n",
    "```"
   ]
  },
  {
   "cell_type": "markdown",
   "metadata": {},
   "source": [
    "2. Calculate the heat flux for each case using the function created. "
   ]
  },
  {
   "cell_type": "code",
   "execution_count": 2,
   "metadata": {
    "pycharm": {
     "name": "#%%\n"
    }
   },
   "outputs": [],
   "source": [
    "from thermal_system_calculation import get_heat_flux_by_convection\n",
    "\n",
    "temp_hand = 30 # Temperature of the hand [degC]\n",
    "\n",
    "# For the first case\n",
    "# heat_flux = get_heat_flux_by_convection(arg1, arg2, arg3)\n",
    "#print(f'The hand loses {heat_flux:.3f} W/m2 to air.')\n",
    "\n",
    "# For the second case\n",
    "# heat_flux = get_heat_flux_by_convection(arg1, arg2, arg3)\n",
    "#print(f'The hand loses {heat_flux:.3f} W/m2 to water.')"
   ]
  },
  {
   "cell_type": "markdown",
   "metadata": {
    "pycharm": {
     "name": "#%% md\n"
    }
   },
   "source": [
    "## Assignment 1.3\n",
    "Explain precisely\n",
    "- The physical mechanisms associated with heat transfer by conduction and convection.\n",
    "- What is the difference between heat transfer rate and heat flux\n",
    "- What is the thermal conductivity? Units and role in heat transfer\n",
    "- What is the driving potential for heat transfer?\n",
    "- The connection between thermodynamics and heat transfer\n",
    "- Fouriers law and Newton’s law of cooling"
   ]
  },
  {
   "cell_type": "markdown",
   "metadata": {
    "pycharm": {
     "name": "#%% md\n"
    }
   },
   "source": [
    "## Assignment 2\n",
    "A plane 1D wall with a thickness of $L=0.01$[m] consisting of a material with a thermal\n",
    "conductivity of $k=225$ [W/mK]. The temperature on the left and right end of the wall is and\n",
    "respectively. Determine the unknown variables in each of the problems 1-5 below.\n",
    "\n",
    "| Problem |$T_1 [^o\\rm{C}]$|$T_2 [^o\\rm{C}]$|$\\frac{dT}{dx} [^o\\rm{C}/\\rm{m}]$|$q''[\\rm{W}/\\rm{m}^2]$|\n",
    "|---|---|---|---|---|\n",
    "|1|100|0|||\n",
    "|2|100||-250||\n",
    "|3|80||+200||\n",
    "|4||-5||4000|\n",
    "|5|30|||-3000|"
   ]
  },
  {
   "cell_type": "code",
   "execution_count": 3,
   "metadata": {
    "pycharm": {
     "name": "#%%\n"
    }
   },
   "outputs": [
    {
     "ename": "NameError",
     "evalue": "name 'temp2' is not defined",
     "output_type": "error",
     "traceback": [
      "\u001b[0;31m---------------------------------------------------------------------------\u001b[0m",
      "\u001b[0;31mNameError\u001b[0m                                 Traceback (most recent call last)",
      "\u001b[0;32m<ipython-input-3-d6a9342e6665>\u001b[0m in \u001b[0;36m<module>\u001b[0;34m\u001b[0m\n\u001b[1;32m      9\u001b[0m \u001b[0;31m# temp2 = calculate temp2\u001b[0m\u001b[0;34m\u001b[0m\u001b[0;34m\u001b[0m\u001b[0;34m\u001b[0m\u001b[0m\n\u001b[1;32m     10\u001b[0m \u001b[0;31m# heat_flux = calculate heat flux\u001b[0m\u001b[0;34m\u001b[0m\u001b[0;34m\u001b[0m\u001b[0;34m\u001b[0m\u001b[0m\n\u001b[0;32m---> 11\u001b[0;31m \u001b[0mprint\u001b[0m \u001b[0;34m(\u001b[0m\u001b[0;34mf'1: temp2 = {temp2:.3f}, q\" = {heat_flux:.3f}'\u001b[0m\u001b[0;34m)\u001b[0m\u001b[0;34m\u001b[0m\u001b[0;34m\u001b[0m\u001b[0m\n\u001b[0m\u001b[1;32m     12\u001b[0m \u001b[0;34m\u001b[0m\u001b[0m\n\u001b[1;32m     13\u001b[0m \u001b[0;31m# 3\u001b[0m\u001b[0;34m\u001b[0m\u001b[0;34m\u001b[0m\u001b[0;34m\u001b[0m\u001b[0m\n",
      "\u001b[0;31mNameError\u001b[0m: name 'temp2' is not defined"
     ]
    }
   ],
   "source": [
    "thickness = 0.01 # [m]\n",
    "thermal_conductivity = 225 # [W/mK]\n",
    "# 1\n",
    "# dt_dx = calculate dt_dx\n",
    "# heat_flux = calculate heat flux\n",
    "# print (f'1: dt_dx = {dt_dx:.3f}, q\" = {heat_flux:.3f}')\n",
    "\n",
    "# 2\n",
    "# temp2 = calculate temp2\n",
    "# heat_flux = calculate heat flux\n",
    "print (f'1: temp2 = {temp2:.3f}, q\" = {heat_flux:.3f}')\n",
    "\n",
    "# 3\n",
    "# temp2 = calculate temp2\n",
    "# heat_flux = calculate heat flux\n",
    "print (f'1: temp2 = {temp2:.3f}, q\" = {heat_flux:.3f}')\n",
    "\n",
    "# 4\n",
    "# dt_dx = calculate dt_dx\n",
    "# temp1 = calculate temp1\n",
    "print (f'1: temp1 = {temp1:.3f}, dT_dx = {dt_dx:.3f}')\n",
    "\n",
    "# 5\n",
    "# dt_dx = calculate dt_dx\n",
    "# temp2 = calculate temp2\n",
    "print (f'1: temp1 = {temp2:.3f}, dT_dx = {dt_dx:.3f}')"
   ]
  },
  {
   "cell_type": "markdown",
   "metadata": {},
   "source": [
    "## Assignment 3\n",
    "We are going to check out different strategies for cargo heating (crude oil) and how this affects the operational costs. The only requirement is that the cargo should not during any time of the route be below a critical temperature $T_\\rm{crit}$ and that at start of unloading the cargo, be above a required temperature \n",
    "$T_\\rm{pump}$.\n",
    "\n",
    "The temperature of the crude oil at loading is given. It is assumed that the steel in the cargo tanks will have the same temperature as the oil before the ship is departing. When the ship is departing the oil (and steel) will lose heat to the cold sea, and this heat loss is assumed linearly dependent of falling temperature of cargo and steel. When the cargo has reached a given temperature we start to heat the cargo using two steam boilers installed onboard. The cargo is heated until a required temperature, which is the unloading temperature, has been reached. Data for the vessel is"
   ]
  },
  {
   "cell_type": "code",
   "execution_count": null,
   "metadata": {},
   "outputs": [],
   "source": [
    "mass_total_cargo = 40000000 # Total cargo mass, kg\n",
    "mass_steel = 2000000 # Total heated steel mass, kg\n",
    "temp_initial = 60 # Loading temperature, degC\n",
    "temp_unloading = 60 # Unloading temperature, degC\n",
    "heating_power = 8000000 # Heating power delivered from one boiler , W\n",
    "heat_loss_to_sea_30 = 3000000 # Heat loss to sea at 30degC, W\n",
    "heat_loss_to_sea_60 = 7000000 # Heat loss to sea at 60degC, W"
   ]
  },
  {
   "cell_type": "markdown",
   "metadata": {},
   "source": [
    "Specific heat capacity of oil and steel is"
   ]
  },
  {
   "cell_type": "code",
   "execution_count": null,
   "metadata": {},
   "outputs": [],
   "source": [
    "cp_oil = 1800 # Specific heat capacity of crude oil, J/kgK\n",
    "cp_steel = 450 # Specific heat capacity of steel, J/kgK"
   ]
  },
  {
   "cell_type": "markdown",
   "metadata": {},
   "source": [
    "1. Find $\\dot{T}(t)$, which gives the rate of temperature change at time t in seconds, which\n",
    "accounts for the heat loss and heating from boiler into account. Create a python function here."
   ]
  },
  {
   "cell_type": "markdown",
   "metadata": {},
   "source": [
    "Develop the differential equation of the temperature with regard to time using the First Law of\n",
    "Thermodynamics. You can get the function for the heat loss as a function in temperature."
   ]
  },
  {
   "cell_type": "code",
   "execution_count": null,
   "metadata": {},
   "outputs": [],
   "source": [
    "def get_heat_loss(temperature):\n",
    "    # your function here\n",
    "\n",
    "def get_temperature_derivative(time, temperature, heating_power):\n",
    "    # your function here"
   ]
  },
  {
   "cell_type": "markdown",
   "metadata": {},
   "source": [
    "2. Solve the differential equation in 3-1 numerically and analytically. Compare the two solutions."
   ]
  },
  {
   "cell_type": "markdown",
   "metadata": {},
   "source": [
    "You should be able to use \"get_temperature_derivative\" function to solve the\n",
    "differenial equation numerically. You can use the following function to solve the equation."
   ]
  },
  {
   "cell_type": "code",
   "execution_count": null,
   "metadata": {},
   "outputs": [],
   "source": [
    "from functools import partial\n",
    "from scipy.integrate import solve_ivp\n",
    "\n",
    "def get_temperature_crude_oil_numerical_solution(time, heating_power, initial_temperature):\n",
    "    \"\"\"Returns solution with the fields of t(time), y(solution at t), etc\n",
    "\n",
    "    Arguments:\n",
    "        time: End time for the solution in seconds\n",
    "        heating_power: heating power from the boile in W\n",
    "        initial_temperature: initial temperature of the crude oil in the cargo hold\n",
    "    \"\"\"\n",
    "    derivative_function = partial(get_temperature_derivative, heating_power=heating_power)\n",
    "    return solve_ivp(derivative_function, t_span=(0, time), y0=[initial_temperature])"
   ]
  },
  {
   "cell_type": "code",
   "execution_count": null,
   "metadata": {
    "collapsed": false,
    "jupyter": {
     "outputs_hidden": false
    },
    "pycharm": {
     "name": "#%%\n"
    }
   },
   "outputs": [],
   "source": [
    "import matplotlib.pyplot as plt\n",
    "\n",
    "initial_temperature = 30\n",
    "time_end = 10000000\n",
    "\n",
    "# Now we can use the numerical solution\n",
    "solution = get_temperature_crude_oil_numerical_solution(\n",
    "    time=time_end,\n",
    "    heating_power=heating_power,\n",
    "    initial_temperature=initial_temperature\n",
    ")\n",
    "\n",
    "# Let's plot the result\n",
    "fig, ax = plt.subplots(figsize=(12, 8))\n",
    "ax.plot(solution.t, solution.y[0,:], linestyle='--', color=\"tab:red\", label='Numerical solution')"
   ]
  },
  {
   "cell_type": "markdown",
   "metadata": {},
   "source": [
    "For analytical solution, we can set the equation for $\\dot{T}$ in function of $T$. You should\n",
    "solve the differential eqation by integrating on both sides."
   ]
  },
  {
   "cell_type": "code",
   "execution_count": null,
   "metadata": {},
   "outputs": [],
   "source": [
    "def get_temperature_crude_oil(time, heating_power, initial_temperature):\n",
    "    # temperature = Your function here\n",
    "    return temperature"
   ]
  },
  {
   "cell_type": "markdown",
   "metadata": {},
   "source": [
    "Let's calculate the temperature for time horizon and compare it with the numerical solution."
   ]
  },
  {
   "cell_type": "code",
   "execution_count": null,
   "metadata": {},
   "outputs": [],
   "source": [
    "import numpy as np\n",
    "\n",
    "time_interval = 10000\n",
    "time_vector = np.arange(0, time_end + time_interval, time_interval)\n",
    "\n",
    "# First calculate the temperature from the analytical solution\n",
    "temperature_analytical = get_temperature_crude_oil(\n",
    "    time=time_vector,\n",
    "    heating_power=heating_power,\n",
    "    initial_temperature=initial_temperature\n",
    ")\n",
    "fig, ax = plt.subplots(figsize=(12, 8))\n",
    "ax.plot(time_vector, temperature_analytical, color=\"tab:blue\", label=\"Analytic solution\")\n",
    "ax.plot(solution.t, solution.y[0,:], linestyle='--', color=\"tab:red\", label='Numerical solution')\n",
    "ax.legend()"
   ]
  },
  {
   "cell_type": "markdown",
   "metadata": {},
   "source": [
    "3. How long does it take until the crude oil temperature has dropped to 30<sup>o</sup>C when the temperature of crude oil was 60<sup>o</sup>C initially and there is no heating? "
   ]
  },
  {
   "cell_type": "code",
   "execution_count": null,
   "metadata": {},
   "outputs": [],
   "source": [
    "# Set the temperatuers\n",
    "initial_temperature = #\n",
    "final_temperature = #\n",
    "\n",
    "# Let's plot the graph first and make a rough guess\n",
    "solution = get_temperature_crude_oil_numerical_solution(\n",
    "    time=10 * 24 * 3600, # 10 days \n",
    "    heating_power=#,\n",
    "    initial_temperature=initial_temperature\n",
    ")\n",
    "fig, ax = plt.subplots()\n",
    "ax.plot(solution.t, solution.y[0, :])\n",
    "ax.set_xlabel('time (s)')\n",
    "ax.set_ylabel('Temperature (degC)')"
   ]
  },
  {
   "cell_type": "markdown",
   "metadata": {
    "pycharm": {
     "name": "#%% md\n"
    }
   },
   "source": [
    "The solution seems to be found around $t = ?$ which is ? days and ? hours. We can numerically\n",
    "solve this equation."
   ]
  },
  {
   "cell_type": "code",
   "execution_count": null,
   "metadata": {},
   "outputs": [],
   "source": [
    "import datetime\n",
    "\n",
    "# Let's set up the equation to solve \n",
    "def equation_to_solve(time_end, heating_power, initial_temperature, final_temperature):\n",
    "    solution = get_temperature_crude_oil_numerical_solution(\n",
    "        time=time_end,\n",
    "        heating_power=heating_power,\n",
    "        initial_temperature=initial_temperature\n",
    "    )\n",
    "    return solution.y[0, -1] - final_temperature\n",
    "\n",
    "initial_time_end = ? # Set the value based on the initial guess\n",
    "equation_to_solve_for_this_problem = partial(\n",
    "    equation_to_solve, \n",
    "    heating_power = ?, # What is the heating value when you just let it cool\n",
    "    initial_temperature=initial_temperature,\n",
    "    final_temperature=final_temperature\n",
    ")\n",
    "solution = root(equation_to_solve_for_this_problem, initial_time_end)\n",
    "          \n",
    "if solution.status == 1:  # Solution converged\n",
    "    time_delta = datetime.timedelta(seconds=solution.x[0])\n",
    "    days = time_delta.days\n",
    "    hours = int(time_delta.seconds // 3600)\n",
    "    seconds_left = time_delta.seconds - hours * 3600\n",
    "    minutes = int(seconds_left // 60)\n",
    "    seconds = seconds_left - minutes * 60\n",
    "\n",
    "    print(f\"It takes {time_delta.days} days, {hours} hours, {minutes} minutes, {seconds:.2f} seconds \")\n"
   ]
  },
  {
   "cell_type": "markdown",
   "metadata": {},
   "source": [
    "3. When the cargo temperature has reached 30 <sup>o</sup>C both the boilers are started, but\n",
    "after 30 hours operation one of the boilers are turned off due to some technical problems.\n",
    "Will we be able to reach the required unload temperature 60 oC before in harbor?"
   ]
  },
  {
   "cell_type": "markdown",
   "metadata": {},
   "source": [
    "You should divide the case into three parts. One part heating with two boilers for 30 hours.\n",
    "The other with heating with one boiler until it reaches 60<sup>o</sup>C."
   ]
  },
  {
   "cell_type": "code",
   "execution_count": null,
   "metadata": {
    "pycharm": {
     "name": "#%%\n"
    }
   },
   "outputs": [],
   "source": [
    "# First calculate the temperature after running two boilers for 30 hours\n",
    "solution = get_temperature_crude_oil_numerical_solution(\n",
    "    time=?, # Set your duration here in seconds\n",
    "    initial_temperature=?, # Set the initial temperature\n",
    "    heating_power=?, # Set the heating power\n",
    ")\n",
    "temperature_after_30hours_heating = solution.y[0, -1]\n",
    "print(f\"Temperatuer reaches {temperature_after_30hours_heating} after 30 hours\")"
   ]
  },
  {
   "cell_type": "code",
   "execution_count": null,
   "metadata": {
    "collapsed": false,
    "jupyter": {
     "outputs_hidden": false
    },
    "pycharm": {
     "name": "#%%\n"
    }
   },
   "outputs": [],
   "source": [
    "# Now we well calculate how long it takes to reach the final temperature 60oC\n",
    "equation_to_solve_for_this_problem = partial(\n",
    "    equation_to_solve,\n",
    "    heating_power=?, # Set the heating power\n",
    "    initial_temperature=temperature_after_30hours_heating,\n",
    "    final_temperature=? # Set the final temperature\n",
    ")\n",
    "initial_guess = 7 * 24 * 3600 # Initial guess is 7 days\n",
    "solution = root(equation_to_solve_for_this_problem, 7 * 24 * 3600)\n",
    "\n",
    "if solution.status == 1:  # Solution converged\n",
    "    time_delta = datetime.timedelta(seconds=solution.x[0])\n",
    "    days = time_delta.days\n",
    "    hours = int(time_delta.seconds // 3600)\n",
    "    seconds_left = time_delta.seconds - hours * 3600\n",
    "    minutes = int(seconds_left // 60)\n",
    "    seconds = seconds_left - minutes * 60\n",
    "\n",
    "    print(f\"It takes {time_delta.days} days, {hours} hours, {minutes} minutes, {seconds:.2f} seconds with one boiler to reach 60oC\")\n"
   ]
  },
  {
   "cell_type": "markdown",
   "metadata": {},
   "source": [
    "You conclusion if it will be able to heat the oil up to 60<sup>o</sup>C."
   ]
  },
  {
   "cell_type": "markdown",
   "metadata": {},
   "source": [
    "3. What is the power required to keep the temperature at 40<sup>o</sup>C."
   ]
  },
  {
   "cell_type": "markdown",
   "metadata": {
    "pycharm": {
     "name": "#%% md\n"
    }
   },
   "source": [
    "Your explanation here"
   ]
  },
  {
   "cell_type": "code",
   "execution_count": null,
   "metadata": {
    "collapsed": false,
    "jupyter": {
     "outputs_hidden": false
    },
    "pycharm": {
     "name": "#%%\n"
    }
   },
   "outputs": [],
   "source": [
    "heating_power = ? # You need to calculate the heating power here.\n",
    "print(f\"{heating_power / 1000:.1f}kW is required.\")"
   ]
  },
  {
   "cell_type": "markdown",
   "metadata": {},
   "source": []
  }
 ],
 "metadata": {
  "kernelspec": {
   "display_name": "Python 3",
   "language": "python",
   "name": "python3"
  },
  "language_info": {
   "codemirror_mode": {
    "name": "ipython",
    "version": 3
   },
   "file_extension": ".py",
   "mimetype": "text/x-python",
   "name": "python",
   "nbconvert_exporter": "python",
   "pygments_lexer": "ipython3",
   "version": "3.8.10"
  }
 },
 "nbformat": 4,
 "nbformat_minor": 4
}
