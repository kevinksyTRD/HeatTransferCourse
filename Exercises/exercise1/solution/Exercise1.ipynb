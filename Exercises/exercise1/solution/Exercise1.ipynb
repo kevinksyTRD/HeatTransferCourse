{
 "cells": [
  {
   "cell_type": "markdown",
   "metadata": {
    "pycharm": {
     "name": "#%% md\n"
    }
   },
   "source": [
    "# TMR4222 Thermal System Exercise 1"
   ]
  },
  {
   "cell_type": "markdown",
   "metadata": {
    "pycharm": {
     "name": "#%% md\n"
    }
   },
   "source": [
    "## Assignment 1.1"
   ]
  },
  {
   "cell_type": "markdown",
   "metadata": {
    "pycharm": {
     "name": "#%% md\n"
    }
   },
   "source": [
    "The heat flux through a wood slab 60 mm thick, whose inner and outer surface temperatures are\n",
    "35 and 15°C, respectively, has been determined to be 35 W/m2.  What is the thermal conductivity\n",
    "of the wood?"
   ]
  },
  {
   "cell_type": "markdown",
   "metadata": {
    "pycharm": {
     "name": "#%% md\n"
    }
   },
   "source": [
    "1. Create a function (get_heat_flux_by_conduction) in \"thermal_system_calculation.py\" to\n",
    "calculate  the heat flux by conduction for given temperature at which heat flows from,\n",
    "temperature  at which heat flows to and thickness."
   ]
  },
  {
   "cell_type": "markdown",
   "metadata": {},
   "source": [
    "As the heat flux by conduction can be calculated by the following equation\n",
    "$$q'' = k \\frac{\\Delta T}{t} $$,\n",
    "we can easily set the function as in 'thermal_system_calculation.py'. "
   ]
  },
  {
   "cell_type": "markdown",
   "metadata": {},
   "source": [
    "2. Find the thermal conductivity given the function from 1. and conditions using scipy.optimize\n",
    ".root."
   ]
  },
  {
   "cell_type": "code",
   "execution_count": 1,
   "metadata": {
    "pycharm": {
     "name": "#%%\n"
    }
   },
   "outputs": [
    {
     "name": "stdout",
     "output_type": "stream",
     "text": [
      "The thermal conductivity is 0.105 W/mK\n"
     ]
    }
   ],
   "source": [
    "from functools import partial\n",
    "from scipy.integrate import solve_ivp\n",
    "from scipy.optimize import root\n",
    "import numpy as np\n",
    "import matplotlib.pyplot as plt\n",
    "import datetime\n",
    "from thermal_system_calculation import get_heat_flux_by_conduction\n",
    "\n",
    "# We are given the following conditions.\n",
    "heat_flux_given = 35 # Heat flux through the wood slab [W/m2]\n",
    "thickness = 0.06 # Thickness of the wood slab [m]\n",
    "temp_inner = 35 # Temperature at inner surface [degC]\n",
    "temp_outer = 15 # Temperature at outer surface [degC]\n",
    "\n",
    "# Here we set the equation to solve as f(x) = 0\n",
    "def equation_to_solve(thermal_conductivity):\n",
    "    heat_flux =  get_heat_flux_by_conduction(\n",
    "        temperature_from=temp_inner,\n",
    "        temperature_to=temp_outer,\n",
    "        thickness=thickness,\n",
    "        thermal_conductivity=thermal_conductivity\n",
    "    )\n",
    "    return heat_flux - heat_flux_given\n",
    "\n",
    "# Now we use the scipy.optimize.root funcion to find the thermal conductivity\n",
    "result = root(equation_to_solve, 0)\n",
    "thermal_conductivity = result.x[0]\n",
    "print(f'The thermal conductivity is {thermal_conductivity:.3f} W/mK')"
   ]
  },
  {
   "cell_type": "markdown",
   "metadata": {
    "pycharm": {
     "name": "#%% md\n"
    }
   },
   "source": [
    "## Assignment 1.2\n",
    "You’ve experienced convection cooling if you’ve ever extended your hand out the window of a\n",
    "moving vehicle or into a flowing water stream. With the surface of your hand at a temperature of\n",
    " 30°C, there are two cases we need to calculate the heat flux from hand to the environment. \n",
    "- a vehicle at speed of 40 km/h in air at -8°C with a convection coefficient of 40 W/(m2·K).\n",
    "- a vehicle at speed of 0,2 m/s in a water stream at 10°C with a convection coefficient of 900 W/(m2·K).\n",
    "\n",
    "1. Create a function (get_heat_flux_by_convection) in \"thermal_system_calculation.py\" that calculates the heat flux given the temperature of the surface, temperature of the fluid at contact, and the convection coefficient."
   ]
  },
  {
   "cell_type": "markdown",
   "metadata": {
    "pycharm": {
     "name": "#%% md\n"
    }
   },
   "source": [
    "Heat flux by convection can be calculated by the following equation.\n",
    "$$ q'' = \\alpha \\times \\Delta T $$\n",
    "where $\\alpha$ is a convection coefficient.\n",
    "We can create a function for it."
   ]
  },
  {
   "cell_type": "markdown",
   "metadata": {},
   "source": [
    "2. Calculate the heat flux for each case using the function created. "
   ]
  },
  {
   "cell_type": "code",
   "execution_count": 2,
   "metadata": {
    "pycharm": {
     "name": "#%%\n"
    }
   },
   "outputs": [
    {
     "name": "stdout",
     "output_type": "stream",
     "text": [
      "The hand loses 1520.000 W/m2 to air.\n",
      "The hand loses 36000.000 W/m2 to water.\n"
     ]
    }
   ],
   "source": [
    "from thermal_system_calculation import get_heat_flux_by_convection\n",
    "\n",
    "temp_hand = 30 # Temperature of the hand [degC]\n",
    "\n",
    "# For the first case\n",
    "temp_air = -8 # Temperature of the air [degC]\n",
    "alpha = 40 # Heat convection coefficient [W/(m2 k)]\n",
    "heat_flux = get_heat_flux_by_convection(alpha, temp_hand, temp_air)\n",
    "print(f'The hand loses {heat_flux:.3f} W/m2 to air.')\n",
    "\n",
    "# For the second case\n",
    "temp_air = -10 # Temperature of the air [degC]\n",
    "alpha = 900 # Heat convection coefficient [W/(m2 k)]\n",
    "heat_flux = get_heat_flux_by_convection(alpha, temp_hand, temp_air)\n",
    "print(f'The hand loses {heat_flux:.3f} W/m2 to water.')"
   ]
  },
  {
   "cell_type": "markdown",
   "metadata": {
    "pycharm": {
     "name": "#%% md\n"
    }
   },
   "source": [
    "## Assignment 1.3\n",
    "Explain precisely\n",
    "- The physical mechanisms associated with heat transfer by conduction and convection.\n",
    "- What is the difference between heat transfer rate and heat flux\n",
    "- What is the thermal conductivity? Units and role in heat transfer\n",
    "- What is the driving potential for heat transfer?\n",
    "- The connection between thermodynamics and heat transfer\n",
    "- Fouriers law and Newton’s law of cooling"
   ]
  },
  {
   "cell_type": "markdown",
   "metadata": {
    "pycharm": {
     "name": "#%% md\n"
    }
   },
   "source": [
    "## Assignment 2\n",
    "A plane 1D wall with a thickness of $L=0.01$[m] consisting of a material with a thermal\n",
    "conductivity of $k=225$ [W/mK]. The temperature on the left and right end of the wall is and\n",
    "respectively. Determine the unknown variables in each of the problems 1-5 below.\n",
    "\n",
    "| Problem |$T_1 [^o\\rm{C}]$|$T_2 [^o\\rm{C}]$|$\\frac{dT}{dx} [^o\\rm{C}/\\rm{m}]$|$q''[\\rm{W}/\\rm{m}^2]$|\n",
    "|---|---|---|---|---|\n",
    "|1|100|0|||\n",
    "|2|100||-250||\n",
    "|3|80||+200||\n",
    "|4||-5||4000|\n",
    "|5|30|||-3000|"
   ]
  },
  {
   "cell_type": "code",
   "execution_count": 3,
   "metadata": {
    "pycharm": {
     "name": "#%%\n"
    }
   },
   "outputs": [
    {
     "name": "stdout",
     "output_type": "stream",
     "text": [
      "1: dt_dx = 10000.000, q\" = 2250000.000\n",
      "1: temp2 = 102.500, q\" = -56250.000\n",
      "1: temp2 = 78.000, q\" = 45000.000\n",
      "1: temp1 = -4.822, dT_dx = 17.778\n",
      "1: temp1 = 30.133, dT_dx = -13.333\n"
     ]
    }
   ],
   "source": [
    "thickness = 0.01 # [m]\n",
    "thermal_conductivity = 225 # [W/mK]\n",
    "# 1\n",
    "temp1 = 100\n",
    "temp2 = 0\n",
    "dt_dx = (temp1 - temp2) / thickness\n",
    "heat_flux = thermal_conductivity * dt_dx\n",
    "print (f'1: dt_dx = {dt_dx:.3f}, q\" = {heat_flux:.3f}')\n",
    "\n",
    "# 2\n",
    "dt_dx = -250\n",
    "temp1 = 100\n",
    "temp2 = (dt_dx * thickness - temp1) * -1\n",
    "heat_flux = thermal_conductivity * dt_dx\n",
    "print (f'1: temp2 = {temp2:.3f}, q\" = {heat_flux:.3f}')\n",
    "\n",
    "# 3\n",
    "temp1 = 80\n",
    "dt_dx = 200\n",
    "temp2 = (dt_dx * thickness - temp1) * -1\n",
    "heat_flux = thermal_conductivity * dt_dx\n",
    "print (f'1: temp2 = {temp2:.3f}, q\" = {heat_flux:.3f}')\n",
    "\n",
    "# 4\n",
    "temp2 = -5\n",
    "heat_flux = 4000\n",
    "dt_dx = heat_flux / thermal_conductivity\n",
    "temp1 = dt_dx * thickness + temp2\n",
    "print (f'1: temp1 = {temp1:.3f}, dT_dx = {dt_dx:.3f}')\n",
    "\n",
    "# 5\n",
    "temp1 = 30\n",
    "heat_flux = -3000\n",
    "dt_dx = heat_flux / thermal_conductivity\n",
    "temp2 = (dt_dx * thickness - temp1) * -1\n",
    "print (f'1: temp1 = {temp2:.3f}, dT_dx = {dt_dx:.3f}')"
   ]
  },
  {
   "cell_type": "markdown",
   "metadata": {},
   "source": [
    "## Assignment 3\n",
    "We are going to check out different strategies for cargo heating (crude oil) and how this affects the operational costs. The only requirement is that the cargo should not during any time of the route be below a critical temperature $T_\\rm{crit}$ and that at start of unloading the cargo, be above a required temperature \n",
    "$T_\\rm{pump}$.\n",
    "\n",
    "The temperature of the crude oil at loading is given. It is assumed that the steel in the cargo tanks will have the same temperature as the oil before the ship is departing. When the ship is departing the oil (and steel) will lose heat to the cold sea, and this heat loss is assumed linearly dependent of falling temperature of cargo and steel. When the cargo has reached a given temperature we start to heat the cargo using two steam boilers installed onboard. The cargo is heated until a required temperature, which is the unloading temperature, has been reached. Data for the vessel is"
   ]
  },
  {
   "cell_type": "code",
   "execution_count": 4,
   "metadata": {},
   "outputs": [],
   "source": [
    "mass_total_cargo = 40000000 # Total cargo mass, kg\n",
    "mass_steel = 2000000 # Total heated steel mass, kg\n",
    "temp_initial = 60 # Loading temperature, degC\n",
    "temp_unloading = 60 # Unloading temperature, degC\n",
    "heating_power = 8000000 # Heating power delivered from one boiler , W\n",
    "heat_loss_to_sea_30 = 3000000 # Heat loss to sea at 30degC, W\n",
    "heat_loss_to_sea_60 = 7000000 # Heat loss to sea at 60degC, W"
   ]
  },
  {
   "cell_type": "markdown",
   "metadata": {},
   "source": [
    "Specific heat capacity of oil and steel is"
   ]
  },
  {
   "cell_type": "code",
   "execution_count": 5,
   "metadata": {},
   "outputs": [],
   "source": [
    "cp_oil = 1800 # Specific heat capacity of crude oil, J/kgK\n",
    "cp_steel = 450 # Specific heat capacity of steel, J/kgK"
   ]
  },
  {
   "cell_type": "markdown",
   "metadata": {},
   "source": [
    "1. Find a function $\\dot{T}(t)$, which gives the rate of temperature change at time t in seconds,\n",
    "  which accounts for the heat loss and heating from boiler into account. Create a function for it."
   ]
  },
  {
   "cell_type": "markdown",
   "metadata": {},
   "source": [
    "First, energy balance for the cargo hold will be accounted.\n",
    "$$\\dot{U}_\\mathrm{oil} = \\dot{Q}_\\mathrm{heating} -\\dot{Q}_\\mathrm{loss}$$\n",
    "Here, $U=m_\\mathrm{oil} \\cdot c_{p, \\mathrm{oil}} \\left(T_\\mathrm{oil} - T_{ref}\\right) + U_\\mathrm{ref}$ and, therefore, $\\dot{U} = m_\\mathrm{oil} \\cdot c_{p, \\mathrm{oil}} \\cdot \\dot{T}_\\mathrm{oil}$ with assumption that mass and the heat capacity is constant. If we sort the equation for $\\dot{T}_\\mathrm{oil}$,\n",
    "\n",
    "$$\\dot{T}_\\mathrm{oil} = \\frac{1}{m_\\mathrm{oil} c_{p, \\mathrm{oil}}} \\left(\\dot{Q}_\\mathrm{heating} - \\dot{Q}_\\mathrm{loss} \\right) $$\n",
    "\n",
    "We assumed that the heat loss to the sea is linearly proportional to the temperature of the cargo. As we are given with the heat loss for at two temperature points, we can find the function,\n",
    "$$\\dot{Q}_{loss}\\left(T_\\rm{oil}\\right) = aT_\\rm{oil} + b$$"
   ]
  },
  {
   "cell_type": "code",
   "execution_count": 6,
   "metadata": {},
   "outputs": [
    {
     "name": "stdout",
     "output_type": "stream",
     "text": [
      "a = 133333.333, b = -1000000.000\n"
     ]
    }
   ],
   "source": [
    "a = (heat_loss_to_sea_60 - heat_loss_to_sea_30) / (60 - 30)\n",
    "b = heat_loss_to_sea_60 - a * 60\n",
    "print(f'a = {a:.3f}, b = {b:.3f}')"
   ]
  },
  {
   "cell_type": "markdown",
   "metadata": {},
   "source": [
    "Then, we can create a function for the $\\dot{T}_\\mathrm{oil}$"
   ]
  },
  {
   "cell_type": "code",
   "execution_count": 7,
   "metadata": {},
   "outputs": [],
   "source": [
    "def get_heat_loss(temperature):\n",
    "    return a * temperature + b\n",
    "\n",
    "def get_temperature_derivative(time, temperature, heating_power):\n",
    "    return 1 / (mass_total_cargo * cp_oil) * (heating_power - get_heat_loss(temperature))"
   ]
  },
  {
   "cell_type": "markdown",
   "metadata": {},
   "source": [
    "2. Solve the differential equation in 3-1 numerically and analytically. Compare the two solutions."
   ]
  },
  {
   "cell_type": "markdown",
   "metadata": {},
   "source": [
    "We can set a function that solves it numerically with ODE solver"
   ]
  },
  {
   "cell_type": "code",
   "execution_count": 8,
   "metadata": {},
   "outputs": [],
   "source": [
    "def get_temperature_crude_oil_numerical_solution(time, heating_power, initial_temperature):\n",
    "    \"\"\"Returns solution with the fields of t(time), y(solution at t), etc\"\"\"\n",
    "    derivative_function = partial(get_temperature_derivative, heating_power=heating_power)\n",
    "    return solve_ivp(derivative_function, t_span=(0, time), y0=[initial_temperature])"
   ]
  },
  {
   "cell_type": "code",
   "execution_count": 9,
   "metadata": {
    "collapsed": false,
    "jupyter": {
     "outputs_hidden": false
    },
    "pycharm": {
     "name": "#%%\n"
    }
   },
   "outputs": [
    {
     "data": {
      "text/plain": [
       "[<matplotlib.lines.Line2D at 0x7fcb41772340>]"
      ]
     },
     "execution_count": 9,
     "metadata": {},
     "output_type": "execute_result"
    },
    {
     "data": {
      "image/png": "[encoded data removed]",
      "text/plain": [
       "<Figure size 864x576 with 1 Axes>"
      ]
     },
     "metadata": {
      "needs_background": "light"
     },
     "output_type": "display_data"
    }
   ],
   "source": [
    "import matplotlib.pyplot as plt\n",
    "\n",
    "initial_temperature = 30\n",
    "time_end = 10000000\n",
    "\n",
    "# Now we can use the numerical solution\n",
    "solution = get_temperature_crude_oil_numerical_solution(\n",
    "    time=time_end,\n",
    "    heating_power=heating_power,\n",
    "    initial_temperature=initial_temperature\n",
    ")\n",
    "\n",
    "# Let's plot the result\n",
    "fig, ax = plt.subplots(figsize=(12, 8))\n",
    "ax.plot(solution.t, solution.y[0,:], linestyle='--', color=\"tab:red\", label='Numerical solution')"
   ]
  },
  {
   "cell_type": "markdown",
   "metadata": {},
   "source": [
    "For analytical solution, we can set the equation for $\\dot{T}$ in function of $T$."
   ]
  },
  {
   "cell_type": "markdown",
   "metadata": {},
   "source": [
    "$$\\dot{T}_{oil} = a_1 T + a_0$$\n",
    "$$\\dot{T}_{oil} = a_1 \\left(T + \\frac{a_0}{a_1}\\right)$$\n",
    "The coeffient of the right hand side of the equation is"
   ]
  },
  {
   "cell_type": "markdown",
   "metadata": {},
   "source": [
    "Then, the differenctial equation is\n",
    "$$ \\dot{T}_{oil} = \\frac{1}{m_{oil} c_{p,oil}}\\left(\\dot{Q}_\\mathrm{heating} - aT - b\\right)$$"
   ]
  },
  {
   "cell_type": "code",
   "execution_count": 10,
   "metadata": {},
   "outputs": [
    {
     "name": "stdout",
     "output_type": "stream",
     "text": [
      "a1 = -0.00000185\n"
     ]
    }
   ],
   "source": [
    "a1 = -1 / (mass_total_cargo * cp_oil) * a\n",
    "# For a0, we will define a function as it depends on the heating power from the boiler\n",
    "def get_a0(heating_power):\n",
    "    return 1 / (mass_total_cargo * cp_oil) * (heating_power - b)\n",
    "print(f'a1 = {a1:.8f}')"
   ]
  },
  {
   "cell_type": "markdown",
   "metadata": {
    "pycharm": {
     "name": "#%% md\n"
    }
   },
   "source": [
    "Sorting the equation to solve the differential equation,\n",
    "\n",
    "$$\\int_{T_0}^{T} \\frac{1}{T + \\frac{a_0}{a_1}} dT = \\int_{0}^{t} a_1 dt$$\n",
    "$$ ln(T + \\frac{a_0}{a_1}) = a_1 t + ln(T_0 + \\frac{a_0}{a_1}) $$\n",
    "$$ T = e^{a_1 t + ln(T_0 + \\frac{a_0}{a_1})} - \\frac{a_0}{a_1}$$\n",
    "$$ T = \\left(T_0 + \\frac{a_0}{a_1}\\right)e^{a_1 t} - \\frac{a_0}{a_1}$$\n",
    "\n",
    "Now we can create a function to calculate $T$ directly."
   ]
  },
  {
   "cell_type": "code",
   "execution_count": 11,
   "metadata": {},
   "outputs": [],
   "source": [
    "def get_temperature_crude_oil(time, a1, heating_power, initial_temperature):\n",
    "    a0 = get_a0(heating_power)\n",
    "    print(f'a0: {a0:.3f}, a0/a1: {a0/a1:.3f}')\n",
    "    return (initial_temperature + a0/a1) * np.exp(a1 * time) - a0 / a1"
   ]
  },
  {
   "cell_type": "markdown",
   "metadata": {},
   "source": [
    "Let's calculate the temperature for time horizon and compare it with the numerical solution."
   ]
  },
  {
   "cell_type": "code",
   "execution_count": 12,
   "metadata": {},
   "outputs": [
    {
     "name": "stdout",
     "output_type": "stream",
     "text": [
      "a0: 0.000, a0/a1: -67.500\n"
     ]
    },
    {
     "data": {
      "text/plain": [
       "<matplotlib.legend.Legend at 0x7fcb809ba9a0>"
      ]
     },
     "execution_count": 12,
     "metadata": {},
     "output_type": "execute_result"
    },
    {
     "data": {
      "image/png": "[encoded data removed]",
      "text/plain": [
       "<Figure size 864x576 with 1 Axes>"
      ]
     },
     "metadata": {
      "needs_background": "light"
     },
     "output_type": "display_data"
    }
   ],
   "source": [
    "time_interval = 10000\n",
    "time_vector = np.arange(0, time_end + time_interval, time_interval)\n",
    "\n",
    "# First calculate the temperature from the analytical solution\n",
    "temperature_analytical = get_temperature_crude_oil(\n",
    "    time=time_vector,\n",
    "    a1=a1,\n",
    "    heating_power=heating_power,\n",
    "    initial_temperature=initial_temperature\n",
    ")\n",
    "fig, ax = plt.subplots(figsize=(12, 8))\n",
    "ax.plot(time_vector, temperature_analytical, color=\"tab:blue\", label=\"Analytic solution\")\n",
    "ax.plot(solution.t, solution.y[0,:], linestyle='--', color=\"tab:red\", label='Numerical solution')\n",
    "ax.legend()"
   ]
  },
  {
   "cell_type": "markdown",
   "metadata": {},
   "source": [
    "3. How long does it take until the crude oil temperature has dropped to 30<sup>o</sup>C when the temperature of crude oil was 60<sup>o</sup>C initially and there is no heating? "
   ]
  },
  {
   "cell_type": "code",
   "execution_count": 13,
   "metadata": {},
   "outputs": [
    {
     "data": {
      "text/plain": [
       "Text(0, 0.5, 'Temperature (degC)')"
      ]
     },
     "execution_count": 13,
     "metadata": {},
     "output_type": "execute_result"
    },
    {
     "data": {
      "image/png": "[encoded data removed]",
      "text/plain": [
       "<Figure size 432x288 with 1 Axes>"
      ]
     },
     "metadata": {
      "needs_background": "light"
     },
     "output_type": "display_data"
    }
   ],
   "source": [
    "initial_temperature = 60\n",
    "final_temperature = 30\n",
    "\n",
    "# Let's plot the graph first and make a rough guess\n",
    "solution = get_temperature_crude_oil_numerical_solution(\n",
    "    time=10 * 24 * 3600, # 10 days \n",
    "    heating_power=0,\n",
    "    initial_temperature=initial_temperature\n",
    ")\n",
    "fig, ax = plt.subplots()\n",
    "ax.plot(solution.t, solution.y[0, :])\n",
    "ax.set_xlabel('time (s)')\n",
    "ax.set_ylabel('Temperature (degC)')"
   ]
  },
  {
   "cell_type": "raw",
   "metadata": {},
   "source": [
    "The solution seems to be found around $t = 500000$ which is 5 days and 19 hours. We can numerically solve this equation."
   ]
  },
  {
   "cell_type": "code",
   "execution_count": 14,
   "metadata": {},
   "outputs": [
    {
     "name": "stdout",
     "output_type": "stream",
     "text": [
      "It takes 5 days, 7 hours, 5 minutes, 50.00 seconds \n"
     ]
    }
   ],
   "source": [
    "# Let's set up the equation to solve \n",
    "def equation_to_solve(time_end, heating_power, initial_temperature, final_temperature):\n",
    "    solution = get_temperature_crude_oil_numerical_solution(\n",
    "        time=time_end,\n",
    "        heating_power=heating_power,\n",
    "        initial_temperature=initial_temperature\n",
    "    )\n",
    "    return solution.y[0, -1] - final_temperature\n",
    "\n",
    "initial_time_end = 500000\n",
    "equation_to_solve_for_this_problem = partial(\n",
    "    equation_to_solve, \n",
    "    heating_power = 0,\n",
    "    initial_temperature=initial_temperature,\n",
    "    final_temperature=final_temperature\n",
    ")\n",
    "solution = root(equation_to_solve_for_this_problem, initial_time_end)\n",
    "          \n",
    "if solution.status == 1:  # Solution converged\n",
    "    time_delta = datetime.timedelta(seconds=solution.x[0])\n",
    "    days = time_delta.days\n",
    "    hours = int(time_delta.seconds // 3600)\n",
    "    seconds_left = time_delta.seconds - hours * 3600\n",
    "    minutes = int(seconds_left // 60)\n",
    "    seconds = seconds_left - minutes * 60\n",
    "\n",
    "    print(f\"It takes {time_delta.days} days, {hours} hours, {minutes} minutes, {seconds:.2f} seconds \")\n"
   ]
  },
  {
   "cell_type": "markdown",
   "metadata": {},
   "source": [
    "3. When the cargo temperature has reached 30 <sup>o</sup>C both the boilers are started, but after 30 hours operation one of the boilers are turned off due to some technical problems. (This is alternative I) \n",
    "\n",
    "    Will we be able to reach the required unload temperature 60 oC before in harbor? Draw a sketch showing the expected scenario, i.e. temperature development from loading to unloading. (optional:  make a numerical simulation using Matlab (or other) and plot the temperature)"
   ]
  },
  {
   "cell_type": "markdown",
   "metadata": {},
   "source": [
    "Let's calculate how long it takes to reach 60<sup>o</sup>C from 30<sup>o</sup> with one boiler."
   ]
  },
  {
   "cell_type": "code",
   "execution_count": 15,
   "metadata": {},
   "outputs": [
    {
     "name": "stdout",
     "output_type": "stream",
     "text": [
      "Temperatuer reaches 47.67375065304495 after 30 hours\n",
      "It takes 6 days, 1 hours, 49 minutes, 20.00 seconds with one boiler to reach 60oC\n"
     ]
    }
   ],
   "source": [
    "# First calculate the temperature after running two boilers for 30 hours\n",
    "solution = get_temperature_crude_oil_numerical_solution(\n",
    "    time=30 * 3600,\n",
    "    initial_temperature=30,\n",
    "    heating_power=8000000 * 2\n",
    ")\n",
    "temperature_after_30hours_heating = solution.y[0, -1]\n",
    "print(f\"Temperatuer reaches {temperature_after_30hours_heating} after 30 hours\")\n",
    "\n",
    "\n",
    "# Now we well calculate how long it takes to reach the final temperature 60oC\n",
    "equation_to_solve_for_this_problem = partial(\n",
    "    equation_to_solve,\n",
    "    heating_power=8000000,\n",
    "    initial_temperature=temperature_after_30hours_heating,\n",
    "    final_temperature=60\n",
    ")\n",
    "initial_guess = 7 * 24 * 3600 # Initial guess is 7 days\n",
    "solution = root(equation_to_solve_for_this_problem, 7 * 24 * 3600)\n",
    "\n",
    "if solution.status == 1:  # Solution converged\n",
    "    time_delta = datetime.timedelta(seconds=solution.x[0])\n",
    "    days = time_delta.days\n",
    "    hours = int(time_delta.seconds // 3600)\n",
    "    seconds_left = time_delta.seconds - hours * 3600\n",
    "    minutes = int(seconds_left // 60)\n",
    "    seconds = seconds_left - minutes * 60\n",
    "\n",
    "    print(f\"It takes {time_delta.days} days, {hours} hours, {minutes} minutes, {seconds:.2f} seconds with one boiler to reach 60oC\")\n"
   ]
  },
  {
   "cell_type": "markdown",
   "metadata": {},
   "source": [
    "It took 5 days and 7 hours to reach 30<sup>o</sup>C, 30 hours to reach 47.7<sup>o</sup>C and 6 days and 1 hours to reach 60<sup>o</sup>C. The sum exceeds the voyage time."
   ]
  },
  {
   "cell_type": "markdown",
   "metadata": {},
   "source": [
    "3. What is the power required to keep the temperature at 40<sup>o</sup>C."
   ]
  },
  {
   "cell_type": "markdown",
   "metadata": {},
   "source": [
    "If the temperature is constant, it means the change in energy content of the crude oil is zero. Therefore,\n",
    "$$\\dot{Q}_\\mathrm{heating} = \\dot{Q}_\\mathrm{loss}$$"
   ]
  },
  {
   "cell_type": "code",
   "execution_count": 16,
   "metadata": {},
   "outputs": [
    {
     "name": "stdout",
     "output_type": "stream",
     "text": [
      "4333.3kW is required.\n"
     ]
    }
   ],
   "source": [
    "heating_power = get_heat_loss(temperature=40)\n",
    "print(f\"{heating_power / 1000:.1f}kW is required.\")"
   ]
  },
  {
   "cell_type": "markdown",
   "metadata": {},
   "source": []
  }
 ],
 "metadata": {
  "kernelspec": {
   "display_name": "Python 3",
   "language": "python",
   "name": "python3"
  },
  "language_info": {
   "codemirror_mode": {
    "name": "ipython",
    "version": 3
   },
   "file_extension": ".py",
   "mimetype": "text/x-python",
   "name": "python",
   "nbconvert_exporter": "python",
   "pygments_lexer": "ipython3",
   "version": "3.8.10"
  }
 },
 "nbformat": 4,
 "nbformat_minor": 4
}
