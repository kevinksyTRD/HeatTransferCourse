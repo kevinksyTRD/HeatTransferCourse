{
 "cells": [
  {
   "cell_type": "markdown",
   "metadata": {
    "pycharm": {
     "name": "#%% md\n"
    }
   },
   "source": [
    "# Exercise 4 Steam Calculation and Humid Air"
   ]
  },
  {
   "cell_type": "markdown",
   "metadata": {
    "pycharm": {
     "name": "#%% md\n"
    }
   },
   "source": [
    "## Problem 1\n",
    "State the minimum condition to determine the state of the steam and humid air. How many\n",
    "properties do we need to define? What are the usual properties used to define the state of steam\n",
    "and humid air?\n",
    "\n",
    "You need at least three independent properties of a fluid to determine its thermodynamic state.\n",
    "Usually they are pressure, temperature and its composition. For steam, it is generally the steam\n",
    "quality, pressure and temperature, and for humid air, it is pressure, dry bulb temperature and\n",
    "relative or specific humidity. Often it is possible to calculate pressure or temperature from\n",
    "other properties such as enthalpy(energy content), mass and/or volume together with the\n",
    "information of composition. For saturated steam, you only need one parameter: since the quality\n",
    "is 1 and the temperature is dependent on pressure or vice versa."
   ]
  },
  {
   "cell_type": "markdown",
   "metadata": {
    "pycharm": {
     "name": "#%% md\n"
    }
   },
   "source": [
    "## Problem 2 Steam Calculation\n",
    "Use IAPWS package to determine the steam properties under following conditions:"
   ]
  },
  {
   "cell_type": "code",
   "execution_count": 1,
   "metadata": {
    "collapsed": false,
    "jupyter": {
     "outputs_hidden": false
    },
    "pycharm": {
     "name": "#%%\n"
    }
   },
   "outputs": [
    {
     "name": "stdout",
     "output_type": "stream",
     "text": [
      "Saturated steam at 16 bar has:\n",
      "\t- Temperature: 474.5283080151528 K\n",
      "\t- Specific enthalpy: 2792.880363612456 kJ/kg\n",
      "Saturated water at 16 bar has:\n",
      "\t- Temperature: 474.5283080151528 K\n",
      "\t- Specific enthalpy: 858.6100728411208 kJ/kg\n",
      "\t- Heat of condensation: 1934.2702907713356 kJ/kg \n",
      "\n",
      "\n",
      "Saturated steam at 450K has:\n",
      "\t- Pressure: 0.9320410791359358 MPa\n",
      "\t- Specific enthalpy: 2774.410189059328 kJ/kg\n",
      "Saturated water at 16 bar has:\n",
      "\t- Pressure: 0.9320410791359358 MPa\n",
      "\t- Specific enthalpy: 749.2933396800031 kJ/kg\n",
      "\t- Heat of condensation: 2025.1168493793248 kJ/kg \n",
      "\n",
      "\n",
      "The temperature of the superheated steam is 512.0501574030573K\n"
     ]
    }
   ],
   "source": [
    "from iapws import IAPWS97\n",
    "# What is the temperature and specific enthalpy and heat of condensation of the\n",
    "# saturated steam at 16 bar?\n",
    "from thermal_system_calculation import get_humid_air_state\n",
    "\n",
    "steam = IAPWS97(P=1.6, x=1.0)\n",
    "print(\"Saturated steam at 16 bar has:\")\n",
    "print(f\"\\t- Temperature: {steam.T} K\")\n",
    "print(f\"\\t- Specific enthalpy: {steam.h} kJ/kg\")\n",
    "water = IAPWS97(P=1.6, x=0.0)\n",
    "print(\"Saturated water at 16 bar has:\")\n",
    "print(f\"\\t- Temperature: {water.T} K\")\n",
    "print(f\"\\t- Specific enthalpy: {water.h} kJ/kg\")\n",
    "print(f\"\\t- Heat of condensation: {steam.h - water.h} kJ/kg \")\n",
    "print(\"\\n\")\n",
    "\n",
    "# What is the pressure, enthalpy and heat of condensation of the saturated steam at\n",
    "# 450K?\n",
    "steam = IAPWS97(T=450, x=1.0)\n",
    "print(\"Saturated steam at 450K has:\")\n",
    "print(f\"\\t- Pressure: {steam.P} MPa\")\n",
    "print(f\"\\t- Specific enthalpy: {steam.h} kJ/kg\")\n",
    "water = IAPWS97(T=450, x=0.0)\n",
    "print(\"Saturated water at 16 bar has:\")\n",
    "print(f\"\\t- Pressure: {water.P} MPa\")\n",
    "print(f\"\\t- Specific enthalpy: {water.h} kJ/kg\")\n",
    "print(f\"\\t- Heat of condensation: {steam.h - water.h} kJ/kg \")\n",
    "print('\\n')\n",
    "\n",
    "# What is the temperature of the superheated steam when 100kW of heat is added to the saturated\n",
    "# steam with mass flow of 1 kg/s and at 16 bar?\n",
    "saturated_steam = IAPWS97(P=1.6, x=1.0)\n",
    "heat_power_added = 100 # kW\n",
    "mass_flow = 1 # kg/s\n",
    "heat_energy_added_per_kg = heat_power_added / mass_flow # kJ/kg\n",
    "h_super_heated_steam = saturated_steam.h + heat_energy_added_per_kg\n",
    "super_heated_steam = IAPWS97(P=1.6, h=h_super_heated_steam)\n",
    "print(f\"The temperature of the superheated steam is {super_heated_steam.T}K\")"
   ]
  },
  {
   "cell_type": "markdown",
   "metadata": {
    "pycharm": {
     "name": "#%% md\n"
    }
   },
   "source": [
    "## Problem 3 Humid Air Calculation\n",
    "The function to get the thermodynamic state of the humid air has been implemented in the\n",
    "`thermal_system_calculation.py` module. The first task is to set the number of properties to be\n",
    "given to determine the thermodynamic state of the humid air. Based on your answer in the problem\n",
    "1, assign a proper number to `NUMBER_PROPERTIES_TO_DETERMINE_STATE` variable.\n",
    "\n",
    "Go through the function `get_humid_air_state` and study the implementation. What are the\n",
    "properties available returned object from the function?\n",
    "\n",
    "Try the method for the following conditions."
   ]
  },
  {
   "cell_type": "code",
   "execution_count": 2,
   "metadata": {
    "collapsed": false,
    "jupyter": {
     "outputs_hidden": false
    },
    "pycharm": {
     "name": "#%%\n"
    }
   },
   "outputs": [
    {
     "name": "stdout",
     "output_type": "stream",
     "text": [
      "For air at 1 atm, 25 degC and relative humidity 0.5:\n",
      "\t- enthalpy per 1kg dry air: 50423.45039076901J/kg\n",
      "\t- enthalpy per 1kg humid air: 49927.879277450586J/kg\n",
      "\t- partial pressure: 1591.6634077790657Pa\n",
      "\t- wet bulb temperature: 291.0334868102276K\n"
     ]
    }
   ],
   "source": [
    "# Calculate the following properties for the air at atmospheric pressure, 25degC and relative\n",
    "# humidity of 0.5\n",
    "#   - enthalpy per 1 kg of dry air\n",
    "#   - enthalpy per 1 kg of humid air\n",
    "#   - partial pressure of water vapor\n",
    "#   - wet bulb temperature\n",
    "\n",
    "humid_air_state = get_humid_air_state(\n",
    "    pressure_pa=101325, temperature_k=273.15 + 25, relative_humidity=0.5)\n",
    "print(\"For air at 1 atm, 25 degC and relative humidity 0.5:\")\n",
    "print(f\"\\t- enthalpy per 1kg dry air: {humid_air_state.specific_enthalpy_j_per_kg_dry_air}J/kg\")\n",
    "print(f\"\\t- enthalpy per 1kg humid air: {humid_air_state.specific_enthalpy_j_per_kg_humid_air}J/kg\")\n",
    "print(f\"\\t- partial pressure: {humid_air_state.partial_pressure_water_vapor_pa}Pa\")\n",
    "print(f\"\\t- wet bulb temperature: {humid_air_state.wet_bulb_temperature_k}K\")"
   ]
  },
  {
   "cell_type": "markdown",
   "metadata": {
    "pycharm": {
     "name": "#%% md\n"
    }
   },
   "source": [
    "Now let's try a exercise problem.\n",
    "The temperature of a room needs to stay at 20 <sup>o</sup>C and the relative humidity at 50 % at\n",
    "atmospheric presure. The total thermal power including the enthalpy flow from the vapor added to\n",
    "the room is 2.45 kW and the vapor is being added at the rate of 1.53 · 10−3 kg/s. What needs to be\n",
    " the state  (temperature and moisture content) of the inlet air when the inlet flow of the dry\n",
    " air is 0.3 kg/s."
   ]
  },
  {
   "cell_type": "code",
   "execution_count": 3,
   "metadata": {
    "collapsed": false,
    "jupyter": {
     "outputs_hidden": false
    },
    "pycharm": {
     "name": "#%%\n"
    }
   },
   "outputs": [
    {
     "name": "stdout",
     "output_type": "stream",
     "text": [
      "The room air has:\n",
      "\t- specific humidity per dry air: 0.007293697701992549 kg/kg\n",
      "\t- specific enthalpy per dry air: 38622.83892391293J/kg\n",
      "The inlet air should have:\n",
      "\t- specific humidity per dry air: 0.0021936977019925497kg/kg\n",
      "\t- specific enthalpy per dry air: 30456.172257246264J/kg\n",
      "\t- relative humidity: 0.11373714506169343\n",
      "\t- temperature: 297.87341231310995 K\n"
     ]
    }
   ],
   "source": [
    "# Your answer here\n",
    "# First, we can get the state of the mixed/heated air in the room.\n",
    "humid_air_room = get_humid_air_state(\n",
    "    pressure_pa=101325, temperature_k=20 + 273.15, relative_humidity=0.5)\n",
    "print(\"The room air has:\")\n",
    "print(f\"\\t- specific humidity per dry air: {humid_air_room.specific_humidity_kg_per_kg_dry_air} \"\n",
    "      f\"kg/kg\")\n",
    "print(f\"\\t- specific enthalpy per dry air: {humid_air_room.specific_enthalpy_j_per_kg_dry_air}J/kg\")\n",
    "\n",
    "# By energy balance\n",
    "total_thermal_power = 2450  # W\n",
    "flow_dry_air = 0.3  # kg/s\n",
    "total_thermal_energy_added_per_kg_dry_air = total_thermal_power / flow_dry_air  #J/kg\n",
    "h_humid_air_in = humid_air_room.specific_enthalpy_j_per_kg_dry_air - \\\n",
    "                 total_thermal_energy_added_per_kg_dry_air\n",
    "\n",
    "# By water balance\n",
    "# flow_dry_air * specific_humidity_in + flow_vapor_added = flow_dry_air * specific_humidity_room\n",
    "flow_vapor_added = 1.53e-3  # kg/s\n",
    "specific_humidity_in = humid_air_room.specific_humidity_kg_per_kg_dry_air - \\\n",
    "                       flow_vapor_added / flow_dry_air\n",
    "humid_air_in = get_humid_air_state(\n",
    "    pressure_pa=101325,\n",
    "    specific_enthalpy_j_per_kg_dry_air=h_humid_air_in,\n",
    "    specific_humidity_kg_per_kg_dry_air=specific_humidity_in\n",
    ")\n",
    "print(\"The inlet air should have:\")\n",
    "print(f\"\\t- specific humidity per dry air: {humid_air_in.specific_humidity_kg_per_kg_dry_air}kg/kg\")\n",
    "print(f\"\\t- specific enthalpy per dry air: {humid_air_in.specific_enthalpy_j_per_kg_dry_air}J/kg\")\n",
    "print(f\"\\t- relative humidity: {humid_air_in.relative_humidity}\")\n",
    "print(f\"\\t- temperature: {humid_air_in.temperature_k} K\")"
   ]
  },
  {
   "cell_type": "code",
   "execution_count": null,
   "metadata": {},
   "outputs": [],
   "source": []
  }
 ],
 "metadata": {
  "kernelspec": {
   "display_name": "Python 3",
   "language": "python",
   "name": "python3"
  },
  "language_info": {
   "codemirror_mode": {
    "name": "ipython",
    "version": 3
   },
   "file_extension": ".py",
   "mimetype": "text/x-python",
   "name": "python",
   "nbconvert_exporter": "python",
   "pygments_lexer": "ipython3",
   "version": "3.8.10"
  }
 },
 "nbformat": 4,
 "nbformat_minor": 4
}
