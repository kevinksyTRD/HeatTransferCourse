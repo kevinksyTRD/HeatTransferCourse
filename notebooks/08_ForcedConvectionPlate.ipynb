{
 "cells": [
  {
   "cell_type": "markdown",
   "metadata": {
    "pycharm": {
     "name": "#%% md\n"
    }
   },
   "source": [
    "# Forced Convection over a flat plate\n",
    "\n",
    "A flat plate of width w=1 m is maintained at a uniform surface temperature, 𝑇_𝑠= 230<sup>o</sup>C,\n",
    " by using independently controlled, electrical strip heaters, each of which is 50 mm long.  If\n",
    " atmospheric air at 25oC flows over the plate at a velocity of 60 m/s, at what heater is the\n",
    " electrical input a maximum? What is the value of this input?"
   ]
  },
  {
   "cell_type": "markdown",
   "metadata": {
    "pycharm": {
     "name": "#%% md\n"
    }
   },
   "source": [
    "# Given"
   ]
  },
  {
   "cell_type": "code",
   "execution_count": 1,
   "metadata": {
    "pycharm": {
     "name": "#%%\n"
    }
   },
   "outputs": [],
   "source": [
    "import numpy as np\n",
    "\n",
    "from thermal_system_calculation import FluidState, Fluid\n",
    "\n",
    "width = 1 # m\n",
    "length_heater = 0.05 # m\n",
    "temp_surface = 230 # degC\n",
    "temp_air = 25 # degC\n",
    "velocity_air = 60 # m/s"
   ]
  },
  {
   "cell_type": "markdown",
   "metadata": {
    "pycharm": {
     "name": "#%% md\n"
    }
   },
   "source": [
    "# Find\n",
    "At what heater is the electrical input a maximum?\n",
    "\n",
    "What is the value of this maximum heat input?"
   ]
  },
  {
   "cell_type": "markdown",
   "metadata": {
    "pycharm": {
     "name": "#%% md\n"
    }
   },
   "source": [
    "# Schematic\n",
    "![FlatSurfaceForceHeacConvection](images/flat_surface_convection_heating.png)"
   ]
  },
  {
   "cell_type": "markdown",
   "metadata": {
    "pycharm": {
     "name": "#%% md\n"
    }
   },
   "source": [
    "# Assumption\n",
    "1. The temperature is uniform at the surface.\n",
    "2. Steady state conditions\n",
    "3. Uniform and constant properties\n",
    "4. Uniform heat transfer over a single heater"
   ]
  },
  {
   "cell_type": "markdown",
   "metadata": {
    "pycharm": {
     "name": "#%% md\n"
    }
   },
   "source": [
    "# Properties"
   ]
  },
  {
   "cell_type": "code",
   "execution_count": 2,
   "metadata": {
    "pycharm": {
     "name": "#%%\n"
    }
   },
   "outputs": [
    {
     "name": "stdout",
     "output_type": "stream",
     "text": [
      "Air at 400.65 K has: \n",
      "\t- thermal conductivity: 0.033 W/mK\n",
      "\t- dynamic viscosity: 2.30830e-05 Pa s \n",
      "\t- density: 0.881 kg/m3\n"
     ]
    }
   ],
   "source": [
    "temp_boundary = np.mean([temp_air, temp_surface]) + 273.15\n",
    "air_properties = FluidState(\n",
    "    fluid=Fluid.AIR,\n",
    "    temp_k=temp_boundary,\n",
    "    characteristic_length=length_heater\n",
    ")\n",
    "thermal_conductivity_air = air_properties.k\n",
    "specific_heat_capacity_air = air_properties.cp\n",
    "dynamic_viscosity_air = air_properties.dynamic_viscosity\n",
    "density_air = air_properties.density\n",
    "print(f\"Air at {temp_boundary} K has: \\n\"\n",
    "      f\"\\t- thermal conductivity: {thermal_conductivity_air:.3f} W/mK\\n\"\n",
    "      f\"\\t- dynamic viscosity: {dynamic_viscosity_air:.5e} Pa s \\n\"\n",
    "      f\"\\t- density: {density_air:.3f} kg/m3\")\n"
   ]
  },
  {
   "cell_type": "markdown",
   "metadata": {
    "pycharm": {
     "name": "#%% md\n"
    }
   },
   "source": [
    "# Analysis\n",
    "As the temperature on the surface is give, we can calculate the heat transfer by the Newton's\n",
    "cooling law.\n",
    "$$q_\\mathrm{conv} = h A \\left(T_s - T_\\infty\\right)$$\n",
    "and this heat transfer has to be balanced by the heat input from each heater.\n",
    "\n",
    "We just learned that h is mainly determined by development of the boundary layers and the degree of\n",
    "turbulence of the fluid flow. We need to search for maximum points, the entrance of the\n",
    " plate and near the flow transition from laminar flow to turbulence is. See below figure.\n",
    "![h for forced convection along a flat plate](images/h_transition.png)\n",
    "\n",
    "For the first heater, we can determine average heat transfer coefficients by convection and heat\n",
    "transfer rate,\n",
    "$\\overline{h}_1$ by,\n",
    "$$\n",
    "\\begin{align}\n",
    "    \\overline{Nu}_1 &= 0.664 Re_1^{1/2} Pr^{1/3} \\\\\n",
    "    \\overline{h}_1 &= \\frac{\\overline{Nu}_1 k}{L_1}\n",
    "\\end{align}\n",
    "$$"
   ]
  },
  {
   "cell_type": "code",
   "execution_count": 3,
   "metadata": {
    "pycharm": {
     "name": "#%%\n"
    }
   },
   "outputs": [
    {
     "name": "stdout",
     "output_type": "stream",
     "text": [
      "The heat input from the first heater is 1369.114 W.\n"
     ]
    }
   ],
   "source": [
    "# Let's define the functions for Reynold's number, Prandtl number and Nusselts number.\n",
    "def get_reynolds_number(\n",
    "        velocity: float,\n",
    "        length: float,\n",
    "        density: float,\n",
    "        dynamic_viscosity\n",
    ") -> float:\n",
    "    return velocity * length * density / dynamic_viscosity\n",
    "\n",
    "def get_prandtl_number(\n",
    "        specific_heat_capacity: float,\n",
    "        dynamic_viscosity: float,\n",
    "        thermal_conductivity: float\n",
    ") -> float:\n",
    "    return specific_heat_capacity * dynamic_viscosity / thermal_conductivity\n",
    "\n",
    "def get_h_from_nusselt_number(\n",
    "        nusselt_number: float,\n",
    "        thermal_conductivity: float,\n",
    "        length: float\n",
    ") -> float:\n",
    "    return nusselt_number * thermal_conductivity / length\n",
    "\n",
    "re1 = get_reynolds_number(velocity_air, length_heater, density_air, dynamic_viscosity_air)\n",
    "pr = get_prandtl_number(specific_heat_capacity_air, dynamic_viscosity_air, thermal_conductivity_air)\n",
    "nu1 = 0.664 * re1**0.5 * pr**(1/3)\n",
    "h1 = get_h_from_nusselt_number(nu1, thermal_conductivity_air, length_heater)\n",
    "q1 = h1 * width * length_heater * (temp_surface - temp_air)\n",
    "\n",
    "print(f\"The heat input from the first heater is {q1:.3f} W.\")"
   ]
  },
  {
   "cell_type": "markdown",
   "metadata": {
    "pycharm": {
     "name": "#%% md\n"
    }
   },
   "source": [
    "The next possible maximum heat input will happen when the air flow becomes fully turbulent. We\n",
    "will use a criteria $Re_c = 500000$ for the full turbulence flow. We can find a characteristic\n",
    "length for this $Re_c$."
   ]
  },
  {
   "cell_type": "code",
   "execution_count": 4,
   "metadata": {
    "pycharm": {
     "name": "#%%\n"
    }
   },
   "outputs": [
    {
     "name": "stdout",
     "output_type": "stream",
     "text": [
      "The flow is fully turbulent after 0.218 m, at 5th heater.\n"
     ]
    }
   ],
   "source": [
    "reynolds_number_at_full_turbulence = 500000\n",
    "length_full_turbulence = reynolds_number_at_full_turbulence * dynamic_viscosity_air / \\\n",
    "                         (density_air * velocity_air)\n",
    "plate_number_full_turbulence = int(np.ceil(length_full_turbulence / length_heater))\n",
    "print(f\"The flow is fully turbulent after {length_full_turbulence:.3f} m, \"\n",
    "      f\"at {plate_number_full_turbulence}th heater.\")"
   ]
  },
  {
   "cell_type": "markdown",
   "metadata": {
    "pycharm": {
     "name": "#%% md\n"
    }
   },
   "source": [
    "On the 5th heater, the plate above has both laminar and turbulent flow. It has mixed boundary\n",
    "layer conditions. We can obtain the local heat convection above the 5th heater by\n",
    "$$\n",
    "\\begin{align}\n",
    "    q_5 &= q_{1-5} - q_{1-4} \\\\\n",
    "        &= \\overline{h}_{1-5} L_5 w \\left(T_s - T_\\infty\\right) - \\overline{h}_{1-4}L_4 w \\left(T_s - T_\\infty\\right) \\\\\n",
    "        &= \\left(\\overline{h}_{1-5} L_5 - \\overline{h}_{1-4} L_4\\right) w \\left(T_s - T_\\infty\\right)\n",
    "\\end{align}\n",
    "$$\n",
    "where we obtain $\\overline{h}_{1-5}$ from the mixed boundary layer conditions and $\\overline{h}_{1-4}$\n",
    "from the laminar boundary layer condition.\n",
    "\n",
    "$$\n",
    "\\begin{align}\n",
    "    \\overline{Nu}_{1-5} &= \\left(0.037 Re_5^{4/5} - 871\\right)Pr^{1/3} \\\\\n",
    "    \\overline{Nu}_{1-4} &= 0.664 Re_4^{1/2} * Pr^{1/3}\n",
    "\\end{align}\n",
    "$$"
   ]
  },
  {
   "cell_type": "code",
   "execution_count": 5,
   "metadata": {
    "pycharm": {
     "name": "#%%\n"
    }
   },
   "outputs": [
    {
     "name": "stdout",
     "output_type": "stream",
     "text": [
      "The heat input from the fifth heater is 1058.754 W.\n"
     ]
    }
   ],
   "source": [
    "# h_1_5 Average convection heat transfer coefficient from the beginning to the end of the 5th heater\n",
    "char_length_5 = length_heater * 5\n",
    "re5 = get_reynolds_number(\n",
    "    velocity=velocity_air,\n",
    "    length=char_length_5,\n",
    "    density=density_air,\n",
    "    dynamic_viscosity=dynamic_viscosity_air\n",
    ")\n",
    "# Pradntl number does not change with the flow condition.\n",
    "nu_1_5 = (0.037 * re5**0.8 - 871) * pr**(1/3)\n",
    "h_1_5 = get_h_from_nusselt_number(nu_1_5, thermal_conductivity_air, char_length_5)\n",
    "\n",
    "# h_1_4 Average convection heat transfer coefficient from the beginning to the end of the 4th heater\n",
    "char_length_4 = length_heater * 4\n",
    "re4 = get_reynolds_number(\n",
    "    velocity=velocity_air,\n",
    "    length=char_length_4,\n",
    "    density=density_air,\n",
    "    dynamic_viscosity=dynamic_viscosity_air\n",
    ")\n",
    "nu_1_4 = 0.664 * re4**0.5 * pr**(1/3)\n",
    "h_1_4 = get_h_from_nusselt_number(nu_1_4, thermal_conductivity_air, char_length_4)\n",
    "\n",
    "q_5 = (h_1_5 * char_length_5 - h_1_4 * char_length_4) * width * (temp_surface - temp_air)\n",
    "\n",
    "print(f\"The heat input from the fifth heater is {q_5:.3f} W.\")"
   ]
  },
  {
   "cell_type": "markdown",
   "metadata": {
    "pycharm": {
     "name": "#%% md\n"
    }
   },
   "source": [
    "It is also possible that the heat transfer right after the transition to fully turbulent flow\n",
    "since at the fifth section, it has a mixed boundary condition. We can see the heat transfer at\n",
    "the sixth section in the same way as in the fifth section.h\n",
    "\n",
    "$$q_6 = \\left(\\overline{h}_{1-6} L_6 - \\overline{h}_{1-5} L_5\\right) w \\left(T_s - T_\\infty\\right)$$"
   ]
  },
  {
   "cell_type": "code",
   "execution_count": 6,
   "metadata": {
    "pycharm": {
     "name": "#%%\n"
    }
   },
   "outputs": [
    {
     "name": "stdout",
     "output_type": "stream",
     "text": [
      "The heat input from the sixth heater is 1429.741 W.\n"
     ]
    }
   ],
   "source": [
    "char_length_6 = length_heater * 6\n",
    "re6 = get_reynolds_number(\n",
    "    velocity=velocity_air,\n",
    "    length=char_length_6,\n",
    "    density=density_air,\n",
    "    dynamic_viscosity=dynamic_viscosity_air\n",
    ")\n",
    "nu_1_6 = (0.037 * re6**0.8 - 871) * pr**(1/3)\n",
    "h_1_6 = get_h_from_nusselt_number(nu_1_6, thermal_conductivity_air, char_length_6)\n",
    "\n",
    "q_6 = (h_1_6 * char_length_6 - h_1_5 * char_length_5) * width * (temp_surface - temp_air)\n",
    "\n",
    "print(f\"The heat input from the sixth heater is {q_6:.3f} W.\")\n",
    "\n",
    "\n"
   ]
  },
  {
   "cell_type": "markdown",
   "metadata": {},
   "source": [
    "Therefore, the maximum heat input is required at the sixth heater."
   ]
  },
  {
   "cell_type": "code",
   "execution_count": null,
   "metadata": {},
   "outputs": [],
   "source": []
  }
 ],
 "metadata": {
  "kernelspec": {
   "display_name": "Python 3",
   "language": "python",
   "name": "python3"
  },
  "language_info": {
   "codemirror_mode": {
    "name": "ipython",
    "version": 3
   },
   "file_extension": ".py",
   "mimetype": "text/x-python",
   "name": "python",
   "nbconvert_exporter": "python",
   "pygments_lexer": "ipython3",
   "version": "3.8.10"
  }
 },
 "nbformat": 4,
 "nbformat_minor": 4
}
