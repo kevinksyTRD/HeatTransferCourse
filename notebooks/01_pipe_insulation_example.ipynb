{
 "cells": [
  {
   "cell_type": "markdown",
   "metadata": {
    "pycharm": {
     "name": "#%% md\n"
    }
   },
   "source": [
    "# Optimal pipe insulation problem\n",
    "The possible existence of an optimum insulation thickness for radial systems is suggested by the\n",
    "presence of competing effects associated with an increase in this thickness. In particular,\n",
    "although the conduction resistance increases with the addition of insulation, the convection\n",
    "resistance decreases due to increasing outer surface area. Hence there may exist an insulation\n",
    "thickness that minimizes heat loss by maximizing the total resistance to heat transfer. Resolve\n",
    "this issue by considering the following system.\n",
    "\n",
    "A thin-walled copper tube of radius $r_i$ is used to transport a low-temperature refrigerant and is\n",
    "at a temperature $T_i$ that is less than that of the ambient air at $T_\\mathrm{surr}$ around the\n",
    "tube. Find the optimal thickness of insulation given:\n",
    "\n",
    "- $r_i$ = 10 mm\n",
    "- $k_\\mathrm{insulation}$ = 0.055 W/mK\n",
    "- $h_\\mathrm{surr}$ = 5 W/m<sup>2</sup>K"
   ]
  },
  {
   "cell_type": "markdown",
   "metadata": {
    "pycharm": {
     "name": "#%% md\n"
    }
   },
   "source": [
    "### Known"
   ]
  },
  {
   "cell_type": "code",
   "execution_count": 1,
   "metadata": {
    "collapsed": false,
    "jupyter": {
     "outputs_hidden": false
    },
    "pycharm": {
     "name": "#%%\n"
    }
   },
   "outputs": [],
   "source": [
    "inner_radius = 0.01 / 2 # m\n"
   ]
  },
  {
   "cell_type": "markdown",
   "metadata": {
    "pycharm": {
     "name": "#%% md\n"
    }
   },
   "source": [
    "### Find\n",
    "The optimal insulation thickness for the pipe.\n",
    "### Schematic\n",
    "![Schematic](../images/1DPipeInsulationExample.png)\n",
    "### Assumption\n",
    "1. Steady state\n",
    "2. One-dimemsional heat transfer in the radial direction.\n",
    "3. Thermal resistance of the pipe wall is negligible\n",
    "4. All properties are uniform and constant.\n",
    "5. Radiation is negligible.\n",
    "### Properties"
   ]
  },
  {
   "cell_type": "code",
   "execution_count": 2,
   "metadata": {
    "collapsed": false,
    "jupyter": {
     "outputs_hidden": false
    },
    "pycharm": {
     "name": "#%%\n"
    }
   },
   "outputs": [],
   "source": [
    "thermal_conductivity_insulation = 0.055 # W/mK\n",
    "convection_coefficient_surrounding = 5 # W/m2K"
   ]
  },
  {
   "cell_type": "markdown",
   "metadata": {
    "pycharm": {
     "name": "#%% md\n"
    }
   },
   "source": [
    "### Analysis\n",
    "From the assumption, we can simplify our heat circuit as\n",
    "![Heat circuit](../images/1DPipeInsulationExample_heat_circuit.png)\n",
    "The total thermal resistance per unit length is then\n",
    "$$R'_\\mathrm{tot} = \\frac{\\ln(r/r_i)}{2\\pi k_\\mathrm{insulation}} + \\frac{1}{2 \\pi r h_\\mathrm{surr}}$$\n",
    "We can create a python function for this expression. "
   ]
  },
  {
   "cell_type": "code",
   "execution_count": 3,
   "metadata": {
    "collapsed": false,
    "jupyter": {
     "outputs_hidden": false
    },
    "pycharm": {
     "name": "#%%\n"
    }
   },
   "outputs": [],
   "source": [
    "import numpy as np\n",
    "from typing import Union\n",
    "\n",
    "def get_thermal_resistance_cylinder(\n",
    "        inner_radius: Union[float, np.ndarray],\n",
    "        outer_radius: Union[float, np.ndarray],\n",
    "        thermal_conductivity: Union[float, np.ndarray],\n",
    "        length: Union[float, np.ndarray]\n",
    ") -> float:\n",
    "    \"\"\"Returns 1D thermal resistance in radial direction of a cylinder\"\"\"\n",
    "    return np.log(outer_radius / inner_radius) / (2 * np.pi * thermal_conductivity * length)\n",
    "\n",
    "def get_total_thermal_resistance_for_pipe_with_insulation(\n",
    "        insulation_thickness: Union[float, np.ndarray],\n",
    "        pipe_radius: Union[float, np.ndarray],\n",
    "        thermal_conductivity_insulation: Union[float, np.ndarray],\n",
    "        convection_coefficient: Union[float, np.ndarray],\n",
    "        pipe_length: Union[float, np.ndarray]\n",
    ") -> Union[float, np.ndarray]:\n",
    "    \"\"\"Returns total thermal resistance of the pipe with insulation considering the convection\"\"\"\n",
    "    outer_radius = pipe_radius + insulation_thickness\n",
    "    resistance_insulation = get_thermal_resistance_cylinder(\n",
    "        inner_radius=pipe_radius,\n",
    "        outer_radius=outer_radius,\n",
    "        thermal_conductivity=thermal_conductivity_insulation,\n",
    "        length=pipe_length\n",
    "    )\n",
    "    outer_area = 2 * np.pi * outer_radius * pipe_length\n",
    "    resistance_convection = 1 / (convection_coefficient * outer_area)\n",
    "    return resistance_insulation + resistance_convection"
   ]
  },
  {
   "cell_type": "markdown",
   "metadata": {
    "pycharm": {
     "name": "#%% md\n"
    }
   },
   "source": [
    "We can visually confirm that there is a optimal thickness."
   ]
  },
  {
   "cell_type": "code",
   "execution_count": 4,
   "metadata": {
    "collapsed": false,
    "jupyter": {
     "outputs_hidden": false
    },
    "pycharm": {
     "name": "#%%\n"
    }
   },
   "outputs": [
    {
     "data": {
      "text/plain": [
       "Text(0, 0.5, 'Total thermal resistance [mK/W]')"
      ]
     },
     "execution_count": 4,
     "metadata": {},
     "output_type": "execute_result"
    },
    {
     "data": {
      "image/png": "[encoded data removed]",
      "text/plain": [
       "<Figure size 432x288 with 1 Axes>"
      ]
     },
     "metadata": {
      "needs_background": "light"
     },
     "output_type": "display_data"
    }
   ],
   "source": [
    "import matplotlib.pyplot as plt\n",
    "\n",
    "thickness_vector = np.arange(0, 0.051, 0.001)\n",
    "total_resistance_vector = get_total_thermal_resistance_for_pipe_with_insulation(\n",
    "    insulation_thickness=thickness_vector,\n",
    "    pipe_radius=inner_radius,\n",
    "    thermal_conductivity_insulation=thermal_conductivity_insulation,\n",
    "    convection_coefficient=convection_coefficient_surrounding,\n",
    "    pipe_length=1 # Unit length\n",
    ")\n",
    "\n",
    "fig, ax = plt.subplots()\n",
    "ax.plot(thickness_vector * 1000, total_resistance_vector)\n",
    "ax.set_xlabel('Insulation Thickness [mm]')\n",
    "ax.set_ylabel('Total thermal resistance [mK/W]')"
   ]
  },
  {
   "cell_type": "markdown",
   "metadata": {
    "jupyter": {
     "outputs_hidden": false
    },
    "pycharm": {
     "name": "#%% md\n"
    }
   },
   "source": [
    "We can find the minimum value with confidence now. "
   ]
  },
  {
   "cell_type": "code",
   "execution_count": 8,
   "metadata": {},
   "outputs": [
    {
     "name": "stdout",
     "output_type": "stream",
     "text": [
      "Optimal thickness is 6.00mm that gives total thermal resistance of 5.2 mK/W.\n"
     ]
    }
   ],
   "source": [
    "from scipy.optimize import minimize_scalar\n",
    "from functools import partial\n",
    "\n",
    "function_to_minimize = partial(\n",
    "    get_total_thermal_resistance_for_pipe_with_insulation,\n",
    "    pipe_radius=inner_radius,\n",
    "    thermal_conductivity_insulation=thermal_conductivity_insulation,\n",
    "    convection_coefficient=convection_coefficient_surrounding,\n",
    "    pipe_length=1\n",
    ")\n",
    "\n",
    "solution = minimize_scalar(function_to_minimize, method='bounded', bounds=(0, 1))\n",
    "if solution.success:\n",
    "    thickness_mm = solution.x * 1000\n",
    "    thermal_resistance = function_to_minimize(thickness_mm / 1000)\n",
    "    print(f\"Optimal thickness is {thickness_mm:.2f}mm that gives total thermal resistance of {thermal_resistance:.1f} mK/W.\")"
   ]
  },
  {
   "cell_type": "code",
   "execution_count": null,
   "metadata": {},
   "outputs": [],
   "source": []
  }
 ],
 "metadata": {
  "kernelspec": {
   "display_name": "Python 3",
   "language": "python",
   "name": "python3"
  },
  "language_info": {
   "codemirror_mode": {
    "name": "ipython",
    "version": 3
   },
   "file_extension": ".py",
   "mimetype": "text/x-python",
   "name": "python",
   "nbconvert_exporter": "python",
   "pygments_lexer": "ipython3",
   "version": "3.8.2"
  }
 },
 "nbformat": 4,
 "nbformat_minor": 4
}
