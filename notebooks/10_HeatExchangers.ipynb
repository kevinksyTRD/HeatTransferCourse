{
 "cells": [
  {
   "cell_type": "markdown",
   "metadata": {
    "jupyter": {
     "outputs_hidden": true
    },
    "pycharm": {
     "name": "#%% md\n"
    }
   },
   "source": [
    "# Heat Exchangers Basic\n",
    "## Counterflow concentric tube heat exchanger\n",
    "A counterflow, concentric tube heat exchanger is used to cool the lubricating oil for a large\n",
    "industrial gas turbine engine. The flow rate of cooling water through the inner tube ($D_i$ = 25\n",
    "mm) is 0.2 kg/s, while the flow rate of oil through the outer annulus ($D_o$ = 45 mm) is 0.1 kg/s.\n",
    "The oil and water enter at temperatures of 100 and 30<sup>o</sup>C, respectively. How long must\n",
    "the tube be made if the outlet temperature of the oil is to be 60<sup>o</sup>C? The convection\n",
    "coeffients on the water side and the oil side are 2250 and 38.8 W/m2K respectively."
   ]
  },
  {
   "cell_type": "markdown",
   "metadata": {
    "pycharm": {
     "name": "#%% md\n"
    }
   },
   "source": [
    "### Known"
   ]
  },
  {
   "cell_type": "code",
   "execution_count": 1,
   "metadata": {
    "pycharm": {
     "name": "#%%\n"
    }
   },
   "outputs": [],
   "source": [
    "import logging\n",
    "from typing import Union\n",
    "import numpy as np\n",
    "from scipy.optimize import root\n",
    "import matplotlib.pyplot as plt\n",
    "\n",
    "diameter_inner_tube = 0.025 # m\n",
    "diameter_outer_tube = 0.045 # m\n",
    "flow_rate_cooling_water = 0.2 # kg/s\n",
    "flow_rate_oil = 0.1 # kg/s\n",
    "temp_in_oil = 100 # degC\n",
    "temp_in_water = 30 # degC\n",
    "temp_out_oil = 60 # degC"
   ]
  },
  {
   "cell_type": "markdown",
   "metadata": {
    "pycharm": {
     "name": "#%% md\n"
    }
   },
   "source": [
    "### Find\n",
    "Tube length to achieve the outlet temperature 60<sup>o</sup>C of oil"
   ]
  },
  {
   "cell_type": "code",
   "execution_count": 2,
   "metadata": {
    "pycharm": {
     "name": "#%%\n"
    }
   },
   "outputs": [],
   "source": [
    "length_tube = None"
   ]
  },
  {
   "cell_type": "markdown",
   "metadata": {
    "pycharm": {
     "name": "#%% md\n"
    }
   },
   "source": [
    "### Schematic\n",
    "![schematic](images/heat_exchanger_basic.png)"
   ]
  },
  {
   "cell_type": "markdown",
   "metadata": {
    "pycharm": {
     "name": "#%% md\n"
    }
   },
   "source": [
    "### Assumptions\n",
    "1. Negligible loss to the surroundings.\n",
    "2. Negligible kinetic and potential energy changes\n",
    "3. Constant properties\n",
    "4. Negligible tube wall thermal resistance and fouling factor\n",
    "5. Fully developed conditions for the water and oil"
   ]
  },
  {
   "cell_type": "markdown",
   "metadata": {
    "pycharm": {
     "name": "#%% md\n"
    }
   },
   "source": [
    "### Properties"
   ]
  },
  {
   "cell_type": "code",
   "execution_count": 3,
   "metadata": {
    "pycharm": {
     "name": "#%%\n"
    }
   },
   "outputs": [],
   "source": [
    "cp_oil = 2131 # J/kgK\n",
    "cp_water = 4178 # J/kgK\n",
    "h_oil = 38.8 # W/m2K\n",
    "h_water = 2250 # W/m2K"
   ]
  },
  {
   "cell_type": "markdown",
   "metadata": {
    "pycharm": {
     "name": "#%% md\n"
    }
   },
   "source": [
    "### Analysis\n",
    "From the given temperature conditions, we can calculate the heat transfer required using the\n",
    "energy balance equation. In addition, we can calculate the temperature of water at the outlet.\n",
    "\n",
    "$$q = \\dot{m}_\\mathrm{oil} c_{p, \\mathrm{oil}} \\left(T_{\\mathrm{oil, in} - \\left(T_{\\mathrm{oil, out}\\right) $$"
   ]
  },
  {
   "cell_type": "code",
   "execution_count": 4,
   "metadata": {
    "pycharm": {
     "name": "#%%\n"
    }
   },
   "outputs": [],
   "source": [
    "q = flow_rate_oil * cp_oil * (temp_in_oil - temp_out_oil)\n",
    "temp_out_water = temp_in_water + q / (flow_rate_cooling_water * cp_water)"
   ]
  },
  {
   "cell_type": "markdown",
   "metadata": {
    "pycharm": {
     "name": "#%% md\n"
    }
   },
   "source": [
    "Now we can find the required area of heat exchange using the Newton's cooling law for the given\n",
    "heat transfer, $q$.\n",
    "\n",
    "$$A = \\frac{q}{U \\Delta T_\\mathrm{lm}}$$"
   ]
  },
  {
   "cell_type": "code",
   "execution_count": 5,
   "metadata": {
    "pycharm": {
     "name": "#%%\n"
    }
   },
   "outputs": [
    {
     "name": "stdout",
     "output_type": "stream",
     "text": [
      "Overall heat transfer coefficient is 38.14225795176511 W/m2\n",
      "Logarthmic mean of temperature difference is 43.19998550172644 degC\n",
      "Area required for the inner tube is 5.173130580911836 m2\n",
      "Length required for the heat exchanger is 65.86634425695735 m\n"
     ]
    }
   ],
   "source": [
    "heat_transfer_coefficient = 1 / ( 1 / h_oil + 1 / h_water )\n",
    "delta_temp1 = temp_in_oil - temp_out_water\n",
    "delta_temp2 = temp_out_oil - temp_in_water\n",
    "lmtd = (delta_temp2 - delta_temp1) / np.log(delta_temp2 / delta_temp1)\n",
    "area_required = q / (heat_transfer_coefficient * lmtd)\n",
    "length_required = area_required / (np.pi * diameter_inner_tube)\n",
    "\n",
    "print(f\"Overall heat transfer coefficient is {heat_transfer_coefficient} W/m2\")\n",
    "print(f\"Logarthmic mean of temperature difference is {lmtd} degC\")\n",
    "print(f\"Area required for the inner tube is {area_required} m2\")\n",
    "print(f\"Length required for the heat exchanger is {length_required} m\")"
   ]
  },
  {
   "cell_type": "markdown",
   "metadata": {
    "pycharm": {
     "name": "#%% md\n"
    }
   },
   "source": [
    "## Counterflow compact plate heat exchanger\n",
    "The counterflow, concentric tube heat exchanger is replaced with a compact, plate-type heat\n",
    "exchanger that consists of a stack of thin metal sheets, separated by $N$ gaps of width $a$. The oil\n",
    "and water flows are subdivided into $N/2$ individual flow streams, with the oil and water moving in\n",
    "opposite directions within alternating gaps. It is desirable for the stack to be of a cubical\n",
    "geometry, with a characteristic exterior dimension L. Determine the exterior dimensions of the\n",
    "heat exchanger as a function of the number of gaps if the flow rates, inlet temperatures, and\n",
    "desired oil outlet temperature are the same. The convection coefficient on the water side is\n",
    "$2.36N/L$ W/mK and $0.520N/L$"
   ]
  },
  {
   "cell_type": "markdown",
   "metadata": {
    "pycharm": {
     "name": "#%% md\n"
    }
   },
   "source": [
    "### Known\n",
    "Constrain of the dimension of the heat exchanger\n",
    "Other flow / temperature conditions are the same."
   ]
  },
  {
   "cell_type": "markdown",
   "metadata": {
    "pycharm": {
     "name": "#%% md\n"
    }
   },
   "source": [
    "### Find"
   ]
  },
  {
   "cell_type": "code",
   "execution_count": 6,
   "metadata": {
    "pycharm": {
     "name": "#%%\n"
    }
   },
   "outputs": [],
   "source": [
    "characteristic_length = None\n"
   ]
  },
  {
   "cell_type": "markdown",
   "metadata": {
    "pycharm": {
     "name": "#%% md\n"
    }
   },
   "source": [
    "### Schematic\n",
    "![schematic](images/heat_exchager_basic2.png)"
   ]
  },
  {
   "cell_type": "markdown",
   "metadata": {
    "pycharm": {
     "name": "#%% md\n"
    }
   },
   "source": [
    "### Assumptions\n",
    "1. Negligible heat loss to the surroundings.\n",
    "2. Negligible kinetic and potential energy changes.\n",
    "3. Constant properties.\n",
    "4. Negligible plate thermal resistance and fouling factors.\n",
    "5. Fully developed conditions for the water and oil.\n",
    "6. Identical gap-to-gap heat transfer coefficients.\n",
    "7. Heat exchanger exterior dimension is large compared to the gap width."
   ]
  },
  {
   "cell_type": "markdown",
   "metadata": {
    "pycharm": {
     "name": "#%% md\n"
    }
   },
   "source": [
    "### Properties"
   ]
  },
  {
   "cell_type": "code",
   "execution_count": 7,
   "metadata": {
    "pycharm": {
     "name": "#%%\n"
    }
   },
   "outputs": [],
   "source": [
    "rho_oil = 852.1 # kg/m3\n",
    "rho_water = 994 # kg/m3"
   ]
  },
  {
   "cell_type": "markdown",
   "metadata": {
    "pycharm": {
     "name": "#%% md\n"
    }
   },
   "source": [
    "### Analysis"
   ]
  },
  {
   "cell_type": "code",
   "execution_count": 8,
   "metadata": {
    "pycharm": {
     "name": "#%%\n"
    }
   },
   "outputs": [],
   "source": [
    "# Let's create a class to represent the phenomena"
   ]
  },
  {
   "cell_type": "code",
   "execution_count": 9,
   "metadata": {
    "pycharm": {
     "name": "#%%\n"
    }
   },
   "outputs": [],
   "source": [
    "Numeric = Union[float, int, np.ndarray]\n",
    "\n",
    "# Define logger\n",
    "logger = logging.getLogger('HeatExchangeExample')\n",
    "logger.setLevel(logging.INFO)\n",
    "\n",
    "ch = logging.StreamHandler()\n",
    "ch.setLevel(logging.INFO)\n",
    "\n",
    "formatter = logging.Formatter('%(asctime)s - %(name)s - %(levelname)s - %(message)s')\n",
    "ch.setFormatter(formatter)\n",
    "\n",
    "logger.addHandler(ch)\n",
    "\n",
    "class CompactPlateTypeHeatExchangerBasic:\n",
    "    \"\"\"Class for compact plate type heat exchanger for its geometry, constrain and configuration\"\"\"\n",
    "    def __init__(self, number_gaps: Numeric, characteristic_length: Numeric):\n",
    "        \"\"\"Constructor\"\"\"\n",
    "        self.number_gaps = number_gaps\n",
    "        self.characteristic_length = characteristic_length\n",
    "\n",
    "    @property\n",
    "    def gap_width(self):\n",
    "        return self.characteristic_length / self.number_gaps\n",
    "\n",
    "    @property\n",
    "    def area_plate(self):\n",
    "        return self.characteristic_length ** 2\n",
    "\n",
    "    @property\n",
    "    def total_heat_transfer_area(self):\n",
    "        return self.area_plate * (self.number_gaps - 1)\n",
    "\n",
    "    @property\n",
    "    def h_water(self):\n",
    "        return 2.36 * self.number_gaps / self.characteristic_length\n",
    "\n",
    "    @property\n",
    "    def h_oil(self):\n",
    "        return 0.52 * self.number_gaps / self.characteristic_length\n",
    "\n",
    "    @property\n",
    "    def overall_convection_coefficient(self):\n",
    "        return 1 / (1/self.h_oil + 1/self.h_water)\n",
    "\n",
    "    def get_heat_transfer(self, log_mean_temperature_difference: Numeric):\n",
    "        return self.overall_convection_coefficient * self.total_heat_transfer_area * \\\n",
    "               log_mean_temperature_difference"
   ]
  },
  {
   "cell_type": "markdown",
   "metadata": {
    "pycharm": {
     "name": "#%% md\n"
    }
   },
   "source": [
    "The heat transfer and the logarithmic mean temperature difference are the same as the previous\n",
    "problem. Then, we can create a function for finding the characteristic length for the given\n",
    "number of gaps."
   ]
  },
  {
   "cell_type": "code",
   "execution_count": 10,
   "metadata": {
    "pycharm": {
     "name": "#%%\n"
    }
   },
   "outputs": [
    {
     "data": {
      "image/png": "[encoded data removed]",
      "text/plain": [
       "<Figure size 864x432 with 1 Axes>"
      ]
     },
     "metadata": {
      "needs_background": "light"
     },
     "output_type": "display_data"
    }
   ],
   "source": [
    "def get_characteristic_length(\n",
    "        number_gaps: Numeric,\n",
    "        heat_transfer_rate: Numeric,\n",
    "        log_mean_temperature_difference: Numeric\n",
    ") -> Union[Numeric, bool]:\n",
    "    # For consistent handling of different types, we convert it to numpy ndarray.\n",
    "    if type(number_gaps) is int:\n",
    "        number_gaps = np.array([number_gaps])\n",
    "\n",
    "    def function_to_solve(characteristic_length: Numeric):\n",
    "        heat_exchanger = CompactPlateTypeHeatExchangerBasic(\n",
    "            number_gaps=number_gaps,\n",
    "            characteristic_length=characteristic_length\n",
    "        )\n",
    "        return heat_transfer_rate - heat_exchanger.get_heat_transfer(\n",
    "            log_mean_temperature_difference)\n",
    "\n",
    "    result = root(function_to_solve, x0=np.ones(number_gaps.shape))\n",
    "    if result.success:\n",
    "        if len(result.x) == 1:\n",
    "            return result.x[0]\n",
    "        else:\n",
    "            return result.x\n",
    "    else:\n",
    "        logger.warn(\"Characteristic length to meet the given conditions not found.\")\n",
    "        return False\n",
    "\n",
    "# Let's plot L as a function of N\n",
    "\n",
    "number_gaps = np.linspace(21, 80, 60)\n",
    "characteristic_length = get_characteristic_length(\n",
    "    number_gaps=number_gaps,\n",
    "    heat_transfer_rate=q,\n",
    "    log_mean_temperature_difference=lmtd\n",
    ")\n",
    "\n",
    "if characteristic_length is not False:\n",
    "    fig, ax = plt.subplots(figsize=(12, 6))\n",
    "    ax.scatter(number_gaps, characteristic_length)\n",
    "    ax.set_xlabel(\"Number of gaps\")\n",
    "    ax.set_ylabel(\"Characteristic length (m)\")\n",
    "\n",
    "\n",
    "\n",
    "\n",
    "\n",
    "\n",
    "\n",
    "\n",
    "\n"
   ]
  },
  {
   "cell_type": "code",
   "execution_count": null,
   "metadata": {},
   "outputs": [],
   "source": []
  }
 ],
 "metadata": {
  "kernelspec": {
   "display_name": "Python 3",
   "language": "python",
   "name": "python3"
  },
  "language_info": {
   "codemirror_mode": {
    "name": "ipython",
    "version": 3
   },
   "file_extension": ".py",
   "mimetype": "text/x-python",
   "name": "python",
   "nbconvert_exporter": "python",
   "pygments_lexer": "ipython3",
   "version": "3.8.10"
  }
 },
 "nbformat": 4,
 "nbformat_minor": 4
}
