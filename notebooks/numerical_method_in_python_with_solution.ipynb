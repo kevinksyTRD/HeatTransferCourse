{
 "cells": [
  {
   "cell_type": "markdown",
   "metadata": {
    "pycharm": {
     "name": "#%% md\n"
    }
   },
   "source": [
    "# Numerical Method in Python\n",
    "Most of the examples in this lecture is given as a Jupyter notebook. You can also solve your\n",
    "exercises in the Jupyter notebook. Some exams questions will require you to use the same.\n",
    "This means you will have to be familiar with solving the engineering problems with Python. Python\n",
    " is becoming a more and more popular both as a general programming language and as an engineering\n",
    "  tool."
   ]
  },
  {
   "cell_type": "markdown",
   "metadata": {
    "pycharm": {
     "name": "#%% md\n"
    }
   },
   "source": [
    "## Packages\n",
    "Apart from the core functions and language syntax which comes when you install Python, you can\n",
    "easily expand the capability of the language by installing packages usually provided as a open\n",
    "source software. You can also build your own python packages and share it with others. The most\n",
    "useful packages for solving general engineering problems are scipy and numpy."
   ]
  },
  {
   "cell_type": "markdown",
   "metadata": {
    "pycharm": {
     "name": "#%% md\n"
    }
   },
   "source": [
    "### Installation of the package\n",
    "Packages can be easily installed by\n",
    "```commandline\n",
    "pip install [package name, ...]\n",
    "```\n",
    "So, you can install scipy and numpy packages by\n",
    "```commandline\n",
    "pip install scipy, numpy\n",
    "```\n",
    "In some cases, you may have to manage many packages for a specific application. A simple way to\n",
    "do it is to list the package in a text file (e.g. 'requirements.txt') and simply type\n",
    "```commandline\n",
    "pip install -r requirements.txt\n",
    "```"
   ]
  },
  {
   "cell_type": "markdown",
   "metadata": {
    "pycharm": {
     "name": "#%% md\n"
    }
   },
   "source": [
    "### Virtual Environment\n",
    "Each application may need to have a different set of packages. Furthermore, An applicaiton may\n",
    "depend on a specific version of a package while other applications depend on another version. To\n",
    "resolve these conflicts in versions and packages, it is recommended to use a virtual environment\n",
    "for an application. Virtual environment, when it is activated, provides an isolated python\n",
    "environment from others.\n",
    "\n",
    "First, you have to install the virtual environment package if you haven't. I will assume that\n",
    "you can enter 'python' in any directory to run Python.\n",
    "```commandline\n",
    "pip install virtualenv\n",
    "```\n",
    "Then you need to be in the directory of\n",
    "the target directory.\n",
    "```commandline\n",
    "cd target_directory\n",
    "```\n",
    "Then, create a virtual environment.\n",
    "```commandline\n",
    "python -m virtualenv venv\n",
    "```\n",
    "This will create your virtual environment in 'venv' directory. Next you can activate the virtual\n",
    "environment. If you are on Windows PC,\n",
    "```commandline\n",
    "venv\\Script\\activate\n",
    "```\n",
    "Otherwise,\n",
    "```commandline\n",
    "source venv/bin/activate\n",
    "```\n",
    "NB! Whenever you restarted the terminal, make sure that you activate the virtual environment using\n",
    "the above command."
   ]
  },
  {
   "cell_type": "markdown",
   "metadata": {
    "pycharm": {
     "name": "#%% md\n"
    }
   },
   "source": [
    "### Importing packages\n",
    "In order to use the packages, we have to import the package in the module or notebook. When I say\n",
    " module, it refers to a file with extension of '.py' We will first import numpy."
   ]
  },
  {
   "cell_type": "code",
   "execution_count": null,
   "metadata": {
    "collapsed": false,
    "jupyter": {
     "outputs_hidden": false
    },
    "pycharm": {
     "name": "#%%\n"
    }
   },
   "outputs": [],
   "source": [
    "import numpy as np"
   ]
  },
  {
   "cell_type": "markdown",
   "metadata": {
    "pycharm": {
     "name": "#%% md\n"
    }
   },
   "source": [
    "You see that I imported numpy with aliased name \"np\" above. The aliasing may be omitted and you\n",
    "can use numpy as a full name to use classes, functions, attributes of numpy package. We will try\n",
    "to use numpy to print the value of $\\pi$."
   ]
  },
  {
   "cell_type": "code",
   "execution_count": null,
   "metadata": {
    "collapsed": false,
    "jupyter": {
     "outputs_hidden": false
    },
    "pycharm": {
     "name": "#%%\n"
    }
   },
   "outputs": [],
   "source": [
    "print(np.pi)"
   ]
  },
  {
   "cell_type": "markdown",
   "metadata": {
    "pycharm": {
     "name": "#%% md\n"
    }
   },
   "source": [
    "When you want to import a specific module, classes, functions or attributes from the package, you\n",
    " can do that using \"from\""
   ]
  },
  {
   "cell_type": "code",
   "execution_count": null,
   "metadata": {
    "collapsed": false,
    "jupyter": {
     "outputs_hidden": false
    },
    "pycharm": {
     "name": "#%%\n"
    }
   },
   "outputs": [],
   "source": [
    "from scipy.integrate import solve_ivp\n",
    "from scipy.optimize import minimize_scalar, root"
   ]
  },
  {
   "cell_type": "markdown",
   "metadata": {
    "pycharm": {
     "name": "#%% md\n"
    }
   },
   "source": [
    "## Using Numpy\n",
    "We will start exploring how to use numpy array. Numpy is the fundamental package for scientific\n",
    "computing with Python. I use numpy to handle multi-dimensional arrays mostly."
   ]
  },
  {
   "cell_type": "markdown",
   "metadata": {
    "pycharm": {
     "name": "#%% md\n"
    }
   },
   "source": [
    "### Create a numpy array\n",
    "To create a numpy arrays,"
   ]
  },
  {
   "cell_type": "code",
   "execution_count": null,
   "metadata": {
    "collapsed": false,
    "jupyter": {
     "outputs_hidden": false
    },
    "pycharm": {
     "name": "#%%\n"
    }
   },
   "outputs": [],
   "source": [
    "# 1d array\n",
    "np_array_1d_from_list = np.array([1, 2, 3]) # Creating a 1D array from a list\n",
    "np_array_1d_from_iterator = np.array(range(10)) # Creating a 1D array from an iterator\n",
    "np_array_1d_from_random = np.random.random(10) # Creating a 1D array of 10 random numbers\n",
    "np_array_1d_from_arange = np.arange(0, 10, 1) # Creating a 1D array from 0 to 1 with step of 1\n",
    "np_array_1d_from_lin_space = np.linspace(start=0, stop=100, num=11) # Creating a 1D array by linspace\n",
    "np_array_1d_zeros = np.zeros(10) # Creating a zero-vector of a length of 10.\n",
    "np_array_1d_ones = np.ones(10) # Creating a one-vector of a length of 10.\n",
    "\n",
    "print(f\"From a list: {np_array_1d_from_list}\")\n",
    "print(f\"From an iterator: {np_array_1d_from_iterator}\")\n",
    "print(f\"Using a random function: {np_array_1d_from_random}\")\n",
    "print(f\"Using an arange function: {np_array_1d_from_arange}\")\n",
    "print(f\"Using a lin space function: {np_array_1d_from_lin_space}\")\n",
    "print(f\"Using a zeros function: {np_array_1d_zeros}\")\n",
    "print(f\"Using a ones function: {np_array_1d_ones}\")\n",
    "print(\"\\n\")\n",
    "\n",
    "# 2d array\n",
    "np_array_2d_from_list = np.array([[1, 2, 3],[4, 5, 6]])\n",
    "np_array_2d_from_random = np.random.random([2, 5])\n",
    "np_array_2d_from_meshgrid = np.meshgrid(\n",
    "    np.linspace(0, 1, 11),\n",
    "    np.linspace(1, 2, 11)\n",
    ")\n",
    "\n",
    "print(f\"2D array from a list: \\n {np_array_2d_from_list}\")\n",
    "print(f\"Shape of the 2D array is : {np_array_2d_from_list.shape}\")\n",
    "print(f\"2D array from the random function: \\n {np_array_2d_from_random}\")\n",
    "print(f\"2D array from the meshgrid function \\n {np_array_2d_from_meshgrid}\")\n",
    "print(type(np_array_2d_from_meshgrid))"
   ]
  },
  {
   "cell_type": "markdown",
   "metadata": {
    "jupyter": {
     "outputs_hidden": false
    },
    "pycharm": {
     "name": "#%% md\n"
    }
   },
   "source": [
    "Check out [this link](https://numpy.org/doc/stable/reference/routines.array-creation.html) for\n",
    "various methods to create arrays."
   ]
  },
  {
   "cell_type": "markdown",
   "metadata": {
    "jupyter": {
     "outputs_hidden": false
    },
    "pycharm": {
     "name": "#%% md\n"
    }
   },
   "source": [
    "#### Exercise\n",
    "We are given with a function of temperature in <sup>o</sup>C in $x$ that is position in m,\n",
    "$$T(x) = 400 - 50x + 10x^2 + 0.4x^3$$\n",
    "Calculate the temperatures from x=0 to x=1 with an interval of 0.1 and plot it."
   ]
  },
  {
   "cell_type": "code",
   "execution_count": null,
   "metadata": {
    "pycharm": {
     "name": "#%%\n"
    }
   },
   "outputs": [],
   "source": [
    "# Exercise\n",
    "from typing import Union\n",
    "import matplotlib.pyplot as plt\n",
    "\n",
    "# Define the function to get temperature\n",
    "def get_temperature(x_position: Union[float, np.ndarray]) -> Union[float, np.ndarray]:\n",
    "    return 400 - 50*x_position + 10*x_position**2 + 0.4*x_position**3\n",
    "\n",
    "# Create a 1D array of x position\n",
    "x_position_array = # Your code here\n",
    "\n",
    "# Calculate the temperature\n",
    "temperature_array = get_temperature(x_position_array)\n",
    "\n",
    "# Plot\n",
    "fig, ax = plt.subplots(figsize=(8, 6))\n",
    "plt.plot(x_position_array, temperature_array)\n",
    "ax.set_xlabel('Position [m]')\n",
    "ax.set_ylabel('Temperature [degC]')"
   ]
  },
  {
   "cell_type": "markdown",
   "metadata": {
    "pycharm": {
     "name": "#%% md\n"
    }
   },
   "source": [
    "### Accessing the array\n",
    "You can array a value in the array with the index. The first element in the array has index, 0.\n",
    "You can access the last element with index, -1, ans the second last with -2, and so on."
   ]
  },
  {
   "cell_type": "markdown",
   "metadata": {
    "jupyter": {
     "outputs_hidden": false
    },
    "pycharm": {
     "name": "#%% md\n"
    }
   },
   "source": [
    "#### Exercise\n",
    "From the exercise above, what is the temperature at $x$=0 and $x=1$."
   ]
  },
  {
   "cell_type": "code",
   "execution_count": null,
   "metadata": {
    "pycharm": {
     "name": "#%%\n"
    }
   },
   "outputs": [],
   "source": [
    "temperature_x_0 = # your code here\n",
    "temperature_x_1 = # your code here\n",
    "\n",
    "print(f\"Temperature at x=0: {temperature_x_0} degC\")\n",
    "print(f\"Temperature at x=1: {temperature_x_1} degC\")"
   ]
  },
  {
   "cell_type": "markdown",
   "metadata": {
    "jupyter": {
     "outputs_hidden": false
    },
    "pycharm": {
     "name": "#%% md\n"
    }
   },
   "source": [
    "We can also access the array in range. For example, to access the first 3 elements"
   ]
  },
  {
   "cell_type": "code",
   "execution_count": null,
   "metadata": {
    "pycharm": {
     "name": "#%%\n"
    }
   },
   "outputs": [],
   "source": [
    "print(x_position_array[:3])"
   ]
  },
  {
   "cell_type": "markdown",
   "metadata": {
    "jupyter": {
     "outputs_hidden": false
    },
    "pycharm": {
     "name": "#%% md\n"
    }
   },
   "source": [
    "We can also access the array toward the end. For example, to access the last 10 elemenents"
   ]
  },
  {
   "cell_type": "code",
   "execution_count": null,
   "metadata": {
    "pycharm": {
     "name": "#%%\n"
    }
   },
   "outputs": [],
   "source": [
    "print(x_position_array[-3:])"
   ]
  },
  {
   "cell_type": "markdown",
   "metadata": {
    "jupyter": {
     "outputs_hidden": false
    },
    "pycharm": {
     "name": "#%% md\n"
    }
   },
   "source": [
    "If you want to access something in between, from index 3 to 6, use the following.\n",
    "```python\n",
    "x_position_array[x:y]\n",
    "```\n",
    "Note that the `x_position_array[6]` is not inclusive here. You can also access the elemets by\n",
    "conditions. To access the elements which has value that is greater than 0.5,"
   ]
  },
  {
   "cell_type": "code",
   "execution_count": null,
   "metadata": {
    "pycharm": {
     "name": "#%%\n"
    }
   },
   "outputs": [],
   "source": [
    "index_array = x_position_array > 0.5\n",
    "print(index_array)\n",
    "print(x_position_array[index_array])"
   ]
  },
  {
   "cell_type": "markdown",
   "metadata": {
    "jupyter": {
     "outputs_hidden": false
    },
    "pycharm": {
     "name": "#%% md\n"
    }
   },
   "source": [
    "#### Exercise\n",
    "Plot the temperature graphs for 0.4<=$x$<=0.7. Use the output from the exercise above.\n",
    "(Hint. Use `np.bitwise_and(x1, x2)` to get AND operation of two array of boolean values.)"
   ]
  },
  {
   "cell_type": "code",
   "execution_count": null,
   "metadata": {
    "collapsed": false,
    "jupyter": {
     "outputs_hidden": false
    },
    "pycharm": {
     "name": "#%%\n"
    }
   },
   "outputs": [],
   "source": [
    "index_array = np.bitwise_and(# Your code here)\n",
    "x_position_array_to_plot = x_position_array[index_array]\n",
    "temperature_array_to_plot = temperature_array[index_array]\n",
    "\n",
    "fig, ax = plt.subplots(figsize=(8, 6))\n",
    "ax.plot(x_position_array_to_plot, temperature_array_to_plot)\n",
    "ax.set_xlabel('Position [m]')\n",
    "ax.set_ylabel('Temeprature [degC]')"
   ]
  },
  {
   "cell_type": "markdown",
   "metadata": {
    "jupyter": {
     "outputs_hidden": false
    },
    "pycharm": {
     "name": "#%% md\n"
    }
   },
   "source": [
    "### Array operation\n",
    "You can apply most of the arithmetic operations to the array."
   ]
  },
  {
   "cell_type": "code",
   "execution_count": null,
   "metadata": {
    "collapsed": false,
    "jupyter": {
     "outputs_hidden": false
    },
    "pycharm": {
     "name": "#%%\n"
    }
   },
   "outputs": [],
   "source": [
    "print(f\"Multiplying an array with a scalar: {x_position_array * 10}\")\n",
    "print(f\"Adding an array with a scalar: {x_position_array + 1}\")\n",
    "print(f\"Squaring an array with a scalar: {x_position_array**2}\")"
   ]
  },
  {
   "cell_type": "markdown",
   "metadata": {
    "jupyter": {
     "outputs_hidden": false
    },
    "pycharm": {
     "name": "#%% md\n"
    }
   },
   "source": [
    "The same applies to functions."
   ]
  },
  {
   "cell_type": "code",
   "execution_count": null,
   "metadata": {
    "pycharm": {
     "name": "#%%\n"
    }
   },
   "outputs": [],
   "source": [
    "print(f\"Sine of an array: {np.sin(x_position_array)}\")\n",
    "print(f\"Exponential value of an array: {np.exp(x_position_array)}\")"
   ]
  },
  {
   "cell_type": "markdown",
   "metadata": {
    "jupyter": {
     "outputs_hidden": false
    },
    "pycharm": {
     "name": "#%% md\n"
    }
   },
   "source": [
    "If you do the arithmetic for two arrays, the arithmetic happens element wise also."
   ]
  },
  {
   "cell_type": "code",
   "execution_count": null,
   "metadata": {
    "collapsed": false,
    "jupyter": {
     "outputs_hidden": false
    },
    "pycharm": {
     "name": "#%%\n"
    }
   },
   "outputs": [],
   "source": [
    "print(f\"Adding two arrays: {x_position_array + x_position_array}\")\n",
    "print(f\"Multiplying two arrays: {x_position_array * x_position_array}\")"
   ]
  },
  {
   "cell_type": "markdown",
   "metadata": {},
   "source": [
    "## Using Functions and Partial Functions\n",
    "Function allows you to use the algorithm or calculations repetitively without writing it\n",
    "over and over. Whenever you realize that a piece of code is used more than once, it is a good\n",
    " idea to implement it as a function. Sometimes you want to change the algorithm or correct a bug.\n",
    "  Then you only have to correct once in the function."
   ]
  },
  {
   "cell_type": "markdown",
   "metadata": {},
   "source": [
    "### Defining a function\n",
    "Here's a basic syntax for defining a function\n",
    "```python\n",
    "def function_name(arg1, arg2, arg3):\n",
    "    something = arg1 + arg2 + arg3\n",
    "    return something\n",
    "```\n",
    "You can define a function in any place of the module. Usually you define a function before its\n",
    "usage. You can define a function within a function. In that case, the function is only usable\n",
    "within the wrapping function.\n",
    "\n",
    "A function must have a name. In modern programming, we are not so eager to use abbreviation. We\n",
    "would rather use a name that is understood to anyone. So don't squeeze your head to find a short\n",
    "function name with a lot of abbreviations but just use more daily words.\n",
    "\n",
    "A function takes arguments. You can make a function without any argument also. Argument can be\n",
    "anything, really. It can be a numeric value, string, or even a function. You can pass an instance\n",
    "of a class or class type.\n",
    "\n",
    "A function always returns a value. If you don't specify anything, the function returns None."
   ]
  },
  {
   "cell_type": "markdown",
   "metadata": {},
   "source": [
    "#### Exercise\n",
    "Create a function for the temperature change over time.\n",
    "$$T(t) = T_0 + T_\\mathrm{rise}\\left(1 - e^{-\\frac{t}{tau}}\\right)$$\n",
    "Plot a graph for $0 \\leq t \\leq 20$ given $\\tau=5$, $T_0$ = 500 and  $T_\\mathrm{rise}$ = 200."
   ]
  },
  {
   "cell_type": "code",
   "execution_count": null,
   "metadata": {
    "collapsed": false,
    "jupyter": {
     "outputs_hidden": false
    },
    "pycharm": {
     "name": "#%%\n"
    }
   },
   "outputs": [],
   "source": [
    "def get_temperature(\n",
    "        # Your code here\n",
    ") -> Numeric:\n",
    "    # Your code here\n",
    "\n",
    "time_array = # Your code here\n",
    "temperature_array = get_temperature(# Your code here)\n",
    "\n",
    "fig, ax = plt.subplots(figsize=(8, 6))\n",
    "ax.plot(time_array, temperature_array)\n",
    "ax.set_ylabel(\"Temperature (degC)\")\n",
    "ax.set_xlabel(\"Time (s)\")"
   ]
  },
  {
   "cell_type": "markdown",
   "metadata": {},
   "source": [
    "### Typing hint\n",
    "It is a good idea to provide the hint for the types that you expect for the argument and return\n",
    "values when you implement a function. It makes the use of function easier and people don't have\n",
    "to do trial and error to see which data type the function can accept. The following syntax is\n",
    "used to give the typing hint.\n",
    "```python\n",
    "def function(arg1: type1, arg2: type2) -> return_type:\n",
    "    return value\n",
    "```\n",
    "A type can be a built-in types such as `int`, `float`, `list`, etc, or it can be a class or\n",
    "function.\n",
    "\n",
    "If the value can take more than one type, then you can use `Union` that you can import from\n",
    "typing package.\n",
    "\n",
    "```python\n",
    "from typing impot Union\n",
    "\n",
    "def function(arg1: Union[type1, type2], arg2: Union[type1, type2]) -> return_type:\n",
    "    return value\n",
    "```"
   ]
  },
  {
   "cell_type": "markdown",
   "metadata": {},
   "source": [
    "### Partial function\n",
    "Partial function is used when you need to freeze some arguments when a function is used. It is like\n",
    "defining a new function that calls the function you wan to use. For example,\n",
    "```python\n",
    "def add_two_values(x, y):\n",
    "    return x, y\n",
    "\n",
    "def add_two_to_a_value(x):\n",
    "    return add_two_values(x, 2)\n",
    "```\n",
    "Instead of defining a new function,\n",
    "```python\n",
    "from functools import partial\n",
    "\n",
    "add_two_to_a_value = partial(add_two_values, y=2)\n",
    "```\n",
    "This improves the readability of the function. This can be effectively used in other functions\n",
    "that takes a function as an argument. We will see the examples in the numerical optimization\n",
    "section or numerical integration section.\n",
    "## Plotting results\n",
    "matplotlib is a basic package everyone uses when they want to plot numerical values in Python.\n",
    "There are other high-level packages that provides templates for more advanced plots such as\n",
    "Plotly or Seaborn."
   ]
  },
  {
   "cell_type": "markdown",
   "metadata": {},
   "source": [
    "#### Exercise\n",
    "Create a function that accept only temperature as an input using `partial` for `get_temperature` function from the previous exercise. Other arguments are given as $0 \\leq t \\leq 20$ given $\\tau=5$, $T_0$ = 500 and  $T_\\mathrm{rise}$ = 200.\n",
    "Check if they give the same value for at any random t value."
   ]
  },
  {
   "cell_type": "code",
   "execution_count": null,
   "metadata": {},
   "outputs": [],
   "source": [
    "from functools import partial\n",
    "import random\n",
    "\n",
    "get_temperature_only_from_time_input = partial(\n",
    "    # Your code here\n",
    ")\n",
    "\n",
    "time = random.random() * 100\n",
    "assert get_temperature(\n",
    "    time,\n",
    "    initial_temperature=500,\n",
    "    rise_temperature=200,\n",
    "    tau=5\n",
    ") == get_temperature_only_from_time_input(time), \"The partial function is not identical.\""
   ]
  },
  {
   "cell_type": "markdown",
   "metadata": {
    "pycharm": {
     "name": "#%% md\n"
    }
   },
   "source": [
    "### Creating plot\n",
    "First the package for plotting should be imported. This is how everyone does."
   ]
  },
  {
   "cell_type": "code",
   "execution_count": null,
   "metadata": {
    "collapsed": false,
    "jupyter": {
     "outputs_hidden": false
    },
    "pycharm": {
     "name": "#%%\n"
    }
   },
   "outputs": [],
   "source": [
    "import matplotlib.pyplot as plt"
   ]
  },
  {
   "cell_type": "markdown",
   "metadata": {
    "pycharm": {
     "name": "#%% md\n"
    }
   },
   "source": [
    "`plt.plot(x, y)` is the easiest way to start."
   ]
  },
  {
   "cell_type": "code",
   "execution_count": null,
   "metadata": {
    "collapsed": false,
    "jupyter": {
     "outputs_hidden": false
    },
    "pycharm": {
     "name": "#%%\n"
    }
   },
   "outputs": [],
   "source": [
    "plt.plot([0, 1], [0, 1])"
   ]
  },
  {
   "cell_type": "markdown",
   "metadata": {
    "pycharm": {
     "name": "#%% md\n"
    }
   },
   "source": [
    "If you are working on a plain python, you have to put\n",
    "```python\n",
    "plt.show()\n",
    "```\n",
    "to see the plot. In the jupyter notebook, this is not necessary.\n",
    "\n",
    "We usually want to have control over different elements in the plot such as legends, labels,\n",
    "range, colors, line styles, etc. These are usually handled through axes instance. So, we can\n",
    "start plotting by creating a figure and axes that belongs to the figure."
   ]
  },
  {
   "cell_type": "code",
   "execution_count": null,
   "metadata": {
    "pycharm": {
     "name": "#%%\n"
    }
   },
   "outputs": [],
   "source": [
    "fig, ax = plt.subplots()\n",
    "ax.plot([0, 1], [0, 1])\n",
    "ax.set_xlabel('label for x-axis')\n",
    "ax.set_ylabel('label for y-axis')"
   ]
  },
  {
   "cell_type": "markdown",
   "metadata": {
    "jupyter": {
     "outputs_hidden": false
    },
    "pycharm": {
     "name": "#%% md\n"
    }
   },
   "source": [
    "## Numerical Optimization\n",
    "Numerical optimization in this course is used in two ways in this course:\n",
    "- Finding a root for an equation $f(x) = 0$\n",
    "- Finding a minimum value and the corresponding argument for an objective function"
   ]
  },
  {
   "cell_type": "markdown",
   "metadata": {
    "pycharm": {
     "name": "#%% md\n"
    }
   },
   "source": [
    "### Solving an equation\n",
    "We can use `root` method from `scipy.optimize` to find a root for a equation $f(x) = 0$ where $x$\n",
    " is a vector. The syntax for using the method is\n",
    "```python\n",
    "root(fun, x0, args=(), method='hybr', jac=None, tol=None, callback=None, options=None)\n",
    "```\n",
    "fun, x0 must be given, and other arguments are optional. fun is a Python function of which the\n",
    "return is supposed to be 0 (left side of the equation). x0 is a ndarray or list for the initial\n",
    "guess for the solution. Here is a simple example for a second-order polynomial to solve.\n",
    "$$ f(x) = x^2 - 5x  + 6 = 0$$"
   ]
  },
  {
   "cell_type": "code",
   "execution_count": null,
   "metadata": {
    "collapsed": false,
    "jupyter": {
     "outputs_hidden": false
    },
    "pycharm": {
     "name": "#%%\n"
    }
   },
   "outputs": [],
   "source": [
    "from scipy.optimize import root\n",
    "\n",
    "# Setting the function to solve\n",
    "def function_to_solve(x: float) -> float:\n",
    "    return x**2 - 5*x + 6\n",
    "\n",
    "solution = root(function_to_solve, x0=[0])\n",
    "print(solution)"
   ]
  },
  {
   "cell_type": "markdown",
   "metadata": {
    "pycharm": {
     "name": "#%% md\n"
    }
   },
   "source": [
    "Note that only one solution is found from the solver. We can try again with a new initial guess."
   ]
  },
  {
   "cell_type": "code",
   "execution_count": null,
   "metadata": {
    "collapsed": false,
    "jupyter": {
     "outputs_hidden": false
    },
    "pycharm": {
     "name": "#%%\n"
    }
   },
   "outputs": [],
   "source": [
    "solution = root(function_to_solve, x0=[5])\n",
    "print(solution)"
   ]
  },
  {
   "cell_type": "markdown",
   "metadata": {
    "pycharm": {
     "name": "#%% md\n"
    }
   },
   "source": [
    "Now we found the other solution. Be aware of that the solution may not be found depending on the\n",
    "initial guess or it gives another solution that you did not expect. It is a good practive to try\n",
    "the method with different initial values to avoid such a surprise."
   ]
  },
  {
   "cell_type": "markdown",
   "metadata": {
    "pycharm": {
     "name": "#%% md\n"
    }
   },
   "source": [
    "#### Exercise\n",
    "Find the time at which the temperature has reached 626.4<sup>o</sup>C using the partial function \n",
    "from the previous exercise."
   ]
  },
  {
   "cell_type": "code",
   "execution_count": null,
   "metadata": {
    "collapsed": false,
    "jupyter": {
     "outputs_hidden": false
    },
    "pycharm": {
     "name": "#%% \n"
    }
   },
   "outputs": [],
   "source": [
    "# We need to define a function to solve\n",
    "def function_to_solve(time: Numeric) -> Numeric:\n",
    "    # Your code here\n",
    "\n",
    "solution = root(# Your code here)\n",
    "print(solution)\n",
    "\n",
    "# We can verify if the solution is correct\n",
    "assert 626.4 == get_temperature_only_from_time_input(solution.x[0]), \"The solution is not correct\""
   ]
  },
  {
   "cell_type": "markdown",
   "metadata": {
    "pycharm": {
     "name": "#%% md\n"
    }
   },
   "source": [
    "### Find a minimum value\n",
    "In this course, we will only look at a scalar function with a single variable. To do that, we can\n",
    " use `minimize_scalar` function from `scipy.optimize`. The syntax is\n",
    "\n",
    "```python\n",
    "minimize_scalar(fun, bracket=None, bounds=None, args=(), method='brent', tol=None, options=None)\n",
    "```\n",
    "Here, we have to pass a function with a single variable. Often, we need to bound the search area\n",
    "so that the algorithm does not search the solution in the unexpected region. In that case, it is\n",
    "recommended to use 'bounded' method. Let us recall the function we used for finding the thermal\n",
    "resistance for an insulated pipe."
   ]
  },
  {
   "cell_type": "code",
   "execution_count": null,
   "metadata": {
    "pycharm": {
     "name": "#%%\n"
    }
   },
   "outputs": [],
   "source": [
    "def get_total_thermal_resistance_cylinder_with_insulation(\n",
    "    wall_thickness: Numeric,\n",
    "    inner_radius: Numeric,\n",
    "    thermal_conductivity: Numeric,\n",
    "    convection_coefficient: Numeric,\n",
    "    length: Numeric\n",
    ") -> Numeric:\n",
    "    \"\"\"Returns total thermal resistance\"\"\"\n",
    "    outer_radius = inner_radius + wall_thickness\n",
    "    resistance_insulation = np.log(outer_radius / inner_radius) / \\\n",
    "                            (2 * np.pi * thermal_conductivity * length)\n",
    "    outer_area = 2 * np.pi * outer_radius * length\n",
    "    resistance_convection =  1 / (convection_coefficient * outer_area)\n",
    "    return resistance_insulation + resistance_convection"
   ]
  },
  {
   "cell_type": "markdown",
   "metadata": {
    "pycharm": {
     "name": "#%% md\n"
    }
   },
   "source": [
    "In this function, the wall thickness should be always greater than 0. There is no meaning to\n",
    "search the function with negative values of the wall thickness. Therefore, we use `bounded` as a\n",
    "method finding the minimum value."
   ]
  },
  {
   "cell_type": "markdown",
   "metadata": {
    "pycharm": {
     "name": "#%% md\n"
    }
   },
   "source": [
    "#### Exercise\n",
    "Create a `function_to_minimize` from `get_total_thermal_resistance_cylinder_with_insulation` with\n",
    " the wall_thickness as an input. Other values are given as $r_i$ = 5 mm, $k_\\mathrm{insulation}$\n",
    " =  0.055 W/mK, $h_\\mathrm{surr}$ = 5 W/m<sup>2</sup>K, length = 1m. Then use the\n",
    " `minimize_scalar` function to find the minimum value for the function in the thickness between 0\n",
    "  and 100mm."
   ]
  },
  {
   "cell_type": "code",
   "execution_count": null,
   "metadata": {
    "pycharm": {
     "name": "#%%\n"
    }
   },
   "outputs": [],
   "source": [
    "from scipy.optimize import minimize_scalar\n",
    "\n",
    "function_to_minimize = partial(\n",
    "    # Your code here\n",
    ")\n",
    "\n",
    "solution = minimize_scalar(# Your code here)\n",
    "print(solution)"
   ]
  },
  {
   "cell_type": "markdown",
   "metadata": {},
   "source": [
    "## Numerical Integration / Solving ODE\n",
    "Often, we get an differential equation for our engineering problem, especially when we need to\n",
    "handle temporal changes. In many cases, we end up with an ordinary differential equation that\n",
    "looks like\n",
    "$$\\dot{x} = f(x, t)$$\n",
    "When the differential function is in this form, we call it ordinary differential equation (ODE).\n",
    "Other form of the differential equation is\n",
    "$$f(x, \\dot{x}, t) = 0$$\n",
    "which is called a differential algebraic equation.\n",
    "For ODE, $x(t)$ is found by\n",
    "$$x(t) = x(0) + \\int_0^t f(x, \\tau) d\\tau$$\n",
    "This integration can be done numerically. You can think of Simpson's rule, for example, as an\n",
    "integrator for the given function. Only the difference is that for Simpson's rule we know all the\n",
    "values of the function to integrate whereas we need to guess the next value of the function from\n",
    "the current value and the gradient. See below figure for the scheme of the Eulers method which is\n",
    "in the simplest form of the ODE solver.\n",
    "![Eulers Method](images/EulerMethod.png)\n",
    "### Using solve_ivp\n",
    "Once you set up a function for the derivative of the states, we can use the ODE solver in the\n",
    "python. The most generic method to use is `solve_ivp` from `scipy.integrate`. The syntax of the\n",
    "method is\n",
    "```python\n",
    "solve_ivp(fun, t_span, y0, method='RK45', t_eval=None, dense_output=False, events=None,\n",
    "vectorized=False, args=None, **options)\n",
    "```\n",
    "Here `fun` argument is the derivative function $\\dot{x}$ as a function of $t$ and $x$. The first\n",
    "argument of the function should be time and the second $x$. `t_span` is the time interval of the\n",
    "integration given as a tuple, `(t_start, t_end)`. It returns an ODEResult object which has the\n",
    "following attributes:\n",
    "- `t`: Time points\n",
    "- `z`: Values of the solution at `t`\n",
    "- `success`: True if the solver reached the interval end or a termination event occurred\n",
    "(``status >= 0``)\n",
    "- others"
   ]
  },
  {
   "cell_type": "markdown",
   "metadata": {
    "pycharm": {
     "name": "#%% md\n"
    }
   },
   "source": [
    "#### Example\n",
    "Solve the differential equation\n",
    "$$\\dot(x) = x^2 - 4x + sin(t)$$\n",
    "for $x(0) = 0$ and $0 \\leq t \\leq 10$ and plot the result"
   ]
  },
  {
   "cell_type": "code",
   "execution_count": null,
   "metadata": {
    "pycharm": {
     "name": "#%%\n"
    }
   },
   "outputs": [],
   "source": [
    "from scipy.integrate import solve_ivp\n",
    "\n",
    "def diff_equation_to_solve(time, x):\n",
    "    return x**2 - 4*x + np.sin(time)\n",
    "x0 = 0\n",
    "solution = solve_ivp(diff_equation_to_solve, (0, 10), [x0])\n",
    "\n",
    "fig, ax = plt.subplots()\n",
    "ax.plot(solution.t, solution.y[0])\n",
    "ax.set_xlabel(\"Time (s)\")\n",
    "ax.set_ylabel(\"x\")"
   ]
  },
  {
   "cell_type": "markdown",
   "metadata": {
    "pycharm": {
     "name": "#%% md\n"
    }
   },
   "source": [
    "####Exercise\n",
    "We have the rate of change in temperature equation given for a control volume.\n",
    "$$\\dot{T} = \\dot{Q}_t-\\frac{h \\cdot A}{m c_p}\\left(T - T_\\mathrm{surr}\\right)$$\n",
    "\n",
    "First, create a function for $\\dot{T}$ in function of $T$ and $t$. $\\dot{Q}_t$ is also a\n",
    "function in time that can be defined later. This means that the function for $\\dot{T}$ should\n",
    "take $\\dot{Q}_t$ function an additional argument."
   ]
  },
  {
   "cell_type": "code",
   "execution_count": null,
   "metadata": {
    "pycharm": {
     "name": "#%%\n"
    }
   },
   "outputs": [],
   "source": [
    "# Your code here\n",
    "def temperature_rate(\n",
    "        # Your code here\n",
    ") -> Numeric:\n",
    "    # Your code here"
   ]
  },
  {
   "cell_type": "markdown",
   "metadata": {
    "pycharm": {
     "name": "#%% md\n"
    }
   },
   "source": [
    "Given \n",
    "- $\\dot{Q}_t = sin(0.209t)$\n",
    "- $h$=2 W/m<sup>2</sup>\n",
    "- $A$=100 m<sup>2</sup>\n",
    "- $m$=1000 kg\n",
    "- $c_p$=300J/kgK\n",
    "- $T_\\mathrm$ = 20 <sup>o</sup>C, define a function to solve and solve the differential\n",
    "equation for $T_0 = 100$, $0 \\leq t \\leq 100$."
   ]
  },
  {
   "cell_type": "code",
   "execution_count": null,
   "metadata": {
    "pycharm": {
     "name": "#%%\n"
    }
   },
   "outputs": [],
   "source": [
    "def heat_input(# Your code here):\n",
    "    # Your code here\n",
    "\n",
    "function_to_solve = partial(\n",
    "    # Your code here\n",
    ")\n",
    "\n",
    "solution = solve_ivp(# Your code here)\n",
    "\n",
    "fig, ax = plt.subplots()\n",
    "ax.plot(solution.t, solution.y[0])\n",
    "ax.plot(solution.t, solution.y[0])\n",
    "ax.set_xlabel(\"Time (s)\")\n",
    "ax.set_ylabel(\"x\")"
   ]
  },
  {
   "cell_type": "markdown",
   "metadata": {
    "pycharm": {
     "name": "#%% md\n"
    }
   },
   "source": [
    "Since the output seems to be a bit coarse, we want to see the result in a finer grid."
   ]
  },
  {
   "cell_type": "code",
   "execution_count": null,
   "metadata": {
    "pycharm": {
     "name": "#%%\n"
    }
   },
   "outputs": [],
   "source": [
    "t_eval = np.linspace(0, 1000, 10001)\n",
    "solution = solve_ivp(function_to_solve, (0, 1000), [100], t_eval=t_eval)\n",
    "\n",
    "fig, ax = plt.subplots()\n",
    "ax.plot(solution.t, solution.y[0])\n",
    "ax.plot(solution.t, solution.y[0])\n",
    "ax.set_xlabel(\"Time (s)\")\n",
    "ax.set_ylabel(\"x\")"
   ]
  },
  {
   "cell_type": "markdown",
   "metadata": {
    "pycharm": {
     "name": "#%% md\n"
    }
   },
   "source": [
    "## Further dive into the scientific calculation with python\n",
    "\n",
    "Please refer to [Scypy Lecture Notes](https://scipy-lectures.org/index.html) if you want to find\n",
    "more about the scipy and numpy.\n",
    "\n",
    "Here are more packages that might be interesting for other application.\n",
    "1. [pandas](https://pandas.pydata.org): data analysis and manipulation tool\n",
    "2. [SymPy](https://www.sympy.org/en/index.html): Python library for symbolic mathematics.\n",
    "2. [scikit-learn](https://scikit-learn.org/stable/index.html): open source machine learning\n",
    "library that supports supervised and unsupervised learning.\n",
    "3. [keras](https://keras.io): library that provides a Python interface for artificial neural\n",
    "networks using TensorFlow.\n"
   ]
  }
 ],
 "metadata": {
  "kernelspec": {
   "display_name": "Python 3",
   "language": "python",
   "name": "python3"
  },
  "language_info": {
   "codemirror_mode": {
    "name": "ipython",
    "version": 3
   },
   "file_extension": ".py",
   "mimetype": "text/x-python",
   "name": "python",
   "nbconvert_exporter": "python",
   "pygments_lexer": "ipython3",
   "version": "3.8.2"
  },
  "toc-autonumbering": false,
  "toc-showcode": false,
  "toc-showmarkdowntxt": false
 },
 "nbformat": 4,
 "nbformat_minor": 4
}