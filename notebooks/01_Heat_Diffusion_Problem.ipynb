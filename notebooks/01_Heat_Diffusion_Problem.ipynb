{
 "cells": [
  {
   "cell_type": "markdown",
   "id": "confirmed-schema",
   "metadata": {},
   "source": [
    "# Heat Diffusion Problem\n",
    "\n",
    "The temperature distribution across a wall 1 m thick at a certain instant of time is given as\n",
    "\n",
    "$$T(x)=a + bx + cx^2 + dx^3$$\n",
    "\n",
    "where $T$ is in degrees Celsius and $x$ is in meters, while $a$=900<sup>o</sup>C,\n",
    "$b$=300<sup>o</sup>C/m, and $c$=50<sup>o</sup>C/m<sup>2</sup>. A uniform heat generation,\n",
    "$\\dot{E}_g$=1000 W/m<sup>3</sup>, is present in the wall of area 10m<sup>2</sup> having the\n",
    "properties $\\rho$ = 1600 kg/m<sup>3</sup>, $k$=40 W/mK, and $c_p$=4 kJ/kgK.\n",
    "\n",
    "1. Determine the rate of heat transfer entering the wall ($x$=0) and leaving the wall ($x$=1m)."
   ]
  },
  {
   "cell_type": "code",
   "execution_count": 1,
   "id": "altered-demand",
   "metadata": {},
   "outputs": [],
   "source": [
    "# Known\n",
    "a = 900 # coefficient 0 for temperature function, degC\n",
    "b = 300 # coefficient 1 for temperature function, degC/m\n",
    "c = 50 # coefficient 2 for temperature function, degC/m2\n",
    "d = 2 # coefficient 3 for temperature funciton, degC/m3\n",
    "heat_generation_per_volume = 1000 # W/m3\n",
    "area_wall = 10 # m2\n",
    "x_in = 0 # position of boundary at entrance\n",
    "x_out = 1 # position of boundary at exit, m"
   ]
  },
  {
   "cell_type": "code",
   "execution_count": 2,
   "id": "hungarian-sauce",
   "metadata": {},
   "outputs": [],
   "source": [
    "# Find\n",
    "heat_transfer_in = None # W\n",
    "heat_transfer_out = None # W"
   ]
  },
  {
   "cell_type": "markdown",
   "id": "precise-meter",
   "metadata": {},
   "source": [
    "# Schematics\n",
    "![Schematic](images/HeatDiffusionEquationExample.png)"
   ]
  },
  {
   "cell_type": "markdown",
   "id": "noticed-rogers",
   "metadata": {},
   "source": [
    "# Assumption\n",
    "1. Constant and homogeneous properties\n",
    "2. Uniform heat generation\n",
    "3. Temperature profile is given"
   ]
  },
  {
   "cell_type": "code",
   "execution_count": 3,
   "id": "juvenile-rotation",
   "metadata": {},
   "outputs": [],
   "source": [
    "# Properties\n",
    "density_wall = 1600 # kg/m3\n",
    "thermal_conductivity_wall = 40 # W/mK\n",
    "c_p = 4 # 4 kJ/kgK"
   ]
  },
  {
   "cell_type": "markdown",
   "id": "silent-overall",
   "metadata": {},
   "source": [
    "# Analysis\n",
    "Let's create a function of the temperature profile and the temperature gradient and plot it along $x$."
   ]
  },
  {
   "cell_type": "code",
   "execution_count": 4,
   "id": "suspended-interface",
   "metadata": {},
   "outputs": [
    {
     "data": {
      "image/png": "[encoded data removed]",
      "text/plain": [
       "<Figure size 576x432 with 2 Axes>"
      ]
     },
     "metadata": {
      "needs_background": "light"
     },
     "output_type": "display_data"
    }
   ],
   "source": [
    "from typing import Union\n",
    "import numpy as np\n",
    "import matplotlib.pyplot as plt\n",
    "\n",
    "def get_temperature(x: Union[float, np.ndarray]) -> Union[float, np.ndarray]:\n",
    "    return a + b*x + c*x**2 + d*x**3\n",
    "\n",
    "def get_temperature_gradient(x: Union[float, np.ndarray]) -> Union[float, np.ndarray]:\n",
    "    return b + 2*c*x + 3*d*x**2\n",
    "\n",
    "x_vector = np.arange(0, 1.01, 0.1)\n",
    "temperature_vector = get_temperature(x_vector)\n",
    "temperature_grad_vector = get_temperature_gradient(x_vector)\n",
    "\n",
    "fig, ax = plt.subplots(figsize=(8,6))\n",
    "color = 'tab:blue'\n",
    "ax.plot(x_vector, temperature_vector, color=color)\n",
    "ax.set_xlabel('Position (m)')\n",
    "ax.set_ylabel('Temperature (degC)')\n",
    "ax.tick_params(axis='y', colors=color)\n",
    "ax_right = ax.twinx()\n",
    "color = 'tab:red'\n",
    "ax_right.plot(x_vector, temperature_grad_vector, color=color)\n",
    "ax_right.set_ylabel('Temperature gradient (degC/m)')\n",
    "ax_right.tick_params(axis='y', colors=color)"
   ]
  },
  {
   "cell_type": "markdown",
   "id": "municipal-prevention",
   "metadata": {},
   "source": [
    "We can calculate the heat transfer rate from\n",
    "$$q = k A_\\mathrm{wall} \\frac{dT}{dx}$$"
   ]
  },
  {
   "cell_type": "code",
   "execution_count": 5,
   "id": "dried-prize",
   "metadata": {
    "collapsed": false,
    "jupyter": {
     "outputs_hidden": false
    },
    "pycharm": {
     "name": "#%%\n"
    }
   },
   "outputs": [
    {
     "name": "stdout",
     "output_type": "stream",
     "text": [
      "Heat transfer rate entering the wall is 120000.000 W , and 162400.000 W is leaving\n"
     ]
    }
   ],
   "source": [
    "heat_transfer_in = thermal_conductivity_wall * area_wall * get_temperature_gradient(0)\n",
    "heat_transfer_out = thermal_conductivity_wall * area_wall * get_temperature_gradient(1)\n",
    "print(f\"Heat transfer rate entering the wall is {heat_transfer_in:.3f} W \"\n",
    "      f\", and {heat_transfer_out:.3f} W is leaving\")"
   ]
  },
  {
   "cell_type": "markdown",
   "id": "humanitarian-strain",
   "metadata": {},
   "source": [
    "2. Determine the rate of change of energy storage in the wall.\n",
    "\n",
    "### Known - the same as above"
   ]
  },
  {
   "cell_type": "code",
   "execution_count": 6,
   "id": "qualified-combat",
   "metadata": {},
   "outputs": [],
   "source": [
    "# Find\n",
    "rate_energy_storage_wall = None\n"
   ]
  },
  {
   "cell_type": "markdown",
   "id": "difficult-model",
   "metadata": {},
   "source": [
    "### Schematic, Assumption, Properties - the same as above"
   ]
  },
  {
   "cell_type": "markdown",
   "id": "separated-rough",
   "metadata": {},
   "source": [
    "### Analysis\n",
    "From the convervaion of energy:\n",
    "$$\\dot{E}_\\mathrm{st} = \\dot{E}_\\mathrm{in} - \\dot{E}_\\mathrm{out} + \\dot{E}_\\mathrm{g}$$\n",
    "$$\\dot{E}_\\mathrm{st} = q_\\mathrm{in} - q_\\mathrm{out} + \\dot{E}_\\mathrm{g}$$"
   ]
  },
  {
   "cell_type": "code",
   "execution_count": 7,
   "id": "sapphire-numbers",
   "metadata": {},
   "outputs": [
    {
     "name": "stdout",
     "output_type": "stream",
     "text": [
      "Rate of energy storage is -32400 W.\n"
     ]
    }
   ],
   "source": [
    "volume = area_wall * (x_out - x_in)\n",
    "rate_energy_storage_wall = heat_transfer_in - heat_transfer_out + heat_generation_per_volume * \\\n",
    "                           volume\n",
    "print(f\"Rate of energy storage is {rate_energy_storage_wall} W.\")"
   ]
  },
  {
   "cell_type": "markdown",
   "id": "needed-vacuum",
   "metadata": {},
   "source": [
    "3. Time rate of temperature change at $x$=0, 0.25, and 0.5 m."
   ]
  },
  {
   "cell_type": "markdown",
   "id": "authorized-unknown",
   "metadata": {},
   "source": [
    "### Known, Schematic, Assumption, Properties - the same as above\n",
    "### Find\n",
    "$\\dot{T}_{x=0}$, $\\dot{T}_{x=0.25}$, $\\dot{T}_{x=0.5}$"
   ]
  },
  {
   "cell_type": "markdown",
   "id": "starting-mileage",
   "metadata": {},
   "source": [
    "### Analysis"
   ]
  },
  {
   "cell_type": "markdown",
   "id": "objective-alert",
   "metadata": {},
   "source": [
    "From the 1D heat diffusion equation with constant $k$,\n",
    "$$\\frac{\\partial^2 T}{\\partial x}+\\frac{\\dot{q}}{k} = \\frac{1}{\\alpha}\\frac{\\partial T}{\\partial t}$$\n",
    "$$\\frac{\\partial T}{\\partial t} = \\alpha \\left(\\frac{\\partial^2 T}{\\partial x}+\\frac{\\dot{q}}{k}\\right) $$"
   ]
  },
  {
   "cell_type": "code",
   "execution_count": 10,
   "id": "growing-racing",
   "metadata": {},
   "outputs": [
    {
     "name": "stdout",
     "output_type": "stream",
     "text": [
      "The rate of change in temperature at 0, 0.25, 0.5m are [0.78125 0.8     0.81875] degC/t, respectively.\n"
     ]
    }
   ],
   "source": [
    "# First we will calculate the heat diffusivity\n",
    "heat_diffusivity = thermal_conductivity_wall / (density_wall * c_p)\n",
    "\n",
    "# Setting the hessian function for temperature with regard to x\n",
    "def get_hessian_temperature(x: Union[float, np.ndarray]) -> Union[float, np.ndarray]:\n",
    "    return 2*c + 6*d*x\n",
    "\n",
    "# Let's get the function for the dT/dt\n",
    "def get_rate_change_temperature(x: Union[float, np.ndarray]) -> Union[float, np.ndarray]:\n",
    "    return heat_diffusivity * (get_hessian_temperature(x) + heat_generation_per_volume / thermal_conductivity_wall)\n",
    "\n",
    "x_vector = np.array([0, 0.25, 0.5])\n",
    "rate_change_temperature_vector = get_rate_change_temperature(x_vector)\n",
    "\n",
    "print(f\"The rate of change in temperature at 0, 0.25, 0.5m are {rate_change_temperature_vector} degC/t, respectively.\")\n",
    "\n"
   ]
  },
  {
   "cell_type": "code",
   "execution_count": null,
   "id": "cloudy-origin",
   "metadata": {},
   "outputs": [],
   "source": []
  }
 ],
 "metadata": {
  "kernelspec": {
   "display_name": "Python 3",
   "language": "python",
   "name": "python3"
  },
  "language_info": {
   "codemirror_mode": {
    "name": "ipython",
    "version": 3
   },
   "file_extension": ".py",
   "mimetype": "text/x-python",
   "name": "python",
   "nbconvert_exporter": "python",
   "pygments_lexer": "ipython3",
   "version": "3.8.2"
  }
 },
 "nbformat": 4,
 "nbformat_minor": 5
}