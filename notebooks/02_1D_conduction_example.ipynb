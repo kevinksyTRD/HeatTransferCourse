{
 "cells": [
  {
   "cell_type": "markdown",
   "metadata": {
    "pycharm": {
     "name": "#%% md\n"
    }
   },
   "source": [
    "# Example for 1D steady state conduction\n",
    "\n",
    "## Heat loss rate from a human body in air and water environment\n",
    "We will only model a layer of skin and fat, with its outer surface exposed to the\n",
    "environment and its inner surface at a temperature slightly less than the core temperature,\n",
    "35<sup>o</sup>C= 308K. Consider a person with a skin/fat layer of thickness   3 mm and effective\n",
    "thermal conductivity k = 0.3 W/m K. The person has a surface area 1.8 m2.\n",
    "\n",
    "The surroundings (air or water) are at 24oC. Heat convection coefficient for air is\n",
    "$h_\\mathrm{air}$ = 2 W/m<sup>2</sup>K and $h_\\mathrm{water}$ = 200W/m<sup>2</sup>K for water.\n",
    "Calculate the heat loss and the temperature at the skin."
   ]
  },
  {
   "cell_type": "markdown",
   "metadata": {
    "pycharm": {
     "name": "#%% md\n"
    }
   },
   "source": [
    "Let's follow the procedure for solving the heat transfer problem.\n",
    "1. Known: State briefly what is known about the problem\n",
    "2. Find: State briefly and concisely what must be found\n",
    "3. Schematic: Draw a schematic of the physical system. Represent the required control surfaces and\n",
    "identify the heat transfer processes with arrows\n",
    "4. Assumptions: List all the pertinent simplifying assumptions\n",
    "5. Properties: Compile property values needed for the calculation\n",
    "6. Analysis: Begin the analysis by applying appropriate conservation laws, and introduce rate\n",
    "equations.\n",
    "\n",
    "### Known"
   ]
  },
  {
   "cell_type": "code",
   "execution_count": 1,
   "metadata": {
    "collapsed": false,
    "jupyter": {
     "outputs_hidden": false
    },
    "pycharm": {
     "name": "#%%\n"
    }
   },
   "outputs": [],
   "source": [
    "temp_inner_skin = 35 # Temperature at inner surface of the skin in degC\n",
    "thickness_skin = 0.003 # Thickness of the skin in m\n",
    "area_skin = 1.8 # Area of the skin in m2\n",
    "temp_surrounding = 10 # Temperature of surrounding"
   ]
  },
  {
   "cell_type": "markdown",
   "metadata": {
    "pycharm": {
     "name": "#%% md\n"
    }
   },
   "source": [
    "### Find\n",
    "Rate of Heat loss and the temperature at the skin"
   ]
  },
  {
   "cell_type": "markdown",
   "metadata": {
    "pycharm": {
     "name": "#%% md\n"
    }
   },
   "source": [
    "### Schematic\n",
    "![Schematic](../images/1DHeatConductionExample.svg)\n",
    "\n",
    "As shown in the schematic, we can express the heat transfer problem into heat circuit. "
   ]
  },
  {
   "cell_type": "markdown",
   "metadata": {
    "pycharm": {
     "name": "#%% md\n"
    }
   },
   "source": [
    "### Assumptions\n",
    "1. The area of inner skin is the same as that of outer skin.\n",
    "2. The heat transfer is at steady state. This means the temperature at surfaces and the rate of heat transfer are constant.\n",
    "3. The thermal conductivity and the convection coefficient are constant and uniform.\n",
    "\n",
    "### Properties\n",
    "Properties are given as:"
   ]
  },
  {
   "cell_type": "code",
   "execution_count": 2,
   "metadata": {
    "pycharm": {
     "name": "#%%\n"
    }
   },
   "outputs": [],
   "source": [
    "thermal_conductivity_skin = 0.3 # W/mK\n",
    "convection_coefficient_air = 2 # W/m2K\n",
    "convection_coefficient_water = 200 # W/m2K"
   ]
  },
  {
   "cell_type": "markdown",
   "metadata": {
    "pycharm": {
     "name": "#%% md\n"
    }
   },
   "source": [
    "### Analysis\n",
    "As the heat transfer is at steady state, the rate of heat transfer from the inner body to skin and that from outer skin to surrounding are equal. We can, therefore, use the total heat transfer coefficient as:\n",
    "\n",
    "$$U = \\frac{1}{\\frac{t_\\mathrm{skin}}{k_\\mathrm{skin}} + \\frac{1}{h_\\mathrm{env}}}$$"
   ]
  },
  {
   "cell_type": "code",
   "execution_count": 3,
   "metadata": {},
   "outputs": [
    {
     "name": "stdout",
     "output_type": "stream",
     "text": [
      "Overall heat transfer coefficient for air is 1.961 W/m2 and 66.667 W/m2for water\n"
     ]
    }
   ],
   "source": [
    "resistance_skin = thickness_skin / thermal_conductivity_skin\n",
    "resistance_air = 1 / convection_coefficient_air\n",
    "resistance_water = 1 / convection_coefficient_water\n",
    "heat_transfer_coefficent_air = 1 / ( resistance_skin + resistance_air )\n",
    "heat_transfer_coefficent_water = 1 / ( resistance_skin + resistance_water )\n",
    "\n",
    "print(f\"Overall heat transfer coefficient for air is {heat_transfer_coefficent_air:.3f} W/m2 and \"\n",
    "      f\"{heat_transfer_coefficent_water:.3f} W/m2for water\")"
   ]
  },
  {
   "cell_type": "markdown",
   "metadata": {},
   "source": [
    "Now we can calculate the rate of heat loss by\n",
    "$$\\dot{Q}_\\mathrm{loss} = UA\\Delta T$$"
   ]
  },
  {
   "cell_type": "code",
   "execution_count": 4,
   "metadata": {},
   "outputs": [
    {
     "name": "stdout",
     "output_type": "stream",
     "text": [
      "The heat loss rate in the air is 88.235 W and 3000.000 W in water.\n"
     ]
    }
   ],
   "source": [
    "heat_loss_air = heat_transfer_coefficent_air * area_skin * (temp_inner_skin - temp_surrounding)\n",
    "heat_loss_water = heat_transfer_coefficent_water * area_skin * (temp_inner_skin - temp_surrounding)\n",
    "\n",
    "print(f\"The heat loss rate in the air is {heat_loss_air:.3f} W and {heat_loss_water:.3f} W in water.\")"
   ]
  },
  {
   "cell_type": "markdown",
   "metadata": {},
   "source": [
    "The heat loss is the same as the heat flux through the skin as the heat transfer is at steady state. Then we can calculate the outer skin from:\n",
    "$$\\dot{Q} = k A \\frac{dT}{dx}$$"
   ]
  },
  {
   "cell_type": "code",
   "execution_count": 5,
   "metadata": {},
   "outputs": [
    {
     "name": "stdout",
     "output_type": "stream",
     "text": [
      "The temperature at the outer skin is 34.510 in the air and 18.333 in the water.\n"
     ]
    }
   ],
   "source": [
    "dT_dx_air = heat_loss_air / (thermal_conductivity_skin * area_skin)\n",
    "temp_outer_skin_air = temp_inner_skin - dT_dx_air * thickness_skin\n",
    "\n",
    "dT_dx_water = heat_loss_water / (thermal_conductivity_skin * area_skin)\n",
    "temp_outer_skin_water = temp_inner_skin - dT_dx_water * thickness_skin\n",
    "\n",
    "print(f\"The temperature at the outer skin is {temp_outer_skin_air:.3f} in the air and \"\n",
    "      f\"{temp_outer_skin_water:.3f} in the water.\")"
   ]
  },
  {
   "cell_type": "markdown",
   "metadata": {
    "pycharm": {
     "name": "#%% md\n"
    }
   },
   "source": [
    "To reduce the heat loss rate, the person wears special sporting gear (snow suit and wet suit)\n",
    "made from a nanostructured silica aerogel insulation with an extremely low thermal conductivity\n",
    "of 0.014 W/m K. What thickness of aerogel insulation is needed to reduce the heat loss rate to\n",
    "100W (a typical metabolic heat generation rate) in air and water? What are the resulting skin\n",
    "temperatures?"
   ]
  },
  {
   "cell_type": "markdown",
   "metadata": {},
   "source": [
    "### Known"
   ]
  },
  {
   "cell_type": "code",
   "execution_count": 7,
   "metadata": {},
   "outputs": [],
   "source": [
    "heat_loss_water = 100 # W, Maximum heat loss we can allow"
   ]
  },
  {
   "cell_type": "markdown",
   "metadata": {},
   "source": [
    "### Properties"
   ]
  },
  {
   "cell_type": "code",
   "execution_count": 9,
   "metadata": {},
   "outputs": [],
   "source": [
    "thermal_conductivity_suit = 0.014 # W/mK"
   ]
  },
  {
   "cell_type": "markdown",
   "metadata": {},
   "source": [
    "### Analysis\n",
    "As we know the heat loss, we can calculate overall heat transfer coefficient."
   ]
  },
  {
   "cell_type": "code",
   "execution_count": 14,
   "metadata": {},
   "outputs": [
    {
     "name": "stdout",
     "output_type": "stream",
     "text": [
      "Overall heat transfer coefficient is 2.222\n"
     ]
    }
   ],
   "source": [
    "heat_transfer_coefficient = heat_loss_water / area_skin / (temp_inner_skin - temp_surrounding)\n",
    "print(f\"Overall heat transfer coefficient is {heat_transfer_coefficient:.3f}\")"
   ]
  },
  {
   "cell_type": "markdown",
   "metadata": {},
   "source": [
    "From \n",
    "$$U = \\frac{1}{R_\\mathrm{skin} + R_\\mathrm{suit} + R_\\mathrm{water}}$$\n",
    "We can derive\n",
    "$$ R_\\mathrm{suit} = \\frac{1}{U} - R_\\mathrm{skin} - R_\\mathrm{water}$$"
   ]
  },
  {
   "cell_type": "code",
   "execution_count": 16,
   "metadata": {},
   "outputs": [
    {
     "name": "stdout",
     "output_type": "stream",
     "text": [
      "The thickness of the suit should be at least 0.00609m.\n"
     ]
    }
   ],
   "source": [
    "resistance_suit = 1 / heat_transfer_coefficient - resistance_skin - resistance_water\n",
    "thickness_suit = resistance_suit * thermal_conductivity_suit\n",
    "\n",
    "print(f\"The thickness of the suit should be at least {thickness_suit:.5f}m.\")"
   ]
  },
  {
   "cell_type": "code",
   "execution_count": null,
   "metadata": {},
   "outputs": [],
   "source": []
  }
 ],
 "metadata": {
  "kernelspec": {
   "display_name": "Python 3",
   "language": "python",
   "name": "python3"
  },
  "language_info": {
   "codemirror_mode": {
    "name": "ipython",
    "version": 3
   },
   "file_extension": ".py",
   "mimetype": "text/x-python",
   "name": "python",
   "nbconvert_exporter": "python",
   "pygments_lexer": "ipython3",
   "version": "3.8.0"
  }
 },
 "nbformat": 4,
 "nbformat_minor": 4
}
