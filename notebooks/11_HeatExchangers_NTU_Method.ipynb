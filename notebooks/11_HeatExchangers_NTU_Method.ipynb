{
 "cells": [
  {
   "cell_type": "markdown",
   "metadata": {
    "jupyter": {
     "outputs_hidden": true
    },
    "pycharm": {
     "name": "#%% md\n"
    }
   },
   "source": [
    "# Heat Exchanger Analysis: The Effectiveness–NTU Method\n",
    "Hot exhaust gases, which enter a finned-tube, cross-flow heat exchanger at 300<sup>o</sup>C and\n",
    "leave at 100<sup>o</sup>C, are used to heat pressurized water at a flow rate of 1 kg/s from 35 to\n",
    "125<sup>o</sup>C. The overall heat transfer coefficient based on the gas-side surface area is\n",
    "$U_h$=100W/m<sup>2</sup>K. Determine the required gas-side surface area $A_h$ using the NTU method."
   ]
  },
  {
   "cell_type": "code",
   "execution_count": 1,
   "metadata": {
    "collapsed": false,
    "jupyter": {
     "outputs_hidden": false
    },
    "pycharm": {
     "name": "#%%\n"
    }
   },
   "outputs": [],
   "source": [
    "## Known"
   ]
  },
  {
   "cell_type": "code",
   "execution_count": 2,
   "metadata": {
    "collapsed": false,
    "jupyter": {
     "outputs_hidden": false
    },
    "pycharm": {
     "name": "#%%\n"
    }
   },
   "outputs": [],
   "source": [
    "from functools import partial\n",
    "import numpy as np\n",
    "from scipy.optimize import root\n",
    "\n",
    "from thermal_system_calculation import to_kelvin\n",
    "\n",
    "temp_gas_in = to_kelvin(300) # kelvin\n",
    "temp_gas_out = to_kelvin(100) # kelvin\n",
    "mass_flow_water = 1 # kg/s\n",
    "temp_water_in = to_kelvin(35) #kelvin\n",
    "temp_water_out = to_kelvin(125) # kelvin\n",
    "u_h = 100 # W/m2K"
   ]
  },
  {
   "cell_type": "code",
   "execution_count": 3,
   "metadata": {
    "collapsed": false,
    "jupyter": {
     "outputs_hidden": false
    },
    "pycharm": {
     "name": "#%%\n"
    }
   },
   "outputs": [],
   "source": [
    "## Find\n",
    "area_gas_side = None"
   ]
  },
  {
   "cell_type": "markdown",
   "metadata": {
    "pycharm": {
     "name": "#%% md\n"
    }
   },
   "source": [
    "## Schematic\n",
    "![Schematic](images/heat_exchanger_effectiveness_NTU.png)"
   ]
  },
  {
   "cell_type": "markdown",
   "metadata": {
    "pycharm": {
     "name": "#%% md\n"
    }
   },
   "source": [
    "## Assumptions\n",
    "1. Negligible heat loss to the surrounding and kinetic and potential energy changes\n",
    "2. Constant properties\n",
    "3. Steady state"
   ]
  },
  {
   "cell_type": "markdown",
   "metadata": {
    "pycharm": {
     "name": "#%% md\n"
    }
   },
   "source": [
    "## Properties"
   ]
  },
  {
   "cell_type": "code",
   "execution_count": 4,
   "metadata": {
    "collapsed": false,
    "jupyter": {
     "outputs_hidden": false
    },
    "pycharm": {
     "name": "#%%\n"
    }
   },
   "outputs": [],
   "source": [
    "c_p_water = 4197 # J/kgK"
   ]
  },
  {
   "cell_type": "markdown",
   "metadata": {
    "pycharm": {
     "name": "#%% md\n"
    }
   },
   "source": [
    "## Analysis\n",
    "In this analysis, we know the temperature input and output of both mediums. However, we cannot\n",
    "use the logarithmic mead temperature difference because it is cross-flow. Therefore, we will use\n",
    "the definition of effectiveness,\n",
    "\n",
    "$$\\epsilon = \\frac{q}{q_\\max}$$\n",
    "\n",
    ", to find its value and find the value of NTU from the correlation\n",
    "given. Then, we can find the area from the definition of NTU.\n",
    "\n",
    "$$NTU = \\frac{UA}{C_\\min}$$\n",
    "\n",
    "First, the heat transfer rate can be calculated using the energy balance."
   ]
  },
  {
   "cell_type": "code",
   "execution_count": 5,
   "metadata": {
    "collapsed": false,
    "jupyter": {
     "outputs_hidden": false
    },
    "pycharm": {
     "name": "#%%\n"
    }
   },
   "outputs": [
    {
     "name": "stdout",
     "output_type": "stream",
     "text": [
      "Heat transfer rate is 377730.0 W\n"
     ]
    }
   ],
   "source": [
    "q = mass_flow_water * c_p_water * (temp_water_out - temp_water_in)\n",
    "print(f\"Heat transfer rate is {q} W\")"
   ]
  },
  {
   "cell_type": "markdown",
   "metadata": {
    "pycharm": {
     "name": "#%% md\n"
    }
   },
   "source": [
    "Heat capacity rate for the water and gas can be calculated."
   ]
  },
  {
   "cell_type": "code",
   "execution_count": 6,
   "metadata": {
    "collapsed": false,
    "jupyter": {
     "outputs_hidden": false
    },
    "pycharm": {
     "name": "#%%\n"
    }
   },
   "outputs": [
    {
     "name": "stdout",
     "output_type": "stream",
     "text": [
      "Minimum heat capacity rate is 1888.65W/K\n"
     ]
    }
   ],
   "source": [
    "heat_capacity_rate_water = mass_flow_water * c_p_water\n",
    "heat_capacity_rate_gas = q / (temp_gas_in - temp_gas_out)\n",
    "heat_capacity_rate_min = min([heat_capacity_rate_gas, heat_capacity_rate_water])\n",
    "heat_capacity_rate_max = max([heat_capacity_rate_gas, heat_capacity_rate_water])\n",
    "\n",
    "print(f\"Minimum heat capacity rate is {heat_capacity_rate_min:.2f}W/K\")"
   ]
  },
  {
   "cell_type": "markdown",
   "metadata": {
    "pycharm": {
     "name": "#%% md\n"
    }
   },
   "source": [
    "Now we will calculate the effectiveness and $C_\\min / C_\\max$ to find the value of NTU from the\n",
    "correlation."
   ]
  },
  {
   "cell_type": "code",
   "execution_count": 7,
   "metadata": {
    "collapsed": false,
    "jupyter": {
     "outputs_hidden": false
    },
    "pycharm": {
     "name": "#%%\n"
    }
   },
   "outputs": [],
   "source": [
    "q_max = heat_capacity_rate_min * (temp_gas_in - temp_water_in)\n",
    "effectiveness = q / q_max\n",
    "heat_capacity_rate_ratio = heat_capacity_rate_min / heat_capacity_rate_max"
   ]
  },
  {
   "cell_type": "markdown",
   "metadata": {
    "pycharm": {
     "name": "#%% md\n"
    }
   },
   "source": [
    "Now we can find NTU value solving the equation,\n",
    "\n",
    "$$\\epsilon = 1 - \\exp\\left[\\frac{1}{C_r}NTU^{0.22}\\left\\{\\exp\\left[-C_r(NTU)^{0.78} \\right] - 1\\right\\}\\right]$$"
   ]
  },
  {
   "cell_type": "code",
   "execution_count": 8,
   "metadata": {
    "collapsed": false,
    "jupyter": {
     "outputs_hidden": false
    },
    "pycharm": {
     "name": "#%%\n"
    }
   },
   "outputs": [
    {
     "name": "stdout",
     "output_type": "stream",
     "text": [
      "NTU for the given condition is  2.023870529497853\n"
     ]
    }
   ],
   "source": [
    "def get_effectiveness_cross_flow_unmixed(ntu: float, c_r: float) -> float:\n",
    "    \"\"\"Returns effectiveness of heat exchanger of unmixed cross flow\"\"\"\n",
    "    return 1 - np.exp(1 / c_r * ntu ** 0.22 * (np.exp(-c_r * ntu ** 0.78) - 1))\n",
    "\n",
    "def equation_to_solve(ntu) -> float:\n",
    "    return effectiveness - get_effectiveness_cross_flow_unmixed(ntu, heat_capacity_rate_ratio)\n",
    "\n",
    "ntu0 = u_h * 1 / heat_capacity_rate_min\n",
    "solution = root(equation_to_solve, [ntu0])\n",
    "ntu = solution.x[0]\n",
    "\n",
    "print(f\"NTU for the given condition is  {ntu}\")"
   ]
  },
  {
   "cell_type": "markdown",
   "metadata": {
    "pycharm": {
     "name": "#%% md\n"
    }
   },
   "source": [
    "Finally, the area of heat exchanger is found.py"
   ]
  },
  {
   "cell_type": "code",
   "execution_count": 9,
   "metadata": {
    "collapsed": false,
    "jupyter": {
     "outputs_hidden": false
    },
    "pycharm": {
     "name": "#%%\n"
    }
   },
   "outputs": [
    {
     "name": "stdout",
     "output_type": "stream",
     "text": [
      "The area of heat exchanger is 38.223830755361206 m2\n"
     ]
    }
   ],
   "source": [
    "area_gas_side = ntu * heat_capacity_rate_min / u_h\n",
    "print(f\"The area of heat exchanger is {area_gas_side} m2\")\n"
   ]
  }
 ],
 "metadata": {
  "kernelspec": {
   "display_name": "Python 3",
   "language": "python",
   "name": "python3"
  },
  "language_info": {
   "codemirror_mode": {
    "name": "ipython",
    "version": 3
   },
   "file_extension": ".py",
   "mimetype": "text/x-python",
   "name": "python",
   "nbconvert_exporter": "python",
   "pygments_lexer": "ipython3",
   "version": "3.8.10"
  }
 },
 "nbformat": 4,
 "nbformat_minor": 4
}
