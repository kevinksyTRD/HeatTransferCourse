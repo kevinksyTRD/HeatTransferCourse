{
 "cells": [
  {
   "cell_type": "markdown",
   "metadata": {},
   "source": [
    "# Forced Convection For A Cylinder in Cross Flow\n",
    "\n",
    "Experiments have been conducted on a metallic cylinder 12.7 mm in diameter and 94 mm long. The\n",
    "cylinder is heated internally by an electrical heater and is subjected to a cross flow of air in\n",
    "a low-speed wind tunnel. Under a specific set of operating conditions for which the upstream air\n",
    "velocity and temperature were maintained at V = 10 m/s and 26.2<sup>o</sup>C, respectively, the\n",
    "heater power dissipation was measured to be P =46 W, while the average cylinder surface\n",
    "temperature was determined to be Ts = 128.4<sup>o</sup>C. It is estimated that 15% of the power\n",
    "dissipation is lost through the cumulative effect of surface radiation and conduction through the\n",
    " endpieces."
   ]
  },
  {
   "cell_type": "markdown",
   "metadata": {
    "pycharm": {
     "name": "#%% md\n"
    }
   },
   "source": [
    "## Convection heat transfer coefficient by experiment\n",
    "Determine the convection heat transfer coefficient from the experimental observations."
   ]
  },
  {
   "cell_type": "markdown",
   "metadata": {
    "pycharm": {
     "name": "#%% md\n"
    }
   },
   "source": [
    "### Given"
   ]
  },
  {
   "cell_type": "code",
   "execution_count": 1,
   "metadata": {
    "pycharm": {
     "name": "#%%\n"
    }
   },
   "outputs": [],
   "source": [
    "import numpy as np\n",
    "from thermal_system_calculation import FluidState, Fluid\n",
    "\n",
    "diameter_cylinder = 0.0127 # m\n",
    "length_cylinder = 0.094 # m\n",
    "velocity_air = 10 # m/s\n",
    "temp_air = 26.2 # degC\n",
    "q_heater = 46 # W\n",
    "temp_surface = 128.4\n",
    "ratio_heat_lost_endpieces = 0.15"
   ]
  },
  {
   "cell_type": "markdown",
   "metadata": {
    "pycharm": {
     "name": "#%% md\n"
    }
   },
   "source": [
    "### Find\n",
    "convection heat transfer coefficient from the experimental observations, $h_\\mathrm{exp}$"
   ]
  },
  {
   "cell_type": "markdown",
   "metadata": {
    "pycharm": {
     "name": "#%% md\n"
    }
   },
   "source": [
    "### Schematics\n",
    "![Schematic](images/forced_convection_cylinder_cross_flow.png)"
   ]
  },
  {
   "cell_type": "markdown",
   "metadata": {
    "pycharm": {
     "name": "#%% md\n"
    }
   },
   "source": [
    "### Assumptions\n",
    "1. Steady state conditions\n",
    "2. Uniform and constant surface temperature and properties for air"
   ]
  },
  {
   "cell_type": "markdown",
   "metadata": {
    "pycharm": {
     "name": "#%% md\n"
    }
   },
   "source": [
    "### Properties"
   ]
  },
  {
   "cell_type": "code",
   "execution_count": 2,
   "metadata": {
    "pycharm": {
     "name": "#%%\n"
    }
   },
   "outputs": [
    {
     "name": "stdout",
     "output_type": "stream",
     "text": [
      "The properties for air at 350.45 K are:\n",
      "\t- Thermal conductivity: 0.030 W/mK\n",
      "\t- Specific heat capacity: 1009.246 J/kgK\n",
      "\t- density_air: 1.007 kg/m3\n",
      "\t- dynamic viscosity: 2.089e-05 Pa s\n"
     ]
    }
   ],
   "source": [
    "temp_fluid = np.mean([temp_air, temp_surface]) + 273.15 # K\n",
    "fluid_state_air = FluidState(\n",
    "    fluid=Fluid.AIR,\n",
    "    temp_k=temp_fluid,\n",
    "    characteristic_length=diameter_cylinder\n",
    ")\n",
    "k_air = fluid_state_air.k\n",
    "cp_air = fluid_state_air.cp\n",
    "density_air = fluid_state_air.density\n",
    "dynamic_viscosity_air = fluid_state_air.dynamic_viscosity\n",
    "print(f\"The properties for air at {temp_fluid} K are:\")\n",
    "print(f\"\\t- Thermal conductivity: {k_air:.3f} W/mK\")\n",
    "print(f\"\\t- Specific heat capacity: {cp_air:.3f} J/kgK\")\n",
    "print(f\"\\t- density_air: {density_air:.3f} kg/m3\")\n",
    "print(f\"\\t- dynamic viscosity: {dynamic_viscosity_air:.3e} Pa s\")"
   ]
  },
  {
   "cell_type": "markdown",
   "metadata": {
    "pycharm": {
     "name": "#%% md\n"
    }
   },
   "source": [
    "### Analysis\n",
    "From the Newton's cooling law and energy balance,\n",
    "$$q_\\mathrm{conv} = hA\\left(T_s - T_\\infty\\right)$$\n",
    "$$q_\\mathrm{conv} = q_\\mathrm{heater} - q_\\mathrm{endpiece}$$\n",
    "$$q_\\mathrm{endpiece} = 0.15 q_\\mathrm{heater}$$"
   ]
  },
  {
   "cell_type": "code",
   "execution_count": 3,
   "metadata": {
    "pycharm": {
     "name": "#%%\n"
    }
   },
   "outputs": [
    {
     "name": "stdout",
     "output_type": "stream",
     "text": [
      "Convection heat transfer coefficient from the experiment is 102.010 W/m2K.\n"
     ]
    }
   ],
   "source": [
    "area_cylinder = np.pi * diameter_cylinder * length_cylinder\n",
    "q_conv = (1 - ratio_heat_lost_endpieces) * q_heater\n",
    "h_exp = q_conv / (area_cylinder * (temp_surface - temp_air))\n",
    "\n",
    "print(f\"Convection heat transfer coefficient from the experiment is {h_exp:.3f} W/m2K.\")"
   ]
  },
  {
   "cell_type": "markdown",
   "metadata": {
    "pycharm": {
     "name": "#%% md\n"
    }
   },
   "source": [
    "## Compare the experiment with the empirical calculation\n",
    "Compare the experiment result with the convection coefficient computed from an appropriate\n",
    "correlation.\n",
    "\n",
    "### Analysis\n",
    "We will use Churchill and Bernstein equation\n",
    "$$Nu_L = 0.3 + \\frac{0.62Re_D^0.5 Pr^{1/3}}{\\left[1 + 0.4 / Pr)^{2/3}\\right]^0.25}\n",
    "        \\left[1 + \\left(\\frac{Re_D}{282000}\\right)^{5/8}\\right]^{4/5}\n",
    "$$"
   ]
  },
  {
   "cell_type": "code",
   "execution_count": 4,
   "metadata": {
    "pycharm": {
     "name": "#%%\n"
    }
   },
   "outputs": [
    {
     "name": "stdout",
     "output_type": "stream",
     "text": [
      "Convection heat transfer coefficient from the empirical equation is 96.659 W/m2K.\n"
     ]
    }
   ],
   "source": [
    "# Define a function for the Churchill and Bernstein equation\n",
    "def get_nusselt_number_circular_cylinder_cross_flow(pr, re):\n",
    "    return 0.3 + (0.62 * re**0.5 * pr**(1/3)) / \\\n",
    "           (1 + (0.4/pr)**(2/3))**0.25 *\\\n",
    "           (1 + (re/282000)**(5/8))**0.8\n",
    "pr = cp_air * dynamic_viscosity_air / k_air\n",
    "re = density_air * velocity_air * diameter_cylinder / dynamic_viscosity_air\n",
    "nu = get_nusselt_number_circular_cylinder_cross_flow(pr, re)\n",
    "h_emp = nu * k_air / diameter_cylinder\n",
    "\n",
    "print(f\"Convection heat transfer coefficient from the empirical equation is {h_emp:.3f} W/m2K.\")"
   ]
  },
  {
   "cell_type": "code",
   "execution_count": null,
   "metadata": {},
   "outputs": [],
   "source": []
  }
 ],
 "metadata": {
  "kernelspec": {
   "display_name": "Python 3",
   "language": "python",
   "name": "python3"
  },
  "language_info": {
   "codemirror_mode": {
    "name": "ipython",
    "version": 3
   },
   "file_extension": ".py",
   "mimetype": "text/x-python",
   "name": "python",
   "nbconvert_exporter": "python",
   "pygments_lexer": "ipython3",
   "version": "3.8.10"
  }
 },
 "nbformat": 4,
 "nbformat_minor": 4
}
