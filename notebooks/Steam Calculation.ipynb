{
 "cells": [
  {
   "cell_type": "markdown",
   "metadata": {
    "slideshow": {
     "slide_type": "slide"
    }
   },
   "source": [
    "# Use of steam calculation library in python"
   ]
  },
  {
   "cell_type": "code",
   "execution_count": 1,
   "metadata": {
    "slideshow": {
     "slide_type": "fragment"
    }
   },
   "outputs": [],
   "source": [
    "import iapws as steam # This is the library to call in for steam calculation\n",
    "import numpy as np"
   ]
  },
  {
   "cell_type": "code",
   "execution_count": 2,
   "metadata": {
    "slideshow": {
     "slide_type": "slide"
    }
   },
   "outputs": [
    {
     "name": "stdout",
     "output_type": "stream",
     "text": [
      "Properties for saturated steam at 0.1 bar\n",
      "Temperature : 372.76 K\n",
      "density: 0.59 kg/m3\n",
      "specific enthalpy: 2674.95 kJ/kg\n",
      "specific entropy: 7.36 kJ/kgK\n",
      "specific heat of vaporization: 2257.51 kJ/kg\n"
     ]
    }
   ],
   "source": [
    "#Find properties for saturated steam\n",
    "p = 0.1  # Pressure in MPa\n",
    "satP1 = steam.IAPWS97(P=p, x=1)\n",
    "satP1Water = steam.IAPWS97(P=p, x=0)\n",
    "print('Properties for saturated steam at {} bar'.format(p))\n",
    "print('Temperature : {:3.2f} K'.format(satP1.T))\n",
    "print('density: {:3.2f} kg/m3'.format(satP1.rho))\n",
    "print('specific enthalpy: {:3.2f} kJ/kg'.format(satP1.h))\n",
    "print('specific entropy: {:3.2f} kJ/kgK'.format(satP1.s))\n",
    "print('specific heat of vaporization: {:3.2f} kJ/kg'.format(satP1.h - satP1Water.h))\n"
   ]
  },
  {
   "cell_type": "markdown",
   "metadata": {
    "slideshow": {
     "slide_type": "slide"
    }
   },
   "source": [
    "## Example\n",
    "A closed, thermally insulated vessel with volume 15 m3 is filled with 30 kg moist steam at\n",
    "1,5 bar. Superheated steam at 30 bar is injected into the vessel until the mixture consists of\n",
    "saturated steam at 15 bar.\n",
    "  * Find the mass of the injected steam\n",
    "  * Find the temperature of the superheated steam"
   ]
  },
  {
   "cell_type": "markdown",
   "metadata": {
    "slideshow": {
     "slide_type": "slide"
    }
   },
   "source": [
    "Assumption\n",
    "  * No heat transfer with environment\n",
    "  * Gas constant is constant during vaporization ($pv = RT = const$)"
   ]
  },
  {
   "cell_type": "code",
   "execution_count": 3,
   "metadata": {
    "slideshow": {
     "slide_type": "subslide"
    }
   },
   "outputs": [],
   "source": [
    "#Known parameters\n",
    "p0 = 0.15 # pressure Mpa\n",
    "V = 15\n",
    "m0 = 30\n",
    "p1 = 3.0\n",
    "p2 = 1.5"
   ]
  },
  {
   "cell_type": "markdown",
   "metadata": {
    "slideshow": {
     "slide_type": "subslide"
    }
   },
   "source": [
    "Mass is conserved for the closed system. We can find the final mass using the known volume and the condition\n",
    "$$m_2 = m_0 + m_1$$"
   ]
  },
  {
   "cell_type": "code",
   "execution_count": 4,
   "metadata": {
    "slideshow": {
     "slide_type": "subslide"
    }
   },
   "outputs": [
    {
     "name": "stdout",
     "output_type": "stream",
     "text": [
      "Injected fuel is 83.89 kg\n"
     ]
    }
   ],
   "source": [
    "satP2 = steam.IAPWS97(P=p2, x = 1)\n",
    "m2 = satP2.rho * V\n",
    "m1 = m2 - m0\n",
    "print('Injected fuel is {:3.2f} kg'.format(m1))"
   ]
  },
  {
   "cell_type": "markdown",
   "metadata": {
    "slideshow": {
     "slide_type": "subslide"
    }
   },
   "source": [
    "Now we use energy conservation for the system\n",
    "$$m_2 h_2 = m_0 h_0 + m_1 h_1$$\n",
    "$$h_1 = \\frac{m_2 h_2 - m_0 h_0}{m_1}$$\n",
    "\n",
    "First calculate the state of the moist steam\n",
    "$$m_0 h_0 = m_{0s} h_{0s} + m_{0w} h_{0w}$$"
   ]
  },
  {
   "cell_type": "code",
   "execution_count": 5,
   "metadata": {
    "slideshow": {
     "slide_type": "subslide"
    }
   },
   "outputs": [],
   "source": [
    "satP0V = steam.IAPWS97(P=p0, x = 1)\n",
    "h_vapor = satP0V.h\n",
    "m_vapor = satP0V.rho * V\n",
    "m_water = m0 - m_vapor\n",
    "satP0L = steam.IAPWS97(P=p0, x = 0)\n",
    "h_water = satP0L.h\n",
    "mh_0 = m_vapor * h_vapor + m_water * h_water"
   ]
  },
  {
   "cell_type": "code",
   "execution_count": 6,
   "metadata": {
    "slideshow": {
     "slide_type": "subslide"
    }
   },
   "outputs": [
    {
     "name": "stdout",
     "output_type": "stream",
     "text": [
      "The specific enthalpy of the superheated steam is 3278.74 kJ/kg\n",
      "The temperature of the superheated steam is 693.93 K\n"
     ]
    }
   ],
   "source": [
    "h1 = (m2 * satP2.h - mh_0) / m1\n",
    "print('The specific enthalpy of the superheated steam is {:3.2f} kJ/kg'.format(h1))\n",
    "satP1 = steam.IAPWS97(P=p1, h=h1)\n",
    "print('The temperature of the superheated steam is {:3.2f} K'.format(satP1.T))"
   ]
  }
 ],
 "metadata": {
  "celltoolbar": "Slideshow",
  "kernelspec": {
   "display_name": "Python [default]",
   "language": "python",
   "name": "python3"
  },
  "language_info": {
   "codemirror_mode": {
    "name": "ipython",
    "version": 3
   },
   "file_extension": ".py",
   "mimetype": "text/x-python",
   "name": "python",
   "nbconvert_exporter": "python",
   "pygments_lexer": "ipython3",
   "version": "3.5.4"
  }
 },
 "nbformat": 4,
 "nbformat_minor": 2
}
