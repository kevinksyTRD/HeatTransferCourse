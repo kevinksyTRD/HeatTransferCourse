{
 "cells": [
  {
   "cell_type": "markdown",
   "metadata": {
    "pycharm": {
     "name": "#%% md\n"
    }
   },
   "source": [
    "# Numerical Method in Python\n",
    "Most of examples in this lecture is given as a Jupyter notebook. You can also solve your\n",
    "exercises in the Jupyter notebook. Some of the exams questions will require you to use the same.\n",
    "This means you will have to be familiar with solving the engineering problems with Python. Python\n",
    " is becoming a more and more popular both as a general programming language and as an engineering\n",
    "  tool."
   ]
  },
  {
   "cell_type": "markdown",
   "source": [
    "## Packages\n",
    "Apart from the core functions and language syntax which comes when you install Python, you can\n",
    "easily expand the capability of the language by installing packages usually provided as a open\n",
    "source software. You can also build your own python packages and share it with others. The most\n",
    "useful packages for solving general engineering problems are scipy and numpy."
   ],
   "metadata": {
    "collapsed": false,
    "pycharm": {
     "name": "#%% md\n"
    }
   }
  },
  {
   "cell_type": "markdown",
   "source": [
    "### Installation of the package\n",
    "Packages can be easily installed by\n",
    "```commandline\n",
    "pip install [package name, ...]\n",
    "```\n",
    "So, you can install scipy and numpy packages by\n",
    "```commandline\n",
    "pip install scipy, numpy\n",
    "```\n",
    "In some cases, you may have to manage many packages for a specific application. A simple way to\n",
    "do it is to list the package in a text file (e.g. 'requirements.txt') and simply type\n",
    "```commandline\n",
    "pip install -r requirements.txt\n",
    "```"
   ],
   "metadata": {
    "collapsed": false,
    "pycharm": {
     "name": "#%% md\n"
    }
   }
  },
  {
   "cell_type": "markdown",
   "source": [
    "### Virtual Environment\n",
    "Each application may need to have a different set of packages. Furthermore, An applicaiton may\n",
    "depend on a specific version of a package while other applications depend on another version. To\n",
    "resolve these conflicts in versions and packages, it is recommended to use a virtual environment\n",
    "for an application. Virtual environment, when it is activated, provides an isolated python\n",
    "environment from others.\n",
    "\n",
    "First, you have to install the virtual environment package if you haven't. I will assume that\n",
    "you can enter 'python' in any directory to run Python.\n",
    "```commandline\n",
    "pip install virtualenv\n",
    "```\n",
    "Then you need to be in the directory of\n",
    "the target directory.\n",
    "```commandline\n",
    "cd target_directory\n",
    "```\n",
    "Then, create a virtual environment.\n",
    "```commandline\n",
    "python -m virtualenv venv\n",
    "```\n",
    "This will create your virtual environment in 'venv' directory. Next you can activate the virtual\n",
    "environment. If you are on Windows PC,\n",
    "```commandline\n",
    "venv\\Script\\activate\n",
    "```\n",
    "Otherwise,\n",
    "```commandline\n",
    "source venv/bin/activate\n",
    "```\n",
    "NB! Whenever you restarted the terminal, make sure that you activate the virtual environment using\n",
    "the above command."
   ],
   "metadata": {
    "collapsed": false,
    "pycharm": {
     "name": "#%% md\n"
    }
   }
  },
  {
   "cell_type": "markdown",
   "source": [
    "### Importing packages\n",
    "In order to use the packages, we have to import the package in the module or notebook. When I say\n",
    " module, it refers to a file with extension of '.py' We will first import numpy."
   ],
   "metadata": {
    "collapsed": false,
    "pycharm": {
     "name": "#%% md\n"
    }
   }
  },
  {
   "cell_type": "code",
   "execution_count": 1,
   "metadata": {
    "collapsed": false,
    "jupyter": {
     "outputs_hidden": false
    },
    "pycharm": {
     "name": "#%%\n"
    }
   },
   "outputs": [],
   "source": [
    "import numpy as np"
   ]
  },
  {
   "cell_type": "markdown",
   "metadata": {
    "pycharm": {
     "name": "#%% md\n"
    }
   },
   "source": [
    "You see that I imported numpy with aliased name \"np\" above. The aliasing may be omitted and you\n",
    "can use numpy as a full name to use classes, functions, attributes of numpy package. We will try\n",
    "to use numpy to print the value of $\\pi$."
   ]
  },
  {
   "cell_type": "code",
   "execution_count": 2,
   "metadata": {
    "collapsed": false,
    "jupyter": {
     "outputs_hidden": false
    },
    "pycharm": {
     "name": "#%%\n"
    }
   },
   "outputs": [
    {
     "name": "stdout",
     "output_type": "stream",
     "text": [
      "3.141592653589793\n"
     ]
    }
   ],
   "source": [
    "print(np.pi)"
   ]
  },
  {
   "cell_type": "markdown",
   "metadata": {
    "pycharm": {
     "name": "#%% md\n"
    }
   },
   "source": [
    "When you want to import a specific module, classes, functions or attributes from the package, you\n",
    " can do that using \"from\""
   ]
  },
  {
   "cell_type": "code",
   "execution_count": 3,
   "metadata": {
    "collapsed": false,
    "jupyter": {
     "outputs_hidden": false
    },
    "pycharm": {
     "name": "#%%\n"
    }
   },
   "outputs": [],
   "source": [
    "from scipy.integrate import solve_ivp\n",
    "from scipy.optimize import minimize_scalar, root"
   ]
  },
  {
   "cell_type": "markdown",
   "metadata": {
    "pycharm": {
     "name": "#%% md\n"
    }
   },
   "source": [
    "## Using Numpy\n",
    "We will start exploring how to use numpy array. Numpy is the fundamental package for scientific\n",
    "computing with Python. I use numpy to handle multi-dimensional arrays mostly."
   ]
  },
  {
   "cell_type": "markdown",
   "source": [
    "### Create a numpy array\n",
    "To create a numpy arrays,"
   ],
   "metadata": {
    "collapsed": false,
    "pycharm": {
     "name": "#%% md\n"
    }
   }
  },
  {
   "cell_type": "code",
   "execution_count": 4,
   "metadata": {
    "collapsed": false,
    "jupyter": {
     "outputs_hidden": false
    },
    "pycharm": {
     "name": "#%%\n"
    }
   },
   "outputs": [
    {
     "name": "stdout",
     "output_type": "stream",
     "text": [
      "From a list: [1 2 3]\n",
      "From an iterator: [0 1 2 3 4 5 6 7 8 9]\n",
      "Using a random function: [0.76681731 0.7599138  0.78771825 0.29931903 0.79171767 0.20872328\n",
      " 0.88603624 0.91955789 0.91233636 0.67920634]\n",
      "Using an arange function: [0 1 2 3 4 5 6 7 8 9]\n",
      "Using a lin space function: [  0.  10.  20.  30.  40.  50.  60.  70.  80.  90. 100.]\n",
      "Using a zeros function: [0. 0. 0. 0. 0. 0. 0. 0. 0. 0.]\n",
      "Using a ones function: [1. 1. 1. 1. 1. 1. 1. 1. 1. 1.]\n",
      "\n",
      "\n",
      "2D array from a list: \n",
      " [[1 2 3]\n",
      " [4 5 6]]\n",
      "Shape of the 2D array is : (2, 3)\n",
      "2D array from a random function: \n",
      " [[0.07795451 0.81585255 0.87487703 0.95293237 0.15857015]\n",
      " [0.03256627 0.74916158 0.05078817 0.62932711 0.96906153]]\n"
     ]
    }
   ],
   "source": [
    "# 1d array\n",
    "np_array_1d_from_list = np.array([1, 2, 3]) # Creating a 1D array from a list\n",
    "np_array_1d_from_iterator = np.array(range(10)) # Creating a 1D array from an iterator\n",
    "np_array_1d_from_random = np.random.random(10) # Creating a 1D array of 10 random numbers\n",
    "np_array_1d_from_arange = np.arange(0, 10, 1) # Creating a 1D array from 0 to 1 with step of 1\n",
    "np_array_1d_from_lin_space = np.linspace(start=0, stop=100, num=11) # Creating a 1D array by linspace\n",
    "np_array_1d_zeros = np.zeros(10) # Creating a zero-vector of a length of 10.\n",
    "np_array_1d_ones = np.ones(10) # Creating a one-vector of a length of 10.\n",
    "\n",
    "print(f\"From a list: {np_array_1d_from_list}\")\n",
    "print(f\"From an iterator: {np_array_1d_from_iterator}\")\n",
    "print(f\"Using a random function: {np_array_1d_from_random}\")\n",
    "print(f\"Using an arange function: {np_array_1d_from_arange}\")\n",
    "print(f\"Using a lin space function: {np_array_1d_from_lin_space}\")\n",
    "print(f\"Using a zeros function: {np_array_1d_zeros}\")\n",
    "print(f\"Using a ones function: {np_array_1d_ones}\")\n",
    "print(\"\\n\")\n",
    "\n",
    "# 2d array\n",
    "np_array_2d_from_list = np.array([[1, 2, 3],[4, 5, 6]])\n",
    "np_array_2d_from_random = np.random.random([2, 5])\n",
    "\n",
    "print(f\"2D array from a list: \\n {np_array_2d_from_list}\")\n",
    "print(f\"Shape of the 2D array is : {np_array_2d_from_list.shape}\")\n",
    "print(f\"2D array from a random function: \\n {np_array_2d_from_random}\")"
   ]
  },
  {
   "cell_type": "markdown",
   "metadata": {
    "jupyter": {
     "outputs_hidden": false
    },
    "pycharm": {
     "name": "#%% md\n"
    }
   },
   "source": [
    "Check out [this link](https://numpy.org/doc/stable/reference/routines.array-creation.html) for\n",
    "various methods to create arrays."
   ]
  },
  {
   "cell_type": "markdown",
   "source": [
    "#### Exercise\n",
    "We are given with a function of temperature in <sup>o</sup>C in $x$ that is position in m,\n",
    "$$T(x) = 400 - 50x + 10x^2 + 0.4x^3$$\n",
    "Calculate the temperatures from x=0 to x=1 with an interval of 0.1 and plot it."
   ],
   "metadata": {
    "collapsed": false,
    "pycharm": {
     "name": "#%% md\n"
    }
   }
  },
  {
   "cell_type": "code",
   "execution_count": 5,
   "metadata": {
    "collapsed": false,
    "jupyter": {
     "outputs_hidden": false
    },
    "pycharm": {
     "name": "#%%\n"
    }
   },
   "outputs": [
    {
     "data": {
      "text/plain": [
       "Text(0, 0.5, 'Temperature [degC]')"
      ]
     },
     "execution_count": 5,
     "metadata": {},
     "output_type": "execute_result"
    },
    {
     "data": {
      "image/png": "[encoded data removed]",
      "text/plain": [
       "<Figure size 576x432 with 1 Axes>"
      ]
     },
     "metadata": {
      "needs_background": "light"
     },
     "output_type": "display_data"
    }
   ],
   "source": [
    "# Exercise\n",
    "from typing import Union\n",
    "import matplotlib.pyplot as plt\n",
    "\n",
    "# Define the function to get temperature\n",
    "def get_temperature(x_position: Union[float, np.ndarray]) -> Union[float, np.ndarray]:\n",
    "    return 400 - 50*x_position + 10*x_position**2 + 0.4*x_position**3\n",
    "\n",
    "# Create a 1D array of x position\n",
    "x_position_array = np.linspace(0, 1, 11) # Your code here\n",
    "\n",
    "# Calculate the temperature\n",
    "temperature_array = get_temperature(x_position_array)\n",
    "\n",
    "# Plot\n",
    "fig, ax = plt.subplots(figsize=(8, 6))\n",
    "plt.plot(x_position_array, temperature_array)\n",
    "ax.set_xlabel('Position [m]')\n",
    "ax.set_ylabel('Temperature [degC]')"
   ]
  },
  {
   "cell_type": "markdown",
   "metadata": {
    "pycharm": {
     "name": "#%% md\n"
    }
   },
   "source": [
    "### Accessing the array\n",
    "You can array a value in the array with the index. The first element in the array has index, 0.\n",
    "You can access the last element with index, -1, ans the second last with -2, and so on."
   ]
  },
  {
   "cell_type": "markdown",
   "source": [
    "#### Exercise\n",
    "From the exercise above, what is the temperature at $x$=0 and $x=1$."
   ],
   "metadata": {
    "collapsed": false,
    "pycharm": {
     "name": "#%% md\n"
    }
   }
  },
  {
   "cell_type": "code",
   "execution_count": 6,
   "metadata": {
    "collapsed": false,
    "jupyter": {
     "outputs_hidden": false
    },
    "pycharm": {
     "name": "#%%\n"
    }
   },
   "outputs": [
    {
     "name": "stdout",
     "output_type": "stream",
     "text": [
      "Temperature at x=0: 400.0 degC\n",
      "Temperature at x=1: 360.4 degC\n"
     ]
    }
   ],
   "source": [
    "temperature_x_0 = temperature_array[0]\n",
    "temperature_x_1 = temperature_array[-1]\n",
    "\n",
    "print(f\"Temperature at x=0: {temperature_x_0} degC\")\n",
    "print(f\"Temperature at x=1: {temperature_x_1} degC\")"
   ]
  },
  {
   "cell_type": "markdown",
   "metadata": {
    "pycharm": {
     "name": "#%% md\n"
    }
   },
   "source": [
    "We can also access the array in range. For example, to access the first 3 elements"
   ]
  },
  {
   "cell_type": "code",
   "execution_count": 7,
   "metadata": {
    "collapsed": false,
    "jupyter": {
     "outputs_hidden": false
    },
    "pycharm": {
     "name": "#%%\n"
    }
   },
   "outputs": [
    {
     "name": "stdout",
     "output_type": "stream",
     "text": [
      "[0.  0.1 0.2]\n"
     ]
    }
   ],
   "source": [
    "print(x_position_array[:3])"
   ]
  },
  {
   "cell_type": "markdown",
   "metadata": {},
   "source": [
    "We can also access the array toward the end. For example, to access the last 10 elemenents"
   ]
  },
  {
   "cell_type": "code",
   "execution_count": 8,
   "metadata": {
    "collapsed": false,
    "jupyter": {
     "outputs_hidden": false
    },
    "pycharm": {
     "name": "#%%\n"
    }
   },
   "outputs": [
    {
     "name": "stdout",
     "output_type": "stream",
     "text": [
      "[0.8 0.9 1. ]\n"
     ]
    }
   ],
   "source": [
    "print(x_position_array[-3:])"
   ]
  },
  {
   "cell_type": "markdown",
   "metadata": {
    "pycharm": {
     "name": "#%% md\n"
    }
   },
   "source": [
    "If you want to access something in between, from index 3 to 6, use the following.\n",
    "```python\n",
    "x_position_array[x:y]\n",
    "```\n",
    "Note that the `x_position_array[6]` is not inclusive here. You can also access the elemets by\n",
    "conditions. To access the elements which has value that is greater than 0.5,"
   ]
  },
  {
   "cell_type": "code",
   "execution_count": 9,
   "metadata": {
    "collapsed": false,
    "jupyter": {
     "outputs_hidden": false
    },
    "pycharm": {
     "name": "#%%\n"
    }
   },
   "outputs": [
    {
     "name": "stdout",
     "output_type": "stream",
     "text": [
      "[False False False False False False  True  True  True  True  True]\n",
      "[0.6 0.7 0.8 0.9 1. ]\n"
     ]
    }
   ],
   "source": [
    "index_array = x_position_array > 0.5\n",
    "print(index_array)\n",
    "print(x_position_array[index_array])"
   ]
  },
  {
   "cell_type": "markdown",
   "metadata": {
    "pycharm": {
     "name": "#%% md\n"
    }
   },
   "source": [
    "#### Exercise\n",
    "Plot the temperature graphs for 0.4<=$x$<=0.7. Use the output from the exercise above.\n",
    "(Hint. Use `np.bitwise_and(x1, x2)` to get AND operation of two array of boolean values.)"
   ]
  },
  {
   "cell_type": "code",
   "execution_count": 10,
   "metadata": {
    "collapsed": false,
    "jupyter": {
     "outputs_hidden": false
    },
    "pycharm": {
     "name": "#%%\n"
    }
   },
   "outputs": [
    {
     "data": {
      "text/plain": [
       "Text(0, 0.5, 'Temeprature [degC]')"
      ]
     },
     "execution_count": 10,
     "metadata": {},
     "output_type": "execute_result"
    },
    {
     "data": {
      "image/png": "[encoded data removed]",
      "text/plain": [
       "<Figure size 576x432 with 1 Axes>"
      ]
     },
     "metadata": {
      "needs_background": "light"
     },
     "output_type": "display_data"
    }
   ],
   "source": [
    "index_array = np.bitwise_and(x_position_array >= 0.4, x_position_array <= 0.7)\n",
    "x_position_array_to_plot = x_position_array[index_array]\n",
    "temperature_array_to_plot = temperature_array[index_array]\n",
    "\n",
    "fig, ax = plt.subplots(figsize=(8, 6))\n",
    "ax.plot(x_position_array_to_plot, temperature_array_to_plot)\n",
    "ax.set_xlabel('Position [m]')\n",
    "ax.set_ylabel('Temeprature [degC]')"
   ]
  },
  {
   "cell_type": "markdown",
   "metadata": {
    "jupyter": {
     "outputs_hidden": false
    },
    "pycharm": {
     "name": "#%% md\n"
    }
   },
   "source": [
    "### Array operation\n",
    "You can apply most of the arithmetic operations to the array."
   ]
  },
  {
   "cell_type": "code",
   "execution_count": 14,
   "metadata": {
    "collapsed": false,
    "jupyter": {
     "outputs_hidden": false
    },
    "pycharm": {
     "name": "#%%\n"
    }
   },
   "outputs": [
    {
     "name": "stdout",
     "output_type": "stream",
     "text": [
      "Multiplying an array with a scalar: [ 0.  1.  2.  3.  4.  5.  6.  7.  8.  9. 10.]\n",
      "Adding an array with a scalar: [1.  1.1 1.2 1.3 1.4 1.5 1.6 1.7 1.8 1.9 2. ]\n",
      "Squaring an array with a scalar: [0.   0.01 0.04 0.09 0.16 0.25 0.36 0.49 0.64 0.81 1.  ]\n"
     ]
    }
   ],
   "source": [
    "print(f\"Multiplying an array with a scalar: {x_position_array * 10}\")\n",
    "print(f\"Adding an array with a scalar: {x_position_array + 1}\")\n",
    "print(f\"Squaring an array with a scalar: {x_position_array**2}\")"
   ]
  },
  {
   "cell_type": "markdown",
   "metadata": {
    "jupyter": {
     "outputs_hidden": false
    },
    "pycharm": {
     "name": "#%% md\n"
    }
   },
   "source": [
    "The same applies to functions."
   ]
  },
  {
   "cell_type": "code",
   "execution_count": 12,
   "metadata": {
    "collapsed": false,
    "jupyter": {
     "outputs_hidden": false
    },
    "pycharm": {
     "name": "#%%\n"
    }
   },
   "outputs": [
    {
     "name": "stdout",
     "output_type": "stream",
     "text": [
      "Sine of an array: [0.         0.09983342 0.19866933 0.29552021 0.38941834 0.47942554\n",
      " 0.56464247 0.64421769 0.71735609 0.78332691 0.84147098]\n",
      "Exponential value of an array: [1.         1.10517092 1.22140276 1.34985881 1.4918247  1.64872127\n",
      " 1.8221188  2.01375271 2.22554093 2.45960311 2.71828183]\n"
     ]
    }
   ],
   "source": [
    "print(f\"Sine of an array: {np.sin(x_position_array)}\")\n",
    "print(f\"Exponential value of an array: {np.exp(x_position_array)}\")"
   ]
  },
  {
   "cell_type": "markdown",
   "metadata": {
    "pycharm": {
     "name": "#%% md\n"
    }
   },
   "source": [
    "If you do the arithmetic for two arrays, the arithmetic happens element wise also."
   ]
  },
  {
   "cell_type": "code",
   "execution_count": 13,
   "metadata": {
    "collapsed": false,
    "jupyter": {
     "outputs_hidden": false
    },
    "pycharm": {
     "name": "#%%\n"
    }
   },
   "outputs": [
    {
     "name": "stdout",
     "output_type": "stream",
     "text": [
      "Adding two arrays: [0.  0.2 0.4 0.6 0.8 1.  1.2 1.4 1.6 1.8 2. ]\n",
      "Multiplying two arrays: [0.   0.01 0.04 0.09 0.16 0.25 0.36 0.49 0.64 0.81 1.  ]\n"
     ]
    }
   ],
   "source": [
    "print(f\"Adding two arrays: {x_position_array + x_position_array}\")\n",
    "print(f\"Multiplying two arrays: {x_position_array * x_position_array}\")"
   ]
  },
  {
   "cell_type": "markdown",
   "source": [
    "## Using Functions and Partial Functions\n",
    "Function allows you to use the algorithm or calculations repetitively without writing it\n",
    "over and over. Whenever you realize that a piece of code is used more than once, it is a good\n",
    " idea to implement it as a function. Sometimes you want to change the algorithm or correct a bug.\n",
    "  Then you only have to correct once in the function."
   ],
   "metadata": {
    "collapsed": false,
    "pycharm": {
     "name": "#%% md\n"
    }
   }
  },
  {
   "cell_type": "markdown",
   "source": [
    "### Defining a function\n",
    "Here's a basic syntax for defining a function\n",
    "```python\n",
    "def function_name(arg1, arg2, arg3):\n",
    "    something = arg1 + arg2 + arg3\n",
    "    return something\n",
    "```\n",
    "You can define a function in any place of the module. Usually you define a function before its\n",
    "usage. You can define a function within a function. In that case, the function is only usable\n",
    "within the wrapping function.\n",
    "\n",
    "A function must have a name. In modern programming, we are not so eager to use abbreviation. We\n",
    "would rather use a name that is understood to anyone. So don't squeeze your head to find a short\n",
    "function name with a lot of abbreviations but just use more daily words.\n",
    "\n",
    "A function takes arguments. You can make a function without any argument also. Argument can be\n",
    "anything, really. It can be a numeric value, string, or even a function. You can pass an instance\n",
    "of a class or class type.\n",
    "\n",
    "A function always returns a value. If you don't specify anything, the function returns None."
   ],
   "metadata": {
    "collapsed": false,
    "pycharm": {
     "name": "#%% md\n"
    }
   }
  },
  {
   "cell_type": "markdown",
   "source": [
    "#### Exercise\n",
    "Create a function for the temperature change over time.\n",
    "$$T(t) = T_0 + T_\\mathrm{rise}\\left(1 - e^(-\\tau t)\\right)$$\n",
    "Plot a graph for $0<=x<10$ given $\\tau=5$, $T_0$ = 500 and  $T_\\mathrm{rise}$ = 200."
   ],
   "metadata": {
    "collapsed": false,
    "pycharm": {
     "name": "#%% md\n"
    }
   }
  },
  {
   "cell_type": "code",
   "execution_count": null,
   "outputs": [],
   "source": [],
   "metadata": {
    "collapsed": false,
    "pycharm": {
     "name": "#%%\n"
    }
   }
  },
  {
   "cell_type": "markdown",
   "source": [
    "### Typing\n",
    "It is a good idea to provide the hint for the types that you expect for the argument and return\n",
    "values when you implement a function. It makes the use of function easier and people don't have\n",
    "to do trial and error to see which data type the function can accept."
   ],
   "metadata": {
    "collapsed": false,
    "pycharm": {
     "name": "#%% md\n"
    }
   }
  },
  {
   "cell_type": "markdown",
   "source": [
    "## Plotting results"
   ],
   "metadata": {
    "collapsed": false,
    "pycharm": {
     "name": "#%% md\n"
    }
   }
  },
  {
   "cell_type": "markdown",
   "source": [
    "## Numerical Optimization"
   ],
   "metadata": {
    "collapsed": false,
    "pycharm": {
     "name": "#%% md\n"
    }
   }
  },
  {
   "cell_type": "markdown",
   "source": [
    "## Numerical Integration / Solving ODE"
   ],
   "metadata": {
    "collapsed": false,
    "pycharm": {
     "name": "#%% md\n"
    }
   }
  },
  {
   "cell_type": "markdown",
   "source": [
    "## Matrix Calculation"
   ],
   "metadata": {
    "collapsed": false,
    "pycharm": {
     "name": "#%% md\n"
    }
   }
  },
  {
   "cell_type": "markdown",
   "source": [
    "## Further dive into the scientific calculation with python\n",
    "Please refer to [Scypy Lecture Notes](https://scipy-lectures.org/index.html) if you want to find\n",
    "more about the scipy and numpy."
   ],
   "metadata": {
    "collapsed": false,
    "pycharm": {
     "name": "#%% md\n"
    }
   }
  }
 ],
 "metadata": {
  "kernelspec": {
   "display_name": "Python 3",
   "language": "python",
   "name": "python3"
  },
  "language_info": {
   "codemirror_mode": {
    "name": "ipython",
    "version": 3
   },
   "file_extension": ".py",
   "mimetype": "text/x-python",
   "name": "python",
   "nbconvert_exporter": "python",
   "pygments_lexer": "ipython3",
   "version": "3.8.2"
  }
 },
 "nbformat": 4,
 "nbformat_minor": 4
}