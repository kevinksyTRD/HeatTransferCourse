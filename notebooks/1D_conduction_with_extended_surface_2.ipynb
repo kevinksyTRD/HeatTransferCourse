{
 "cells": [
  {
   "cell_type": "markdown",
   "metadata": {
    "pycharm": {
     "name": "#%% md\n"
    }
   },
   "source": [
    "# 1D Heat conduction for extruded surface example 2\n",
    "\n",
    "The engine cylinder of a motorcycle is constructed of 2024-T6 aluminum alloy and is of height\n",
    "H=0.15 m and outside diameter D  50 mm. Under typical operating conditions the outer surface of\n",
    "the cylinder is at a temperature of 500 K and is exposed to ambient air at 300 K, with a\n",
    "convection coefficient of 50 W/m2K. Annular fins are integrally cast with the cylinder to\n",
    "increase heat transfer to the surroundings. Consider five such fins, which are of thickness t=6\n",
    "mm, length L  20 mm, and equally spaced. What is the increase in heat transfer due to use of the\n",
    " fins?\n",
    "![EngineCylidnerWithFins](images/EngineCylinderWithFins.png)\n",
    "\n",
    "## Known"
   ]
  },
  {
   "cell_type": "code",
   "execution_count": 1,
   "metadata": {
    "collapsed": false,
    "jupyter": {
     "outputs_hidden": false
    },
    "pycharm": {
     "name": "#%%\n"
    }
   },
   "outputs": [],
   "source": [
    "height = 0.15 #m\n",
    "outer_diameter = 0.05 # m\n",
    "temperature_surface = 500 # K\n",
    "temperature_air = 300 # K\n",
    "thickness_fin = 0.006 #\n",
    "length_fin = 0.020 # m"
   ]
  },
  {
   "cell_type": "markdown",
   "metadata": {
    "pycharm": {
     "name": "#%% md\n"
    }
   },
   "source": [
    "## Find\n",
    "Increase in heat transfer due to use of the fins. We will find the increase in heat transfer per fin. \n",
    "\n",
    "## Schematics\n",
    "For each fin, we can find a function for $A_c$ and $A_s$ as a function of r.\n",
    "\n",
    "![CircularFin](images/CircularFin.svg)\n",
    "\n",
    "$$A_s(r) = 2 * \\pi \\left(r^2 - r_i^2\\right)$$\n",
    "$$A_c(r) = 2 \\pi t r $$"
   ]
  },
  {
   "cell_type": "markdown",
   "metadata": {},
   "source": [
    "## Assumption\n",
    "- Steady state\n",
    "- Uniform and constant thermal conductivity and convection coefficient."
   ]
  },
  {
   "cell_type": "markdown",
   "metadata": {},
   "source": [
    "## Properties"
   ]
  },
  {
   "cell_type": "code",
   "execution_count": 2,
   "metadata": {},
   "outputs": [],
   "source": [
    "thermal_conductivity = 186 # W/mK\n",
    "convection_coefficient = 50 # W/m2K"
   ]
  },
  {
   "cell_type": "markdown",
   "metadata": {},
   "source": [
    "## Analysis\n",
    "We will solve \n",
    "$$\\frac{d^2T}{dr^2} + \\left(\\frac{1}{A_c}\\frac{dA_c}{dr}\\right)\\frac{dT}{dr} - \\left(\\frac{1}{A_c}\\frac{1}{k}\\frac{dA_s}{dr}\\right)\\left(T - T_\\infty\\right)=0$$\n",
    "and find \n",
    "$$q_f = -kA_c\\frac{dT}{dr}\\biggr\\rvert_{r=r_1}$$\n",
    "\n",
    "We will reformulate the differential equation to first order by having $x_1 = T$ and $x_2 = \\frac{dx_1}{dr}$. Then\n",
    "\n",
    "$$\n",
    "\\left[\n",
    "    \\begin{array} \\\\\n",
    "        \\frac{dx_1}{dr} \\\\\n",
    "        \\frac{dx_2}{dr}\n",
    "    \\end{array}\n",
    "\\right]=\n",
    "\\left[\n",
    "    \\begin{array} \\\\\n",
    "        x_2 \\\\\n",
    "        -\\left(\\frac{1}{A_c}\\frac{dA_c}{dr}\\right)x_2 + \\left(\\frac{1}{A_c}\\frac{h}{k}\\frac{dA_s}{dr}\\right)\\left(x_1 - T_\\infty\\right)\n",
    "    \\end{array}\n",
    "\\right]\n",
    "$$\n",
    "\n",
    "This is a ODE in a vector form. Our boundary condition is \n",
    "$$x_1(0) = T_b$$\n",
    "$$x_2(r_2) = -\\frac{h}{k}\\left(x_1(r_2) - T_\\infty\\right)$$\n",
    "\n",
    "For this problem, we can use a solver for the boundary condition, `solve_bvp` from `scipy.integrate`. "
   ]
  },
  {
   "cell_type": "code",
   "execution_count": 15,
   "metadata": {},
   "outputs": [
    {
     "name": "stdout",
     "output_type": "stream",
     "text": [
      "0.0009424777960769379\n",
      "Heat transfer with fin is 102.703 W, compared to 9.425 W without\n",
      "0.00879645943005142\n",
      "Fin effectivene: 10.897115408954916\n",
      "Fin efficiency: 1.167548079530884\n"
     ]
    },
    {
     "data": {
      "image/png": "[encoded data removed]",
      "text/plain": [
       "<Figure size 576x432 with 2 Axes>"
      ]
     },
     "metadata": {
      "needs_background": "light"
     },
     "output_type": "display_data"
    }
   ],
   "source": [
    "import numpy as np\n",
    "from scipy.optimize import root\n",
    "from scipy.integrate import solve_bvp\n",
    "import matplotlib.pyplot as plt\n",
    "# First define area functions and their derivatives.\n",
    "def get_area_surrounding(radius):\n",
    "    return 2 * np.pi * (radius**2 - (outer_diameter/2)**2)\n",
    "\n",
    "def get_area_surrounding_derivative(radius):\n",
    "    return 4 * np.pi * radius\n",
    "\n",
    "def get_area_crosssection(radius):\n",
    "    return 2 * np.pi * radius * thickness_fin\n",
    "\n",
    "def get_area_crosssection_derivative(radius):\n",
    "    return 2 * np.pi * thickness_fin\n",
    "\n",
    "# We can now define the ODE function to solve\n",
    "def ode_to_solve(radius, x):\n",
    "    x1 = x[0]\n",
    "    x2 = x[1]\n",
    "    dx1 = x2\n",
    "    dx2 = -1 / get_area_crosssection(radius) * get_area_crosssection_derivative(radius) * x2 \\\n",
    "        + 1 / get_area_crosssection(radius) * convection_coefficient / thermal_conductivity * \\\n",
    "        get_area_surrounding_derivative(radius) * (x1 - temperature_air)\n",
    "    return np.vstack((dx1, dx2))\n",
    "\n",
    "# We need to set the boundary condition as a residual of the function\n",
    "def boundary_condition(xa, xb):\n",
    "    residual_a = xa[0] - temperature_surface\n",
    "    residual_b = xb[1] + convection_coefficient / thermal_conductivity * (xb[0] - temperature_air)\n",
    "    return np.array([residual_a, residual_b])\n",
    "\n",
    "# Solve the equation\n",
    "initial_number_mesh = 10\n",
    "initial_mesh_for_r = np.linspace(\n",
    "    outer_diameter / 2, outer_diameter/2 + length_fin, initial_number_mesh)\n",
    "initial_guesses = np.vstack((\n",
    "    np.linspace(temperature_surface, temperature_air, initial_number_mesh),\n",
    "    np.ones(initial_number_mesh)*(temperature_air - temperature_surface) / length_fin\n",
    "))\n",
    "solution = solve_bvp(ode_to_solve, boundary_condition, initial_mesh_for_r, initial_guesses)\n",
    "\n",
    "if solution.success:\n",
    "    fig, ax = plt.subplots(figsize=(8, 6))\n",
    "    radius_array_to_plot = np.linspace(outer_diameter / 2, outer_diameter / 2 + length_fin, 101)\n",
    "    ax.plot(radius_array_to_plot * 1000, solution.sol(radius_array_to_plot)[0])\n",
    "    ax.set_xlabel('Radius (mm)')\n",
    "    ax1 = ax.twinx()\n",
    "    ax1.plot(radius_array_to_plot * 1000, solution.sol(radius_array_to_plot)[1])\n",
    "\n",
    "area_base = np.pi * outer_diameter * thickness_fin\n",
    "print(area_base)\n",
    "heat_loss_with_fin = - thermal_conductivity * area_base * solution.y[1][0]\n",
    "heat_loss_without_fin = convection_coefficient * area_base * (temperature_surface - temperature_air)\n",
    "print(f'Heat transfer with fin is {heat_loss_with_fin:.3f} W, '\n",
    "      f'compared to {heat_loss_without_fin:.3f} W without')\n",
    "fin_effectiveness = heat_loss_with_fin / heat_loss_without_fin\n",
    "r_at_the_tip = outer_diameter / 2 + length_fin\n",
    "area_fin = get_area_surrounding(r_at_the_tip)\n",
    "print(area_fin)\n",
    "fin_efficiency = heat_loss_with_fin / \\\n",
    "                 (convection_coefficient * area_fin * (temperature_surface - temperature_air))\n",
    "print(f'Fin effectivene: {fin_effectiveness}')\n",
    "print(f'Fin efficiency: {fin_efficiency}')"
   ]
  },
  {
   "cell_type": "code",
   "execution_count": null,
   "metadata": {
    "collapsed": false,
    "jupyter": {
     "outputs_hidden": false
    },
    "pycharm": {
     "name": "#%%\n"
    }
   },
   "outputs": [],
   "source": []
  },
  {
   "cell_type": "code",
   "execution_count": null,
   "metadata": {},
   "outputs": [],
   "source": []
  }
 ],
 "metadata": {
  "kernelspec": {
   "display_name": "Python 3",
   "language": "python",
   "name": "python3"
  },
  "language_info": {
   "codemirror_mode": {
    "name": "ipython",
    "version": 3
   },
   "file_extension": ".py",
   "mimetype": "text/x-python",
   "name": "python",
   "nbconvert_exporter": "python",
   "pygments_lexer": "ipython3",
   "version": "3.8.2"
  }
 },
 "nbformat": 4,
 "nbformat_minor": 4
}