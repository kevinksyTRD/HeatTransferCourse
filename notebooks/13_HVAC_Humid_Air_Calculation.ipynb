{
 "cells": [
  {
   "cell_type": "markdown",
   "metadata": {
    "jupyter": {
     "outputs_hidden": true
    },
    "pycharm": {
     "name": "#%% md\n"
    }
   },
   "source": [
    "# Humid air calculation using CoolProp"
   ]
  },
  {
   "cell_type": "code",
   "execution_count": 1,
   "metadata": {
    "collapsed": false,
    "jupyter": {
     "outputs_hidden": false
    },
    "pycharm": {
     "name": "#%%\n"
    }
   },
   "outputs": [],
   "source": [
    "from CoolProp.HumidAirProp import HAPropsSI\n",
    "import iapws as steam # This is the library to call in for steam calculation\n",
    "import numpy as np"
   ]
  },
  {
   "cell_type": "markdown",
   "metadata": {},
   "source": [
    "Calculate the mass of water contained and the enthalpy in the air in an empty room of 1m<sup>3</sup>. Pressure is 1 atm, and temperature is 25<sup>o</sup>C. The air has relative humidity of 50%. Calculate the mass of water vapor at 100% humidity.\n"
   ]
  },
  {
   "cell_type": "code",
   "execution_count": 2,
   "metadata": {
    "collapsed": false,
    "jupyter": {
     "outputs_hidden": false
    },
    "pycharm": {
     "name": "#%%\n"
    }
   },
   "outputs": [
    {
     "name": "stdout",
     "output_type": "stream",
     "text": [
      "The specific enthalpy of humid air: 4.9928e+04J/kg Dry Air\n",
      "The specific humidity: 9.9257e-03kg Water/kg Dry Air\n",
      "The enthalpy of the humud air in the room: 58783.0980J\n",
      "The mass of the air in the room (ideal gas): 1.1774e+00kg\n",
      "The mass of the air in the room (real gas): 1.1775e+00kg\n",
      "The mass of the water vapor: 1.1571e-02kg\n",
      "Compressibility factor: 0.9996\n"
     ]
    }
   ],
   "source": [
    "p = 101325;\n",
    "T = 25;\n",
    "Humid = 0.5;\n",
    "V = 1;\n",
    "R_dryair = 286.9;\n",
    "R_water = 461.4;\n",
    "\n",
    "Tabs = T + 273.15\n",
    "\n",
    "hha = HAPropsSI('Hha', 'T', Tabs, 'P', p, 'R', Humid); # Specific enthalpy\n",
    "W = HAPropsSI('W', 'T', Tabs, 'P', p, 'R', Humid);     # specific humidity\n",
    "Vha = HAPropsSI('Vha', 'T', Tabs, 'P', p, 'R', Humid); # specific volumer per humid air\n",
    "Z = HAPropsSI('Z', 'T', Tabs, 'P', p, 'R', Humid)      # compressibility factor\n",
    "\n",
    "m = V / Vha\n",
    "R = (R_dryair + R_water * W) / (1 + W)\n",
    "m1 = p * V / (R * Tabs)                   # We assume ideal gas\n",
    "m_v = m * W / (1 + W)\n",
    "m_a = m - m_v\n",
    "H = hha * m\n",
    "\n",
    "print('The specific enthalpy of humid air: {:3.4e}J/kg Dry Air'.format(hha))\n",
    "print('The specific humidity: {:3.4e}kg Water/kg Dry Air'.format(W))\n",
    "print('The enthalpy of the humud air in the room: {:3.4f}J'.format(H))\n",
    "print('The mass of the air in the room (ideal gas): {:3.4e}kg'.format(m))\n",
    "print('The mass of the air in the room (real gas): {:3.4e}kg'.format(m1))\n",
    "print('The mass of the water vapor: {:3.4e}kg'.format(m_v))\n",
    "print('Compressibility factor: {:3.4f}'.format(Z))"
   ]
  },
  {
   "cell_type": "markdown",
   "metadata": {},
   "source": [
    "Now we inject the saturated steam at 8 bar until we reach 80% humidity. Calculate the amount of steam to be injected assuming\n",
    "  * The room temperature is isothermal.\n",
    "  * The room is adiabatic"
   ]
  },
  {
   "cell_type": "markdown",
   "metadata": {},
   "source": [
    "For the isothermal case, the pressure increase is proportional to the mass of the steam. Assuming that partial vapor pressure at the saturated condition is not changed,"
   ]
  },
  {
   "cell_type": "code",
   "execution_count": 3,
   "metadata": {
    "collapsed": false,
    "jupyter": {
     "outputs_hidden": false
    },
    "pycharm": {
     "name": "#%%\n"
    }
   },
   "outputs": [
    {
     "name": "stdout",
     "output_type": "stream",
     "text": [
      "Compressibility factor: 0.999595248674752\n",
      "Pressure: 102188.01734595312\n",
      "error 0.025113363705936198\n",
      "Compressibility factor: 0.9995942724525327\n",
      "Pressure: 102210.00418282246\n",
      "error 0.01820865881013356\n",
      "Compressibility factor: 0.999593543991708\n",
      "Pressure: 102226.34627746172\n",
      "error 0.013076623418812883\n",
      "Compressibility factor: 0.9995930097720012\n",
      "Pressure: 102238.29611954076\n",
      "error 0.00932392418875927\n",
      "Compressibility factor: 0.9995926230678482\n",
      "Pressure: 102246.92804292153\n",
      "error 0.006613177541036408\n",
      "Compressibility factor: 0.9995923458144199\n",
      "Pressure: 102253.10748965229\n",
      "error 0.004672601018096745\n",
      "Compressibility factor: 0.9995921484104998\n",
      "Pressure: 102257.50250829232\n",
      "error 0.0032924017955482388\n",
      "Compressibility factor: 0.9995920085593212\n",
      "Pressure: 102260.61379053618\n",
      "error 0.0023153437164195045\n",
      "Compressibility factor: 0.9995919098335367\n",
      "Pressure: 102262.80896769764\n",
      "error 0.0016259767263570035\n",
      "Compressibility factor: 0.9995918403152777\n",
      "Pressure: 102264.35412538712\n",
      "error 0.0011407399912577443\n",
      "Compressibility factor: 0.9995917914508438\n",
      "Pressure: 102265.43992761594\n",
      "error 0.000799757905806775\n",
      "Compressibility factor: 0.999591757147111\n",
      "Pressure: 102266.20203775309\n",
      "error 0.0005604271288538465\n",
      "Compressibility factor: 0.9995917330865166\n",
      "Pressure: 102266.73651046699\n",
      "error 0.00039258292996458\n",
      "Compressibility factor: 0.9995917162209078\n",
      "Pressure: 102267.11112198158\n",
      "error 0.0002749410627683746\n",
      "Compressibility factor: 0.9995917044038664\n",
      "Pressure: 102267.37357996072\n",
      "error 0.00019251955408683408\n",
      "Compressibility factor: 0.9995916961266738\n",
      "Pressure: 102267.55740912366\n",
      "error 0.0001347904013527801\n",
      "Compressibility factor: 0.9995916903301905\n",
      "Pressure: 102267.68613982371\n",
      "error 9.43642031013825e-05\n",
      "Accurate Sol: Mass of injected steam is 6.9434e-03kg\n",
      "Estimated Sol: Mass of injected steam is 7.0094e-03kg\n"
     ]
    }
   ],
   "source": [
    "err = 0.1\n",
    "m_v0 = m_v\n",
    "m_s = 0.5 * m_v\n",
    "target_rel_humidity = 0.8\n",
    "pressure = 101325\n",
    "target_specific_humidity = HAPropsSI('W', 'P', pressure, 'T', Tabs, 'R', target_rel_humidity)\n",
    "target_specific_volume = HAPropsSI('Vha', 'P', pressure, 'T', Tabs, 'R', target_rel_humidity)\n",
    "target_m_humid_air = V / target_specific_volume\n",
    "target_m_v = m * target_specific_humidity / (1 + target_specific_humidity)\n",
    "target_m_s = target_m_v - m_v0\n",
    "\n",
    "while err > 0.0001:\n",
    "    m_s *= (1 + err)\n",
    "    m_v = m_v0 + m_s\n",
    "    m = m_a + m_v\n",
    "    W = m_v / m_a\n",
    "    R = (R_dryair + R_water * W) / (1 + W)\n",
    "    err_Humid_new = 1\n",
    "    p_new = m * R * Tabs / V\n",
    "    Humid_new = HAPropsSI('R', 'P', p_new, 'T', Tabs, 'W', W)\n",
    "    Z = HAPropsSI('Z', 'P', p_new, 'T', Tabs, 'W', W)\n",
    "    print('Compressibility factor: {}'.format(Z))\n",
    "    print(f'Pressure: {p_new}')\n",
    "    err = abs(0.8 - Humid_new)\n",
    "    print('error {}'.format(err))\n",
    "\n",
    "\n",
    "\n",
    "print('Accurate Sol: Mass of injected steam is {:3.4e}kg'.format(m_s))\n",
    "print('Estimated Sol: Mass of injected steam is {:3.4e}kg'.format(target_m_s))"
   ]
  },
  {
   "cell_type": "markdown",
   "metadata": {},
   "source": [
    "Now check if we satisfy the saturated condition."
   ]
  },
  {
   "cell_type": "code",
   "execution_count": 4,
   "metadata": {
    "collapsed": false,
    "jupyter": {
     "outputs_hidden": false
    },
    "pycharm": {
     "name": "#%%\n"
    }
   },
   "outputs": [
    {
     "name": "stdout",
     "output_type": "stream",
     "text": [
      "Humidity after steam injection is 79.99%\n"
     ]
    }
   ],
   "source": [
    "Humid_new = HAPropsSI('R', 'P', p_new, 'T', Tabs, 'W', W)\n",
    "print('Humidity after steam injection is {:3.2f}%'.format(Humid_new*100))"
   ]
  },
  {
   "cell_type": "markdown",
   "metadata": {},
   "source": [
    "For adiabatic case, we need to consider the energy balance and calculate the new temperature as well. The dew temperature will increase as the overall temperature increases. The amount of the steam to achieve 100% relative humidity should therefore be calculated iteratively."
   ]
  },
  {
   "cell_type": "code",
   "execution_count": 5,
   "metadata": {
    "collapsed": false,
    "jupyter": {
     "outputs_hidden": false
    },
    "pycharm": {
     "name": "#%%\n"
    }
   },
   "outputs": [
    {
     "name": "stdout",
     "output_type": "stream",
     "text": [
      "Iteration number: 1\n",
      "injected steam 0.011571316548377474kg\n",
      "Initial temperature 308.20873338338845K\n",
      "Initial pressure 106376.03818786677Pa\n",
      "Updated temperature 300.2851485880264K\n",
      "Updated pressure 103641.26961228668Pa\n",
      "Updated temperature 300.27809499581616K\n",
      "Updated pressure 103638.83511542449Pa\n",
      "Humidity 88.78323269375142R%\n",
      "Iteration number: 2\n",
      "injected steam 0.014167171851379348kg\n",
      "Initial temperature 310.414725518022K\n",
      "Initial pressure 107509.21287840192Pa\n",
      "Updated temperature 300.75548113560785K\n",
      "Updated pressure 104163.8246761493Pa\n",
      "Updated temperature 300.74667020715896K\n",
      "Updated pressure 104160.77309417076Pa\n",
      "Humidity 96.21676731152152R%\n",
      "Iteration number: 3\n",
      "injected steam 0.015239126004407959kg\n",
      "Initial temperature 311.3203619286666K\n",
      "Initial pressure 107976.85044967041Pa\n",
      "Updated temperature 300.9487966057164K\n",
      "Updated pressure 104379.62683452576Pa\n",
      "Updated temperature 300.93923707865304K\n",
      "Updated pressure 104376.3112543379Pa\n",
      "Humidity 99.16537423821443R%\n",
      "Iteration number: 4\n",
      "injected steam 0.015493505347415464kg\n",
      "Initial temperature 311.53481819209776K\n",
      "Initial pressure 108087.79646163851Pa\n",
      "Updated temperature 300.99459372073204K\n",
      "Updated pressure 104430.83880941723Pa\n",
      "Updated temperature 300.98485450051135K\n",
      "Updated pressure 104427.4597622243Pa\n",
      "Humidity 99.85499535197482R%\n",
      "Iteration number: 5\n",
      "injected steam 0.01553843795320703kg\n",
      "Initial temperature 311.57268081684975K\n",
      "Initial pressure 108107.39249047123Pa\n",
      "Updated temperature 301.0026800671829K\n",
      "Updated pressure 104439.88474661832Pa\n",
      "Updated temperature 300.99290902391647K\n",
      "Updated pressure 104436.49445576651Pa\n",
      "Humidity 99.97640895833467R%\n",
      "Iteration number: 6\n",
      "injected steam 0.015545769311950394kg\n",
      "Initial temperature 311.5788580969692K\n",
      "Initial pressure 108110.58981591789Pa\n",
      "Updated temperature 301.0039993755282K\n",
      "Updated pressure 104441.36071424634Pa\n",
      "Updated temperature 300.9942231375538K\n",
      "Updated pressure 104437.96858789973Pa\n",
      "Humidity 99.99620789347667R%\n"
     ]
    }
   ],
   "source": [
    "# First get the saturated steam object @ 8 bar\n",
    "sat_steam = steam.IAPWS97(P = 0.8, x = 1)\n",
    "\n",
    "# Start with injecting the same amount of steam caculated in the isothermal case\n",
    "err = 0.5\n",
    "m_s = m_v0*0.5\n",
    "H_ha = H\n",
    "n = 1\n",
    "while err > 0.0001 or err_p_new < 0:\n",
    "    print('Iteration number: {:d}'.format(n))\n",
    "    n += 1\n",
    "    m_s *= 1 + err*2\n",
    "    print('injected steam {}kg'.format(m_s))\n",
    "    m_v = m_s + m_v0\n",
    "    m = m_a + m_v\n",
    "    W = m_v / m_a\n",
    "    cp_temp = HAPropsSI('cp', 'P', p, 'T', Tabs, 'W', W)\n",
    "    R = (R_dryair + R_water * W) / (1 + W)\n",
    "    H_steam = m_s * sat_steam.h * 1000\n",
    "    h_new = (H_ha + H_steam) / m\n",
    "    # deltaT = H_steam / m / cp_temp\n",
    "    deltaT = H_steam * (sat_steam.T - Tabs) / sat_steam.T / cp_temp\n",
    "    T_new = Tabs + deltaT\n",
    "    p_new = m * R * T_new / V\n",
    "    print('Initial temperature {}K'.format(T_new))\n",
    "    print('Initial pressure {}Pa'.format(p_new))\n",
    "    err_p_new = 1\n",
    "    while err_p_new > 0.0001:\n",
    "        T_new = HAPropsSI('T', 'P', p_new, 'Hha', h_new, 'W', W)\n",
    "        p_new_temp = m * R * T_new / V\n",
    "        err_p_new = abs(p_new - p_new_temp) / p_new\n",
    "        p_new = p_new_temp\n",
    "        print('Updated temperature {}K'.format(T_new))\n",
    "        print('Updated pressure {}Pa'.format(p_new))\n",
    "    Humid_new = HAPropsSI('R', 'P', p_new, 'T', T_new, 'W', W)\n",
    "    print('Humidity {}R%'.format(Humid_new*100))\n",
    "    err = (1 - Humid_new)"
   ]
  },
  {
   "cell_type": "markdown",
   "metadata": {},
   "source": [
    "How much heat $\\dot{Q}$ is needed to warm up a humid air flow, i.e. the mixture, of $\\dot{m}$= 0.5 kg/s to 30$^\\text{o}$C, having heater inlet conditions: temperature $T_1 = 20^\\text{o}\\text{C}$ and humid ratio (moisture content) $x_1 = 0.0088$. Also state: what will the relative humidity $\\varphi$ then become? (Exam 2017)"
   ]
  },
  {
   "cell_type": "markdown",
   "metadata": {},
   "source": [
    "$\\dot{Q}$ can be calculated from the heat balance\n",
    "$$\\dot{Q} = \\dot{m} \\left(h_2 - h_1\\right)$$"
   ]
  },
  {
   "cell_type": "code",
   "execution_count": 6,
   "metadata": {
    "collapsed": false,
    "jupyter": {
     "outputs_hidden": false
    },
    "pycharm": {
     "name": "#%%\n"
    }
   },
   "outputs": [
    {
     "name": "stdout",
     "output_type": "stream",
     "text": [
      "The required heat input is 2535.07 W\n"
     ]
    }
   ],
   "source": [
    "P = 101325\n",
    "T1 = 25 + 273.15\n",
    "T2 = 30 + 273.15\n",
    "W = 0.0088\n",
    "mdot = 0.5\n",
    "\n",
    "# Specific enthalpy\n",
    "h1 = HAPropsSI('Hha', 'P', P, 'T', T1, 'W', W)\n",
    "h2 = HAPropsSI('Hha', 'P', P, 'T', T2, 'W', W)\n",
    "\n",
    "Qdot = mdot * (h2 - h1)\n",
    "print('The required heat input is {:3.2f} W'.format(Qdot))"
   ]
  },
  {
   "cell_type": "markdown",
   "metadata": {},
   "source": [
    "For a humidifier, an apparatus used to increase the humidity of air, we find the inlet air quality to be 30 °C and , having a humid air flow of 0.5 kg/s and x = 0.0088. The humidifier adds 3 g/s water with a temperature of 20 °C to this stream.\n",
    "  - What is the temperature of the air out of the humidifier and what is the relative humidity?\n",
    "  - How much water, if any, is condensed per second and what is the temperature of this water?"
   ]
  },
  {
   "cell_type": "markdown",
   "metadata": {},
   "source": [
    "We assume that the water added is in liquid form. First we can calculate the maximum water that the air can hold at the water temperature. We assume that the air will be cooled down to the water temperature due to vaporization."
   ]
  },
  {
   "cell_type": "code",
   "execution_count": 7,
   "metadata": {
    "collapsed": false,
    "jupyter": {
     "outputs_hidden": false
    },
    "pycharm": {
     "name": "#%%\n"
    }
   },
   "outputs": [
    {
     "name": "stdout",
     "output_type": "stream",
     "text": [
      "The air may be saturated before all the added water become vaporized\n"
     ]
    }
   ],
   "source": [
    "P = 101325\n",
    "T1 = 30 + 273.15\n",
    "T2 = 20 + 273.14\n",
    "dm_1 = 0.5\n",
    "dm_w = 0.003\n",
    "W0 = 0.0088\n",
    "\n",
    "W1 = (dm_1 * W0 / (1 + W0) + dm_w) / (dm_1 / (1 + W0))\n",
    "W_max = HAPropsSI('W', 'P', P, 'T', T2, 'R', 1)\n",
    "if W1 > W_max:\n",
    "    print('The air may be saturated before all the added water become vaporized')\n",
    "else:\n",
    "    print('The water may be vaporized depending on the temperature difference')"
   ]
  },
  {
   "cell_type": "markdown",
   "metadata": {},
   "source": [
    "Therefore, use the energy balance to calculate the maximum heat transfered to water for vaporization and to calculate the maximum mass flow of water to be vaporized.\n",
    "$$\\dot{m}_\\text{water} = \\frac { \\dot{m}_\\text{ha} \\left(h_1(T_1) - h_2(T_2)\\right)}{h_{fg}}$$"
   ]
  },
  {
   "cell_type": "code",
   "execution_count": 8,
   "metadata": {
    "collapsed": false,
    "jupyter": {
     "outputs_hidden": false
    },
    "pycharm": {
     "name": "#%%\n"
    }
   },
   "outputs": [
    {
     "name": "stdout",
     "output_type": "stream",
     "text": [
      "0.002106264950387081 kg/s of water will be vaporized\n"
     ]
    }
   ],
   "source": [
    "h_fg = 2453.6e3 #J/kg\n",
    "h1 = HAPropsSI('Hha', 'P', P, 'T', T1, 'R', W0)\n",
    "h2 = HAPropsSI('Hha', 'P', P, 'T', T2, 'R', W0)\n",
    "dm_w_vap = dm_1 * (h1 - h2) / h_fg\n",
    "print('{} kg/s of water will be vaporized'.format(dm_w_vap))"
   ]
  },
  {
   "cell_type": "code",
   "execution_count": 9,
   "metadata": {
    "collapsed": false,
    "jupyter": {
     "outputs_hidden": false
    },
    "pycharm": {
     "name": "#%%\n"
    }
   },
   "outputs": [
    {
     "name": "stdout",
     "output_type": "stream",
     "text": [
      "The relative humidity of the air will be 60.22%R\n"
     ]
    }
   ],
   "source": [
    "# Calculation of relative humidity\n",
    "W1 = (dm_1 * W0 / (1 + W0) + dm_w_vap) / (dm_1 / (1 + W0))\n",
    "humid = HAPropsSI('R', 'P', P, 'T', T2, 'W', W)\n",
    "print('The relative humidity of the air will be {:3.2f}%R'.format(humid * 100))"
   ]
  }
 ],
 "metadata": {
  "kernelspec": {
   "display_name": "Python 3",
   "language": "python",
   "name": "python3"
  },
  "language_info": {
   "codemirror_mode": {
    "name": "ipython",
    "version": 3
   },
   "file_extension": ".py",
   "mimetype": "text/x-python",
   "name": "python",
   "nbconvert_exporter": "python",
   "pygments_lexer": "ipython3",
   "version": "3.8.10"
  }
 },
 "nbformat": 4,
 "nbformat_minor": 4
}
