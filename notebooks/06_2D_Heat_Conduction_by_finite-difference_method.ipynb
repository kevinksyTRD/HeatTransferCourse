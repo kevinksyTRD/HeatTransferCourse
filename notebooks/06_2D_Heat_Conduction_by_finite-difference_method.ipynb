{
 "cells": [
  {
   "cell_type": "markdown",
   "metadata": {
    "slideshow": {
     "slide_type": "slide"
    }
   },
   "source": [
    "# 2D Steady State Heat conduction by Finite Difference Method"
   ]
  },
  {
   "cell_type": "markdown",
   "metadata": {
    "slideshow": {
     "slide_type": "slide"
    }
   },
   "source": [
    "Following finite-difference equations are used for various type of nodes.\n",
    "\n",
    "1. interior node\n",
    "$$T_{m,n+1} + T_{m,n-1} + T_{m+1,n} + T_{m-1,n} - 4T_{m,n} = 0$$ \n",
    "2. Node at an internal corner with convection\n",
    "$$2(T_{m-1,n} + T_{m, n+1}) + (T_{m+1,n} + T_{m,n-1}) + 2 \\frac{h \\Delta x}{k}T_{\\infty} - 2\\left(3 + \\frac{h \\Delta x}{k}\\right)T_{m,n} = 0$$\n",
    "3. Node at a plane surface with convection\n",
    "$$(2T_{m-1,n} + T_{m,n+1} + T_{m, n-1}) + 2 \\frac{h \\Delta x}{k}T_{\\infty} - 2\\left(\\frac{h \\Delta x}{k} + 2 \\right)T_{m,n} = 0$$\n",
    "4. Node at an external corner with convection\n",
    "$$(T_{m,n-1} + T_{m-1, n}) + 2 \\frac{h \\Delta x}{k}T_{\\infty} - 2\\left(\\frac{h \\Delta x}{k} + 1 \\right)T_{m,n} = 0$$\n",
    "5. Node at a plane surface with uniform heat flux\n",
    "$$(2T_{m-1,n} + T_{m,n+1} + T_{m, n-1}) + 2 \\frac{q'' \\Delta x}{k}T_{\\infty} - 4T_{m,n} = 0$$\n",
    "\n"
   ]
  },
  {
   "cell_type": "markdown",
   "metadata": {
    "slideshow": {
     "slide_type": "slide"
    }
   },
   "source": [
    "Consider a gas turbine blade with air channels inside to maintain the temperature of the material within the failing limit. The blade can be modeled as a rectangular solid in which retangular channels are machined. The blade, which has a thermal conductivity of k=25 W/mK, is 6 mm thick, and each channel has a 2mm x 6 mm rectangular cross section, with a 4-mm spacing between adjoining channels. Under operating conditions for which $h_o =$ 1000 W/m2K, $T_{\\infty,o} = $ 1700 K, $h_i$ = 200 W/m2K, and $T_{\\infty,i}$ = 400 K, determine the temperature field in the turbine blade and the rate of heat transfer per unit length to the channel.\n",
    "\n",
    "<img src=\"images/GTB.png\" width=\"60%\">"
   ]
  },
  {
   "cell_type": "markdown",
   "metadata": {
    "slideshow": {
     "slide_type": "slide"
    }
   },
   "source": [
    "Consider the following surface with the mesh grid.\n",
    "\n",
    "<img src=\"images/2DMesh.png\" width=\"80%\">\n",
    "\n",
    "We see 21 temperature nodes among which 8 unique types are found. Following assumptions are made."
   ]
  },
  {
   "cell_type": "markdown",
   "metadata": {
    "slideshow": {
     "slide_type": "subslide"
    }
   },
   "source": [
    "Assumptions\n",
    "1. Steady-state, \n",
    "2. Two-dimenstional conduction\n",
    "3. Constant property"
   ]
  },
  {
   "cell_type": "markdown",
   "metadata": {
    "slideshow": {
     "slide_type": "slide"
    }
   },
   "source": [
    "Node 1: $T_2 + T_7 - \\left(2 + \\frac{h_o\\Delta x}{k}\\right)T_1 = -\\frac{h_o \\Delta x}{k} T_{\\infty,o}$\n",
    "\n",
    "Node 2: $(2T_8 + T_1 + T_3) - 2\\left(\\frac{h_o \\Delta x}{k} + 2\\right)T_2= - 2\\frac{h_o \\Delta x}{k}T_{\\infty,o} $\n",
    "\n",
    "Node 3: $(2T_9 + T_2 + T_4) - 2\\left(\\frac{h_o \\Delta x}{k} + 2\\right)T_3= - 2\\frac{h_o \\Delta x}{k}T_{\\infty,o} $\n",
    "\n",
    "Node 4: $(2T_{10} + T_3 + T_5) - 2\\left(\\frac{h_o \\Delta x}{k} + 2\\right)T_4= - 2\\frac{h_o \\Delta x}{k}T_{\\infty,o} $\n",
    "\n",
    "Node 5: $(2T_{11} + T_4 + T_6) - 2\\left(\\frac{h_o \\Delta x}{k} + 2\\right)T_5= - 2\\frac{h_o \\Delta x}{k}T_{\\infty,o} $\n",
    "\n",
    "Node 6: $T_5 + T_{12} - \\left(2 + \\frac{h_o\\Delta x}{k}\\right)T_6 = -\\frac{h_o \\Delta x}{k} T_{\\infty,o}$\n",
    "\n"
   ]
  },
  {
   "cell_type": "markdown",
   "metadata": {
    "slideshow": {
     "slide_type": "slide"
    }
   },
   "source": [
    "Node 7: $T_1 + 2T_8 + T_{13} - 4T_7 = 0$ \n",
    "\n",
    "Node 8: $T_2 + T_7 + T_9 + T_{14} - 4T_8 = 0$\n",
    "\n",
    "Node 9: $T_3 + T_8 + T_{10} + T_{15} - 4T_9 = 0$\n",
    "\n",
    "Node 10: $T_4 + T_9 + T_{11} + T_{16} - 4T_{10} = 0$\n",
    "\n",
    "Node 11: $T_5 + T_{10} + T_{12} + T_{17} - 4T_{11} = 0$\n",
    "\n",
    "Node 12: $T_6 + 2T_{11} + T_{18} - 4T_{12} = 0$ "
   ]
  },
  {
   "cell_type": "markdown",
   "metadata": {
    "slideshow": {
     "slide_type": "slide"
    }
   },
   "source": [
    "Node 13: $T_7 + 2T_{14} + T_{19} - 4T_{13} = 0$ \n",
    "\n",
    "Node 14: $T_8 + T_{13} + T_{15} + T_{20} - 4T_{14} = 0$\n",
    "\n",
    "Node 15: $2(T_{14} + T_{9}) + (T_{16} + T_{21}) - 2\\left(3 + \\frac{h_i \\Delta x}{k}\\right)T_{15} = - 2 \\frac{h_i \\Delta x}{k}T_{\\infty,i}$\n",
    "\n",
    "Node 16: $(2T_{10} + T_{15} + T_{17}) - 2\\left(\\frac{h_i \\Delta x}{k} + 2\\right)T_{16}= - 2\\frac{h_i \\Delta x}{k}T_{\\infty,i} $\n",
    "\n",
    "Node 17: $(2T_{11} + T_{16} + T_{18}) - 2\\left(\\frac{h_i \\Delta x}{k} + 2\\right)T_{17}= - 2\\frac{h_i \\Delta x}{k}T_{\\infty,i} $\n",
    "\n",
    "Node 18: $T_{12} + T_{17} - \\left(2 + \\frac{h_i \\Delta x}{k}\\right)T_{18} = - \\frac{h_i \\Delta x}{k} T_{\\infty,i}$"
   ]
  },
  {
   "cell_type": "markdown",
   "metadata": {
    "slideshow": {
     "slide_type": "slide"
    }
   },
   "source": [
    "Node 19: $T_{13} + T_{20} - 2T_{19} = 0$\n",
    "\n",
    "Node 20: $T_{19} + T_{21} + 2T_{14} - 4T_{20} = 0$\n",
    "\n",
    "Node 21: $T_{20} + T_{15} - \\left(2 + \\frac{h_i \\Delta x}{k}\\right)T_{21}= -\\frac{h \\Delta x}{k}T_{\\infty,i}$"
   ]
  },
  {
   "cell_type": "code",
   "execution_count": 1,
   "metadata": {
    "slideshow": {
     "slide_type": "slide"
    }
   },
   "outputs": [],
   "source": [
    "import numpy as np\n",
    "import matplotlib.pyplot as plt\n",
    "\n",
    "noNode = 21\n",
    "DeltaX = 0.001\n",
    "k = 25\n",
    "h_o = 1000\n",
    "T_inf_o = 1700\n",
    "h_i = 200\n",
    "T_inf_i = 400\n",
    "hDk_i = h_i * DeltaX / k\n",
    "hDk_o = h_o * DeltaX / k"
   ]
  },
  {
   "cell_type": "code",
   "execution_count": 2,
   "metadata": {
    "slideshow": {
     "slide_type": "slide"
    }
   },
   "outputs": [],
   "source": [
    "## Set the matrix\n",
    "A = np.array([[-(2+hDk_o), 1, 0, 0, 0, 0, 1, 0, 0, 0, 0, 0, 0, 0, 0, 0, 0, 0, 0, 0, 0],\n",
    "               [1, -2*(2+hDk_o), 1, 0, 0, 0, 0, 2, 0, 0, 0, 0, 0, 0, 0, 0, 0, 0, 0, 0, 0],\n",
    "               [0, 1, -2*(2+hDk_o), 1, 0, 0, 0, 0, 2, 0, 0, 0, 0, 0, 0, 0, 0, 0, 0, 0, 0],\n",
    "               [0, 0, 1, -2*(2+hDk_o), 1, 0, 0, 0, 0, 2, 0, 0, 0, 0, 0, 0, 0, 0, 0, 0, 0],\n",
    "               [0, 0, 0, 1, -2*(2+hDk_o), 1, 0, 0, 0, 0, 2, 0, 0, 0, 0, 0, 0, 0, 0, 0, 0],\n",
    "               [0, 0, 0, 0, 1, -(2+hDk_o), 0, 0, 0, 0, 0, 1, 0, 0, 0, 0, 0, 0, 0, 0, 0],\n",
    "               [1, 0, 0, 0, 0, 0, -4, 2, 0, 0, 0, 0, 1, 0, 0, 0, 0, 0, 0, 0, 0],\n",
    "               [0, 1, 0, 0, 0, 0, 1, -4, 1, 0, 0, 0, 0, 1, 0, 0, 0, 0, 0, 0, 0],\n",
    "               [0, 0, 1, 0, 0, 0, 0, 1, -4, 1, 0, 0, 0, 0, 1, 0, 0, 0, 0, 0, 0],\n",
    "               [0, 0, 0, 1, 0, 0, 0, 0, 1, -4, 1, 0, 0, 0, 0, 1, 0, 0, 0, 0, 0],\n",
    "               [0, 0, 0, 0, 1, 0, 0, 0, 0, 1, -4, 1, 0, 0, 0, 0, 1, 0, 0, 0, 0],\n",
    "               [0, 0, 0, 0, 0, 1, 0, 0, 0, 0, 2, -4, 0, 0, 0, 0, 0, 1, 0, 0, 0],\n",
    "               [0, 0, 0, 0, 0, 0, 1, 0, 0, 0, 0, 0, -4, 2, 0, 0, 0, 0, 1, 0, 0],\n",
    "               [0, 0, 0, 0, 0, 0, 0, 1, 0, 0, 0, 0, 1, -4, 1, 0, 0, 0, 0, 1, 0],\n",
    "               [0, 0, 0, 0, 0, 0, 0, 0, 2, 0, 0, 0, 0, 2, -2*(3+hDk_i), 1, 0, 0, 0, 0, 1],\n",
    "               [0, 0, 0, 0, 0, 0, 0, 0, 0, 2, 0, 0, 0, 0, 1, -2*(2+hDk_i), 1, 0, 0, 0, 0],\n",
    "               [0, 0, 0, 0, 0, 0, 0, 0, 0, 0, 2, 0, 0, 0, 0, 1, -2*(2+hDk_i), 1, 0, 0, 0], \n",
    "               [0, 0, 0, 0, 0, 0, 0, 0, 0, 0, 0, 1, 0, 0, 0, 0, 1, -(2+hDk_i), 0, 0, 0],\n",
    "               [0, 0, 0, 0, 0, 0, 0, 0, 0, 0, 0, 0, 1, 0, 0, 0, 0, 0, -2, 1, 0],\n",
    "               [0, 0, 0, 0, 0, 0, 0, 0, 0, 0, 0, 0, 0, 2, 0, 0, 0, 0, 1, -4, 1],\n",
    "               [0, 0, 0, 0, 0, 0, 0, 0, 0, 0, 0, 0, 0, 0, 1, 0, 0, 0, 0, 1, -(2+hDk_i)]])\n",
    "C = np.array([[-hDk_o * T_inf_o], [-2*hDk_o * T_inf_o], [-2*hDk_o * T_inf_o], [-2*hDk_o * T_inf_o],\n",
    "               [-2*hDk_o * T_inf_o], [-hDk_o * T_inf_o], [0], [0], [0], [0], [0], [0], [0], [0],\n",
    "               [-2*hDk_i * T_inf_i], [-2*hDk_i * T_inf_i], [-2*hDk_i * T_inf_i], [-hDk_i * T_inf_i],\n",
    "               [0], [0], [-hDk_i * T_inf_i]])"
   ]
  },
  {
   "cell_type": "code",
   "execution_count": 3,
   "metadata": {
    "slideshow": {
     "slide_type": "slide"
    }
   },
   "outputs": [
    {
     "name": "stdout",
     "output_type": "stream",
     "text": [
      "[[1525.95413813]\n",
      " [1525.27944565]\n",
      " [1523.59609075]\n",
      " [1521.93574674]\n",
      " [1520.83066847]\n",
      " [1520.45069026]\n",
      " [1519.66699612]\n",
      " [1518.7949547 ]\n",
      " [1516.52842892]\n",
      " [1514.53554374]\n",
      " [1513.30134519]\n",
      " [1512.88873965]\n",
      " [1515.12393697]\n",
      " [1513.70494809]\n",
      " [1509.18712651]\n",
      " [1506.37665411]\n",
      " [1504.9504289 ]\n",
      " [1504.50157796]\n",
      " [1513.41885557]\n",
      " [1511.71377418]\n",
      " [1506.02634497]]\n"
     ]
    }
   ],
   "source": [
    "T = np.matmul(np.linalg.inv(A),C)\n",
    "print(T)"
   ]
  },
  {
   "cell_type": "code",
   "execution_count": 4,
   "metadata": {
    "slideshow": {
     "slide_type": "slide"
    }
   },
   "outputs": [],
   "source": [
    "X, Y = np.meshgrid(np.linspace(0, DeltaX*5, num  = 6), np.linspace(0,DeltaX*3, num = 4) )\n",
    "TMesh = np.zeros((4, 6))\n",
    "k = 0\n",
    "for i in range(4):\n",
    "    for j in range(6):\n",
    "        if k < 21:\n",
    "            TMesh[i,j] = T[k]  \n",
    "        k = k + 1\n",
    "            "
   ]
  },
  {
   "cell_type": "code",
   "execution_count": 5,
   "metadata": {},
   "outputs": [
    {
     "data": {
      "image/png": "[encoded data removed]",
      "text/plain": [
       "<Figure size 432x288 with 1 Axes>"
      ]
     },
     "metadata": {
      "needs_background": "light"
     },
     "output_type": "display_data"
    }
   ],
   "source": [
    "plt.contour(X,Y,TMesh,[1508, 1513, 1518, 1523])\n",
    "plt.grid('on')\n",
    "plt.show()"
   ]
  },
  {
   "cell_type": "code",
   "execution_count": null,
   "metadata": {},
   "outputs": [],
   "source": []
  }
 ],
 "metadata": {
  "celltoolbar": "Slideshow",
  "kernelspec": {
   "display_name": "Python 3",
   "language": "python",
   "name": "python3"
  },
  "language_info": {
   "codemirror_mode": {
    "name": "ipython",
    "version": 3
   },
   "file_extension": ".py",
   "mimetype": "text/x-python",
   "name": "python",
   "nbconvert_exporter": "python",
   "pygments_lexer": "ipython3",
   "version": "3.8.8"
  }
 },
 "nbformat": 4,
 "nbformat_minor": 4
}
