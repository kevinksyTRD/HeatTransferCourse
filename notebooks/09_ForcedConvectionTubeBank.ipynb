{
 "cells": [
  {
   "cell_type": "markdown",
   "metadata": {
    "pycharm": {
     "name": "#%% md\n"
    }
   },
   "source": [
    "# Forced convection of a bank of tubes in cross flow\n",
    "\n",
    "Pressurized water is often available at elevated temperatures and may be used for space heating\n",
    "or industrial process applications. In such cases it is customary to use a tube bundle in which\n",
    "the water is passed through the tubes, while air is passed in cross flow over the tubes. Consider\n",
    " a staggered arrangement for which the tube outside diameter is 16.4 mm and the longitudinal and\n",
    " transverse pitches are SL = 34.3 mm and ST = 31.3 mm. There are seven rows of tubes in the\n",
    " airflow direction and eight tubes per row. Under typical operating conditions the cylinder\n",
    " surface temperature is at 70oC, while the air upstream temperature and velocity are 15oC and\n",
    " 6m/s, respectively. Determine the air-side convection coefficient and the rate of heat transfer\n",
    " for the tube bundle."
   ]
  },
  {
   "cell_type": "markdown",
   "metadata": {
    "pycharm": {
     "name": "#%% md\n"
    }
   },
   "source": [
    "## Known"
   ]
  },
  {
   "cell_type": "code",
   "execution_count": 1,
   "metadata": {
    "collapsed": false,
    "jupyter": {
     "outputs_hidden": false
    },
    "pycharm": {
     "name": "#%%\n"
    }
   },
   "outputs": [],
   "source": [
    "import numpy as np\n",
    "\n",
    "from thermal_system_calculation import FluidState, Fluid\n",
    "\n",
    "diameter_tube = 16.4e-3 # m\n",
    "vertical_spacing = 31.3e-3 # m\n",
    "horizontal_spacing = 34.3e-3 #m\n",
    "temp_surface = 70 # degC\n",
    "temp_air_in = 15 # degC\n",
    "velocity_air = 6 # m/s"
   ]
  },
  {
   "cell_type": "markdown",
   "metadata": {
    "pycharm": {
     "name": "#%% md\n"
    }
   },
   "source": [
    "## Find"
   ]
  },
  {
   "cell_type": "code",
   "execution_count": 2,
   "metadata": {
    "collapsed": false,
    "jupyter": {
     "outputs_hidden": false
    },
    "pycharm": {
     "name": "#%%\n"
    }
   },
   "outputs": [],
   "source": [
    "h_air = None # convection coefficient\n",
    "q = None # Heat transfer for the tube bundle"
   ]
  },
  {
   "cell_type": "markdown",
   "metadata": {
    "pycharm": {
     "name": "#%% md\n"
    }
   },
   "source": [
    "## Schematic\n",
    "![schematic](images/TubeBankExample.png)"
   ]
  },
  {
   "cell_type": "markdown",
   "metadata": {
    "pycharm": {
     "name": "#%% md\n"
    }
   },
   "source": [
    "## Assumptions\n",
    "1. Steady-state, incompressible flow conditions\n",
    "2. Radiation neglected\n",
    "3. Change in properties of air due to the temperature drop over the tube is neglected."
   ]
  },
  {
   "cell_type": "markdown",
   "metadata": {
    "pycharm": {
     "name": "#%% md\n"
    }
   },
   "source": [
    "## Properties"
   ]
  },
  {
   "cell_type": "code",
   "execution_count": 3,
   "metadata": {
    "collapsed": false,
    "jupyter": {
     "outputs_hidden": false
    },
    "pycharm": {
     "name": "#%%\n"
    }
   },
   "outputs": [
    {
     "name": "stdout",
     "output_type": "stream",
     "text": [
      "The properties of air at the mean temperature are:\n",
      "\t- density: 1.118 kg/m3\n",
      "\t- thermal conductivity: 0.028 W/mK\n",
      "\t- dynamic viscosity: 1.928e-05 Pa s\n",
      "\t- specific heat capacity: 1007.0404483923909 J/kgK\n",
      "The properties of air at the surface temperature are:\n",
      "\t- density: 1.029 kg/m3\n",
      "\t- thermal conductivity: 0.030 W/mK\n",
      "\t- dynamic viscosity: 2.056e-05 Pa s\n",
      "\t- specific heat capacity: 1008.6990251132372 J/kgK\n"
     ]
    }
   ],
   "source": [
    "fluid_state_air_mean = FluidState(\n",
    "    fluid=Fluid.AIR,\n",
    "    temp_k=np.mean([temp_surface, temp_air_in]) + 273.15,\n",
    "    characteristic_length=diameter_tube\n",
    ")\n",
    "print(\"The properties of air at the mean temperature are:\")\n",
    "print(f\"\\t- density: {fluid_state_air_mean.density:.3f} kg/m3\")\n",
    "print(f\"\\t- thermal conductivity: {fluid_state_air_mean.k:.3f} W/mK\")\n",
    "print(f\"\\t- dynamic viscosity: {fluid_state_air_mean.dynamic_viscosity:.3e} Pa s\")\n",
    "print(f\"\\t- specific heat capacity: {fluid_state_air_mean.cp} J/kgK\")\n",
    "\n",
    "fluid_state_air_surface = FluidState(\n",
    "    fluid=Fluid.AIR,\n",
    "    temp_k=temp_surface + 273.15,\n",
    "    characteristic_length=diameter_tube\n",
    ")\n",
    "print(\"The properties of air at the surface temperature are:\")\n",
    "print(f\"\\t- density: {fluid_state_air_surface.density:.3f} kg/m3\")\n",
    "print(f\"\\t- thermal conductivity: {fluid_state_air_surface.k:.3f} W/mK\")\n",
    "print(f\"\\t- dynamic viscosity: {fluid_state_air_surface.dynamic_viscosity:.3e} Pa s\")\n",
    "print(f\"\\t- specific heat capacity: {fluid_state_air_surface.cp} J/kgK\")"
   ]
  },
  {
   "cell_type": "markdown",
   "metadata": {
    "pycharm": {
     "name": "#%% md\n"
    }
   },
   "source": [
    "## Analysis\n",
    "We will find the convection from the definition of Nusselt number and the empirical formula for\n",
    "finding the Nusselt number.\n",
    "$$\n",
    "\\begin{align}\n",
    "    Nu &= \\frac{hL}{k_f} \\\\\n",
    "    \\overline{Nu}_D &= C_1 C_2 Re_{D, mathrm{max}}^m Pr^{0.36} \\left(\\frac{Pr}{Pr_s}\\right)^{1/4}\n",
    "\\end{align}\n",
    "$$\n",
    "\n",
    "We will first check the flow conditions."
   ]
  },
  {
   "cell_type": "code",
   "execution_count": 4,
   "metadata": {
    "collapsed": false,
    "jupyter": {
     "outputs_hidden": false
    },
    "pycharm": {
     "name": "#%%\n"
    }
   },
   "outputs": [
    {
     "name": "stdout",
     "output_type": "stream",
     "text": [
      "Maximum velocity at diagonal path: 12.604026845637584 m/s\n",
      "Reynolds number is 11989.6620878666.\n"
     ]
    }
   ],
   "source": [
    "# First we need to check where the maximum velocity happens.\n",
    "diagonal_spacing = np.sqrt(horizontal_spacing**2 + (0.5 * vertical_spacing)**2)\n",
    "if 2 * (diagonal_spacing - diameter_tube) < (vertical_spacing - diameter_tube):\n",
    "    velocity_max = vertical_spacing / (2 * (diagonal_spacing - diameter_tube)) * velocity_air\n",
    "    print(f\"Maximum velocity at diagonal path: {velocity_max} m/s\")\n",
    "else:\n",
    "    velocity_max = vertical_spacing / (vertical_spacing - diameter_tube) * velocity_air\n",
    "    print(f\"Maximum velocity at diagonal path: {velocity_max} m/s\")\n",
    "\n",
    "reynolds_number = fluid_state_air_mean.density * fluid_state_air_mean.characteristic_length * \\\n",
    "                  velocity_max / fluid_state_air_mean.dynamic_viscosity\n",
    "print(f\"Reynolds number is {reynolds_number}.\")"
   ]
  },
  {
   "cell_type": "markdown",
   "metadata": {
    "pycharm": {
     "name": "#%% md\n"
    }
   },
   "source": [
    "From the constant table and correction factor table below:\n",
    "\n",
    "![](images/constants_tube_bank.png)\n",
    "![](images/correction_factor_tube_bank.png)\n"
   ]
  },
  {
   "cell_type": "code",
   "execution_count": 5,
   "metadata": {},
   "outputs": [
    {
     "name": "stdout",
     "output_type": "stream",
     "text": [
      "The ratio between the vertical spacing and horizontal spacing is 0.9125364431486882.\n",
      "Convection coefficient is 135.39179091826264 W/m2K\n"
     ]
    }
   ],
   "source": [
    "# Calculate h\n",
    "print(f\"The ratio between the vertical spacing and horizontal spacing is {vertical_spacing / horizontal_spacing}.\")\n",
    "c1 = 0.35 * (vertical_spacing / horizontal_spacing)**0.2\n",
    "m = 0.6\n",
    "c2 = 0.95\n",
    "prandtdl_number = fluid_state_air_mean.cp * fluid_state_air_mean.dynamic_viscosity / fluid_state_air_mean.k\n",
    "prandtdl_number_surface = fluid_state_air_mean.cp * fluid_state_air_mean.dynamic_viscosity / fluid_state_air_mean.k\n",
    "Nu = c1 * c2 * reynolds_number**m * prandtdl_number**0.36 * (prandtdl_number / prandtdl_number_surface)**0.25\n",
    "h = Nu * fluid_state_air_mean.k / diameter_tube\n",
    "\n",
    "print(f\"Convection coefficient is {h} W/m2K\")"
   ]
  },
  {
   "cell_type": "markdown",
   "metadata": {},
   "source": [
    "For calculation of heat transfer rate, we need to use the logarithmic mean temperature difference instead of arithmic temperature difference. In addition, we need to estimate the outlet temperature of the stream that externally passes the tubes. We can do that by\n",
    "$$\\Delta T_m = \\frac{(T_s - T_i) - (T_s - T_o)}{\\ln\\left(\\frac{T_s - T_i}{T_s - T_o}\\right)}$$\n",
    "$$\\frac{T_s - T_o}{T_s - T_i} = exp\\left(-\\frac{\\pi D N \\overline{h}}{\\rho V N_T S_T c_p}\\right)$$"
   ]
  },
  {
   "cell_type": "code",
   "execution_count": 6,
   "metadata": {},
   "outputs": [
    {
     "name": "stdout",
     "output_type": "stream",
     "text": [
      "Heat transfer rate is 19370.745 W/m\n"
     ]
    }
   ],
   "source": [
    "# Calculate q\n",
    "def get_log_mean_temp_difference(\n",
    "    temp_surface: float,\n",
    "    temp_in: float,\n",
    "    temp_out: float\n",
    ") -> float:\n",
    "    return (temp_out - temp_in) / np.log((temp_surface - temp_in) / (temp_surface - temp_out))\n",
    "\n",
    "\n",
    "def get_temp_out_estimation(\n",
    "    temp_surface: float,\n",
    "    temp_in: float,\n",
    "    diameter_tube: float,\n",
    "    number_tube: float,\n",
    "    vertical_spacing: float,\n",
    "    number_tube_per_row: float,\n",
    "    velocity: float,\n",
    "    h: float,\n",
    "    fluid_state: FluidState\n",
    ") -> float:\n",
    "    return temp_surface - (temp_surface - temp_in) * \\\n",
    "        np.exp(-(np.pi * diameter_tube * number_tube * h) / \n",
    "               (fluid_state.density * velocity * number_tube_per_row * vertical_spacing * fluid_state.cp))\n",
    "\n",
    "def get_heat_transfer_tube_bank(\n",
    "    number_tube: float,\n",
    "    h: float,\n",
    "    diameter_tube: float,\n",
    "    log_mean_temp_diff: float,\n",
    "    length: float\n",
    ") -> float:\n",
    "    return number_tube * h * np.pi * diameter_tube * log_mean_temp_diff * length\n",
    "\n",
    "number_tube_per_row = 8\n",
    "number_row = 7\n",
    "number_tube = number_tube_per_row * number_row\n",
    "\n",
    "fluid_state_air_in = FluidState(\n",
    "    fluid=Fluid.AIR,\n",
    "    temp_k=temp_air_in + 273.15,\n",
    "    characteristic_length=diameter_tube\n",
    ")\n",
    "\n",
    "temp_out = get_temp_out_estimation(\n",
    "    temp_surface=temp_surface,\n",
    "    temp_in=temp_air_in,\n",
    "    diameter_tube=diameter_tube,\n",
    "    number_tube=number_tube,\n",
    "    number_tube_per_row=number_tube_per_row,\n",
    "    vertical_spacing=vertical_spacing,\n",
    "    velocity=velocity_air,\n",
    "    h=h,\n",
    "    fluid_state=fluid_state_air_in\n",
    ")\n",
    "\n",
    "log_mean_temp_diff = get_log_mean_temp_difference(\n",
    "    temp_surface=temp_surface,\n",
    "    temp_in=temp_air_in,\n",
    "    temp_out=temp_out\n",
    ")\n",
    "\n",
    "q = get_heat_transfer_tube_bank(\n",
    "    number_tube=number_tube,\n",
    "    h=h,\n",
    "    diameter_tube=diameter_tube,\n",
    "    log_mean_temp_diff=log_mean_temp_diff,\n",
    "    length=1\n",
    ")\n",
    "\n",
    "print(f'Heat transfer rate is {q:.3f} W/m')"
   ]
  },
  {
   "cell_type": "code",
   "execution_count": null,
   "metadata": {},
   "outputs": [],
   "source": []
  }
 ],
 "metadata": {
  "kernelspec": {
   "display_name": "Python 3",
   "language": "python",
   "name": "python3"
  },
  "language_info": {
   "codemirror_mode": {
    "name": "ipython",
    "version": 3
   },
   "file_extension": ".py",
   "mimetype": "text/x-python",
   "name": "python",
   "nbconvert_exporter": "python",
   "pygments_lexer": "ipython3",
   "version": "3.8.10"
  }
 },
 "nbformat": 4,
 "nbformat_minor": 4
}
